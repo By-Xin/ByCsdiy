{
 "cells": [
  {
   "cell_type": "code",
   "execution_count": null,
   "id": "f4afcb96",
   "metadata": {},
   "outputs": [],
   "source": [
    "import math\n",
    "import numpy as np\n",
    "import torch\n",
    "import torch.nn as nn\n",
    "import matplotlib.pyplot as plt\n",
    "\n",
    "np.random.seed(123)\n",
    "torch.random.manual_seed(123)"
   ]
  },
  {
   "cell_type": "code",
   "execution_count": null,
   "id": "1e5cd319",
   "metadata": {},
   "outputs": [],
   "source": [
    "n = 10\n",
    "p = 1000\n",
    "x = torch.randn(n, p)\n",
    "fcs = [nn.Linear(p, p, bias=False) for i in range(5)]\n",
    "print(fcs)"
   ]
  },
  {
   "cell_type": "markdown",
   "id": "d1c0b14e",
   "metadata": {},
   "source": [
    "# 固定方差初始化"
   ]
  },
  {
   "cell_type": "code",
   "execution_count": null,
   "id": "95f9f890",
   "metadata": {},
   "outputs": [],
   "source": [
    "sigma = 0.02\n",
    "# sigma = 0.1\n",
    "nn.init.normal_(fcs[0].weight, mean=0.0, std=sigma)\n",
    "a1 = torch.tanh(fcs[0](x))\n",
    "plt.hist(a1.detach().numpy().reshape(-1), bins=50, density=True)\n",
    "plt.xlim(-1, 1)"
   ]
  },
  {
   "cell_type": "code",
   "execution_count": null,
   "id": "157928da",
   "metadata": {},
   "outputs": [],
   "source": [
    "nn.init.normal_(fcs[1].weight, mean=0.0, std=sigma)\n",
    "a2 = torch.tanh(fcs[1](a1))\n",
    "plt.hist(a2.detach().numpy().reshape(-1), bins=50, density=True)\n",
    "plt.xlim(-1, 1)"
   ]
  },
  {
   "cell_type": "code",
   "execution_count": null,
   "id": "c9bd1114",
   "metadata": {},
   "outputs": [],
   "source": [
    "nn.init.normal_(fcs[2].weight, mean=0.0, std=sigma)\n",
    "a3 = torch.tanh(fcs[2](a2))\n",
    "plt.hist(a3.detach().numpy().reshape(-1), bins=50, density=True)\n",
    "plt.xlim(-1, 1)"
   ]
  },
  {
   "cell_type": "code",
   "execution_count": null,
   "id": "094f3566",
   "metadata": {},
   "outputs": [],
   "source": [
    "nn.init.normal_(fcs[3].weight, mean=0.0, std=sigma)\n",
    "a4 = torch.tanh(fcs[3](a3))\n",
    "plt.hist(a4.detach().numpy().reshape(-1), bins=50, density=True)\n",
    "plt.xlim(-1, 1)"
   ]
  },
  {
   "cell_type": "code",
   "execution_count": null,
   "id": "5f22b11c",
   "metadata": {},
   "outputs": [],
   "source": [
    "nn.init.normal_(fcs[4].weight, mean=0.0, std=sigma)\n",
    "a5 = torch.tanh(fcs[4](a4))\n",
    "plt.hist(a5.detach().numpy().reshape(-1), bins=50, density=True)\n",
    "plt.xlim(-1, 1)"
   ]
  },
  {
   "cell_type": "markdown",
   "id": "3c577e52",
   "metadata": {},
   "source": [
    "# Xavier 初始化"
   ]
  },
  {
   "cell_type": "code",
   "execution_count": null,
   "id": "f3fa7d12",
   "metadata": {},
   "outputs": [],
   "source": [
    "np.random.seed(123)\n",
    "torch.random.manual_seed(123)\n",
    "\n",
    "in_dim = fcs[0].weight.shape[1]\n",
    "nn.init.normal_(fcs[0].weight, mean=0.0, std=1.0 / math.sqrt(in_dim))\n",
    "a1 = torch.tanh(fcs[0](x))\n",
    "plt.hist(a1.detach().numpy().reshape(-1), bins=50, density=True)\n",
    "plt.xlim(-1, 1)"
   ]
  },
  {
   "cell_type": "code",
   "execution_count": null,
   "id": "88665d79",
   "metadata": {},
   "outputs": [],
   "source": [
    "in_dim = fcs[1].weight.shape[1]\n",
    "nn.init.normal_(fcs[1].weight, mean=0.0, std=1.0 / math.sqrt(in_dim))\n",
    "a2 = torch.tanh(fcs[1](a1))\n",
    "plt.hist(a2.detach().numpy().reshape(-1), bins=50, density=True)\n",
    "plt.xlim(-1, 1)"
   ]
  },
  {
   "cell_type": "code",
   "execution_count": null,
   "id": "6c9c88e5",
   "metadata": {},
   "outputs": [],
   "source": [
    "in_dim = fcs[2].weight.shape[1]\n",
    "nn.init.normal_(fcs[2].weight, mean=0.0, std=1.0 / math.sqrt(in_dim))\n",
    "a3 = torch.tanh(fcs[2](a2))\n",
    "plt.hist(a3.detach().numpy().reshape(-1), bins=50, density=True)\n",
    "plt.xlim(-1, 1)"
   ]
  },
  {
   "cell_type": "code",
   "execution_count": null,
   "id": "e18e9ab7",
   "metadata": {},
   "outputs": [],
   "source": [
    "in_dim = fcs[3].weight.shape[1]\n",
    "nn.init.normal_(fcs[3].weight, mean=0.0, std=1.0 / math.sqrt(in_dim))\n",
    "a4 = torch.tanh(fcs[3](a3))\n",
    "plt.hist(a4.detach().numpy().reshape(-1), bins=50, density=True)\n",
    "plt.xlim(-1, 1)"
   ]
  },
  {
   "cell_type": "code",
   "execution_count": null,
   "id": "0ea2e930",
   "metadata": {
    "scrolled": true
   },
   "outputs": [],
   "source": [
    "in_dim = fcs[4].weight.shape[1]\n",
    "nn.init.normal_(fcs[4].weight, mean=0.0, std=1.0 / math.sqrt(in_dim))\n",
    "a5 = torch.tanh(fcs[4](a4))\n",
    "plt.hist(a5.detach().numpy().reshape(-1), bins=50, density=True)\n",
    "plt.xlim(-1, 1)"
   ]
  },
  {
   "cell_type": "markdown",
   "id": "edc26b3d",
   "metadata": {},
   "source": [
    "# 以 ReLU 为激活函数的 Xavier 初始化"
   ]
  },
  {
   "cell_type": "code",
   "execution_count": null,
   "id": "d70b2c2e",
   "metadata": {},
   "outputs": [],
   "source": [
    "np.random.seed(123)\n",
    "torch.random.manual_seed(123)\n",
    "\n",
    "in_dim = fcs[0].weight.shape[1]\n",
    "nn.init.normal_(fcs[0].weight, mean=0.0, std=1.0 / math.sqrt(in_dim))\n",
    "a1 = torch.relu(fcs[0](x))\n",
    "plt.hist(a1.detach().numpy().reshape(-1), bins=50, density=True)\n",
    "plt.xlim(-1, 10)"
   ]
  },
  {
   "cell_type": "code",
   "execution_count": null,
   "id": "9c4aab5c",
   "metadata": {},
   "outputs": [],
   "source": [
    "in_dim = fcs[1].weight.shape[1]\n",
    "nn.init.normal_(fcs[1].weight, mean=0.0, std=1.0 / math.sqrt(in_dim))\n",
    "a2 = torch.relu(fcs[1](a1))\n",
    "plt.hist(a2.detach().numpy().reshape(-1), bins=50, density=True)\n",
    "plt.xlim(-1, 10)"
   ]
  },
  {
   "cell_type": "code",
   "execution_count": null,
   "id": "7f02581b",
   "metadata": {},
   "outputs": [],
   "source": [
    "in_dim = fcs[2].weight.shape[1]\n",
    "nn.init.normal_(fcs[2].weight, mean=0.0, std=1.0 / math.sqrt(in_dim))\n",
    "a3 = torch.relu(fcs[2](a2))\n",
    "plt.hist(a3.detach().numpy().reshape(-1), bins=50, density=True)\n",
    "plt.xlim(-1, 10)"
   ]
  },
  {
   "cell_type": "code",
   "execution_count": null,
   "id": "38a6b3fc",
   "metadata": {},
   "outputs": [],
   "source": [
    "in_dim = fcs[3].weight.shape[1]\n",
    "nn.init.normal_(fcs[3].weight, mean=0.0, std=1.0 / math.sqrt(in_dim))\n",
    "a4 = torch.relu(fcs[3](a3))\n",
    "plt.hist(a4.detach().numpy().reshape(-1), bins=50, density=True)\n",
    "plt.xlim(-1, 10)"
   ]
  },
  {
   "cell_type": "code",
   "execution_count": null,
   "id": "1a4e8806",
   "metadata": {},
   "outputs": [],
   "source": [
    "in_dim = fcs[4].weight.shape[1]\n",
    "nn.init.normal_(fcs[4].weight, mean=0.0, std=1.0 / math.sqrt(in_dim))\n",
    "a5 = torch.relu(fcs[4](a4))\n",
    "plt.hist(a5.detach().numpy().reshape(-1), bins=50, density=True)\n",
    "plt.xlim(-1, 10)"
   ]
  },
  {
   "cell_type": "markdown",
   "id": "71585436",
   "metadata": {},
   "source": [
    "# Kaiming 初始化"
   ]
  },
  {
   "cell_type": "code",
   "execution_count": null,
   "id": "e5646d82",
   "metadata": {},
   "outputs": [],
   "source": [
    "np.random.seed(123)\n",
    "torch.random.manual_seed(123)\n",
    "\n",
    "in_dim = fcs[0].weight.shape[1]\n",
    "nn.init.normal_(fcs[0].weight, mean=0.0, std=2.0 / math.sqrt(in_dim))\n",
    "a1 = torch.relu(fcs[0](x))\n",
    "plt.hist(a1.detach().numpy().reshape(-1), bins=50, density=True)\n",
    "plt.xlim(-1, 10)"
   ]
  },
  {
   "cell_type": "code",
   "execution_count": null,
   "id": "7c37147d",
   "metadata": {},
   "outputs": [],
   "source": [
    "in_dim = fcs[1].weight.shape[1]\n",
    "nn.init.normal_(fcs[1].weight, mean=0.0, std=2.0 / math.sqrt(in_dim))\n",
    "a2 = torch.relu(fcs[1](a1))\n",
    "plt.hist(a2.detach().numpy().reshape(-1), bins=50, density=True)\n",
    "plt.xlim(-1, 10)"
   ]
  },
  {
   "cell_type": "code",
   "execution_count": null,
   "id": "e087958e",
   "metadata": {},
   "outputs": [],
   "source": [
    "in_dim = fcs[2].weight.shape[1]\n",
    "nn.init.normal_(fcs[2].weight, mean=0.0, std=2.0 / math.sqrt(in_dim))\n",
    "a3 = torch.relu(fcs[2](a2))\n",
    "plt.hist(a3.detach().numpy().reshape(-1), bins=50, density=True)\n",
    "plt.xlim(-1, 10)"
   ]
  },
  {
   "cell_type": "code",
   "execution_count": null,
   "id": "c05ec3e1",
   "metadata": {},
   "outputs": [],
   "source": [
    "in_dim = fcs[3].weight.shape[1]\n",
    "nn.init.normal_(fcs[3].weight, mean=0.0, std=2.0 / math.sqrt(in_dim))\n",
    "a4 = torch.relu(fcs[3](a3))\n",
    "plt.hist(a4.detach().numpy().reshape(-1), bins=50, density=True)\n",
    "plt.xlim(-1, 10)"
   ]
  },
  {
   "cell_type": "code",
   "execution_count": null,
   "id": "b0ef11c6",
   "metadata": {},
   "outputs": [],
   "source": [
    "in_dim = fcs[4].weight.shape[1]\n",
    "nn.init.normal_(fcs[4].weight, mean=0.0, std=2.0 / math.sqrt(in_dim))\n",
    "a5 = torch.relu(fcs[4](a4))\n",
    "plt.hist(a5.detach().numpy().reshape(-1), bins=50, density=True)\n",
    "plt.xlim(-1, 10)"
   ]
  }
 ],
 "metadata": {
  "kernelspec": {
   "display_name": "Python 3 (ipykernel)",
   "language": "python",
   "name": "python3"
  },
  "language_info": {
   "codemirror_mode": {
    "name": "ipython",
    "version": 3
   },
   "file_extension": ".py",
   "mimetype": "text/x-python",
   "name": "python",
   "nbconvert_exporter": "python",
   "pygments_lexer": "ipython3",
   "version": "3.9.7"
  }
 },
 "nbformat": 4,
 "nbformat_minor": 5
}
