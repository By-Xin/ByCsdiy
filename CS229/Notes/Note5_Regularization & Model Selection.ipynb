{
 "cells": [
  {
   "cell_type": "markdown",
   "metadata": {},
   "source": [
    "# 7. Regularization and Model Selection"
   ]
  },
  {
   "cell_type": "markdown",
   "metadata": {},
   "source": [
    "## 0. Regularization \n",
    "*[UCAS version](https://www.bilibili.com/video/BV1ga4y157L5?p=8&vd_source=8a00dab0be94d29388f2286892ba8d50)*"
   ]
  },
  {
   "cell_type": "markdown",
   "metadata": {},
   "source": [
    "### 7.0.1 Regularization 的作用"
   ]
  },
  {
   "cell_type": "markdown",
   "metadata": {},
   "source": [
    "#### 插值 Interpolation\n",
    "\n",
    "- 插值在只考虑训练集时，是最“完美”的拟合方法。例如Lagrange插值等\n",
    "\n",
    "- 插值的问题\n",
    "  1. 严重不稳定：由于插值要求经过每个点，因此对于每个点的微小扰动都会导致插值结果的巨大变化（因此对于噪声也是不稳健的）\n",
    "  2. 系数过大：在拟合结束后，对于新的数据点，其数值也是计算不稳定的\n",
    "\n",
    "**OVERFIT!**"
   ]
  }
 ],
 "metadata": {
  "language_info": {
   "name": "python"
  },
  "orig_nbformat": 4
 },
 "nbformat": 4,
 "nbformat_minor": 2
}
