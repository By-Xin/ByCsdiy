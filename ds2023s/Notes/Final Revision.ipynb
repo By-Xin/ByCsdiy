{
 "cells": [
  {
   "attachments": {},
   "cell_type": "markdown",
   "id": "b7f6b61f-b170-4a78-bcea-7de8ce8a7257",
   "metadata": {},
   "source": [
    "# 分布式计算 总复习\n",
    "\n",
    "- lect2：PySpark初始化, map & reduce\n",
    "- lect3：Python中的函数式编程（思想）\n",
    "- lect4：函数式编程（MapReduce的实现）& 弹幕\n",
    "- lect5,6：Numpy, RDD & 数值计算原则 \n",
    "- lect7：ML-（分布式）矩阵乘法&线性回归\n",
    "- lect8：岭回归、共轭梯度、logistics（理论）"
   ]
  },
  {
   "attachments": {},
   "cell_type": "markdown",
   "id": "1d47e286-b15f-44f3-9905-5eea96fd7a42",
   "metadata": {
    "tags": []
   },
   "source": [
    "## Lect2：PySpark初始化, map & reduce"
   ]
  },
  {
   "attachments": {},
   "cell_type": "markdown",
   "id": "5e1ae3d9-a432-4009-8312-b4b1cd94bd83",
   "metadata": {},
   "source": [
    "### 课堂实例：联合国文字的处理"
   ]
  },
  {
   "attachments": {},
   "cell_type": "markdown",
   "id": "fe614864-6075-46b9-81eb-3f3b8fcd0765",
   "metadata": {},
   "source": [
    "- PySpark配置和启动\n",
    "    ```python\n",
    "    import findspark\n",
    "    findspark.init()\n",
    "\n",
    "    from pyspark.sql import SparkSession\n",
    "    # 本地模式\n",
    "    spark = SparkSession.builder.master(\"local[*]\").appName(\"Reading Text\").getOrCreate()\n",
    "    sc = spark.sparkContext\n",
    "    # sc.setLogLevel(\"ERROR\")\n",
    "    print(spark)\n",
    "    print(sc)    \n",
    "    ```"
   ]
  },
  {
   "attachments": {},
   "cell_type": "markdown",
   "id": "3508d561-eb15-42f8-8da8-814bc35d46a5",
   "metadata": {},
   "source": [
    "- PySpark中文件读取，查看，筛选\n",
    "\n",
    "    `sc.textFile(\"address\")`\n",
    "\n",
    "    `file.count()`\n",
    "\n",
    "    `file.take()`\n",
    "\n",
    "    `file.filter()`\n",
    "\n",
    "    `file.map()`\n"
   ]
  },
  {
   "attachments": {},
   "cell_type": "markdown",
   "id": "5998d574-3360-4a66-9165-62747b63757d",
   "metadata": {},
   "source": [
    "### Slides大纲"
   ]
  },
  {
   "attachments": {},
   "cell_type": "markdown",
   "id": "41077ded",
   "metadata": {},
   "source": [
    "\n",
    "#### 1. 并行计算基本概念 \n",
    "- Amdahl 定律：并行加速程度计算公式\n",
    "  $$S_{latency}(s)=\\frac{1}{(1-p)+p/s}$$\n",
    "  $S$：整体提升倍数，$s$：可并行部分加速比，$p$：可并行部分所占时间的比例\n",
    "\n",
    "#### 2. 并行计算 vs 分布式计算\n",
    "\n",
    "#### 3. Apache Spark简介与安装\n",
    "- Hadoop 分布式计算框架\n",
    "- HDFS 分布式文件系统\n",
    "- MapReduce\n",
    "- Spark：Hadoop改进\n",
    "\n",
    "### 4. Spark运行模式\n",
    "- 单机模式\n",
    "  ```python\n",
    "  spark = SparkSession.builder.\\\n",
    "  master (\"local[*]\").\\\n",
    "  appName (\"Reading Text\").\\\n",
    "  getOrCreate()\n",
    "  ```\n",
    "  通过`local[*]`指定所有核心，也可以自行指定\n",
    "  \n",
    "- 集群模式\n"
   ]
  },
  {
   "attachments": {},
   "cell_type": "markdown",
   "id": "3449f5ce-af35-4bf5-9af6-d30d750a231a",
   "metadata": {},
   "source": [
    "## Lect3：Python中的函数式编程（思想）"
   ]
  },
  {
   "attachments": {},
   "cell_type": "markdown",
   "id": "9cd8fe81",
   "metadata": {},
   "source": [
    "### 课堂实例：迭代器、计算方差、随机抽样、MapReduce"
   ]
  },
  {
   "attachments": {},
   "cell_type": "markdown",
   "id": "e2d06f36",
   "metadata": {},
   "source": [
    "- 迭代器的创建与访问：\n",
    "  - `iter()`\n",
    "  - `next(IT)`"
   ]
  },
  {
   "attachments": {},
   "cell_type": "markdown",
   "id": "8a2c8493",
   "metadata": {},
   "source": [
    "- 一次遍历计算方差：\n",
    "  $$(n-1)S=\\sum_i (x_i-\\bar{x})^2=\\sum_i x_i^2-n\\bar{x}^2$$"
   ]
  },
  {
   "attachments": {},
   "cell_type": "markdown",
   "id": "34ba573b",
   "metadata": {},
   "source": [
    "- 随机抽样:\n",
    "  - `for`循环中一次遍历两个循环\n",
    "    - `for a,b in zip(A,B):`\n",
    "  - 遍历的同时获取索引\n",
    "    - ```python\n",
    "      for i, (w, v) in enumerate(zip(wvec, vvec)):\n",
    "      print(f\"i is {i}, w is {w}, v is {v}\")\n",
    "      ```"
   ]
  },
  {
   "attachments": {},
   "cell_type": "markdown",
   "id": "5076d19c",
   "metadata": {},
   "source": [
    "- Reduce:\n",
    "  - syntax:\n",
    "    ```python\n",
    "        import functools\n",
    "        functools.reduce(FUNCTION,ITER,OPTIONAL)\n",
    "    ```\n",
    "    `OPTIONAL` 是一个可选选项，用来设定reduce的初始数值（例如在累乘时要设置初值为1）\n",
    "        "
   ]
  },
  {
   "attachments": {},
   "cell_type": "markdown",
   "id": "d19ca650",
   "metadata": {},
   "source": [
    "- Filter:\n",
    "  - syntax:\n",
    "    - `filter(IS_FUNCTION,ITER)`\n",
    "\n",
    "      其中`IS_FUNCTION`是一个需要返回`TRUE/FALSE`的函数"
   ]
  },
  {
   "attachments": {},
   "cell_type": "markdown",
   "id": "57fdc6e8",
   "metadata": {},
   "source": [
    "- Map:\n",
    "  - syntax:\n",
    "    - `map(FUNCTION,ITER)`"
   ]
  },
  {
   "attachments": {},
   "cell_type": "markdown",
   "id": "d1e9088a",
   "metadata": {},
   "source": [
    "- islice （按照指定长度截断迭代器）:\n",
    "  - syntax:\n",
    "    - ```python\n",
    "        import itertools\n",
    "        itertools.islice(ITER,NUM)\n",
    "        ```"
   ]
  },
  {
   "attachments": {},
   "cell_type": "markdown",
   "id": "c0b99553",
   "metadata": {},
   "source": [
    "- `lambda`函数"
   ]
  },
  {
   "attachments": {},
   "cell_type": "markdown",
   "id": "e22d8fd2",
   "metadata": {},
   "source": [
    "### slides 讲解\n",
    "\n",
    "- 函数式编程\n",
    "  - 概念、特点\n",
    "  - 核心思想\n",
    "  - 迭代器：YOLO！\n",
    "  - 迭代器全部取出为列表：`lst=list(it)`"
   ]
  },
  {
   "attachments": {},
   "cell_type": "markdown",
   "id": "ec040c89",
   "metadata": {},
   "source": [
    "## Lect4：函数式编程（MapReduce的实现）& 弹幕"
   ]
  },
  {
   "attachments": {},
   "cell_type": "markdown",
   "id": "b0ef3fc4",
   "metadata": {},
   "source": [
    "- 样本方差计算\n",
    "    ```python\n",
    "    num,sum,sq_sum = data.map(lambda x: (1,x,x*x)).reduce(lambda x,y: (x[0]+y[0],x[1]+y[1],x[2]+y[2]))\n",
    "    mean = sum / num\n",
    "    sample_var = (sq_sum+num*mean*mean-2*mean*sum)/(num-1)\n",
    "    print(sample_var)\n",
    "    ```"
   ]
  },
  {
   "attachments": {},
   "cell_type": "markdown",
   "id": "c6121c7e",
   "metadata": {},
   "source": [
    "## Lect5,6：Numpy, RDD & 数值计算原则"
   ]
  },
  {
   "attachments": {},
   "cell_type": "markdown",
   "id": "a05360a9",
   "metadata": {},
   "source": [
    "### 5.1 Numpy"
   ]
  },
  {
   "attachments": {},
   "cell_type": "markdown",
   "id": "f78b7c82",
   "metadata": {},
   "source": [
    "#### 基础操作\n",
    "\n",
    "- `np.array([1,2,3],[3,4,5])` 定义数列（矩阵）\n",
    "\n",
    "- `np.linspace(start= 1 , stop=5 , num= 12 )`  生成连续数列\n",
    "\n",
    "- `np.arange(12)` 生成[0,1,...,12]的array\n",
    "\n",
    "- `np.reshape(VEC, (3,4))` / `vec.reshape(3,4)`\n",
    "\n",
    "- `np.ones((3,2))` !不是生成单位矩阵，而是全1矩阵\n",
    "\n",
    "- `np.zeros((2,3))` 零矩阵\n",
    "\n",
    "- `np.eyes(5)` 只需要输入一个数字，即可生成对应单位阵\n",
    "\n",
    "- `np.diag([1,3,5])` 对角矩阵\n",
    "\n",
    "- `vec[-1]` 表示倒数第1个元素\n",
    "\n",
    "- `vec[start:end]` 左闭右开\n",
    "\n",
    "- `mat[:,:2]` 表示全部行，前两列（注意python中下标从1开始）\n",
    "\n",
    "- `np.random.uniform(low = , high = , size = )` 均匀分布\n",
    "\n",
    "- `np.random.normal(loc = 2 , scale = 3, size = (2,5))` 正态分布 *loc为均值，scale为标准差（非方差）*\n",
    "\n",
    "- `np.log()` `np.exp()` 对数与指数\n",
    "\n",
    "- `np.sum(MAT, axis = 0)` 矩阵的求和，其中`axis=0` 表示对每个列求一个和\n",
    "\n",
    "- `np.mean(MAT, axis = 1)` 矩阵的平均，其中`axis = 1` 表示对每个行求一个平均\n",
    "\n",
    "\n",
    ">汇总可以按行或者按列进行，这由`axis`参数决定。（联想到矩阵元素下标$a_{ij}$是先行后列，故这里`axis`是0行1列）0表示运算时第一个维度（行）在变化，1表示运算时第二个维度（列）在变化。再次提醒，Python中以0表示第一个元素！\n"
   ]
  },
  {
   "attachments": {},
   "cell_type": "markdown",
   "id": "6f2d2587",
   "metadata": {},
   "source": [
    "#### 线性代数\n",
    "\n",
    "- `MAT.transpose()` 转置\n",
    "\n",
    "- `MAT_A.dot(MAT_B)` / `np.matmul(MAT_A,MAT_B)` 矩阵乘法\n",
    "\n",
    "- `np.linalg.inv(MAT)` 矩阵的逆(不推荐)\n",
    "\n",
    "- `np.linalg.solve(B,d)` 解线性方程组 (返回$B^{-1}d$)\n",
    "\n",
    "- `evals, evecs = np.linalg.eigh(MAT)` 求特征值，特征向量\n",
    "\n"
   ]
  },
  {
   "attachments": {},
   "cell_type": "markdown",
   "id": "721e58c3",
   "metadata": {},
   "source": [
    "### 5.2 RDD"
   ]
  },
  {
   "attachments": {},
   "cell_type": "markdown",
   "id": "c7dee9d0",
   "metadata": {},
   "source": [
    "PySpark 初始化\n",
    "\n",
    "```python\n",
    "import findspark\n",
    "findspark.init()\n",
    "\n",
    "from pyspark.sql import SparkSession\n",
    "# 本地模式\n",
    "spark = SparkSession.builder.\\\n",
    "    master(\"local[*]\").\\\n",
    "    appName(\"PySpark RDD\").\\\n",
    "    getOrCreate()\n",
    "sc = spark.sparkContext\n",
    "sc.setLogLevel(\"ERROR\")\n",
    "print(spark)\n",
    "print(sc)\n",
    "```"
   ]
  },
  {
   "attachments": {},
   "cell_type": "markdown",
   "id": "ae5700db",
   "metadata": {},
   "source": [
    "#### RDD的创建\n",
    "\n",
    "- `DAT = sc.parallelize(VEC)` 将一个数据(i.e. VEC)转化为rdd对象(i.e. DAT)\n",
    "\n",
    "- `DAT.collect()` 收集所有内容\n",
    "\n",
    "- `DAT.count()` 返回的实质为RDD的迭代次数\n",
    "\n",
    "- `DAT.take()` / `DAT.first()` 取RDD前几个next的内容\n",
    "\n"
   ]
  },
  {
   "attachments": {},
   "cell_type": "markdown",
   "id": "81786367",
   "metadata": {},
   "source": [
    "#### RDD 对.txt文件的处理\n",
    "\n",
    "- `file = sc.textFile(\"ADDRESS\")` 读入文本文件\n",
    "\n",
    "- `print(*(file.take(5)), sep=\"\\n\")` 对前五行的打印\n",
    "\n",
    "- 将string类型数据转换成numpy数据：\n",
    "    ```python\n",
    "    # str => np.array\n",
    "    def str_to_vec(line):\n",
    "        # 分割字符串\n",
    "        str_vec = line.split(\"\\t\")\n",
    "        # 让 Numpy 进行类型转换\n",
    "        return np.array(str_vec, dtype=float)\n",
    "    DAT = file.map(str_to_vec)    \n",
    "    ``` \n",
    "\n"
   ]
  },
  {
   "attachments": {},
   "cell_type": "markdown",
   "metadata": {},
   "source": [
    "#### RDD的分区\n",
    "\n",
    "- `file.getNumPartitions()` 获得自动分区数\n",
    "\n",
    "- `file.repartition(NUM)` 自定义分区数\n",
    "\n",
    "- 对于切分完的分区，我们希望把一个分区中的数据按照一个矩阵来理解，故：\n",
    "\n",
    "    ```python\n",
    "    # Iter[str] => Iter[matrix]\n",
    "    def part_to_mat(iterator):\n",
    "        # Iter[str] => Iter[np.array]\n",
    "        iter_arr = map(str_to_vec, iterator)\n",
    "\n",
    "\n",
    "        # Iter[np.array] => list(np.array)\n",
    "        dat = list(iter_arr) #dat是由向量（nparray）作为元素组成的列表（list）\n",
    "\n",
    "    # 有的分区可能是空分区\n",
    "        # list(np.array) => matrix\n",
    "        if len(dat) < 1:  # Test zero iterator\n",
    "            mat = np.array([])\n",
    "        else:\n",
    "            mat = np.vstack(dat) \n",
    "\n",
    "        # matrix => Iter[matrix]\n",
    "        yield mat # yield可以认为是return[mat]，返回的不是mat本身，而是包含这个的容器\n",
    "\n",
    "    dat_p10 = file_p10.mapPartitions(part_to_mat)\n",
    "\n",
    "    dat_p10_nonempty = dat_p10.filter(lambda x: x.shape[0] > 0)\n",
    "\n",
    "    ```\n",
    "\n"
   ]
  },
  {
   "attachments": {},
   "cell_type": "markdown",
   "id": "151ca829",
   "metadata": {},
   "source": [
    "### 5.3 数值计算原则"
   ]
  },
  {
   "attachments": {},
   "cell_type": "markdown",
   "id": "4ca2a91b",
   "metadata": {},
   "source": [
    "#### 原则1：矩阵相乘，小维度优先\n",
    "\n",
    "- 经验法则：对于更一般的矩阵乘法 $A_{m\\times n}B_{n\\times p}C_{p\\times r}$，如果 $n\\approx p$ 且 $m>r$，则优先计算 $BC$，反之优先计算 $AB$。\n",
    "\n",
    "- 对于一个$A_{n\\times p }\\times B_{p\\times q}$的矩阵乘法，时间复杂度为$O(npq)$"
   ]
  },
  {
   "attachments": {},
   "cell_type": "markdown",
   "id": "744037e7",
   "metadata": {},
   "source": [
    "#### 原则2：尽量避免显式矩阵求逆"
   ]
  },
  {
   "attachments": {},
   "cell_type": "markdown",
   "id": "03a61f01",
   "metadata": {},
   "source": [
    "常见矩阵运算复杂度整理：\n",
    "\n",
    "（假设$A,B : n\\times n, b :n\\times1$）\n",
    "\n",
    "矩阵乘法：\n",
    "- $AB:O(n^3)$\n",
    "- $Ab:O(n^2)$\n",
    "\n",
    "矩阵的逆：\n",
    "- $A^{-1}:O(n^3)$\n",
    "- $A^{-1}b:O(n^3)$ （但从实证方面看比求逆效率更高）\n",
    "\n",
    "矩阵的其他运算：\n",
    "- $|A|, eign(A) :O(n^3) $\n",
    "- 特别的：上/下三角矩阵的行列式$O(n)$ （行列式为对角线的乘积）\n",
    "- $||A||_p^2 : O(n^2)$\n",
    "- $ A+b1^T : O(n^2)$ 相当于将$b$广播\n",
    "\n"
   ]
  },
  {
   "attachments": {},
   "cell_type": "markdown",
   "id": "99a2d523",
   "metadata": {},
   "source": [
    "#### 原则3：利用矩阵的特殊结构\n",
    "\n",
    "- 对于对角矩阵，在存储时应当以向量存储对角线元素即可，事实上在参与计算中也可以通过广播机制直接以向量参与运算：\n",
    "  - 假设$D=diag(d_1,...,d_n)$为对角线元素，$A$为正常矩阵，则$DA$相当于对第i列乘以$d_i$，$AD$相当于对第i行乘以$d_i$"
   ]
  },
  {
   "attachments": {},
   "cell_type": "markdown",
   "id": "08c8df77",
   "metadata": {},
   "source": [
    "#### 原则4：尽可能将显示循环转化为矩阵计算\n",
    "\n",
    "- 虽然理论复杂度相似，但实证上，考虑通信成本等，矩阵运算更快"
   ]
  },
  {
   "cell_type": "code",
   "execution_count": null,
   "id": "688a28cf",
   "metadata": {},
   "outputs": [],
   "source": [
    "# 1. 初始化pyspark\n",
    "\n",
    "import findspark\n",
    "findspark.init(\"/Users/xinby/Library/Spark\")\n",
    "\n",
    "from pyspark.sql import SparkSession\n",
    "# 本地模式\n",
    "spark = SparkSession.builder.\\\n",
    "    master(\"local[*]\").\\\n",
    "    appName(\"PySpark RDD\").\\\n",
    "    getOrCreate()\n",
    "sc = spark.sparkContext\n",
    "sc.setLogLevel(\"ERROR\")\n",
    "print(spark)\n",
    "print(sc)\n",
    "\n",
    "# 2. 生成数据\n",
    "\n",
    "import numpy as np\n",
    "np.set_printoptions(linewidth=100)\n",
    "\n",
    "np.random.seed(123)\n",
    "n = 100\n",
    "p = 5\n",
    "mat = np.random.normal(size=(n, p))\n",
    "np.savetxt(\"mat_np.txt\", mat, fmt=\"%f\", delimiter=\"\\t\")\n",
    "\n",
    "# 3. 读取数据至RDD并分区\n",
    "\n",
    "file = sc.textFile(\"mat_np.txt\")\n",
    "file_p10 = file.repartition(10)\n",
    "# str => np.array\n",
    "def str_to_vec(line):\n",
    "    # 分割字符串\n",
    "    str_vec = line.split(\"\\t\")\n",
    "    # 将每一个元素从字符串变成数值型\n",
    "    num_vec = map(lambda s: float(s), str_vec)\n",
    "    # 创建 Numpy 向量\n",
    "    return np.fromiter(num_vec, dtype=float)\n",
    "\n",
    "# Iter[str] => Iter[matrix]\n",
    "def part_to_mat(iterator):\n",
    "    # Iter[str] => Iter[np.array]\n",
    "    iter_arr = map(str_to_vec, iterator)\n",
    "\n",
    "    # Iter[np.array] => list(np.array)\n",
    "    dat = list(iter_arr)\n",
    "\n",
    "    # list(np.array) => matrix\n",
    "    if len(dat) < 1:  # Test zero iterator\n",
    "        mat = np.array([])\n",
    "    else:\n",
    "        mat = np.vstack(dat)\n",
    "\n",
    "    # matrix => Iter[matrix]\n",
    "    yield mat\n",
    "\n",
    "dat = file_p10.mapPartitions(part_to_mat).filter(lambda x: x.shape[0] > 0)"
   ]
  },
  {
   "attachments": {},
   "cell_type": "markdown",
   "id": "becc20d6",
   "metadata": {},
   "source": [
    "**原理**\n",
    "\n",
    "假设：$ X \\in \\R^{n\\times p}, v \\in \\R^{p}$\n",
    "\n",
    "将$X$按照行进行分块（包含所有列，但行不一定是一行），记为：$X=[X_1;...;X_m]^T$, $X_i \\in \\R^{n_i\\times p}$\n",
    "\n",
    "故$Xv=[X_1v;...;X_mv]^T$"
   ]
  },
  {
   "cell_type": "code",
   "execution_count": null,
   "id": "bacf47f9",
   "metadata": {},
   "outputs": [],
   "source": [
    "np.random.seed(123)\n",
    "v = np.random.uniform(size=p)\n",
    "\n",
    "# 这里不是reduce是因为不是要把最后分块进行加和，而是想要最后的拼接\n",
    "res_part = dat.map(lambda x: x.dot(v)).collect() \n",
    "print(res_part,type(res_part))\n",
    "# 这个结果里，一个array就是前面的一个分块\n",
    "np.concatenate(res_part)"
   ]
  },
  {
   "attachments": {},
   "cell_type": "markdown",
   "id": "8acfd43e",
   "metadata": {},
   "source": [
    "**原理**\n",
    "\n",
    "同理进行分块，则最终的结果为：$X'X=X_1'X_1+\\dots+X_m'X_m$ (由于这里的假定$X\\in\\R^{n\\times p}, n>>p$，故最终的大小为$p\\times p$，是可以存储在内存中的)"
   ]
  },
  {
   "cell_type": "code",
   "execution_count": null,
   "id": "101c3515",
   "metadata": {},
   "outputs": [],
   "source": [
    "res = dat.map(lambda x: x.T.dot(x)).reduce(lambda x, y: x + y) \n",
    "# x代表了前面的累积结果，y代表了最新一项"
   ]
  },
  {
   "attachments": {},
   "cell_type": "markdown",
   "id": "77d7e765",
   "metadata": {},
   "source": [
    "## Lect 7：ML-（分布式）矩阵乘法&线性回归（OLS）"
   ]
  },
  {
   "attachments": {},
   "cell_type": "markdown",
   "id": "bdd0567c",
   "metadata": {},
   "source": [
    "### 7.1 矩阵乘法（RDD）"
   ]
  },
  {
   "attachments": {},
   "cell_type": "markdown",
   "id": "67b01e79",
   "metadata": {},
   "source": [
    "#### 0. *准备工作*"
   ]
  },
  {
   "attachments": {},
   "cell_type": "markdown",
   "id": "77afeaf0",
   "metadata": {},
   "source": [
    "#### 1. 矩阵乘法$Xv$"
   ]
  },
  {
   "attachments": {},
   "cell_type": "markdown",
   "id": "151ba342",
   "metadata": {},
   "source": [
    "#### 2. 矩阵乘法 $X'X$"
   ]
  },
  {
   "attachments": {},
   "cell_type": "markdown",
   "id": "6ee9b0fe",
   "metadata": {},
   "source": [
    "#### 3. 矩阵乘法 $X'v$"
   ]
  },
  {
   "attachments": {},
   "cell_type": "markdown",
   "id": "bd8b96f9",
   "metadata": {},
   "source": [
    "**原理**\n",
    "\n",
    "这里设定$X,v$的行数相同，故可以同时进行拆分(在具体操作时认为是在一个大矩阵中)，$X'v = X_1'v_1+...+X_m'v_m$"
   ]
  },
  {
   "cell_type": "code",
   "execution_count": null,
   "id": "9db32e30",
   "metadata": {},
   "outputs": [],
   "source": [
    "X = mat[:, :-1]\n",
    "v = mat[:, -1]\n",
    "def Xitv(part):\n",
    "    '''\n",
    "    在定义这个map函数的时候，由于整体是一个大矩阵，但是在内部需要将X和v区分开来\n",
    "    '''\n",
    "    Xi = part[:, :-1]\n",
    "    vi = part[:, -1]\n",
    "    return Xi.transpose().dot(vi)\n",
    "\n",
    "res = dat.map(Xitv).reduce(lambda x, y: x + y)"
   ]
  },
  {
   "attachments": {},
   "cell_type": "markdown",
   "id": "da44bd44",
   "metadata": {},
   "source": [
    "### 7.2 线性回归（OLS） （RDD）"
   ]
  },
  {
   "attachments": {},
   "cell_type": "markdown",
   "id": "8d33f0ff",
   "metadata": {},
   "source": [
    "**理想OLS的理论模型与假设：**\n",
    "\n",
    "$$y = \\beta_0 + \\beta'x +\\epsilon$$\n",
    "\n",
    "其中 $X\\in \\R^{n\\times p}$，这里要求$n>>p$\n",
    "\n",
    "$$\\hat\\beta = (X'X)^{-1}X'y$$\n",
    "\n",
    "- 若要包含截距项，则$X$的第一列为1\n",
    "\n",
    "**计算过程**\n",
    "1. 首先计算$X'X,X'y$\n",
    "2. 然后计算$(X'X)^{-1}X'y$\n",
    "   \n",
    "事实上，由矩阵分块原理，可以只计算一次：$X'[X;y]$\n"
   ]
  },
  {
   "attachments": {},
   "cell_type": "markdown",
   "id": "ca6bdc27",
   "metadata": {},
   "source": [
    "#### 实例：RDD实现 （hw4）"
   ]
  },
  {
   "attachments": {},
   "cell_type": "markdown",
   "id": "e9fbe523",
   "metadata": {},
   "source": [
    "##### 参数估计"
   ]
  },
  {
   "cell_type": "code",
   "execution_count": null,
   "id": "62044956",
   "metadata": {},
   "outputs": [],
   "source": [
    "xt_xy = data_partition_nonempty.\\\n",
    "    map(lambda x: np.hstack((np.ones((np.shape(x)[0],1)),x))).\\\n",
    "    map(lambda x: x[:,:-1].transpose().dot(x) ).\\\n",
    "    reduce (lambda x,y: x+y)\n",
    "\n",
    "xt_x = xt_xy[:,:-1]\n",
    "xt_y = xt_xy[:,-1]\n",
    "\n",
    "hat_beta = np.linalg.solve(xt_x,xt_y)\n",
    "print(hat_beta)"
   ]
  },
  {
   "attachments": {},
   "cell_type": "markdown",
   "id": "d14e83c2",
   "metadata": {},
   "source": [
    "##### R_sq"
   ]
  },
  {
   "attachments": {},
   "cell_type": "markdown",
   "id": "4b8e6b84",
   "metadata": {},
   "source": [
    "相关公式：\n",
    "$$SSR = \\sum (y_i-\\hat y_i)^2 = ||Y-X\\hat\\beta||_2$$\n",
    "$$SST = \\sum (y_i - \\bar y)^2 = \\sum y_i^2+n\\bar y^2-2n\\bar y \\sum y_i $$\n",
    "$$ R^2 = 1 - SSR/SST$$\n",
    "\n",
    "假设：\n",
    "1. 已知$\\hat\\beta, [X,Y]$\n",
    "2. 数据经过mapPartition在多个矩阵中存储\n",
    "   \n",
    "计算过程：\n",
    "1. 扩充$X := [1,X]$\n",
    "2. 计算 $Y-X\\hat\\beta$，稍后对其进行平方求和\n",
    "3. 计算 $\\sum y_i, \\sum y_i^2$\n",
    "4. reduce，根据上述Rsquare公式进行整合计算"
   ]
  },
  {
   "cell_type": "code",
   "execution_count": null,
   "id": "581186e4",
   "metadata": {},
   "outputs": [],
   "source": [
    "sum_y, sum_y_sq, ssr, num = data_partition_nonempty.\\\n",
    "    map(lambda x: np.hstack((np.ones((np.shape(x)[0],1)),x))).\\\n",
    "    map(lambda x: (np.sum(x[:,-1]),np.sum(x[:,-1]**2),np.sum(x[:,-1]-x[:,:-1].dot(hat_beta)**2,axis=0),np.shape(x)[0])).\\\n",
    "    reduce(lambda x,y:(x[0]+y[0],x[1]+y[1],x[2]+y[2],x[3]+y[3]) )\n",
    "print(sum_y,sum_y_sq, ssr, num)\n",
    "y_bar = sum_y/num\n",
    "sst = sum_y_sq + n*y_bar**2 -2*num*y_bar*sum_y\n",
    "R_sq = 1 - ssr / sst\n",
    "print(f\"R^2: {R_sq}\")\n"
   ]
  },
  {
   "attachments": {},
   "cell_type": "markdown",
   "id": "3ffd4b26",
   "metadata": {},
   "source": [
    "## Lect8：岭回归、共轭梯度法、logistics（理论）"
   ]
  },
  {
   "attachments": {},
   "cell_type": "markdown",
   "id": "5e3f49ad",
   "metadata": {},
   "source": [
    "### 8.1 岭回归"
   ]
  },
  {
   "attachments": {},
   "cell_type": "markdown",
   "id": "7d04bd32",
   "metadata": {},
   "source": [
    "**理论**\n",
    "\n",
    "- 当 $n<p$ 时，$X'X$ 不可逆，此时最小二乘**没有唯一解** （事实上是有无数组解使得$\\min S_c=0$，即可以完美拟合）【并不是说不存在解！！】\n",
    "- 此时的OLS并不影响预测性，但是并不影响解释性\n",
    "- 此时我们可以采用岭回归的方法，其在最小二乘损失函数的基础上加入一个惩罚项 \n",
    "\n",
    "$$Loss = ||Y-X\\beta||_2+\\lambda ||\\beta||^2$$\n",
    "\n",
    "$$\\hat\\beta_\\lambda = (X^TX+\\lambda I)^{-1}X^TY$$\n",
    "\n",
    "- 但注意到 $X'X+\\lambda I$ 是一个高维的矩阵($p\\times p$)，难以直接进行求解。因此我们采用共轭梯度法"
   ]
  },
  {
   "attachments": {},
   "cell_type": "markdown",
   "id": "60228ce9",
   "metadata": {},
   "source": [
    "**Python 实现**"
   ]
  },
  {
   "attachments": {},
   "cell_type": "markdown",
   "id": "017372da",
   "metadata": {},
   "source": [
    "### 8.2 共轭梯度法"
   ]
  },
  {
   "attachments": {},
   "cell_type": "markdown",
   "id": "81b3e23b",
   "metadata": {},
   "source": [
    "**算法目的**\n",
    "\n",
    "求解$Ax=b$（只要$A_{n \\times n}$是正定的，n步内即求得精确解）\n",
    "\n",
    "- 时间复杂度最差为$O(n^3)$"
   ]
  },
  {
   "attachments": {},
   "cell_type": "markdown",
   "id": "45b3e180",
   "metadata": {},
   "source": [
    "**CG 的python实现**\n",
    "\n",
    "```python\n",
    "def cg(A, b, x0, eps=1e-3, print_progress=False):\n",
    "    ''' 已知Ax0=b，求解x\n",
    "    A: n*n\n",
    "    b: n*1\n",
    "    x0: n*1\n",
    "    eps: 精度\n",
    "    print_progress: 是否打印迭代过程\n",
    "    '''\n",
    "    m = b.shape[0]\n",
    "    # 初始解（注意此处应该复制x0，否则程序退出时会修改x0）\n",
    "    x = np.copy(x0)\n",
    "    # 初始残差向量\n",
    "    r = b - np.dot(A, x)\n",
    "    # 初始共轭梯度\n",
    "    p = r\n",
    "\n",
    "    for k in range(m):\n",
    "        # 矩阵乘法\n",
    "        Ap = np.dot(A, p)\n",
    "        rr = r.dot(r)\n",
    "        alpha = rr / p.dot(Ap)\n",
    "        # 更新解\n",
    "        x += alpha * p\n",
    "        # 计算新残差向量\n",
    "        rnew = r - alpha * Ap\n",
    "        # 测试是否收敛\n",
    "        norm = np.linalg.norm(rnew)\n",
    "        if print_progress:\n",
    "            print(f\"Iter {k}, residual norm = {norm}\")\n",
    "        if norm < eps:\n",
    "            break\n",
    "        beta = rnew.dot(rnew) / rr\n",
    "        # 更新共轭梯度\n",
    "        p = rnew + beta * p\n",
    "        # 更新残差向量\n",
    "        r = rnew\n",
    "\n",
    "    return x\n",
    "```"
   ]
  }
 ],
 "metadata": {
  "kernelspec": {
   "display_name": "Python 3 (ipykernel)",
   "language": "python",
   "name": "python3"
  },
  "language_info": {
   "codemirror_mode": {
    "name": "ipython",
    "version": 3
   },
   "file_extension": ".py",
   "mimetype": "text/x-python",
   "name": "python",
   "nbconvert_exporter": "python",
   "pygments_lexer": "ipython3",
   "version": "3.10.9"
  }
 },
 "nbformat": 4,
 "nbformat_minor": 5
}
