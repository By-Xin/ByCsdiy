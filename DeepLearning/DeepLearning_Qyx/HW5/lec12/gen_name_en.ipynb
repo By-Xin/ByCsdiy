{
 "cells": [
  {
   "cell_type": "code",
   "execution_count": 4,
   "id": "ac385fa3",
   "metadata": {},
   "outputs": [
    {
     "data": {
      "text/plain": [
       "[<matplotlib.lines.Line2D at 0x18d4ab51ad0>]"
      ]
     },
     "execution_count": 4,
     "metadata": {},
     "output_type": "execute_result"
    },
    {
     "data": {
      "image/png": "[encoded data removed]",
      "text/plain": [
       "<Figure size 640x480 with 1 Axes>"
      ]
     },
     "metadata": {},
     "output_type": "display_data"
    }
   ],
   "source": [
    "import time\n",
    "import numpy as np\n",
    "import pandas as pd\n",
    "import torch\n",
    "import torch.nn as nn\n",
    "import itertools\n",
    "import collections\n",
    "import matplotlib.pyplot as plt\n",
    "\n",
    "# Read in data\n",
    "df = pd.read_csv(\"English_Cn_Name_Corpus（48W）.txt\", header=None, names=[\"name\"], skiprows=2)\n",
    "names = df[\"name\"].values\n",
    "\n",
    "# Compute character frequency\n",
    "chars = [list(name) for name in names]\n",
    "chars_flatten = list(itertools.chain(*chars))\n",
    "freq = collections.Counter(chars_flatten)\n",
    "freq = pd.DataFrame(freq.items(), columns=[\"char\", \"freq\"])\n",
    "freq = freq.sort_values(by=\"freq\", ascending=False)\n",
    "\n",
    "\n",
    "# Frequency distribution\n",
    "char_rank = np.arange(freq.shape[0])\n",
    "char_freq = freq[\"freq\"].values\n",
    "plt.plot(char_rank, char_freq)"
   ]
  },
  {
   "cell_type": "code",
   "execution_count": 5,
   "metadata": {
    "ExecuteTime": {
     "end_time": "2023-12-03T14:09:49.393513300Z",
     "start_time": "2023-12-03T14:09:49.258551Z"
    }
   },
   "outputs": [
    {
     "data": {
      "text/plain": [
       "1"
      ]
     },
     "execution_count": 5,
     "metadata": {},
     "output_type": "execute_result"
    }
   ],
   "source": [
    "# Prepare data\n",
    "dict_size = 50  # 定义字典的大小，即字符的种类数\n",
    "charset_size = dict_size + 1  # 字符集的大小，加1是为了考虑终止符（End of Sequence, EOS）\n",
    "dict = list(freq[\"char\"].values[:dict_size])  # 从名字频率表中取出前 dict_size 个字符作为字典\n",
    "dict_set = set(dict)  # 将字典转换为集合，方便后续使用\n",
    "\n",
    "dat = list(filter(lambda name: set(name).issubset(dict_set), names))  # 过滤出只包含字典中字符的名字\n",
    "\n",
    "# One-hot encoding\n",
    "\n",
    "## index的目的是后续的one-hot编码：让tensor中的每个字符只在index位置为1，其余位置为0\n",
    "\n",
    "def char2index(char):\n",
    "    \"\"\"将字符映射到字典中的索引\"\"\"\n",
    "    return dict.index(char) # 返回传入字符在字典中的索引\n",
    "\n",
    "def name2index(name):\n",
    "    \"\"\"将名字中的每个字符映射到字典中的索引，返回索引列表\"\"\"\n",
    "    return [char2index(char) for char in name] # 读取名字(name)中的每个字符(char)并映射到字典中的索引，返回索引列表\n",
    "\n",
    "def char2tensor(char):\n",
    "    \"\"\"将单个字符转换为 one-hot 编码的张量\"\"\"\n",
    "    tensor = torch.zeros(1, charset_size) # 相当于一个列向量，长度为charset_size，相当于是对于每个字符对应的one-hot编码向量\n",
    "    tensor[0, char2index(char)] = 1 # 初始化全员为0，在index位置为1\n",
    "    return tensor\n",
    "\n",
    "def name2tensor(name):\n",
    "    \"\"\"将名字转换为 one-hot 编码的张量\"\"\"\n",
    "    tensor = torch.zeros(len(name), 1, charset_size) #一个tensor（其实是2d矩阵的感觉），第一个维度是名字的长度（名字中的各个字符），第二个维度是1，第三个维度是每个字符的onehot\n",
    "    for i, char in enumerate(name): #enmuerate\n",
    "        tensor[i, 0, char2index(char)] = 1\n",
    "    return tensor\n",
    "\n",
    "def names2tensor(names):\n",
    "    \"\"\"\n",
    "    将一批名字转换为 one-hot 编码的张量，并返回张量、每个名字的长度和目标张量\n",
    "    目标张量是每个名字中每个字符对应的下一个字符的索引\n",
    "    \"\"\"\n",
    "    n = len(names)  # 名字的数量\n",
    "    lens = [len(name) for name in names]  # 每个名字的长度列表\n",
    "    max_len = np.max(lens)  # 所有名字中最大的长度\n",
    "    tensor = torch.zeros(max_len, n, charset_size)  # 用于存储 one-hot 编码的张量\n",
    "    target = torch.zeros(max_len, n, dtype=int) + charset_size - 1  # 用于存储目标索引的张量，初始值为终止符的索引\n",
    "    for i in range(n):\n",
    "        name = names[i]             # 取出第 i 个名字\n",
    "        for j in range(len(name)):  # 遍历该名字的每个字符\n",
    "            tensor[j, i, char2index(name[j])] = 1  # 将字符转换为 one-hot 编码并存入张量\n",
    "            if j < len(name) - 1:\n",
    "                target[j, i] = char2index(name[j + 1])  # 将目标索引存入张量，表示当前字符的下一个字符的索引\n",
    "    return tensor, np.array(lens), target\n",
    "\n",
    "char2index(\"斯\")  # 示例：获取字符“斯”在字典中的索引\n"
   ]
  },
  {
   "cell_type": "markdown",
   "metadata": {
    "collapsed": false
   },
   "source": [
    "说明：`enumerate`\n",
    "enumerate() 函数用于将一个可遍历的数据对象(如列表、元组或字符串)组合为一个索引序列，同时列出数据和数据下标，一般用在 for 循环当中。这样在正常循环的同时还能获取到循环的索引。\n",
    "```python\n",
    ">>> seasons = ['Spring', 'Summer', 'Fall', 'Winter']\n",
    ">>> list(enumerate(seasons))\n",
    "[(0, 'Spring'), (1, 'Summer'), (2, 'Fall'), (3, 'Winter')]\n",
    "```"
   ]
  },
  {
   "cell_type": "code",
   "execution_count": 6,
   "id": "764e46bf",
   "metadata": {
    "ExecuteTime": {
     "end_time": "2023-12-03T14:09:50.940504700Z",
     "start_time": "2023-12-03T14:09:50.930964900Z"
    }
   },
   "outputs": [
    {
     "data": {
      "text/plain": [
       "[1, 17]"
      ]
     },
     "execution_count": 6,
     "metadata": {},
     "output_type": "execute_result"
    }
   ],
   "source": [
    "name2index(\"斯基\")"
   ]
  },
  {
   "cell_type": "code",
   "execution_count": 7,
   "id": "4a6f59bb",
   "metadata": {
    "ExecuteTime": {
     "end_time": "2023-12-03T14:09:52.063906200Z",
     "start_time": "2023-12-03T14:09:52.021510Z"
    }
   },
   "outputs": [
    {
     "data": {
      "text/plain": [
       "tensor([[0., 1., 0., 0., 0., 0., 0., 0., 0., 0., 0., 0., 0., 0., 0., 0., 0., 0.,\n",
       "         0., 0., 0., 0., 0., 0., 0., 0., 0., 0., 0., 0., 0., 0., 0., 0., 0., 0.,\n",
       "         0., 0., 0., 0., 0., 0., 0., 0., 0., 0., 0., 0., 0., 0., 0.]])"
      ]
     },
     "execution_count": 7,
     "metadata": {},
     "output_type": "execute_result"
    }
   ],
   "source": [
    "char2tensor(\"斯\")"
   ]
  },
  {
   "cell_type": "code",
   "execution_count": 8,
   "id": "64a27e92",
   "metadata": {
    "ExecuteTime": {
     "end_time": "2023-12-03T14:09:53.701301100Z",
     "start_time": "2023-12-03T14:09:53.687136500Z"
    }
   },
   "outputs": [
    {
     "data": {
      "text/plain": [
       "tensor([[[0., 1., 0., 0., 0., 0., 0., 0., 0., 0., 0., 0., 0., 0., 0., 0., 0.,\n",
       "          0., 0., 0., 0., 0., 0., 0., 0., 0., 0., 0., 0., 0., 0., 0., 0., 0.,\n",
       "          0., 0., 0., 0., 0., 0., 0., 0., 0., 0., 0., 0., 0., 0., 0., 0., 0.]],\n",
       "\n",
       "        [[0., 0., 0., 0., 0., 0., 0., 0., 0., 0., 0., 0., 0., 0., 0., 0., 0.,\n",
       "          1., 0., 0., 0., 0., 0., 0., 0., 0., 0., 0., 0., 0., 0., 0., 0., 0.,\n",
       "          0., 0., 0., 0., 0., 0., 0., 0., 0., 0., 0., 0., 0., 0., 0., 0., 0.]]])"
      ]
     },
     "execution_count": 8,
     "metadata": {},
     "output_type": "execute_result"
    }
   ],
   "source": [
    "name2tensor(\"斯基\")"
   ]
  },
  {
   "cell_type": "code",
   "execution_count": 9,
   "id": "6881233e",
   "metadata": {
    "ExecuteTime": {
     "end_time": "2023-12-03T14:09:55.001129200Z",
     "start_time": "2023-12-03T14:09:54.991195300Z"
    }
   },
   "outputs": [
    {
     "data": {
      "text/plain": [
       "(tensor([[[0., 1., 0., 0., 0., 0., 0., 0., 0., 0., 0., 0., 0., 0., 0., 0., 0.,\n",
       "           0., 0., 0., 0., 0., 0., 0., 0., 0., 0., 0., 0., 0., 0., 0., 0., 0.,\n",
       "           0., 0., 0., 0., 0., 0., 0., 0., 0., 0., 0., 0., 0., 0., 0., 0., 0.],\n",
       "          [0., 1., 0., 0., 0., 0., 0., 0., 0., 0., 0., 0., 0., 0., 0., 0., 0.,\n",
       "           0., 0., 0., 0., 0., 0., 0., 0., 0., 0., 0., 0., 0., 0., 0., 0., 0.,\n",
       "           0., 0., 0., 0., 0., 0., 0., 0., 0., 0., 0., 0., 0., 0., 0., 0., 0.]],\n",
       " \n",
       "         [[0., 0., 0., 0., 0., 0., 0., 0., 0., 0., 0., 0., 0., 0., 0., 0., 0.,\n",
       "           1., 0., 0., 0., 0., 0., 0., 0., 0., 0., 0., 0., 0., 0., 0., 0., 0.,\n",
       "           0., 0., 0., 0., 0., 0., 0., 0., 0., 0., 0., 0., 0., 0., 0., 0., 0.],\n",
       "          [0., 0., 0., 0., 0., 0., 0., 0., 0., 0., 0., 0., 0., 0., 0., 0., 0.,\n",
       "           0., 0., 0., 0., 0., 0., 0., 0., 0., 0., 0., 1., 0., 0., 0., 0., 0.,\n",
       "           0., 0., 0., 0., 0., 0., 0., 0., 0., 0., 0., 0., 0., 0., 0., 0., 0.]],\n",
       " \n",
       "         [[0., 0., 0., 0., 0., 0., 0., 0., 0., 0., 0., 0., 0., 0., 0., 0., 0.,\n",
       "           0., 0., 0., 0., 0., 0., 0., 0., 0., 0., 0., 0., 0., 0., 0., 0., 0.,\n",
       "           0., 0., 0., 0., 0., 0., 0., 0., 0., 0., 0., 0., 0., 0., 0., 0., 0.],\n",
       "          [0., 0., 0., 0., 0., 0., 0., 1., 0., 0., 0., 0., 0., 0., 0., 0., 0.,\n",
       "           0., 0., 0., 0., 0., 0., 0., 0., 0., 0., 0., 0., 0., 0., 0., 0., 0.,\n",
       "           0., 0., 0., 0., 0., 0., 0., 0., 0., 0., 0., 0., 0., 0., 0., 0., 0.]]]),\n",
       " array([2, 3]),\n",
       " tensor([[17, 28],\n",
       "         [50,  7],\n",
       "         [50, 50]]))"
      ]
     },
     "execution_count": 9,
     "metadata": {},
     "output_type": "execute_result"
    }
   ],
   "source": [
    "names2tensor([\"斯基\", \"斯诺夫\"])"
   ]
  },
  {
   "cell_type": "code",
   "execution_count": 10,
   "id": "9b323584",
   "metadata": {},
   "outputs": [],
   "source": [
    "# Build model\n",
    "class RNN(nn.Module):\n",
    "    def __init__(self, input_size, hidden_size):\n",
    "        super(RNN, self).__init__()\n",
    "        self.hidden_size = hidden_size\n",
    "        self.i2h = nn.Linear(input_size + hidden_size, hidden_size)\n",
    "        self.i2o = nn.Linear(input_size + hidden_size, input_size)\n",
    "        self.o2o = nn.Linear(hidden_size + input_size, input_size)\n",
    "        self.dropout = nn.Dropout(0.1)\n",
    "        self.logsoftmax = nn.LogSoftmax(dim=1)\n",
    "\n",
    "    def forward(self, input, hidden):\n",
    "        input_combined = torch.cat((input, hidden), 1) # ? how\n",
    "        hidden = torch.relu(self.i2h(input_combined))\n",
    "        output = torch.relu(self.i2o(input_combined))\n",
    "        output_combined = torch.cat((hidden, output), 1)\n",
    "        output = self.o2o(output_combined)\n",
    "        output = self.dropout(output)\n",
    "        output = self.logsoftmax(output)\n",
    "        return output, hidden\n",
    "\n",
    "    def init_hidden(self, batch_size):\n",
    "        return torch.zeros(batch_size, self.hidden_size)"
   ]
  },
  {
   "cell_type": "code",
   "execution_count": 11,
   "id": "a752a4ab",
   "metadata": {},
   "outputs": [
    {
     "data": {
      "text/plain": [
       "tensor([[-4.0018, -3.9367, -3.9460, -3.9473, -3.8426, -3.9092, -3.9913, -3.9445,\n",
       "         -3.9779, -3.9473, -3.9239, -3.8916, -3.8990, -3.9004, -3.8240, -3.9917,\n",
       "         -3.9438, -4.0358, -3.9403, -3.9473, -3.8621, -3.9212, -4.0091, -3.8872,\n",
       "         -3.8813, -3.8965, -4.0276, -3.8272, -3.8742, -3.9666, -3.9966, -3.8925,\n",
       "         -3.9473, -3.8781, -4.0228, -3.9473, -3.9395, -3.8623, -3.8451, -3.9680,\n",
       "         -4.0431, -3.8972, -3.9241, -4.0141, -3.8816, -3.9350, -3.9880, -3.8578,\n",
       "         -3.9573, -3.9473, -3.9608]], grad_fn=<LogSoftmaxBackward0>)"
      ]
     },
     "execution_count": 11,
     "metadata": {},
     "output_type": "execute_result"
    }
   ],
   "source": [
    "n_hidden = 64\n",
    "rnn = RNN(charset_size, n_hidden)\n",
    "input = name2tensor(\"斯基\")\n",
    "hidden = rnn.init_hidden(batch_size=1)\n",
    "output, next_hidden = rnn(input[0], hidden)\n",
    "output"
   ]
  },
  {
   "cell_type": "code",
   "execution_count": 14,
   "id": "e82b8c1c",
   "metadata": {},
   "outputs": [
    {
     "name": "stdout",
     "output_type": "stream",
     "text": [
      "epoch 0, batch 0, loss = 3.9328794479370117\n",
      "epoch 0, batch 10, loss = 3.537919521331787\n",
      "epoch 0, batch 20, loss = 3.222890615463257\n",
      "epoch 0, batch 30, loss = 3.178758382797241\n",
      "epoch 0, batch 40, loss = 3.1477208137512207\n",
      "epoch 0, batch 50, loss = 3.123739719390869\n",
      "epoch 0, batch 60, loss = 3.138552188873291\n",
      "epoch 0, batch 70, loss = 3.149634838104248\n",
      "epoch 0, batch 80, loss = 3.1343183517456055\n",
      "epoch 0, batch 90, loss = 3.1014931201934814\n",
      "epoch 0, batch 100, loss = 3.0893588066101074\n",
      "epoch 0, batch 110, loss = 3.0961151123046875\n",
      "epoch 0, batch 120, loss = 3.074511766433716\n",
      "epoch 0, batch 130, loss = 3.0096917152404785\n",
      "epoch 0, batch 140, loss = 3.0294246673583984\n",
      "epoch 0, batch 150, loss = 3.004396915435791\n",
      "epoch 0, batch 160, loss = 3.0280535221099854\n",
      "epoch 0, batch 170, loss = 3.0050034523010254\n",
      "epoch 0, batch 180, loss = 2.981431007385254\n",
      "epoch 0, batch 190, loss = 2.9858360290527344\n",
      "epoch 0, batch 200, loss = 2.9347615242004395\n",
      "epoch 0, batch 210, loss = 2.936096668243408\n",
      "epoch 0, batch 220, loss = 2.9937562942504883\n",
      "epoch 0, batch 230, loss = 2.9487907886505127\n",
      "epoch 0, batch 240, loss = 2.9696342945098877\n",
      "epoch 0, batch 250, loss = 2.9598021507263184\n",
      "epoch 0, batch 260, loss = 2.952765941619873\n",
      "epoch 0, batch 270, loss = 2.9183385372161865\n",
      "epoch 0, batch 280, loss = 2.9070420265197754\n",
      "epoch 1, batch 0, loss = 2.9069361686706543\n",
      "epoch 1, batch 10, loss = 2.943877696990967\n",
      "epoch 1, batch 20, loss = 2.939248561859131\n",
      "epoch 1, batch 30, loss = 2.8829307556152344\n",
      "epoch 1, batch 40, loss = 2.914734363555908\n",
      "epoch 1, batch 50, loss = 2.8805484771728516\n",
      "epoch 1, batch 60, loss = 2.9025771617889404\n",
      "epoch 1, batch 70, loss = 2.9165844917297363\n",
      "epoch 1, batch 80, loss = 2.927504062652588\n",
      "epoch 1, batch 90, loss = 2.8505821228027344\n",
      "epoch 1, batch 100, loss = 2.9024858474731445\n",
      "epoch 1, batch 110, loss = 2.858412981033325\n",
      "epoch 1, batch 120, loss = 2.873671054840088\n",
      "epoch 1, batch 130, loss = 2.863349199295044\n",
      "epoch 1, batch 140, loss = 2.860365867614746\n",
      "epoch 1, batch 150, loss = 2.8507111072540283\n",
      "epoch 1, batch 160, loss = 2.861273765563965\n",
      "epoch 1, batch 170, loss = 2.8616344928741455\n",
      "epoch 1, batch 180, loss = 2.8770508766174316\n",
      "epoch 1, batch 190, loss = 2.8818507194519043\n",
      "epoch 1, batch 200, loss = 2.9213123321533203\n",
      "epoch 1, batch 210, loss = 2.841107130050659\n",
      "epoch 1, batch 220, loss = 2.9188218116760254\n",
      "epoch 1, batch 230, loss = 2.846311569213867\n",
      "epoch 1, batch 240, loss = 2.857027530670166\n",
      "epoch 1, batch 250, loss = 2.890352249145508\n",
      "epoch 1, batch 260, loss = 2.88523530960083\n",
      "epoch 1, batch 270, loss = 2.875173568725586\n",
      "epoch 1, batch 280, loss = 2.8566458225250244\n",
      "epoch 2, batch 0, loss = 2.913210868835449\n",
      "epoch 2, batch 10, loss = 2.787642478942871\n",
      "epoch 2, batch 20, loss = 2.8583524227142334\n",
      "epoch 2, batch 30, loss = 2.867478370666504\n",
      "epoch 2, batch 40, loss = 2.875263214111328\n",
      "epoch 2, batch 50, loss = 2.8579862117767334\n",
      "epoch 2, batch 60, loss = 2.844017267227173\n",
      "epoch 2, batch 70, loss = 2.8615548610687256\n",
      "epoch 2, batch 80, loss = 2.8591177463531494\n",
      "epoch 2, batch 90, loss = 2.806438684463501\n",
      "epoch 2, batch 100, loss = 2.842857599258423\n",
      "epoch 2, batch 110, loss = 2.8704047203063965\n",
      "epoch 2, batch 120, loss = 2.817180871963501\n",
      "epoch 2, batch 130, loss = 2.8513612747192383\n",
      "epoch 2, batch 140, loss = 2.820354461669922\n",
      "epoch 2, batch 150, loss = 2.821782350540161\n",
      "epoch 2, batch 160, loss = 2.8689026832580566\n",
      "epoch 2, batch 170, loss = 2.8053457736968994\n",
      "epoch 2, batch 180, loss = 2.796987533569336\n",
      "epoch 2, batch 190, loss = 2.824162721633911\n",
      "epoch 2, batch 200, loss = 2.818958282470703\n",
      "epoch 2, batch 210, loss = 2.7988028526306152\n",
      "epoch 2, batch 220, loss = 2.855191946029663\n",
      "epoch 2, batch 230, loss = 2.852748155593872\n",
      "epoch 2, batch 240, loss = 2.873635768890381\n",
      "epoch 2, batch 250, loss = 2.841421127319336\n",
      "epoch 2, batch 260, loss = 2.86179518699646\n",
      "epoch 2, batch 270, loss = 2.818831443786621\n",
      "epoch 2, batch 280, loss = 2.852613687515259\n",
      "epoch 3, batch 0, loss = 2.803994655609131\n",
      "epoch 3, batch 10, loss = 2.839995861053467\n",
      "epoch 3, batch 20, loss = 2.8508987426757812\n",
      "epoch 3, batch 30, loss = 2.8455748558044434\n",
      "epoch 3, batch 40, loss = 2.809951066970825\n",
      "epoch 3, batch 50, loss = 2.8565282821655273\n",
      "epoch 3, batch 60, loss = 2.809979200363159\n",
      "epoch 3, batch 70, loss = 2.8162801265716553\n",
      "epoch 3, batch 80, loss = 2.8428843021392822\n",
      "epoch 3, batch 90, loss = 2.871567726135254\n",
      "epoch 3, batch 100, loss = 2.7579870223999023\n",
      "epoch 3, batch 110, loss = 2.907867908477783\n",
      "epoch 3, batch 120, loss = 2.8305394649505615\n",
      "epoch 3, batch 130, loss = 2.8209245204925537\n",
      "epoch 3, batch 140, loss = 2.8600008487701416\n",
      "epoch 3, batch 150, loss = 2.8258371353149414\n",
      "epoch 3, batch 160, loss = 2.841648578643799\n",
      "epoch 3, batch 170, loss = 2.8037219047546387\n",
      "epoch 3, batch 180, loss = 2.7980165481567383\n",
      "epoch 3, batch 190, loss = 2.7953052520751953\n",
      "epoch 3, batch 200, loss = 2.776113510131836\n",
      "epoch 3, batch 210, loss = 2.8511385917663574\n",
      "epoch 3, batch 220, loss = 2.8587098121643066\n",
      "epoch 3, batch 230, loss = 2.8304967880249023\n",
      "epoch 3, batch 240, loss = 2.818021297454834\n",
      "epoch 3, batch 250, loss = 2.840684413909912\n",
      "epoch 3, batch 260, loss = 2.8223531246185303\n",
      "epoch 3, batch 270, loss = 2.854806423187256\n",
      "epoch 3, batch 280, loss = 2.830376148223877\n",
      "epoch 4, batch 0, loss = 2.797729015350342\n",
      "epoch 4, batch 10, loss = 2.755808115005493\n",
      "epoch 4, batch 20, loss = 2.822950601577759\n",
      "epoch 4, batch 30, loss = 2.8650264739990234\n",
      "epoch 4, batch 40, loss = 2.836482286453247\n",
      "epoch 4, batch 50, loss = 2.787804126739502\n",
      "epoch 4, batch 60, loss = 2.785753011703491\n",
      "epoch 4, batch 70, loss = 2.8302605152130127\n",
      "epoch 4, batch 80, loss = 2.798943042755127\n",
      "epoch 4, batch 90, loss = 2.7790732383728027\n",
      "epoch 4, batch 100, loss = 2.784421443939209\n",
      "epoch 4, batch 110, loss = 2.8474392890930176\n",
      "epoch 4, batch 120, loss = 2.8031725883483887\n",
      "epoch 4, batch 130, loss = 2.8159966468811035\n",
      "epoch 4, batch 140, loss = 2.803077220916748\n",
      "epoch 4, batch 150, loss = 2.823709011077881\n",
      "epoch 4, batch 160, loss = 2.8691186904907227\n",
      "epoch 4, batch 170, loss = 2.791672706604004\n",
      "epoch 4, batch 180, loss = 2.8170814514160156\n",
      "epoch 4, batch 190, loss = 2.785019874572754\n",
      "epoch 4, batch 200, loss = 2.790687322616577\n",
      "epoch 4, batch 210, loss = 2.7990221977233887\n",
      "epoch 4, batch 220, loss = 2.8393161296844482\n",
      "epoch 4, batch 230, loss = 2.794504165649414\n",
      "epoch 4, batch 240, loss = 2.7857131958007812\n",
      "epoch 4, batch 250, loss = 2.803941011428833\n",
      "epoch 4, batch 260, loss = 2.8130593299865723\n",
      "epoch 4, batch 270, loss = 2.785771369934082\n",
      "epoch 4, batch 280, loss = 2.7957582473754883\n",
      "epoch 5, batch 0, loss = 2.847663164138794\n",
      "epoch 5, batch 10, loss = 2.77795147895813\n",
      "epoch 5, batch 20, loss = 2.7758331298828125\n",
      "epoch 5, batch 30, loss = 2.7952816486358643\n",
      "epoch 5, batch 40, loss = 2.7921085357666016\n",
      "epoch 5, batch 50, loss = 2.7682201862335205\n",
      "epoch 5, batch 60, loss = 2.796964645385742\n",
      "epoch 5, batch 70, loss = 2.8326199054718018\n",
      "epoch 5, batch 80, loss = 2.748378276824951\n",
      "epoch 5, batch 90, loss = 2.7728068828582764\n",
      "epoch 5, batch 100, loss = 2.766322612762451\n",
      "epoch 5, batch 110, loss = 2.7857556343078613\n",
      "epoch 5, batch 120, loss = 2.7565128803253174\n",
      "epoch 5, batch 130, loss = 2.773670196533203\n",
      "epoch 5, batch 140, loss = 2.8105247020721436\n",
      "epoch 5, batch 150, loss = 2.798588991165161\n",
      "epoch 5, batch 160, loss = 2.852938175201416\n",
      "epoch 5, batch 170, loss = 2.750274181365967\n",
      "epoch 5, batch 180, loss = 2.7857604026794434\n",
      "epoch 5, batch 190, loss = 2.8144407272338867\n",
      "epoch 5, batch 200, loss = 2.834446668624878\n",
      "epoch 5, batch 210, loss = 2.7425475120544434\n",
      "epoch 5, batch 220, loss = 2.770179271697998\n",
      "epoch 5, batch 230, loss = 2.8212366104125977\n",
      "epoch 5, batch 240, loss = 2.8185997009277344\n",
      "epoch 5, batch 250, loss = 2.7804036140441895\n",
      "epoch 5, batch 260, loss = 2.788388729095459\n",
      "epoch 5, batch 270, loss = 2.854719638824463\n",
      "epoch 5, batch 280, loss = 2.8174469470977783\n",
      "epoch 6, batch 0, loss = 2.8197522163391113\n",
      "epoch 6, batch 10, loss = 2.802800178527832\n",
      "epoch 6, batch 20, loss = 2.771634101867676\n",
      "epoch 6, batch 30, loss = 2.8008859157562256\n",
      "epoch 6, batch 40, loss = 2.7913804054260254\n",
      "epoch 6, batch 50, loss = 2.7558135986328125\n",
      "epoch 6, batch 60, loss = 2.7863121032714844\n",
      "epoch 6, batch 70, loss = 2.769686698913574\n",
      "epoch 6, batch 80, loss = 2.7383956909179688\n",
      "epoch 6, batch 90, loss = 2.809910774230957\n",
      "epoch 6, batch 100, loss = 2.7908689975738525\n",
      "epoch 6, batch 110, loss = 2.7220489978790283\n",
      "epoch 6, batch 120, loss = 2.8024020195007324\n",
      "epoch 6, batch 130, loss = 2.8008649349212646\n",
      "epoch 6, batch 140, loss = 2.7815706729888916\n",
      "epoch 6, batch 150, loss = 2.818878173828125\n",
      "epoch 6, batch 160, loss = 2.812854290008545\n",
      "epoch 6, batch 170, loss = 2.8389267921447754\n",
      "epoch 6, batch 180, loss = 2.756880760192871\n",
      "epoch 6, batch 190, loss = 2.767731189727783\n",
      "epoch 6, batch 200, loss = 2.8113672733306885\n",
      "epoch 6, batch 210, loss = 2.875645637512207\n",
      "epoch 6, batch 220, loss = 2.788262367248535\n",
      "epoch 6, batch 230, loss = 2.819582462310791\n",
      "epoch 6, batch 240, loss = 2.7582485675811768\n",
      "epoch 6, batch 250, loss = 2.7746520042419434\n",
      "epoch 6, batch 260, loss = 2.8086998462677\n",
      "epoch 6, batch 270, loss = 2.7891077995300293\n",
      "epoch 6, batch 280, loss = 2.7728118896484375\n",
      "epoch 7, batch 0, loss = 2.802272319793701\n",
      "epoch 7, batch 10, loss = 2.7652342319488525\n",
      "epoch 7, batch 20, loss = 2.747460126876831\n",
      "epoch 7, batch 30, loss = 2.7497496604919434\n",
      "epoch 7, batch 40, loss = 2.786299467086792\n",
      "epoch 7, batch 50, loss = 2.740546226501465\n",
      "epoch 7, batch 60, loss = 2.755211353302002\n",
      "epoch 7, batch 70, loss = 2.731064796447754\n",
      "epoch 7, batch 80, loss = 2.823699712753296\n",
      "epoch 7, batch 90, loss = 2.7596359252929688\n",
      "epoch 7, batch 100, loss = 2.7894511222839355\n",
      "epoch 7, batch 110, loss = 2.7893710136413574\n",
      "epoch 7, batch 120, loss = 2.8066976070404053\n",
      "epoch 7, batch 130, loss = 2.795175313949585\n",
      "epoch 7, batch 140, loss = 2.750295639038086\n",
      "epoch 7, batch 150, loss = 2.795748472213745\n",
      "epoch 7, batch 160, loss = 2.8071813583374023\n",
      "epoch 7, batch 170, loss = 2.7472214698791504\n",
      "epoch 7, batch 180, loss = 2.767611503601074\n",
      "epoch 7, batch 190, loss = 2.76326584815979\n",
      "epoch 7, batch 200, loss = 2.7653088569641113\n",
      "epoch 7, batch 210, loss = 2.823749542236328\n",
      "epoch 7, batch 220, loss = 2.7555437088012695\n",
      "epoch 7, batch 230, loss = 2.8538026809692383\n",
      "epoch 7, batch 240, loss = 2.8023245334625244\n",
      "epoch 7, batch 250, loss = 2.742943286895752\n",
      "epoch 7, batch 260, loss = 2.745861768722534\n",
      "epoch 7, batch 270, loss = 2.786954641342163\n",
      "epoch 7, batch 280, loss = 2.8213462829589844\n",
      "epoch 8, batch 0, loss = 2.8253698348999023\n",
      "epoch 8, batch 10, loss = 2.773151397705078\n",
      "epoch 8, batch 20, loss = 2.7969818115234375\n",
      "epoch 8, batch 30, loss = 2.7662672996520996\n",
      "epoch 8, batch 40, loss = 2.771439552307129\n",
      "epoch 8, batch 50, loss = 2.7360496520996094\n",
      "epoch 8, batch 60, loss = 2.8029515743255615\n",
      "epoch 8, batch 70, loss = 2.750624656677246\n",
      "epoch 8, batch 80, loss = 2.732586622238159\n",
      "epoch 8, batch 90, loss = 2.764183521270752\n",
      "epoch 8, batch 100, loss = 2.765615940093994\n",
      "epoch 8, batch 110, loss = 2.7582645416259766\n",
      "epoch 8, batch 120, loss = 2.760796070098877\n",
      "epoch 8, batch 130, loss = 2.7568953037261963\n",
      "epoch 8, batch 140, loss = 2.8170547485351562\n",
      "epoch 8, batch 150, loss = 2.7959351539611816\n",
      "epoch 8, batch 160, loss = 2.826730489730835\n",
      "epoch 8, batch 170, loss = 2.8111796379089355\n",
      "epoch 8, batch 180, loss = 2.76930832862854\n",
      "epoch 8, batch 190, loss = 2.7715864181518555\n",
      "epoch 8, batch 200, loss = 2.785964012145996\n",
      "epoch 8, batch 210, loss = 2.7627553939819336\n",
      "epoch 8, batch 220, loss = 2.8090312480926514\n",
      "epoch 8, batch 230, loss = 2.7317001819610596\n",
      "epoch 8, batch 240, loss = 2.7804527282714844\n",
      "epoch 8, batch 250, loss = 2.787545680999756\n",
      "epoch 8, batch 260, loss = 2.775204658508301\n",
      "epoch 8, batch 270, loss = 2.710658550262451\n",
      "epoch 8, batch 280, loss = 2.790337562561035\n",
      "epoch 9, batch 0, loss = 2.808793783187866\n",
      "epoch 9, batch 10, loss = 2.7563581466674805\n",
      "epoch 9, batch 20, loss = 2.727828025817871\n",
      "epoch 9, batch 30, loss = 2.740406036376953\n",
      "epoch 9, batch 40, loss = 2.7862439155578613\n",
      "epoch 9, batch 50, loss = 2.786548614501953\n",
      "epoch 9, batch 60, loss = 2.730672836303711\n",
      "epoch 9, batch 70, loss = 2.713609457015991\n",
      "epoch 9, batch 80, loss = 2.718669891357422\n",
      "epoch 9, batch 90, loss = 2.7997183799743652\n",
      "epoch 9, batch 100, loss = 2.769536018371582\n",
      "epoch 9, batch 110, loss = 2.751533031463623\n",
      "epoch 9, batch 120, loss = 2.733489990234375\n",
      "epoch 9, batch 130, loss = 2.7669918537139893\n",
      "epoch 9, batch 140, loss = 2.7289278507232666\n",
      "epoch 9, batch 150, loss = 2.8361563682556152\n",
      "epoch 9, batch 160, loss = 2.775552749633789\n",
      "epoch 9, batch 170, loss = 2.7494969367980957\n",
      "epoch 9, batch 180, loss = 2.7351973056793213\n",
      "epoch 9, batch 190, loss = 2.766688346862793\n",
      "epoch 9, batch 200, loss = 2.783696413040161\n",
      "epoch 9, batch 210, loss = 2.7917113304138184\n",
      "epoch 9, batch 220, loss = 2.792142868041992\n",
      "epoch 9, batch 230, loss = 2.8116018772125244\n",
      "epoch 9, batch 240, loss = 2.68082332611084\n",
      "epoch 9, batch 250, loss = 2.766512632369995\n",
      "epoch 9, batch 260, loss = 2.792475700378418\n",
      "epoch 9, batch 270, loss = 2.762564182281494\n",
      "epoch 9, batch 280, loss = 2.770482063293457\n",
      "40.48508882522583\n"
     ]
    },
    {
     "data": {
      "text/plain": [
       "[<matplotlib.lines.Line2D at 0x18d4b8a2090>]"
      ]
     },
     "execution_count": 14,
     "metadata": {},
     "output_type": "execute_result"
    },
    {
     "data": {
      "image/png": "[encoded data removed]",
      "text/plain": [
       "<Figure size 640x480 with 1 Axes>"
      ]
     },
     "metadata": {},
     "output_type": "display_data"
    }
   ],
   "source": [
    "np.random.seed(123)\n",
    "torch.random.manual_seed(123)\n",
    "device = torch.device(\"cuda\")\n",
    "# device = torch.device(\"cpu\")  # If no GPU on the machine\n",
    "\n",
    "# train_id = np.random.choice(len(dat), 10000)\n",
    "# train = [dat[i] for i in train_id]\n",
    "train = dat\n",
    "\n",
    "n = len(train)\n",
    "n_hidden = 256\n",
    "nepoch = 10\n",
    "bs = 256\n",
    "\n",
    "rnn = RNN(charset_size, n_hidden)\n",
    "rnn = rnn.to(device=device)\n",
    "opt = torch.optim.Adam(rnn.parameters(), lr=0.001)\n",
    "train_ind = np.arange(n)\n",
    "lossfn = nn.NLLLoss(reduction=\"none\")\n",
    "losses = []\n",
    "\n",
    "t1 = time.time()\n",
    "for k in range(nepoch):\n",
    "    np.random.shuffle(train_ind)\n",
    "    # Update on mini-batches\n",
    "    for j in range(0, n, bs):\n",
    "        # Create mini-batch\n",
    "        ind = train_ind[j:(j + bs)]\n",
    "        mb = [train[i] for i in ind]\n",
    "        mb_size = len(mb)\n",
    "         input, actual_len, target = names2tensor(mb)\n",
    "        input = input.to(device=device)\n",
    "        target = target.to(device=device)\n",
    "        max_len = input.shape[0]\n",
    "        hidden = rnn.init_hidden(mb_size).to(device=device)\n",
    "        loss = 0.0\n",
    "        for s in range(max_len):\n",
    "            output, hidden = rnn(input[s], hidden)\n",
    "            loss_s = lossfn(output, target[s])\n",
    "            valid = torch.tensor((s < actual_len).astype(int)).to(device=device)\n",
    "            loss = loss + loss_s * valid\n",
    "        loss = torch.mean(loss / torch.tensor(actual_len).to(device=device))\n",
    "\n",
    "        opt.zero_grad()\n",
    "        loss.backward()\n",
    "        opt.step()\n",
    "\n",
    "        losses.append(loss.item())\n",
    "        if j // bs % 10 == 0:\n",
    "            print(f\"epoch {k}, batch {j // bs}, loss = {loss.item()}\")\n",
    "t2 = time.time()\n",
    "print(t2 - t1)\n",
    "plt.plot(losses)"
   ]
  },
  {
   "cell_type": "code",
   "execution_count": 15,
   "id": "76a09a3b",
   "metadata": {},
   "outputs": [
    {
     "data": {
      "text/plain": [
       "RNN(\n",
       "  (i2h): Linear(in_features=307, out_features=256, bias=True)\n",
       "  (i2o): Linear(in_features=307, out_features=51, bias=True)\n",
       "  (o2o): Linear(in_features=307, out_features=51, bias=True)\n",
       "  (dropout): Dropout(p=0.1, inplace=False)\n",
       "  (logsoftmax): LogSoftmax(dim=1)\n",
       ")"
      ]
     },
     "execution_count": 15,
     "metadata": {},
     "output_type": "execute_result"
    }
   ],
   "source": [
    "#?\n",
    "\n",
    "# torch.save(rnn.state_dict(), \"gen_en.pt\")\n",
    "rnn.load_state_dict(torch.load(\"gen_en.pt\", map_location=device))\n",
    "rnn.eval()"
   ]
  },
  {
   "cell_type": "code",
   "execution_count": 17,
   "metadata": {},
   "outputs": [
    {
     "data": {
      "text/plain": [
       "array(['亚', '什', '伊', '克', '内', '利', '加', '勒', '卡', '埃', '基', '塔', '奇',\n",
       "       '奥', '尔', '尼', '巴', '布', '帕', '库', '德', '托', '拉', '斯', '普', '格',\n",
       "       '洛', '特', '瓦', '科', '米', '纳', '维', '罗', '耶', '莱', '萨', '蒂', '西',\n",
       "       '诺', '贝', '达', '迪', '里', '阿', '雷', '韦', '马'], dtype='<U1')"
      ]
     },
     "execution_count": 17,
     "metadata": {},
     "output_type": "execute_result"
    }
   ],
   "source": [
    "\n",
    "family_names = np.unique([name[0] for name in dat])\n",
    "family_names"
   ]
  },
  {
   "cell_type": "code",
   "execution_count": 19,
   "id": "a7bec938",
   "metadata": {},
   "outputs": [
    {
     "name": "stdout",
     "output_type": "stream",
     "text": [
      "tensor([[0., 0., 0., 0., 0., 0., 0., 0., 0., 0., 0., 0., 0., 0., 0., 0., 0., 0.,\n",
      "         0., 0., 0., 0., 0., 0., 1., 0., 0., 0., 0., 0., 0., 0., 0., 0., 0., 0.,\n",
      "         0., 0., 0., 0., 0., 0., 0., 0., 0., 0., 0., 0., 0., 0., 0.]],\n",
      "       device='cuda:0')\n",
      "char_ind:[24]\n",
      "雷斯塔\n"
     ]
    }
   ],
   "source": [
    "\n",
    "family_names = np.unique([name[0] for name in dat])\n",
    "def random_family_name():\n",
    "    return np.random.choice(family_names, 1)[0]\n",
    "\n",
    "def random_name(max_len=4):\n",
    "    rnn.eval()\n",
    "    family_name = random_family_name()\n",
    "    input = char2tensor(family_name).to(device=device)\n",
    "    print(input)\n",
    "    char_ind = [torch.argmax(input).item()]\n",
    "    print(f\"char_ind:{char_ind}\")\n",
    "    hidden = rnn.init_hidden(batch_size=1).to(device=device)\n",
    "    for i in range(max_len - 1):\n",
    "        output, hidden = rnn(input, hidden)\n",
    "        ind = torch.argmax(output).item()\n",
    "        if ind == charset_size - 1:\n",
    "            break\n",
    "        char_ind.append(ind)\n",
    "        input.zero_()\n",
    "        input[0, ind] = 1.0\n",
    "    return char_ind\n",
    "\n",
    "np.random.seed(123)\n",
    "torch.random.manual_seed(123)\n",
    "ind = random_name(10)\n",
    "print(\"\".join([dict[i] for i in ind]))"
   ]
  },
  {
   "cell_type": "code",
   "execution_count": null,
   "id": "587c6a93",
   "metadata": {},
   "outputs": [
    {
     "name": "stdout",
     "output_type": "stream",
     "text": [
      "['雷斯塔' '伊尔马斯' '瓦尔德' '耶尔维' '西尔韦斯特里' '布拉伊科夫斯基'\n",
      " '库尔蒂耶' '迪亚科' '拉斯特里' '罗斯托' '维尔斯' '马尔基奥' '埃斯特拉德'\n",
      " '维尔斯' '韦尔尼' '维尔斯' '马尔基奥' '格拉斯科' '库尔蒂耶' '尔德'\n",
      " '萨尔瓦尼' '维尔斯' '巴尔巴里尼' '内斯托拉' '克拉斯尼奇' '伊尔马斯'\n",
      " '德拉斯科' '诺尔贝格' '伊尔马斯' '德拉斯科' '马尔基奥' '勒布罗' '达尔马斯'\n",
      " '莱斯科' '瓦尔德' '西尔韦斯特里' '罗斯托' '托尔托拉' '米尔科' '特里斯塔尼'\n",
      " '耶尔维' '罗斯托' '奇科' '贝尔托利尼' '克拉斯尼奇' '迪亚科' '利亚尔迪'\n",
      " '亚尔马' '塔尔迪' '耶尔维']\n"
     ]
    }
   ],
   "source": [
    "np.random.seed(123)\n",
    "torch.random.manual_seed(123)\n",
    "names = []\n",
    "for i in range(50):\n",
    "    ind = random_name(10)\n",
    "    names.append(\"\".join([dict[i] for i in ind]))\n",
    "np.set_printoptions(linewidth=50)\n",
    "print(np.array(names))"
   ]
  }
 ],
 "metadata": {
  "kernelspec": {
   "display_name": "Python 3 (ipykernel)",
   "language": "python",
   "name": "python3"
  },
  "language_info": {
   "codemirror_mode": {
    "name": "ipython",
    "version": 3
   },
   "file_extension": ".py",
   "mimetype": "text/x-python",
   "name": "python",
   "nbconvert_exporter": "python",
   "pygments_lexer": "ipython3",
   "version": "3.11.4"
  }
 },
 "nbformat": 4,
 "nbformat_minor": 5
}
