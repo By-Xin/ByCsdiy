{
 "cells": [
  {
   "cell_type": "code",
   "execution_count": 13,
   "metadata": {},
   "outputs": [
    {
     "name": "stdout",
     "output_type": "stream",
     "text": [
      "4\n",
      "6\n",
      "3\n",
      "4\n",
      "1\n"
     ]
    },
    {
     "data": {
      "text/plain": [
       "17"
      ]
     },
     "execution_count": 13,
     "metadata": {},
     "output_type": "execute_result"
    }
   ],
   "source": [
    "from dice import six_sided, make_test_dice\n",
    "from ucb import main, trace, interact\n",
    "from math import log2\n",
    "def roll_dice(num_rolls, dice=six_sided):\n",
    "    \"\"\"Simulate rolling the DICE exactly NUM_ROLLS > 0 times. Return the sum of\n",
    "    the outcomes unless any of the outcomes is 1. In that case, return 1.\n",
    "\n",
    "    num_rolls:  The number of dice rolls that will be made.\n",
    "    dice:       A function that simulates a single dice roll outcome.\n",
    "    \"\"\"\n",
    "    # These assert statements ensure that num_rolls is a positive integer.\n",
    "    assert type(num_rolls) == int, 'num_rolls must be an integer.'\n",
    "    assert num_rolls > 0, 'Must roll at least once.'\n",
    "    # BEGIN PROBLEM 1\n",
    "    \"*** YOUR CODE HERE ***\"\n",
    "\n",
    "    result = 0\n",
    "    acc = 0\n",
    "    if_one = False\n",
    "    # print(dice)\n",
    "\n",
    "    for turns in range(num_rolls):\n",
    "        result = dice()\n",
    "        print(result)\n",
    "        if result == 1:\n",
    "            if_one = True\n",
    "        else:\n",
    "            acc = acc + result\n",
    "\n",
    "    return acc\n",
    "    # END PROBLEM 1\n",
    "\n",
    "roll_dice(5,six_sided)"
   ]
  },
  {
   "cell_type": "code",
   "execution_count": 9,
   "metadata": {},
   "outputs": [
    {
     "data": {
      "text/plain": [
       "int"
      ]
     },
     "execution_count": 9,
     "metadata": {},
     "output_type": "execute_result"
    }
   ],
   "source": [
    "type(six_sided())\n"
   ]
  },
  {
   "cell_type": "code",
   "execution_count": 16,
   "metadata": {},
   "outputs": [
    {
     "name": "stdout",
     "output_type": "stream",
     "text": [
      "3 0.0\n"
     ]
    }
   ],
   "source": [
    "import numpy as np\n",
    "def tail_points(opponent_score):\n",
    "    \"\"\"Return the points scored by rolling 0 dice according to Pig Tail.\n",
    "\n",
    "    opponent_score:   The total score of the other player.\n",
    "\n",
    "    \"\"\"\n",
    "    # BEGIN PROBLEM 2\n",
    "    \"*** YOUR CODE HERE ***\"\n",
    "    ones = np.mod(opponent_score,10)\n",
    "    tens = np.mod((opponent_score - ones)/10,10)\n",
    "    print(ones,tens)\n",
    "    # END PROBLEM 2\n",
    "\n",
    "tail_points(3)"
   ]
  },
  {
   "cell_type": "code",
   "execution_count": 28,
   "metadata": {},
   "outputs": [
    {
     "data": {
      "text/plain": [
       "False"
      ]
     },
     "execution_count": 28,
     "metadata": {},
     "output_type": "execute_result"
    }
   ],
   "source": [
    "def perfect_square(score):\n",
    "    def abs(num):\n",
    "        if num>0:\n",
    "            return num\n",
    "        else:\n",
    "            return -num\n",
    "    diff = abs(int(score**(1/2))**2-score)\n",
    "    if diff<10e-5:\n",
    "        return True\n",
    "    else:\n",
    "        return False\n",
    "\n",
    "perfect_square(5)"
   ]
  },
  {
   "cell_type": "code",
   "execution_count": 35,
   "metadata": {},
   "outputs": [
    {
     "data": {
      "text/plain": [
       "2"
      ]
     },
     "execution_count": 35,
     "metadata": {},
     "output_type": "execute_result"
    }
   ],
   "source": [
    "def perfect_square(score):\n",
    "    def abs(num):\n",
    "        if num>0:\n",
    "            return num\n",
    "        else:\n",
    "            return -num\n",
    "    diff = abs(int(score**(1/2))**2-score)\n",
    "    if diff<10e-5:\n",
    "        return True\n",
    "    else:\n",
    "        return False\n",
    "def next_perfect_square(score):\n",
    "    assert perfect_square(score)==True, 'must be perfect sq'\n",
    "    return int(score**(1/2)+1)\n",
    "# END PROBLEM 4\n",
    "next_perfect_square(1)"
   ]
  },
  {
   "cell_type": "code",
   "execution_count": 37,
   "metadata": {},
   "outputs": [
    {
     "name": "stdout",
     "output_type": "stream",
     "text": [
      "[0, 0]\n"
     ]
    }
   ],
   "source": [
    "a=[0,0]\n",
    "print(a)"
   ]
  },
  {
   "attachments": {},
   "cell_type": "markdown",
   "metadata": {},
   "source": []
  },
  {
   "cell_type": "code",
   "execution_count": 1,
   "metadata": {},
   "outputs": [
    {
     "data": {
      "text/plain": [
       "3"
      ]
     },
     "execution_count": 1,
     "metadata": {},
     "output_type": "execute_result"
    }
   ],
   "source": [
    "def always_roll(n):\n",
    "    \"\"\"Return a player strategy that always rolls N dice.\n",
    "\n",
    "    A player strategy is a function that takes two total scores as arguments\n",
    "    (the current player's score, and the opponent's score), and returns a\n",
    "    number of dice that the current player will roll this turn.\n",
    "\n",
    "    >>> strategy = always_roll(3)\n",
    "    >>> strategy(0, 0)\n",
    "    3\n",
    "    >>> strategy(99, 99)\n",
    "    3\n",
    "    \"\"\"\n",
    "    assert n >= 0 and n <= 10\n",
    "    # BEGIN PROBLEM 6\n",
    "    \"*** YOUR CODE HERE ***\"\n",
    "    def strategy(n,self_score,opponent_score):\n",
    "        return n\n",
    "\n",
    "always_roll(3)"
   ]
  }
 ],
 "metadata": {
  "kernelspec": {
   "display_name": "base",
   "language": "python",
   "name": "python3"
  },
  "language_info": {
   "codemirror_mode": {
    "name": "ipython",
    "version": 3
   },
   "file_extension": ".py",
   "mimetype": "text/x-python",
   "name": "python",
   "nbconvert_exporter": "python",
   "pygments_lexer": "ipython3",
   "version": "3.10.9"
  },
  "orig_nbformat": 4
 },
 "nbformat": 4,
 "nbformat_minor": 2
}
