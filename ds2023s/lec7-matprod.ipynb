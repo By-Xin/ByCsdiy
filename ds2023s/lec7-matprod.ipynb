{
 "cells": [
  {
   "cell_type": "markdown",
   "id": "294f54c3",
   "metadata": {},
   "source": [
    "# 分布式矩阵乘法"
   ]
  },
  {
   "cell_type": "markdown",
   "id": "dd303e5e",
   "metadata": {},
   "source": [
    "### 1. 准备工作"
   ]
  },
  {
   "cell_type": "markdown",
   "id": "4330a894",
   "metadata": {},
   "source": [
    "配置和启动 PySpark："
   ]
  },
  {
   "cell_type": "code",
   "execution_count": null,
   "id": "54d9bba0",
   "metadata": {},
   "outputs": [],
   "source": [
    "import findspark\n",
    "findspark.init()\n",
    "\n",
    "from pyspark.sql import SparkSession\n",
    "# 本地模式\n",
    "spark = SparkSession.builder.\\\n",
    "    master(\"local[*]\").\\\n",
    "    appName(\"PySpark RDD\").\\\n",
    "    getOrCreate()\n",
    "sc = spark.sparkContext\n",
    "# sc.setLogLevel(\"ERROR\")\n",
    "print(spark)\n",
    "print(sc)"
   ]
  },
  {
   "cell_type": "markdown",
   "id": "b67ee1cd",
   "metadata": {},
   "source": [
    "利用 Numpy 创建一个矩阵，并写入文件："
   ]
  },
  {
   "cell_type": "code",
   "execution_count": null,
   "id": "cc36a5cc",
   "metadata": {},
   "outputs": [],
   "source": [
    "import numpy as np\n",
    "np.set_printoptions(linewidth=100)\n",
    "\n",
    "np.random.seed(123)\n",
    "n = 100\n",
    "p = 5\n",
    "mat = np.random.normal(size=(n, p))\n",
    "np.savetxt(\"data/mat_np.txt\", mat, fmt=\"%f\", delimiter=\"\\t\")"
   ]
  },
  {
   "cell_type": "markdown",
   "id": "8b44965a",
   "metadata": {},
   "source": [
    "PySpark 读取文件并进行一些简单操作："
   ]
  },
  {
   "cell_type": "code",
   "execution_count": null,
   "id": "4dfebd79",
   "metadata": {
    "scrolled": true
   },
   "outputs": [],
   "source": [
    "file = sc.textFile(\"data/mat_np.txt\")\n",
    "\n",
    "# 打印矩阵行数\n",
    "print(file.count())\n",
    "\n",
    "# 空行\n",
    "print()\n",
    "\n",
    "# 打印前5行\n",
    "text = file.take(5)\n",
    "print(*text, sep=\"\\n\")"
   ]
  },
  {
   "cell_type": "code",
   "execution_count": null,
   "id": "c8a8bd08",
   "metadata": {},
   "outputs": [],
   "source": [
    "file.first()"
   ]
  },
  {
   "cell_type": "markdown",
   "id": "8e12b890",
   "metadata": {},
   "source": [
    "### 2. 进行分区映射（MapPartitions）"
   ]
  },
  {
   "cell_type": "code",
   "execution_count": null,
   "id": "b3e21ee5",
   "metadata": {},
   "outputs": [],
   "source": [
    "file_p10 = file.repartition(10)\n",
    "print(file.getNumPartitions())\n",
    "print(file_p10.getNumPartitions())"
   ]
  },
  {
   "cell_type": "code",
   "execution_count": null,
   "id": "3d75ea38",
   "metadata": {},
   "outputs": [],
   "source": [
    "# str => np.array\n",
    "def str_to_vec(line):\n",
    "    # 分割字符串\n",
    "    str_vec = line.split(\"\\t\")\n",
    "    # 将每一个元素从字符串变成数值型\n",
    "    num_vec = map(lambda s: float(s), str_vec)\n",
    "    # 创建 Numpy 向量\n",
    "    return np.fromiter(num_vec, dtype=float)\n",
    "\n",
    "# Iter[str] => Iter[matrix]\n",
    "def part_to_mat(iterator):\n",
    "    # Iter[str] => Iter[np.array]\n",
    "    iter_arr = map(str_to_vec, iterator)\n",
    "\n",
    "    # Iter[np.array] => list(np.array)\n",
    "    dat = list(iter_arr)\n",
    "\n",
    "    # list(np.array) => matrix\n",
    "    if len(dat) < 1:  # Test zero iterator\n",
    "        mat = np.array([])\n",
    "    else:\n",
    "        mat = np.vstack(dat)\n",
    "\n",
    "    # matrix => Iter[matrix]\n",
    "    yield mat"
   ]
  },
  {
   "cell_type": "code",
   "execution_count": null,
   "id": "d437358b",
   "metadata": {},
   "outputs": [],
   "source": [
    "dat = file_p10.mapPartitions(part_to_mat).filter(lambda x: x.shape[0] > 0)\n",
    "print(dat.count())"
   ]
  },
  {
   "cell_type": "markdown",
   "id": "9caaf2e7",
   "metadata": {},
   "source": [
    "### 3. 矩阵乘法 $Xv$"
   ]
  },
  {
   "cell_type": "markdown",
   "id": "684edfb9",
   "metadata": {},
   "source": [
    "模拟数据和真实值："
   ]
  },
  {
   "cell_type": "code",
   "execution_count": null,
   "id": "e6dcb844",
   "metadata": {},
   "outputs": [],
   "source": [
    "np.random.seed(123)\n",
    "v = np.random.uniform(size=p)\n",
    "res = mat.dot(v)\n",
    "res"
   ]
  },
  {
   "cell_type": "markdown",
   "id": "f2acc05f",
   "metadata": {},
   "source": [
    "每个 RDD 分区上进行计算："
   ]
  },
  {
   "cell_type": "code",
   "execution_count": null,
   "id": "733872af",
   "metadata": {
    "scrolled": false
   },
   "outputs": [],
   "source": [
    "res_part = dat.map(lambda x: x.dot(v)).collect()\n",
    "res_part"
   ]
  },
  {
   "cell_type": "markdown",
   "id": "04bd0404",
   "metadata": {},
   "source": [
    "拼接分块结果："
   ]
  },
  {
   "cell_type": "code",
   "execution_count": null,
   "id": "335b21e3",
   "metadata": {
    "scrolled": true
   },
   "outputs": [],
   "source": [
    "np.concatenate(res_part)"
   ]
  },
  {
   "cell_type": "markdown",
   "id": "047a11b9",
   "metadata": {},
   "source": [
    "### 4. 矩阵乘法 $X'X$"
   ]
  },
  {
   "cell_type": "markdown",
   "id": "36b954aa",
   "metadata": {},
   "source": [
    "真实值："
   ]
  },
  {
   "cell_type": "code",
   "execution_count": null,
   "id": "75b770d4",
   "metadata": {},
   "outputs": [],
   "source": [
    "res = mat.transpose().dot(mat)\n",
    "res"
   ]
  },
  {
   "cell_type": "markdown",
   "id": "21e6e4ec",
   "metadata": {},
   "source": [
    "每个 RDD 分区上进行计算："
   ]
  },
  {
   "cell_type": "code",
   "execution_count": null,
   "id": "c5bee37a",
   "metadata": {},
   "outputs": [],
   "source": [
    "res = dat.map(lambda x: x.transpose().dot(x)).reduce(lambda x, y: x + y)\n",
    "res"
   ]
  },
  {
   "cell_type": "markdown",
   "id": "6ec97846",
   "metadata": {},
   "source": [
    "### 5. 矩阵乘法 $X'v$"
   ]
  },
  {
   "cell_type": "markdown",
   "id": "a51b05d0",
   "metadata": {},
   "source": [
    "以 `mat` 的前4列为 `X`，最后一列为 `v`："
   ]
  },
  {
   "cell_type": "code",
   "execution_count": null,
   "id": "04e24729",
   "metadata": {},
   "outputs": [],
   "source": [
    "X = mat[:, :-1]\n",
    "v = mat[:, -1]\n",
    "res = X.transpose().dot(v)\n",
    "res"
   ]
  },
  {
   "cell_type": "markdown",
   "id": "41ca2fb1",
   "metadata": {},
   "source": [
    "每个 RDD 分区上进行计算："
   ]
  },
  {
   "cell_type": "code",
   "execution_count": null,
   "id": "4cb8ea06",
   "metadata": {},
   "outputs": [],
   "source": [
    "def Xitv(part):\n",
    "    Xi = part[:, :-1]\n",
    "    vi = part[:, -1]\n",
    "    return Xi.transpose().dot(vi)\n",
    "\n",
    "res = dat.map(Xitv).reduce(lambda x, y: x + y)\n",
    "res"
   ]
  },
  {
   "cell_type": "markdown",
   "id": "68d375e8",
   "metadata": {},
   "source": [
    "关闭 Spark 连接："
   ]
  },
  {
   "cell_type": "code",
   "execution_count": null,
   "id": "c6e9f36e",
   "metadata": {},
   "outputs": [],
   "source": [
    "sc.stop()"
   ]
  }
 ],
 "metadata": {
  "kernelspec": {
   "display_name": "Python 3 (ipykernel)",
   "language": "python",
   "name": "python3"
  },
  "language_info": {
   "codemirror_mode": {
    "name": "ipython",
    "version": 3
   },
   "file_extension": ".py",
   "mimetype": "text/x-python",
   "name": "python",
   "nbconvert_exporter": "python",
   "pygments_lexer": "ipython3",
   "version": "3.10.9"
  }
 },
 "nbformat": 4,
 "nbformat_minor": 5
}
