{
 "cells": [
  {
   "cell_type": "markdown",
   "id": "b7f6b61f-b170-4a78-bcea-7de8ce8a7257",
   "metadata": {},
   "source": [
    "# 分布式计算 总复习"
   ]
  },
  {
   "cell_type": "markdown",
   "id": "1d47e286-b15f-44f3-9905-5eea96fd7a42",
   "metadata": {
    "tags": []
   },
   "source": [
    "## lect2：PySpark初始化, map & reduce"
   ]
  },
  {
   "cell_type": "markdown",
   "id": "5e1ae3d9-a432-4009-8312-b4b1cd94bd83",
   "metadata": {},
   "source": [
    "- 课堂实例：联合国文字的处理"
   ]
  },
  {
   "cell_type": "markdown",
   "id": "fe614864-6075-46b9-81eb-3f3b8fcd0765",
   "metadata": {},
   "source": [
    "- PySpark配置和启动"
   ]
  },
  {
   "cell_type": "code",
   "execution_count": 3,
   "id": "0b4d98cc-eb10-4037-bef4-4b2aa1618db5",
   "metadata": {},
   "outputs": [
    {
     "name": "stdout",
     "output_type": "stream",
     "text": [
      "<pyspark.sql.session.SparkSession object at 0x0000019CCAA541F0>\n",
      "<SparkContext master=local[*] appName=Reading Text>\n"
     ]
    }
   ],
   "source": [
    "import findspark\n",
    "findspark.init()\n",
    "\n",
    "from pyspark.sql import SparkSession\n",
    "# 本地模式\n",
    "spark = SparkSession.builder.master(\"local[*]\").appName(\"Reading Text\").getOrCreate()\n",
    "sc = spark.sparkContext\n",
    "# sc.setLogLevel(\"ERROR\")\n",
    "print(spark)\n",
    "print(sc)"
   ]
  },
  {
   "cell_type": "markdown",
   "id": "3508d561-eb15-42f8-8da8-814bc35d46a5",
   "metadata": {},
   "source": [
    "- PySpark中文件读取，查看，筛选\n",
    "\n",
    "`sc.textFile(\"address\")`\n",
    "\n",
    "`file.count()`\n",
    "\n",
    "`file.take()`\n",
    "\n",
    "`file.filter()`\n",
    "\n",
    "`file.map()`\n"
   ]
  },
  {
   "cell_type": "markdown",
   "id": "5998d574-3360-4a66-9165-62747b63757d",
   "metadata": {},
   "source": [
    "- Slides大纲：\n",
    "  1. 并行计算基本概念 \n",
    "  2. 并行计算与分布式计算\n",
    "  3. Apache Spark简介与安装\n",
    "  \n",
    "- Amdahl 定律：并行加速程度计算公式\n",
    "  $$S_{latency}(s)=\\frac{}$$"
   ]
  },
  {
   "cell_type": "markdown",
   "id": "3449f5ce-af35-4bf5-9af6-d30d750a231a",
   "metadata": {},
   "source": [
    "## lect3: "
   ]
  }
 ],
 "metadata": {
  "kernelspec": {
   "display_name": "Python 3 (ipykernel)",
   "language": "python",
   "name": "python3"
  },
  "language_info": {
   "codemirror_mode": {
    "name": "ipython",
    "version": 3
   },
   "file_extension": ".py",
   "mimetype": "text/x-python",
   "name": "python",
   "nbconvert_exporter": "python",
   "pygments_lexer": "ipython3",
   "version": "3.10.9"
  }
 },
 "nbformat": 4,
 "nbformat_minor": 5
}
