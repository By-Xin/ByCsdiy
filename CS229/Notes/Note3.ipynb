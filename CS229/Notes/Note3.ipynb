{
 "cells": [
  {
   "cell_type": "markdown",
   "metadata": {},
   "source": [
    "## 5.1 Decision Boundary / Separating Hyperplane"
   ]
  },
  {
   "cell_type": "markdown",
   "metadata": {},
   "source": [
    "## 5.1 Decision Boundary / Separating Hyperplane"
   ]
  },
  {
   "cell_type": "markdown",
   "metadata": {},
   "source": [
    "**回忆Logistics Regression**\n",
    "\n",
    "logistics的拟合函数是：$h_\\theta(x) = g(\\theta^Tx)$.\n",
    "\n",
    "若以正常的阈值$p=0.5$作为分界来看，$\\theta^Tx>0$与否便构成了一个决策边界，或称separating hyperplane. 数据点距离该决策平面越远，则判断其属于某一类别的confidence越高."
   ]
  },
  {
   "cell_type": "code",
   "execution_count": 2,
   "metadata": {},
   "outputs": [
    {
     "data": {
      "image/png": "[encoded data removed]",
      "text/plain": [
       "<Figure size 432x288 with 1 Axes>"
      ]
     },
     "metadata": {
      "needs_background": "light"
     },
     "output_type": "display_data"
    }
   ],
   "source": [
    "# 绘制sigmoid函数图像\n",
    "import numpy as np\n",
    "import matplotlib.pyplot as plt\n",
    "\n",
    "def sigmoid(z):\n",
    "    return 1 / (1 + np.exp(-z))\n",
    " \n",
    "z = np.arange(-10, 10, 0.1)\n",
    "phi_z = sigmoid(z)\n",
    "\n",
    "plt.plot(z, phi_z)\n",
    "plt.axvline(0.0, color='k') # 在x=0处画一条垂直的线\n",
    "plt.axhspan(0.0, 1.0, facecolor='1.0', edgecolor='k', ls='dashed') # 在y=0和y=1处画一条水平的虚线\n",
    "plt.axhline(y=0.5, ls='dashed', color='k') # 在y=0.5处画一条水平的虚线\n",
    "plt.yticks([0.0, 0.5, 1.0]) # 设置y轴的刻度\n",
    "plt.ylim(-0.1, 1.1) # 设置y轴的范围\n",
    "plt.xlabel('z')\n",
    "plt.ylabel('sigmoid (z)')\n",
    "plt.show()"
   ]
  },
  {
   "cell_type": "markdown",
   "metadata": {},
   "source": [
    "## 5.2 Some Notations"
   ]
  },
  {
   "cell_type": "markdown",
   "metadata": {},
   "source": [
    "在本小节，我们将主要讨论一个**二元分类问题**，采用**linear classifier**. \n",
    "\n",
    "记标签为$y\\in \\{-1,1\\}$，相关特征为$x$，模型参数为$\\omega, \\beta$，构建的拟合模型为:\n",
    "$$ h_{\\omega, b}(x) = g(\\omega^Tx + b)$$\n",
    "其中$g(z) = \\text{sign}(z)$，即$g(z) = 1$ if $z\\geq 0$，$g(z) = -1$ if $z<0$."
   ]
  },
  {
   "cell_type": "markdown",
   "metadata": {},
   "source": [
    "## 5.3 Functional & Geometic Margins"
   ]
  },
  {
   "cell_type": "markdown",
   "metadata": {},
   "source": [
    "### a. Functional Margin $\\gamma$"
   ]
  },
  {
   "cell_type": "markdown",
   "metadata": {},
   "source": [
    "#### Functional Margin 作用 ：\n",
    "\n",
    "度量预测的*正确性*与*置信度*。具体而言，Func Margin为正说明预测正确，其绝对值越大说明预测越置信。\n",
    "\n",
    "> 注：其实由下面的构造形式可知，正的Func Margin意味着$y^{(i)}$和$\\omega^Tx^{(i)}$同号，即预测正确。\n",
    "\n",
    "#### Functional Margin 定义公式：\n",
    "  \n",
    "  $$\\hat{\\gamma}^{(i)} = y^{(i)}(\\omega^Tx^{(i)} + b)$$\n",
    "\n",
    "#### Functional Margin 存在的问题\n",
    "\n",
    "缺少normalization。同倍改变$\\omega$和$b$，Func Margin会变大，但并不会改变实际的决策边界提高预测效果。\n",
    "\n",
    "#### 训练集的Functional Margin\n",
    "\n",
    "给定训练集$S = \\{(x^{(i)}, y^{(i)}); i = 1, ..., m\\}$，则训练集的Func Margin（记为$\\hat\\gamma$）为所有样本的Func Margin的最小值，即\n",
    "\n",
    "$$\\hat\\gamma = \\min_{i=1, ..., m} \\hat\\gamma^{(i)}$$\n",
    "\n"
   ]
  },
  {
   "cell_type": "markdown",
   "metadata": {},
   "source": [
    "### b. Geometric Margin $\\hat\\gamma$"
   ]
  },
  {
   "cell_type": "markdown",
   "metadata": {},
   "source": [
    "现给出如图所示的决策边界$\\omega^Tx+b=0$：\n",
    "\n",
    "![](https://michael-1313341240.cos.ap-shanghai.myqcloud.com/202308131632970.png)\n",
    "\n",
    "在上图中，我们可以给出如下事实陈述：\n",
    "\n",
    "- 由解析几何知识可知，向量$\\omega$定与超平面$\\omega^Tx+b=0$垂直（正交），即$\\omega$是超平面的法向量\n",
    "- 记$A$为$y^{(i)}=1$的一样本点（其坐标可表示为向量$x^{(i)}$），则A到决策边界的距离为垂线段$AB$，记之为$\\gamma^{(i)}$."
   ]
  },
  {
   "cell_type": "markdown",
   "metadata": {},
   "source": [
    "**下面具体求解$\\gamma^{(i)}$**\n",
    "\n",
    "求解思路：我们已知 *(1) AB垂直于超平面; (2) B位于超平面$\\omega^Txb=0$上; (3)$\\omega$是超平面的一个法向量*。 因此我们可以求解B的坐标，通过 **B落在超平面上** 这一事实构造等式求解方程。\n",
    "\n",
    "具体而言，B的坐标等于*A的坐标沿着法向量方向回退$\\gamma^{(i)}$个长度的距离*，因此我们有：\n",
    "$$ \\omega^T(x^{(i)}-\\gamma^{(i)}\\frac{\\omega}{||\\omega||})+b=0$$\n",
    "\n",
    "通过求解上述方程，即可求得：\n",
    "$$\n",
    "\\gamma^{(i)}=\\frac{w^T x^{(i)}+b}{\\|w\\|}=\\left(\\frac{w}{\\|w\\|}\\right)^T x^{(i)}+\\frac{b}{\\|w\\|}\n",
    "$$\n",
    "\n",
    "更一般地，考虑到正负样本的不同，更一般的公式为：\n",
    "$$ \\gamma^{(i)}=y^{(i)}\\left(\\left(\\frac{w}{\\|w\\|}\\right)^T x^{(i)}+\\frac{b}{\\|w\\|}\\right)$$\n"
   ]
  },
  {
   "cell_type": "markdown",
   "metadata": {},
   "source": [
    "**说明：**\n",
    "1. 当$||\\omega|| =1$时，Geometric Margin 等价于 Functional Margin\n",
    "2. 由于进行了正则化，Geo Margin杜绝了Func Margin存在的缩放问题"
   ]
  },
  {
   "cell_type": "markdown",
   "metadata": {},
   "source": [
    "同理，定义训练集（$S = \\{(x^{(i)}, y^{(i)}); i = 1, \\dots, m\\}$）的geometric margin：\n",
    "$$\\gamma = \\min_{i=1,\\dots,m} \\hat{\\gamma}^{(i)}$$\n",
    "\n"
   ]
  },
  {
   "cell_type": "markdown",
   "metadata": {},
   "source": [
    "## 5.4 Optimal Margin Classifier"
   ]
  },
  {
   "cell_type": "markdown",
   "metadata": {},
   "source": [
    "朴素地，我们希望得到的分割平面尽可能使得上文的margin $\\gamma$足够大，下面就是要量化这一想法。\n",
    "\n",
    "在本节的讨论中，我们都假设数据集是**线性可分的（linearly separable）**，即存在一些超平面可以将正负样本完全分开。"
   ]
  },
  {
   "cell_type": "markdown",
   "metadata": {},
   "source": [
    "### 朴素的优化问题\n",
    "\n",
    "上述的想法可以概括为如下优化问题：\n",
    "\n",
    "$$ \\begin{align*} \\max_{\\gamma, \\omega, b} \\quad &\\gamma \\\\\n",
    "\\text{s.t. } \\quad &y^{(i)}(\\omega^Tx^{(i)} + b) \\geq \\gamma, \\quad i = 1, \\ldots, m \\\\ \n",
    "&||\\omega|| = 1 \\end{align*} $$\n",
    "\n",
    "即，希望能够最大化$\\gamma$，同时满足所有的训练样本的*func. margin*都至少为$\\gamma$。同时参见5.3的讨论可知，$||\\omega|| = 1$使得* geo. margin *等价于* func. margin*。\n",
    "\n",
    "然而上述内容是***非凸优化*** 的，因此下给出一个等价的凸优化问题。"
   ]
  },
  {
   "cell_type": "markdown",
   "metadata": {},
   "source": [
    "### 改进的优化问题"
   ]
  },
  {
   "cell_type": "markdown",
   "metadata": {},
   "source": [
    "归根到底我们希望得到的是Geo Margin最大的分类器，因此通过下列方式去掉非凸部分$||\\omega||=1$：\n",
    "\n",
    "$$ \\begin{align*} \\max_{\\hat\\gamma, \\omega, b} \\quad &\\frac{\\hat\\gamma}{||\\omega||} \\\\\n",
    "\\text{s.t. } \\quad &y^{(i)}(\\omega^Tx^{(i)} + b) \\geq \\hat\\gamma, \\quad i = 1, \\ldots, m \\end{align*} $$\n",
    "\n",
    "然而这里的目标函数$\\frac{\\hat\\gamma}{||\\omega||}$依然是非凸的(sad)"
   ]
  },
  {
   "cell_type": "markdown",
   "metadata": {},
   "source": [
    "### 最终的凸优化问题"
   ]
  },
  {
   "cell_type": "markdown",
   "metadata": {},
   "source": [
    "最终我们得到的凸优化问题如下所示（这里我们先给出具体形式再解释其原理）：\n",
    "$$\n",
    "\\begin{align}\n",
    "\\min_{\\gamma,\\omega,b} \\quad & \\frac{1}{2}||\\omega||^2 \\\\\n",
    "\\text{s.t.} \\quad & y^{(i)}(\\omega^Tx^{(i)}+b) \\geq 1, \\quad i=1,\\cdots,m\n",
    "\\end{align}\n",
    "$$"
   ]
  },
  {
   "cell_type": "markdown",
   "metadata": {},
   "source": [
    "- 首先我们可以规定$\\hat\\gamma = 1$，则原始优化问题可以转化为$\\max \\{1/||\\omega||\\}$\n",
    "\n",
    "    这是因为正如前文在介绍func. margin时所说，我们可以通过任意成倍地更改$\\omega, b$的值来改变func. margin的值，而这不会影响到我们的最优化问题的解。\n",
    "\n",
    "- 其次，我们可以将$\\max \\{1/||\\omega||\\}$转化为$\\min \\{||\\omega||^2\\}$，这是显然的"
   ]
  },
  {
   "cell_type": "markdown",
   "metadata": {},
   "source": [
    "通过上述变换最终得到的优化问题是凸优化可解的。这里的优化解即为**optimal margin classifier**."
   ]
  },
  {
   "cell_type": "markdown",
   "metadata": {},
   "source": [
    "## 5.5 Lagrange Duality 拉格朗日对偶"
   ]
  },
  {
   "cell_type": "markdown",
   "metadata": {},
   "source": [
    "[bilibili: “拉格朗日对偶问题”如何直观理解？“KKT条件” “Slater条件” “凸优化”打包理解](https://www.bilibili.com/video/BV1HP4y1Y79e/?share_source=copy_web&vd_source=9471c7cd3fca9ffedd9167aefed57c6d)"
   ]
  },
  {
   "cell_type": "markdown",
   "metadata": {},
   "source": [
    "### Intro: Lagrange Multiplier"
   ]
  },
  {
   "cell_type": "markdown",
   "metadata": {},
   "source": [
    "考虑如下形式的优化问题：\n",
    "$$\\begin{aligned}\n",
    "\\min_{w} &\\quad f(w) \\\\\n",
    "\\text{s.t.} &\\quad h_i(w) = 0, \\quad i = 1, \\ldots, l \n",
    "\\end{aligned}$$\n",
    "\n",
    "上述的优化问题可以通过**拉格朗日乘子法**来求解。\n",
    "\n",
    "\n",
    "具体地，我们可以得到*Lagarangian*：\n",
    "$$ \\mathcal{L(w,\\beta)}= f(w) + \\sum_{i=1}^l \\beta_i h_i (w)$$\n",
    "其中一系列引入的参数$\\beta_i$称为拉格朗日乘子 *(Lagrange multipliers)* .\n",
    "\n",
    "通过求解下列方程组求解Lagrange Mult.：\n",
    "$$ \\partial\\mathcal{L}/\\partial w = 0; \\quad \\partial\\mathcal{L}/\\partial \\beta_i = 0$$"
   ]
  },
  {
   "cell_type": "markdown",
   "metadata": {},
   "source": [
    "### Primal Optimization Problem"
   ]
  },
  {
   "cell_type": "markdown",
   "metadata": {},
   "source": [
    "这里我们需要把上面的Lagrange Mult进行推广，考虑**约束条件中存在不等式**的情况（我们称这种优化问题为 ***primal optimization problem（原始问题）*** 。用数学语言表示为：\n",
    "$$ \\begin{align}\n",
    "\\min_{w} \\quad & f(w) \\\\\n",
    "\\text{s.t.} \\quad & g_i(w) \\leq 0, \\quad i = 1, \\cdots, k\n",
    "\\\\& h_i(w) = 0, \\quad i = 1, \\cdots, l\n",
    "\\end{align} $$\n",
    "\n",
    "$\\diamond$"
   ]
  },
  {
   "cell_type": "markdown",
   "metadata": {},
   "source": [
    "因此引入***Generalized Lagrangian***，即\n",
    "$$\n",
    "\\mathcal{L}(w,\\alpha,\\beta) = f(w) + \\sum_{i=1}^k \\alpha_i g_i(w) + \\sum_{i=1}^l\\beta_i h_i(w)\n",
    "$$\n",
    "\n",
    "其中$\\alpha_i$和$\\beta_i$是拉格朗日乘子.\n",
    "\n",
    "$\\diamond$"
   ]
  },
  {
   "cell_type": "markdown",
   "metadata": {},
   "source": [
    "**另外定义$\\theta_{\\mathcal{P}}$** *(primal)*\n",
    "$$ \\theta_{\\mathcal{P}}(w) = \\max_{\\alpha,\\beta \\textit{ s.t. } \\alpha_i\\ge 0} \\mathcal{L(w,\\alpha,\\beta)} \\quad\\dagger$$\n"
   ]
  },
  {
   "cell_type": "markdown",
   "metadata": {},
   "source": [
    "可以证明,当存在违反约束（式(2)/(3)）中的条件时，$\\theta_{\\mathcal{P}} \\to \\infty$ （即令 $\\mathcal{L}$ 中违反条件的项前的系数$\\alpha / \\beta \\to \\infty$即可）；相反地，若全部满足约束，则$\\theta_{\\mathcal{P}} = f(w)$，即：\n",
    "$$\n",
    "\\theta_{\\mathcal{P}}(w)= \\begin{cases}f(w) & \\text { if } w \\text { satisfies primal constraints } \\\\ \\infty & \\text { otherwise. }\\end{cases}\n",
    "$$\n",
    "\n",
    "$\\diamond$"
   ]
  },
  {
   "cell_type": "markdown",
   "metadata": {},
   "source": [
    "因此，通过$\\theta_{\\mathcal{P}}$，我们就可以将*primal problem*的（1）～（3）式加以概括。\n",
    "\n",
    "式（1）描述的问题是：$\\min_{w}f(w)$，在满足约束时，就等价于$\\min_w\\theta_{\\mathcal{P}}(w,b)$，再代入式$(\\dagger)$有：\n",
    "$$\\min_w\\theta_{\\mathcal{P}}(w,b)=\\min_w\\max_{\\alpha,\\beta: \\alpha_i\\geq0} \\mathcal{L}(w,\\alpha,\\beta)\\quad \\star$$\n",
    "\n",
    "而这一优化问题与primal problem是完全等价的，且具有相同的解。为方便起见，我们记$p^* := \\min_w\\theta_{\\mathcal{P}}(w)$，称$p^*$为 ***primal optimal value***。\n",
    "\n",
    "$\\diamond$"
   ]
  },
  {
   "cell_type": "markdown",
   "metadata": {},
   "source": [
    "### Dual Optimization Problem"
   ]
  },
  {
   "cell_type": "markdown",
   "metadata": {},
   "source": [
    "> **理解：** 对偶是实质相同但从不同角度提出不同提法的一对问题。有时候原问题 (Primal Problem) 不太好解，但是对偶问题 (Dual Problem) 却很好解，我们就可以通过求解对偶问题来迂回地解答原问题。"
   ]
  },
  {
   "cell_type": "markdown",
   "metadata": {},
   "source": [
    "类似地**定义Lagrange 对偶函数$\\theta_{\\mathcal{D}}$** *(dual)*：\n",
    "$$\\theta_{\\mathcal{D}}(\\alpha,\\beta) = \\min_{w} \\mathcal{L}(w,\\alpha,\\beta) ,\\alpha\\ge0    \\quad \\dagger^2$$ \n",
    "\n",
    "*注意，$\\theta_{\\mathcal{D}}$和$\\theta_{\\mathcal{P}}$的区别在于：$\\theta_{\\mathcal{D}}$是关于$\\alpha$和$\\beta$的优化函数，而$\\theta_{\\mathcal{P}}$是关于$w$的优化函数。*\n",
    "\n",
    "另外可以证明，无论原问题函数$\\theta_{\\mathcal{P}}$的凹凸性，恒有对偶函数$\\theta_{\\mathcal{D}}$是一个凹函数.\n",
    "\n",
    "> 凹函数：$ f(\\theta x_1 + (1-\\theta)x_2) \\ge \\theta f(x_1) + (1-\\theta)f(x_2) $\n",
    "\n",
    "$\\diamond$"
   ]
  },
  {
   "cell_type": "markdown",
   "metadata": {},
   "source": [
    "顺势，我们引入***dual optimization problem***:\n",
    "$$ \\max \\limits_{\\alpha,\\beta:\\alpha_i\\ge0} \\theta_{\\mathcal{D}}(\\alpha,\\beta) = \\max\\limits_{\\alpha,\\beta:\\alpha_i\\ge0} \\min_w \\mathcal{L}(w,\\alpha,\\beta) \\quad \\star\\star$$\n",
    "\n",
    "并同理记之为$d^*$。\n",
    "\n",
    "注意到，$p^*$与$d^*$的唯一区别是二者$\\min,\\max$的顺序不同。\n",
    "\n",
    "\n",
    "$\\diamond$"
   ]
  },
  {
   "cell_type": "markdown",
   "metadata": {},
   "source": [
    "### 强、弱对偶条件\n",
    "\n",
    "#### a. 弱对偶\n",
    "\n",
    "在任何条件下，可以证明下列不等关系是恒成立的：\n",
    "$$d^* = \\max_{\\alpha,\\beta:\\alpha_i\\ge0} \\min_w L(w,\\alpha,\\beta) \\le \\min_w \\max_{\\alpha,\\beta:\\alpha_i\\ge0} L(w,\\alpha,\\beta) = p^*$$\n",
    "\n",
    "记$p^*-d^*$为duality gap.\n",
    "\n",
    "#### b. 强对偶\n",
    "\n",
    "而在一些*特定条件*下，该不等式取等，即\n",
    "$$d^* = p^*$$\n",
    "在这些条件下，我们就可以通过求解对偶问题来求解原始问题。\n",
    "\n",
    "##### b-1 强对偶条件（1）: Slater's condition （充要条件）\n",
    "\n",
    "- $f, g_i$是凸函数\n",
    "- $h_i$是仿射函数\n",
    "  - 仿射函数: $h_i(w) = a_i^Tw + b_i$\n",
    "- $g_i$是strictly feasible的\n",
    "  - strictly feasible: $\\exist w, \\textit{ s.t. } \\forall i, g_i(w) < 0$\n",
    "\n",
    "此时，则$\\exist w^*, \\alpha^*, \\beta^*$，使得 $w^*$是primal problem的解，$\\alpha^*, \\beta^*$是dual problem的解，且$p^* = d^*=\\mathcal{L}(w^*,\\alpha^*,\\beta^*)$。\n",
    "\n",
    "##### b-2 强对偶条件（2）: KKT条件（充要条件）必要条件\n",
    "\n",
    "此外，还有KKT条件，即\n",
    "$$\n",
    "\\begin{align}\n",
    "\\frac{\\partial}{\\partial w_i} \\mathcal{L}\\left(w^*, \\alpha^*, \\beta^*\\right) & =0, \\quad i=1, \\ldots, n \\\\\n",
    "\\frac{\\partial}{\\partial \\beta_i} \\mathcal{L}\\left(w^*, \\alpha^*, \\beta^*\\right) & =0, \\quad i=1, \\ldots, l \\\\\n",
    "\\alpha_i^* g_i\\left(w^*\\right) & =0, \\quad i=1, \\ldots, k \\\\\n",
    "g_i\\left(w^*\\right) & \\leq 0, \\quad i=1, \\ldots, k \\\\\n",
    "\\alpha^* & \\geq 0, \\quad i=1, \\ldots, k\n",
    "\\end{align}\n",
    "$$\n",
    "\n",
    "其中，称等式（3）为***dual complementarity***条件，其含义为：若$\\alpha_i^*>0$，则$g_i(w^*)=0$. \n",
    "\n",
    "通过后面的描述可见，SVM只需要少量的*support vectors*."
   ]
  },
  {
   "cell_type": "markdown",
   "metadata": {},
   "source": [
    "## 5.6 Optimal Margin Classifiers"
   ]
  },
  {
   "cell_type": "markdown",
   "metadata": {},
   "source": [
    "回忆，在*Optimal Margin Classifiers*中，我们考虑如下优化问题：\n",
    "\n",
    "$$\\begin{aligned}\n",
    "\\min_{\\gamma, w, b} \\quad & \\frac{1}{2} \\|w\\|^2 \\\\\n",
    "\\text{s.t.} \\quad & g_i(w) = -y^{(i)}(w^Tx^{(i)} + b) + 1 \\leq 0, \\quad i = 1, \\ldots, m\n",
    "\\end{aligned}$$\n",
    "\n",
    "由上文KKT条件中的 *(3)dual complementarity* 条件可知，只有那些满足 $g_i(w) = 0$ 的样本才会对最优解有贡献（贡献体现在$a_i>0$）。而这里的 $g_i(w)=-y^{(i)}(w^Tx^{(i)} + b) + 1$表示恰好落在margin上的样本，即支持向量。\n",
    "\n",
    "具体参见下图：\n",
    "\n",
    "![](https://michael-1313341240.cos.ap-shanghai.myqcloud.com/202308151603962.png)\n",
    "\n",
    "图中实线表示的是决策边界，虚线表示的是margin。我们可以看到，只有在虚线上的一个x和两个o样本是对边际有贡献的，称为***support vectors***\n",
    "\n",
    "$\\diamond$"
   ]
  },
  {
   "cell_type": "markdown",
   "metadata": {},
   "source": [
    "我们由此往下，尝试通过对偶问题解决原问题。\n",
    "\n",
    "首先引入向量内积符号：$ \\langle x, y \\rangle = x^T y $\n",
    "\n",
    "我们目前需要解决的optimal margin classifier的优化问题是：\n",
    "$$ \\begin{align*}\n",
    "\\mathcal{L}(w,b,\\alpha) = \\frac12 ||w||^2 - \\sum_{i=1}^m \\alpha_i \\left( y^{(i)} (w^T x^{(i)} + b) - 1 \\right)\n",
    "\\end{align*} \\quad [\\dagger] $$\n",
    "\n",
    "回忆：\n",
    "$$\\theta_{\\mathcal{D}}(\\alpha,\\beta) = \\min_{w} \\mathcal{L}(w,\\alpha,\\beta) ,\\alpha\\ge0 $$ \n",
    "\n",
    "因此我们分别对$w$和$b$求偏导，令其为0，得到：\n",
    "$$ \\begin{align}\n",
    "\\nabla_w \\mathcal{L}(w,b,\\alpha) &= w - \\sum_{i=1}^m \\alpha_i y^{(i)} x^{(i)} = 0 \\\\\n",
    "\\nabla_b \\mathcal{L}(w,b,\\alpha) &= \\sum_{i=1}^m \\alpha_i y^{(i)} = 0\n",
    "\\end{align} $$\n",
    "\n",
    "由(1) 解得：\n",
    "$$w = \\sum_{i=1}^m \\alpha_i y^{(i)} x^{(i)} \\quad [\\ast]$$\n",
    "\n",
    "直观的理解，这里的含义是指参数$w$一定是原始的训练集的线性组合。一个直觉的理解可以回忆线性回归中$\\hat\\beta = (X^T X)^{-1} X^T y$\n",
    "\n",
    "将这里的$w$代入$[\\dagger]$并化简，得到\n",
    "$$\\begin{align*}\n",
    "\\mathcal{L}(w,b,\\alpha) &= \\sum_{i=1}^m \\alpha_i - \\frac12 \\sum_{i,j=1}^m \\alpha_i \\alpha_j y^{(i)} y^{(j)} \\langle x^{(i)}, x^{(j)} \\rangle - b\\sum_{i=1}^m \\alpha_i y^{(i)} \\\\ \n",
    "&= \\sum_{i=1}^m \\alpha_i - \\frac12 \\sum_{i,j=1}^m \\alpha_i \\alpha_j y^{(i)} y^{(j)} \\langle x^{(i)}, x^{(j)} \\rangle  \\textit{ (by eqn. (2)) } \\\\\n",
    "\\end{align*}$$\n"
   ]
  },
  {
   "cell_type": "markdown",
   "metadata": {},
   "source": [
    "最终可以得到如下的对偶问题 **(Dual Optimizatoin Problem of SVM)**：\n",
    "\n",
    "$$\\begin{align*}\n",
    "\\max_{\\alpha} \\quad & W(\\alpha) = \\sum_{i=1}^m \\alpha_i - \\frac{1}{2} \\sum_{i,j=1}^m y^{(i)} y^{(j)} \\alpha_i \\alpha_j \\langle x^{(i)}, x^{(j)} \\rangle \\\\\n",
    "\\text{s.t.} \\quad & \\alpha_i \\geq 0, \\quad i = 1, \\ldots, m \\\\\n",
    "& \\sum_{i=1}^m \\alpha_i y^{(i)} = 0\n",
    "\\end{align*}$$\n",
    "\n",
    "可验证，本对偶问题符合KKT条件。"
   ]
  },
  {
   "cell_type": "markdown",
   "metadata": {},
   "source": [
    "**预测过程**\n",
    "1. 求解 $a_i, b$\n",
    "2. 预测$h_{w,b}(x)=g(w^Tx+b) = g((\\sum_i a_i y^{(i)} x^{(i)})^Tx+b)=g(\\sum_i\\alpha_iy^{(i)}\\langle x^{(i)},x\\rangle+b)$"
   ]
  },
  {
   "cell_type": "markdown",
   "metadata": {},
   "source": [
    "## 5.7 Kernels 核方法"
   ]
  },
  {
   "cell_type": "markdown",
   "metadata": {},
   "source": [
    "### Kernel Methods 思路\n",
    "\n",
    "**(1) 将算法写作含$\\langle x^{(i)},x^{(j)}\\rangle \\textit{( or note as } \\langle x,z\\rangle \\textit{) }$的形式**\n",
    "\n",
    "**(2) 映射 $x_\\textit{ (low dim)} \\rightarrow \\phi(x) _\\textit{ (high dim)}$**\n",
    "\n",
    "**(3) 寻找容易可行的计算$K(x,z) = \\phi(x)^T\\phi(z)$的方法**\n",
    "\n",
    "**(4) 讲上述算法中的$\\langle x,z\\rangle$替换为$K(x,z)$**"
   ]
  },
  {
   "cell_type": "markdown",
   "metadata": {},
   "source": [
    "### 例子"
   ]
  },
  {
   "cell_type": "markdown",
   "metadata": {},
   "source": [
    "假设$x,z\\in\\mathbb{R}^n$\n",
    "\n",
    "在本例中，假设有三个特征$x_1,...,x_3$，以及映射函数：\n",
    "$$ \\phi(x) = [x_1x_1, x_1x_2,x_1x_3,...,x_3x_3]^T $$\n",
    "需要指出，正常直接计算$\\phi(x)$ （或$\\phi(x)^T\\phi(z)$）需要$O(n^2)$的时间\n",
    "\n",
    "$\\diamond$\n",
    "\n",
    "为化简计算，考虑如下核方法：\n",
    "$$ K(x,z) = \\phi(x)^T\\phi(z) =^{?} (x^Tz)^2 = ... = \\sum_{i,j=1}^n (x_ix_j)(z_iz_j) $$\n",
    "这个核方法的计算复杂度为$O(n)$\n",
    "\n",
    "可以通过单纯的代数运算证明，[?]处等式在给定映射关系$\\phi$后是可以直接推出的。\n",
    "\n",
    "$\\diamond$\n",
    "\n",
    "\n"
   ]
  },
  {
   "cell_type": "markdown",
   "metadata": {},
   "source": [
    "再考虑另外一种核方法：\n",
    "\n",
    "$$\\begin{align*}\n",
    "K(x,z) &= (x^Tz+c)^2\\\\\n",
    "&= \\sum \\limits_{i,j=1}^n (x_ix_j)(z_i z_j) + \\sum \\limits_{i=1}^n (\\sqrt{2c}x_i)(\\sqrt{2c}z_i) + c^2\n",
    "\\end{align*}$$"
   ]
  }
 ],
 "metadata": {
  "kernelspec": {
   "display_name": "base",
   "language": "python",
   "name": "python3"
  },
  "language_info": {
   "codemirror_mode": {
    "name": "ipython",
    "version": 3
   },
   "file_extension": ".py",
   "mimetype": "text/x-python",
   "name": "python",
   "nbconvert_exporter": "python",
   "pygments_lexer": "ipython3",
   "version": "3.9.12"
  },
  "orig_nbformat": 4
 },
 "nbformat": 4,
 "nbformat_minor": 2
}
