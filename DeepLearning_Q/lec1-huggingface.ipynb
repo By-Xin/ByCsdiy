{
 "cells": [
  {
   "cell_type": "markdown",
   "id": "d4a3fc58",
   "metadata": {},
   "source": [
    "## 实验：Huggingface Transformer & Diffusion"
   ]
  },
  {
   "cell_type": "markdown",
   "id": "28e37bc2",
   "metadata": {},
   "source": [
    "#### 准备工作"
   ]
  },
  {
   "cell_type": "markdown",
   "id": "95de6d41",
   "metadata": {},
   "source": [
    "1. 创建虚拟环境：\n",
    "\n",
    "```\n",
    "conda create -n huggingface\n",
    "conda activate huggingface\n",
    "conda install python=3.11 notebook ipywidgets\n",
    "```\n",
    "\n",
    "2. 设置 Pip 软件源，加快下载速度：\n",
    "\n",
    "```\n",
    "pip config set global.index-url https://mirrors.bfsu.edu.cn/pypi/web/simple\n",
    "```\n",
    "\n",
    "2. 根据硬件选择合适的 PyTorch 版本（二选一）：\n",
    "\n",
    "- 选项1：CPU 版 PyTorch\n",
    "\n",
    "```\n",
    "pip3 install torch torchvision\n",
    "```\n",
    "\n",
    "- 选项2：GPU 版 PyTorch\n",
    "\n",
    "```\n",
    "pip3 install torch torchvision --index-url https://download.pytorch.org/whl/cu118\n",
    "```\n",
    "\n",
    "3. 安装 Huggingface 相关软件库：\n",
    "\n",
    "```\n",
    "pip install diffusers[\"torch\"] transformers huggingface_hub\n",
    "```"
   ]
  },
  {
   "cell_type": "markdown",
   "id": "c94958b5",
   "metadata": {},
   "source": [
    "#### 开始实验！"
   ]
  },
  {
   "cell_type": "markdown",
   "id": "941d5b86",
   "metadata": {},
   "source": [
    "情感分析："
   ]
  },
  {
   "cell_type": "code",
   "execution_count": null,
   "id": "192a04b6",
   "metadata": {},
   "outputs": [],
   "source": [
    "from transformers import pipeline\n",
    "pipe = pipeline(task = \"text-classification\")"
   ]
  },
  {
   "cell_type": "code",
   "execution_count": null,
   "id": "73dcdb48",
   "metadata": {
    "scrolled": true
   },
   "outputs": [],
   "source": [
    "pipe(\"Professor Qiu is very strict.\")"
   ]
  },
  {
   "cell_type": "code",
   "execution_count": null,
   "id": "976a63be",
   "metadata": {},
   "outputs": [],
   "source": [
    "pipe(\"There is a new coffee shop on campus.\")"
   ]
  },
  {
   "cell_type": "code",
   "execution_count": null,
   "id": "2af49ae2",
   "metadata": {},
   "outputs": [],
   "source": [
    "pipe(\"There is a new coffee shop on campus. The drinks there taste not bad.\")"
   ]
  },
  {
   "cell_type": "code",
   "execution_count": null,
   "id": "07a99b9e",
   "metadata": {},
   "outputs": [],
   "source": [
    "pipe(\"There is a new coffee shop on campus. I will never go there again.\")"
   ]
  },
  {
   "cell_type": "markdown",
   "id": "4668317b",
   "metadata": {},
   "source": [
    "填词："
   ]
  },
  {
   "cell_type": "code",
   "execution_count": null,
   "id": "332904ef",
   "metadata": {
    "scrolled": false
   },
   "outputs": [],
   "source": [
    "fill_masker = pipeline(task = \"fill-mask\", model = \"ethanyt/guwenbert-base\")"
   ]
  },
  {
   "cell_type": "code",
   "execution_count": null,
   "id": "fe1f2710",
   "metadata": {
    "scrolled": true
   },
   "outputs": [],
   "source": [
    "output = fill_masker(\"帘外雨潺潺，春意阑珊。罗[MASK]不耐五更寒。\")\n",
    "list(map(lambda x : (x[\"token_str\"], x[\"score\"]), output))"
   ]
  },
  {
   "cell_type": "markdown",
   "id": "8ac7a532",
   "metadata": {},
   "source": [
    "文生图（CPU 版，可能会非常慢）："
   ]
  },
  {
   "cell_type": "code",
   "execution_count": null,
   "id": "a3b5b4fb",
   "metadata": {
    "scrolled": false
   },
   "outputs": [],
   "source": [
    "import torch\n",
    "from diffusers import StableDiffusionPipeline\n",
    "pipe = StableDiffusionPipeline.from_pretrained(\n",
    "    \"runwayml/stable-diffusion-v1-5\",\n",
    "    torch_dtype=torch.float32\n",
    ")"
   ]
  },
  {
   "cell_type": "markdown",
   "id": "f409e2f4",
   "metadata": {},
   "source": [
    "第一次运行时代码会下载模型文件，如果出现连接问题，可以用如下命令手动下载（该命令会下载所有版本的模型文件，非常大，如果不需要完整版可以去往 https://aliendao.cn/models/runwayml/stable-diffusion-v1-5 手动下载）：\n",
    "\n",
    "```\n",
    "python model_download.py --repo_id runwayml/stable-diffusion-v1-5 --mirror\n",
    "```\n",
    "\n",
    "然后加载本地模型文件：\n",
    "\n",
    "```python\n",
    "import torch\n",
    "from diffusers import StableDiffusionPipeline\n",
    "pipe = StableDiffusionPipeline.from_pretrained(\n",
    "    \"./dataroot/models/runwayml/stable-diffusion-v1-5\",\n",
    "    torch_dtype=torch.float32\n",
    ")\n",
    "```"
   ]
  },
  {
   "cell_type": "code",
   "execution_count": null,
   "id": "f0d863af",
   "metadata": {},
   "outputs": [],
   "source": [
    "prompt = \"A blue apple\"\n",
    "pipe.enable_attention_slicing()\n",
    "image = pipe(prompt, num_inference_steps=10).images[0]"
   ]
  },
  {
   "cell_type": "code",
   "execution_count": null,
   "id": "65bb7786",
   "metadata": {},
   "outputs": [],
   "source": [
    "image"
   ]
  },
  {
   "cell_type": "markdown",
   "id": "6ec7aaf2",
   "metadata": {},
   "source": [
    "GPU 版："
   ]
  },
  {
   "cell_type": "code",
   "execution_count": null,
   "id": "0a88d260",
   "metadata": {},
   "outputs": [],
   "source": [
    "import torch\n",
    "from diffusers import StableDiffusionPipeline\n",
    "pipe = StableDiffusionPipeline.from_pretrained(\n",
    "    \"runwayml/stable-diffusion-v1-5\",\n",
    "    torch_dtype=torch.float16\n",
    ")\n",
    "pipe.to(\"cuda\")"
   ]
  },
  {
   "cell_type": "code",
   "execution_count": null,
   "id": "02367eaf",
   "metadata": {},
   "outputs": [],
   "source": [
    "prompt = \"A tree on the moon\"\n",
    "pipe.enable_attention_slicing()\n",
    "image = pipe(prompt, num_inference_steps=50).images[0]"
   ]
  },
  {
   "cell_type": "code",
   "execution_count": null,
   "id": "a5e3ad9f",
   "metadata": {
    "scrolled": true
   },
   "outputs": [],
   "source": [
    "image"
   ]
  },
  {
   "cell_type": "markdown",
   "id": "4e25105e",
   "metadata": {},
   "source": [
    "控制随机数种子："
   ]
  },
  {
   "cell_type": "code",
   "execution_count": null,
   "id": "a15d864f",
   "metadata": {},
   "outputs": [],
   "source": [
    "gen = torch.Generator(device=\"cuda\").manual_seed(123)\n",
    "image = pipe(prompt, generator=gen, num_inference_steps=50).images[0]\n",
    "image"
   ]
  }
 ],
 "metadata": {
  "kernelspec": {
   "display_name": "Python 3 (ipykernel)",
   "language": "python",
   "name": "python3"
  },
  "language_info": {
   "codemirror_mode": {
    "name": "ipython",
    "version": 3
   },
   "file_extension": ".py",
   "mimetype": "text/x-python",
   "name": "python",
   "nbconvert_exporter": "python",
   "pygments_lexer": "ipython3",
   "version": "3.11.4"
  }
 },
 "nbformat": 4,
 "nbformat_minor": 5
}
