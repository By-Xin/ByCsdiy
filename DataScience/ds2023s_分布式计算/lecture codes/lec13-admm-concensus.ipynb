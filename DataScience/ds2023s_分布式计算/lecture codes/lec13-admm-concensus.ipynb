{
 "cells": [
  {
   "cell_type": "markdown",
   "id": "294f54c3",
   "metadata": {},
   "source": [
    "# ADMM 算法"
   ]
  },
  {
   "cell_type": "markdown",
   "id": "7fbf4b67",
   "metadata": {},
   "source": [
    "### 一致性问题"
   ]
  },
  {
   "cell_type": "markdown",
   "id": "87938f5e",
   "metadata": {},
   "source": [
    "假设我们需要求解优化问题\n",
    "$$\n",
    "\\min_{x} \\sum_{i=1}^N f_i(x)+g(x)\n",
    "$$\n",
    "其中 $g(\\cdot)$ 是一个全局的正则项。一个典型的例子是 Lasso\n",
    "$$\n",
    "\\frac{1}{2}\\Vert Ax-b\\Vert^2+\\lambda \\Vert x\\Vert_1.\n",
    "$$"
   ]
  },
  {
   "cell_type": "markdown",
   "id": "abb2fb3a",
   "metadata": {},
   "source": [
    "它可以转化成 ADMM 一致性问题\n",
    "$$\\begin{align*}\n",
    "\\min_{x_1,\\ldots,x_N,z}\\  & f_i(x_i)+g(z)\\\\\n",
    "\\mathrm{s.t.}\\  & x_i=z,i=1,\\ldots,N.\n",
    "\\end{align*}$$"
   ]
  },
  {
   "cell_type": "markdown",
   "id": "975f1368",
   "metadata": {},
   "source": [
    "迭代公式为\n",
    "$$\n",
    "\\begin{align*}\n",
    "x_i^{k+1} & =\\underset{x_i}{\\arg\\min}\\ f_i(x_i)+\\frac{\\rho}{2}\\Vert x_i-z^{k}+u_i^{k}\\Vert^{2}\\\\\n",
    "z^{k+1} & =\\underset{z}{\\arg\\min}\\ g(z)+\\frac{N\\rho}{2}\\Vert z-\\bar{x}^{k+1}-\\bar{u}^{k}\\Vert^{2}\\\\\n",
    "u_i^{k+1} & =u_i^{k}+x_i^{k+1}-z^{k+1}.\n",
    "\\end{align*}\n",
    "$$"
   ]
  },
  {
   "cell_type": "markdown",
   "id": "915ef531",
   "metadata": {},
   "source": [
    "注意其中带下标 $i$ 的更新要对所有 $i=1,\\ldots,N$ 进行。"
   ]
  },
  {
   "cell_type": "markdown",
   "id": "9133019c",
   "metadata": {},
   "source": [
    "总的原问题残差范数为\n",
    "$$\n",
    "\\Vert r^{k+1}\\Vert=\\sqrt{\\sum_{i=1}^N \\Vert x_i^{k+1} - z^{k+1}\\Vert^2},\n",
    "$$"
   ]
  },
  {
   "cell_type": "markdown",
   "id": "5709612c",
   "metadata": {},
   "source": [
    "总的对偶问题残差范数为\n",
    "$$\n",
    "\\Vert s^{k+1}\\Vert=\\rho \\sqrt{N} \\Vert z^{k+1} - z^k\\Vert.\n",
    "$$"
   ]
  },
  {
   "cell_type": "markdown",
   "id": "dd303e5e",
   "metadata": {},
   "source": [
    "### Lasso"
   ]
  },
  {
   "cell_type": "markdown",
   "id": "187e244a",
   "metadata": {},
   "source": [
    "对于 Lasso 问题，假设数据按行分块，\n",
    "\n",
    "$$\n",
    "A_{n\\times p}=\\left[\\begin{array}{c}\n",
    "A_{1}\\in\\mathbb{R}^{n_{1}\\times p}\\\\\n",
    "\\vdots\\\\\n",
    "A_{N}\\in\\mathbb{R}^{n_{N}\\times p}\n",
    "\\end{array}\\right],\\quad b_{n\\times1}=\\left[\\begin{array}{c}\n",
    "b_{1}\\in\\mathbb{R}^{n_{1}}\\\\\n",
    "\\vdots\\\\\n",
    "b_{N}\\in\\mathbb{R}^{n_{N}}\n",
    "\\end{array}\\right].\n",
    "$$"
   ]
  },
  {
   "attachments": {},
   "cell_type": "markdown",
   "id": "c1e2c671",
   "metadata": {},
   "source": [
    "其迭代公式为\n",
    "\n",
    "$$\n",
    "\\begin{align*}\n",
    "x_i^{k+1} & =(A_i'A_i+\\rho I)^{-1}(A_i'b_i+\\rho(z^{k}-u_i^{k}))\\\\\n",
    "z^{k+1} & =S_{\\lambda/(\\rho N)}(\\bar{x}^{k+1}+\\bar{u}^{k})\\\\\n",
    "u_i^{k+1} & =u_i^{k}+x_i^{k+1}-z^{k+1}.\n",
    "\\end{align*}\n",
    "$$"
   ]
  },
  {
   "cell_type": "markdown",
   "id": "71a98268",
   "metadata": {},
   "source": [
    "### PySpark 实现"
   ]
  },
  {
   "cell_type": "code",
   "execution_count": 1,
   "id": "fb556efa",
   "metadata": {},
   "outputs": [],
   "source": [
    "import os\n",
    "import numpy as np\n",
    "np.set_printoptions(linewidth=100)"
   ]
  },
  {
   "cell_type": "markdown",
   "id": "b67ee1cd",
   "metadata": {},
   "source": [
    "先生成模拟数据："
   ]
  },
  {
   "cell_type": "code",
   "execution_count": 2,
   "id": "cc36a5cc",
   "metadata": {},
   "outputs": [],
   "source": [
    "np.random.seed(123)\n",
    "n = 100000\n",
    "p = 100\n",
    "nz = 20\n",
    "A = np.random.normal(size=(n, p))\n",
    "# 真实的 x 只有前20个元素非零，其余均为0\n",
    "xtrue = np.random.normal(size=nz)\n",
    "xtrue = np.concatenate((xtrue, np.zeros(p - nz)))\n",
    "b = A.dot(xtrue) + np.random.normal(size=n)\n",
    "dat = np.hstack((b.reshape(n, 1), A))\n",
    "if not os.path.exists(\"data\"):\n",
    "    os.makedirs(\"data\", exist_ok=True)\n",
    "np.savetxt(\"data/lasso.txt\", dat, fmt=\"%.9f\", delimiter=\"\\t\")"
   ]
  },
  {
   "cell_type": "markdown",
   "id": "2934a18b",
   "metadata": {},
   "source": [
    "配置和启动 PySpark："
   ]
  },
  {
   "cell_type": "code",
   "execution_count": 4,
   "id": "01ad334c",
   "metadata": {},
   "outputs": [
    {
     "name": "stdout",
     "output_type": "stream",
     "text": [
      "23/06/13 12:05:47 WARN Utils: Your hostname, XinBys-MacBook-Air.local resolves to a loopback address: 127.0.0.1; using 172.17.11.190 instead (on interface en0)\n",
      "23/06/13 12:05:47 WARN Utils: Set SPARK_LOCAL_IP if you need to bind to another address\n"
     ]
    },
    {
     "name": "stderr",
     "output_type": "stream",
     "text": [
      "Setting default log level to \"WARN\".\n",
      "To adjust logging level use sc.setLogLevel(newLevel). For SparkR, use setLogLevel(newLevel).\n"
     ]
    },
    {
     "name": "stdout",
     "output_type": "stream",
     "text": [
      "23/06/13 12:05:47 WARN NativeCodeLoader: Unable to load native-hadoop library for your platform... using builtin-java classes where applicable\n",
      "<pyspark.sql.session.SparkSession object at 0x7feb88612b20>\n",
      "<SparkContext master=local[*] appName=ADMM>\n"
     ]
    }
   ],
   "source": [
    "import findspark\n",
    "findspark.init(\"/Users/xinby/Library/Spark\")\n",
    "\n",
    "from pyspark.sql import SparkSession\n",
    "# 本地模式\n",
    "spark = SparkSession.builder.\\\n",
    "    master(\"local[*]\").\\\n",
    "    config(\"spark.executor.memory\", \"2g\").\\\n",
    "    config(\"spark.driver.memory\", \"2g\").\\\n",
    "    appName(\"ADMM\").\\\n",
    "    getOrCreate()\n",
    "sc = spark.sparkContext\n",
    "# sc.setLogLevel(\"ERROR\")\n",
    "print(spark)\n",
    "print(sc)"
   ]
  },
  {
   "cell_type": "markdown",
   "id": "0814eb19",
   "metadata": {},
   "source": [
    "PySpark 读取文件："
   ]
  },
  {
   "cell_type": "code",
   "execution_count": 5,
   "id": "6d6b2a04",
   "metadata": {},
   "outputs": [
    {
     "name": "stderr",
     "output_type": "stream",
     "text": [
      "[Stage 0:>                                                          (0 + 1) / 1]\r"
     ]
    },
    {
     "name": "stdout",
     "output_type": "stream",
     "text": [
      "0.783983964\t-1.085630603\t0.997345447\t0.282978498\t-1.506294714\t-0.57860...\n",
      "7.234829271\t0.642054689\t-1.977887932\t0.712264635\t2.598303927\t-0.024625...\n",
      "1.353003297\t0.703310118\t-0.598105331\t2.200702099\t0.688296930\t-0.006307...\n",
      "-5.014040860\t0.765054846\t-0.828988834\t-0.659151311\t0.611123550\t-0.1440...\n",
      "-4.701729193\t1.534090289\t-0.529914099\t-0.490972283\t-1.309165314\t-0.008...\n"
     ]
    },
    {
     "name": "stderr",
     "output_type": "stream",
     "text": [
      "                                                                                \r"
     ]
    },
    {
     "data": {
      "text/plain": [
       "4"
      ]
     },
     "execution_count": 5,
     "metadata": {},
     "output_type": "execute_result"
    }
   ],
   "source": [
    "file = sc.textFile(\"data/lasso.txt\")\n",
    "\n",
    "# 打印前5行，并将每行字符串截尾\n",
    "text = file.map(lambda x: x[:70] + \"...\").take(5)\n",
    "print(*text, sep=\"\\n\")\n",
    "\n",
    "file.getNumPartitions()"
   ]
  },
  {
   "cell_type": "markdown",
   "id": "85068d51",
   "metadata": {},
   "source": [
    "分区转换："
   ]
  },
  {
   "cell_type": "code",
   "execution_count": 8,
   "id": "f6ee0e4b",
   "metadata": {},
   "outputs": [
    {
     "name": "stderr",
     "output_type": "stream",
     "text": [
      "                                                                                \r"
     ]
    },
    {
     "name": "stdout",
     "output_type": "stream",
     "text": [
      "4\n"
     ]
    },
    {
     "data": {
      "text/plain": [
       "array([[ 0.78398396, -1.0856306 ,  0.99734545, ..., -1.36347154,  0.37940061, -0.37917643],\n",
       "       [ 7.23482927,  0.64205469, -1.97788793, ..., -0.11085072, -0.34126172, -0.21794626],\n",
       "       [ 1.3530033 ,  0.70331012, -0.59810533, ...,  0.41569454,  0.16054442,  0.81976061],\n",
       "       ...,\n",
       "       [-2.66214793, -0.35893791,  1.1753093 , ..., -0.27385503,  0.64362609,  1.25292122],\n",
       "       [-0.45562882,  1.89322323,  0.58039023, ..., -1.07129657,  1.40304602, -0.76660851],\n",
       "       [-8.51940409,  0.27954009, -0.43108834, ...,  0.69615652, -1.01735946, -1.84640876]])"
      ]
     },
     "execution_count": 8,
     "metadata": {},
     "output_type": "execute_result"
    }
   ],
   "source": [
    "# str => np.array\n",
    "def str_to_vec(line):\n",
    "    # 分割字符串\n",
    "    str_vec = line.split(\"\\t\")\n",
    "    # 将每一个元素从字符串变成数值型\n",
    "    num_vec = map(lambda s: float(s), str_vec)\n",
    "    # 创建 Numpy 向量\n",
    "    return np.fromiter(num_vec, dtype=float)\n",
    "\n",
    "# Iter[str] => Iter[matrix]\n",
    "def part_to_mat(iterator):\n",
    "    # Iter[str] => Iter[np.array]\n",
    "    iter_arr = map(str_to_vec, iterator)\n",
    "\n",
    "    # Iter[np.array] => list(np.array)\n",
    "    dat = list(iter_arr)\n",
    "\n",
    "    # list(np.array) => matrix\n",
    "    if len(dat) < 1:  # Test zero iterator\n",
    "        mat = np.array([])\n",
    "    else:\n",
    "        mat = np.vstack(dat)\n",
    "\n",
    "    # matrix => Iter[matrix]\n",
    "    yield mat\n",
    "\n",
    "dat = file.mapPartitions(part_to_mat).filter(lambda x: x.shape[0] > 0)\n",
    "dat.cache()\n",
    "print(dat.count())\n",
    "dat.first()"
   ]
  },
  {
   "cell_type": "markdown",
   "id": "44d6d51d",
   "metadata": {},
   "source": [
    "创建一个新的 RDD，用来存储每个数据分区上的 $x_i$ 和 $u_i$ 变量："
   ]
  },
  {
   "cell_type": "code",
   "execution_count": 7,
   "id": "660671a0",
   "metadata": {
    "scrolled": true
   },
   "outputs": [
    {
     "data": {
      "text/plain": [
       "(array([0., 0., 0., 0., 0., 0., 0., 0., 0., 0., 0., 0., 0., 0., 0., 0., 0., 0., 0., 0., 0., 0., 0.,\n",
       "        0., 0., 0., 0., 0., 0., 0., 0., 0., 0., 0., 0., 0., 0., 0., 0., 0., 0., 0., 0., 0., 0., 0.,\n",
       "        0., 0., 0., 0., 0., 0., 0., 0., 0., 0., 0., 0., 0., 0., 0., 0., 0., 0., 0., 0., 0., 0., 0.,\n",
       "        0., 0., 0., 0., 0., 0., 0., 0., 0., 0., 0., 0., 0., 0., 0., 0., 0., 0., 0., 0., 0., 0., 0.,\n",
       "        0., 0., 0., 0., 0., 0., 0., 0.]),\n",
       " array([0., 0., 0., 0., 0., 0., 0., 0., 0., 0., 0., 0., 0., 0., 0., 0., 0., 0., 0., 0., 0., 0., 0.,\n",
       "        0., 0., 0., 0., 0., 0., 0., 0., 0., 0., 0., 0., 0., 0., 0., 0., 0., 0., 0., 0., 0., 0., 0.,\n",
       "        0., 0., 0., 0., 0., 0., 0., 0., 0., 0., 0., 0., 0., 0., 0., 0., 0., 0., 0., 0., 0., 0., 0.,\n",
       "        0., 0., 0., 0., 0., 0., 0., 0., 0., 0., 0., 0., 0., 0., 0., 0., 0., 0., 0., 0., 0., 0., 0.,\n",
       "        0., 0., 0., 0., 0., 0., 0., 0.]))"
      ]
     },
     "execution_count": 7,
     "metadata": {},
     "output_type": "execute_result"
    }
   ],
   "source": [
    "def create_xu(block_dat):\n",
    "    p = block_dat.shape[1] - 1\n",
    "    xi = np.zeros(p)\n",
    "    ui = np.zeros(p)\n",
    "    return xi, ui\n",
    "\n",
    "params = dat.map(create_xu)\n",
    "params.first()"
   ]
  },
  {
   "cell_type": "markdown",
   "id": "ae3a6fbb",
   "metadata": {},
   "source": [
    "在后续更新中，我们会将数据 RDD（dat）和参数 RDD（params）进行拼接，从而更新参数。"
   ]
  },
  {
   "cell_type": "code",
   "execution_count": 9,
   "id": "2d8d446e",
   "metadata": {
    "scrolled": true
   },
   "outputs": [
    {
     "data": {
      "text/plain": [
       "(array([[ 0.78398396, -1.0856306 ,  0.99734545, ..., -1.36347154,  0.37940061, -0.37917643],\n",
       "        [ 7.23482927,  0.64205469, -1.97788793, ..., -0.11085072, -0.34126172, -0.21794626],\n",
       "        [ 1.3530033 ,  0.70331012, -0.59810533, ...,  0.41569454,  0.16054442,  0.81976061],\n",
       "        ...,\n",
       "        [-2.66214793, -0.35893791,  1.1753093 , ..., -0.27385503,  0.64362609,  1.25292122],\n",
       "        [-0.45562882,  1.89322323,  0.58039023, ..., -1.07129657,  1.40304602, -0.76660851],\n",
       "        [-8.51940409,  0.27954009, -0.43108834, ...,  0.69615652, -1.01735946, -1.84640876]]),\n",
       " (array([0., 0., 0., 0., 0., 0., 0., 0., 0., 0., 0., 0., 0., 0., 0., 0., 0., 0., 0., 0., 0., 0., 0.,\n",
       "         0., 0., 0., 0., 0., 0., 0., 0., 0., 0., 0., 0., 0., 0., 0., 0., 0., 0., 0., 0., 0., 0., 0.,\n",
       "         0., 0., 0., 0., 0., 0., 0., 0., 0., 0., 0., 0., 0., 0., 0., 0., 0., 0., 0., 0., 0., 0., 0.,\n",
       "         0., 0., 0., 0., 0., 0., 0., 0., 0., 0., 0., 0., 0., 0., 0., 0., 0., 0., 0., 0., 0., 0., 0.,\n",
       "         0., 0., 0., 0., 0., 0., 0., 0.]),\n",
       "  array([0., 0., 0., 0., 0., 0., 0., 0., 0., 0., 0., 0., 0., 0., 0., 0., 0., 0., 0., 0., 0., 0., 0.,\n",
       "         0., 0., 0., 0., 0., 0., 0., 0., 0., 0., 0., 0., 0., 0., 0., 0., 0., 0., 0., 0., 0., 0., 0.,\n",
       "         0., 0., 0., 0., 0., 0., 0., 0., 0., 0., 0., 0., 0., 0., 0., 0., 0., 0., 0., 0., 0., 0., 0.,\n",
       "         0., 0., 0., 0., 0., 0., 0., 0., 0., 0., 0., 0., 0., 0., 0., 0., 0., 0., 0., 0., 0., 0., 0.,\n",
       "         0., 0., 0., 0., 0., 0., 0., 0.])))"
      ]
     },
     "execution_count": 9,
     "metadata": {},
     "output_type": "execute_result"
    }
   ],
   "source": [
    "dat.zip(params).first()"
   ]
  },
  {
   "cell_type": "markdown",
   "id": "aad6f29b",
   "metadata": {},
   "source": [
    "在主进程上设定若干变量，包括初始化 $z$："
   ]
  },
  {
   "cell_type": "code",
   "execution_count": 10,
   "id": "60bee50f",
   "metadata": {},
   "outputs": [
    {
     "name": "stdout",
     "output_type": "stream",
     "text": [
      "n = 100000\n",
      "p = 100\n",
      "N = 4\n"
     ]
    }
   ],
   "source": [
    "# 样本量\n",
    "n = dat.map(lambda x: x.shape[0]).reduce(lambda x, y: x + y)\n",
    "print(f\"n = {n}\")\n",
    "\n",
    "# 变量数\n",
    "p = dat.first().shape[1] - 1\n",
    "print(f\"p = {p}\")\n",
    "\n",
    "# 分区数\n",
    "N = dat.count()\n",
    "print(f\"N = {N}\")\n",
    "\n",
    "# rho\n",
    "rho = 10.0\n",
    "\n",
    "# lambda\n",
    "lam = 0.001 * n\n",
    "\n",
    "# z变量\n",
    "z = np.zeros(p)"
   ]
  },
  {
   "attachments": {},
   "cell_type": "markdown",
   "id": "11b6d4a3",
   "metadata": {},
   "source": [
    "更新一次 $x_i$：\n",
    "\n",
    "$$x_i^{k+1} =(A_i'A_i+\\rho I)^{-1}(A_i'b_i+\\rho(z^{k}-u_i^{k}))$$"
   ]
  },
  {
   "cell_type": "code",
   "execution_count": 11,
   "id": "7215d57f",
   "metadata": {
    "scrolled": true
   },
   "outputs": [
    {
     "data": {
      "text/plain": [
       "(array([-5.90814270e-01, -1.11321607e+00,  1.15095752e+00,  6.87063924e-01,  6.40293561e-01,\n",
       "        -1.69374030e+00,  8.71403383e-01, -6.94379736e-01,  1.20866282e+00, -1.75238934e-01,\n",
       "        -5.90611190e-01,  4.51873454e-01,  1.56854930e+00,  9.37139756e-01,  3.30179252e-01,\n",
       "        -6.21776857e-01, -1.68055436e-01,  1.04836673e+00,  9.84804634e-01, -2.24043441e-01,\n",
       "        -1.10207886e-02,  4.74571699e-03,  1.99914358e-02, -3.99392232e-03,  2.99631275e-03,\n",
       "        -3.21884881e-03, -1.00943808e-02, -4.96676839e-03, -4.24626145e-03, -5.95266905e-03,\n",
       "        -3.72556604e-03,  5.14898158e-03, -3.52804213e-03,  5.04132529e-03,  2.25529949e-03,\n",
       "        -1.10746048e-02,  1.45531578e-02, -2.68163609e-03, -8.41348115e-03,  5.02697750e-04,\n",
       "        -4.25471754e-03, -3.12527736e-03,  4.03257522e-03, -1.44902762e-03,  1.63975781e-03,\n",
       "        -1.44719846e-02,  7.95545957e-03, -3.18808466e-03, -2.90799052e-03, -2.48552651e-03,\n",
       "        -8.21171927e-03, -4.37358090e-03, -6.20168644e-03, -4.40891713e-03,  7.54453281e-03,\n",
       "        -6.51901703e-03, -3.37406838e-03, -6.47460589e-03,  3.77705051e-04,  2.16971833e-03,\n",
       "         1.45007057e-02,  6.17369766e-03, -1.63980447e-03, -3.83005523e-03, -8.87793650e-03,\n",
       "        -3.29105327e-03, -6.68826392e-03,  1.59711783e-03,  5.27504550e-05, -1.43055044e-02,\n",
       "         1.12416863e-02,  1.55610988e-03, -1.50899533e-03,  1.66040315e-03,  1.89126406e-03,\n",
       "         9.28984711e-03,  2.52184039e-03, -5.92079186e-04,  2.20960459e-03,  3.61162097e-03,\n",
       "         1.04807389e-02, -6.78670244e-03, -1.65608052e-02,  6.21968379e-03, -1.64472749e-03,\n",
       "         3.84376809e-03,  3.15476807e-03,  1.33709709e-03, -6.25783993e-03, -2.29427986e-03,\n",
       "         2.19531198e-02,  8.00860045e-03,  9.18263531e-03,  4.08077451e-03, -1.12600945e-02,\n",
       "         6.80765414e-03,  1.03430757e-03, -1.28541818e-03, -1.86663852e-02,  1.52661497e-03]),\n",
       " array([0., 0., 0., 0., 0., 0., 0., 0., 0., 0., 0., 0., 0., 0., 0., 0., 0., 0., 0., 0., 0., 0., 0.,\n",
       "        0., 0., 0., 0., 0., 0., 0., 0., 0., 0., 0., 0., 0., 0., 0., 0., 0., 0., 0., 0., 0., 0., 0.,\n",
       "        0., 0., 0., 0., 0., 0., 0., 0., 0., 0., 0., 0., 0., 0., 0., 0., 0., 0., 0., 0., 0., 0., 0.,\n",
       "        0., 0., 0., 0., 0., 0., 0., 0., 0., 0., 0., 0., 0., 0., 0., 0., 0., 0., 0., 0., 0., 0., 0.,\n",
       "        0., 0., 0., 0., 0., 0., 0., 0.]))"
      ]
     },
     "execution_count": 11,
     "metadata": {},
     "output_type": "execute_result"
    }
   ],
   "source": [
    "def update_x(block_dat_and_param, z, rho):\n",
    "    block_dat, (xi, ui) = block_dat_and_param\n",
    "    # 分离因变量向量和自变量矩阵\n",
    "    bi = block_dat[:, 0]\n",
    "    Ai = block_dat[:, 1:]\n",
    "    p = Ai.shape[1]\n",
    "    # 计算新 xi\n",
    "    xi_new = np.linalg.solve(Ai.T.dot(Ai) + rho * np.eye(p), Ai.T.dot(bi) + rho * (z - ui))\n",
    "    return xi_new, ui\n",
    "\n",
    "updated_x = dat.zip(params).map(lambda d: update_x(d, z, rho))\n",
    "updated_x.first()"
   ]
  },
  {
   "cell_type": "markdown",
   "id": "46189c92",
   "metadata": {},
   "source": [
    "计算 $\\bar{x}$ 和 $\\bar{u}$："
   ]
  },
  {
   "cell_type": "code",
   "execution_count": 12,
   "id": "408cddda",
   "metadata": {},
   "outputs": [
    {
     "name": "stderr",
     "output_type": "stream",
     "text": [
      "[Stage 10:===========================================>              (3 + 1) / 4]\r"
     ]
    },
    {
     "name": "stdout",
     "output_type": "stream",
     "text": [
      "[-5.89441106e-01 -1.11140794e+00  1.15667202e+00  6.86230067e-01  6.42184751e-01 -1.70784908e+00\n",
      "  8.72816079e-01 -6.92350683e-01  1.21201786e+00 -1.76527604e-01 -5.89417484e-01  4.50452142e-01\n",
      "  1.56229423e+00  9.34678939e-01  3.33633574e-01 -6.25241839e-01 -1.63868904e-01  1.04197325e+00\n",
      "  9.87340713e-01 -2.27278342e-01 -6.10460651e-03  9.10453738e-05  4.04206210e-03 -4.66167579e-03\n",
      "  3.07175165e-03 -1.28888144e-04 -2.73214488e-03 -5.06100989e-03 -2.33029018e-03  5.24505576e-04\n",
      " -5.51145096e-03  2.31573937e-03 -3.94824355e-03  2.92775513e-04  3.17403469e-03 -9.40286179e-04\n",
      "  8.16506892e-03 -4.41510032e-03 -3.63106038e-03 -3.18298560e-03  5.21931168e-04 -8.01699057e-03\n",
      "  1.81022640e-04 -3.57419636e-03  2.44778618e-03 -6.62225030e-03  5.83903026e-03 -4.79766121e-03\n",
      "  4.87740292e-03 -1.25469889e-03 -3.43332330e-03 -1.29728780e-03 -3.65021625e-03 -2.13285003e-03\n",
      "  1.78870498e-03  3.93544083e-03 -2.27077489e-03 -3.36240716e-03 -1.39212238e-03  2.69188464e-03\n",
      "  4.26897165e-03 -3.34218222e-03 -3.68485467e-03  2.08456216e-03 -6.20972013e-04 -6.06629211e-04\n",
      " -6.39709587e-03 -3.28042397e-03  8.72029299e-04 -6.33509482e-03  9.37103952e-04  1.86819482e-03\n",
      " -4.83143484e-03  9.51351137e-05 -1.55469864e-03  4.30207130e-03 -2.93938502e-05 -1.47075521e-03\n",
      " -1.86017546e-03 -2.21630895e-03  1.70807218e-03  4.86413504e-03 -3.26638233e-03  1.39986866e-03\n",
      " -6.94326750e-04 -4.25477078e-04 -2.71125167e-03  2.44018742e-03 -2.93856333e-03 -1.13348864e-04\n",
      "  7.51591981e-03  3.42248501e-03 -4.56220258e-04  2.93782901e-03  1.01484263e-03  4.67881049e-03\n",
      " -9.36534511e-05  1.18417526e-03 -2.40898682e-03  3.64590706e-03]\n",
      "[0. 0. 0. 0. 0. 0. 0. 0. 0. 0. 0. 0. 0. 0. 0. 0. 0. 0. 0. 0. 0. 0. 0. 0. 0. 0. 0. 0. 0. 0. 0. 0. 0.\n",
      " 0. 0. 0. 0. 0. 0. 0. 0. 0. 0. 0. 0. 0. 0. 0. 0. 0. 0. 0. 0. 0. 0. 0. 0. 0. 0. 0. 0. 0. 0. 0. 0. 0.\n",
      " 0. 0. 0. 0. 0. 0. 0. 0. 0. 0. 0. 0. 0. 0. 0. 0. 0. 0. 0. 0. 0. 0. 0. 0. 0. 0. 0. 0. 0. 0. 0. 0. 0.\n",
      " 0.]\n"
     ]
    },
    {
     "name": "stderr",
     "output_type": "stream",
     "text": [
      "                                                                                \r"
     ]
    }
   ],
   "source": [
    "xbar, ubar = updated_x.reduce(lambda xu1, xu2: (xu1[0] + xu2[0], xu1[1] + xu2[1]))\n",
    "xbar /= N\n",
    "ubar /= N\n",
    "print(xbar)\n",
    "print(ubar)"
   ]
  },
  {
   "cell_type": "markdown",
   "id": "773d9d8d",
   "metadata": {},
   "source": [
    "更新一次 $z$："
   ]
  },
  {
   "cell_type": "code",
   "execution_count": 13,
   "id": "76165d30",
   "metadata": {},
   "outputs": [
    {
     "data": {
      "text/plain": [
       "array([-0., -0.,  0.,  0.,  0., -0.,  0., -0.,  0., -0., -0.,  0.,  0.,  0.,  0., -0., -0.,  0.,\n",
       "        0., -0., -0.,  0.,  0., -0.,  0., -0., -0., -0., -0.,  0., -0.,  0., -0.,  0.,  0., -0.,\n",
       "        0., -0., -0., -0.,  0., -0.,  0., -0.,  0., -0.,  0., -0.,  0., -0., -0., -0., -0., -0.,\n",
       "        0.,  0., -0., -0., -0.,  0.,  0., -0., -0.,  0., -0., -0., -0., -0.,  0., -0.,  0.,  0.,\n",
       "       -0.,  0., -0.,  0., -0., -0., -0., -0.,  0.,  0., -0.,  0., -0., -0., -0.,  0., -0., -0.,\n",
       "        0.,  0., -0.,  0.,  0.,  0., -0.,  0., -0.,  0.])"
      ]
     },
     "execution_count": 13,
     "metadata": {},
     "output_type": "execute_result"
    }
   ],
   "source": [
    "def soft_thresholding(a, k):\n",
    "    return np.sign(a) * np.maximum(0.0, np.abs(a) - k)\n",
    "\n",
    "znew = soft_thresholding(xbar + ubar, lam / (rho * N))\n",
    "znew"
   ]
  },
  {
   "cell_type": "markdown",
   "id": "935aed22",
   "metadata": {},
   "source": [
    "更新一次 $u_i$："
   ]
  },
  {
   "cell_type": "code",
   "execution_count": 14,
   "id": "5cdec60b",
   "metadata": {},
   "outputs": [
    {
     "data": {
      "text/plain": [
       "(array([-5.90814270e-01, -1.11321607e+00,  1.15095752e+00,  6.87063924e-01,  6.40293561e-01,\n",
       "        -1.69374030e+00,  8.71403383e-01, -6.94379736e-01,  1.20866282e+00, -1.75238934e-01,\n",
       "        -5.90611190e-01,  4.51873454e-01,  1.56854930e+00,  9.37139756e-01,  3.30179252e-01,\n",
       "        -6.21776857e-01, -1.68055436e-01,  1.04836673e+00,  9.84804634e-01, -2.24043441e-01,\n",
       "        -1.10207886e-02,  4.74571699e-03,  1.99914358e-02, -3.99392232e-03,  2.99631275e-03,\n",
       "        -3.21884881e-03, -1.00943808e-02, -4.96676839e-03, -4.24626145e-03, -5.95266905e-03,\n",
       "        -3.72556604e-03,  5.14898158e-03, -3.52804213e-03,  5.04132529e-03,  2.25529949e-03,\n",
       "        -1.10746048e-02,  1.45531578e-02, -2.68163609e-03, -8.41348115e-03,  5.02697750e-04,\n",
       "        -4.25471754e-03, -3.12527736e-03,  4.03257522e-03, -1.44902762e-03,  1.63975781e-03,\n",
       "        -1.44719846e-02,  7.95545957e-03, -3.18808466e-03, -2.90799052e-03, -2.48552651e-03,\n",
       "        -8.21171927e-03, -4.37358090e-03, -6.20168644e-03, -4.40891713e-03,  7.54453281e-03,\n",
       "        -6.51901703e-03, -3.37406838e-03, -6.47460589e-03,  3.77705051e-04,  2.16971833e-03,\n",
       "         1.45007057e-02,  6.17369766e-03, -1.63980447e-03, -3.83005523e-03, -8.87793650e-03,\n",
       "        -3.29105327e-03, -6.68826392e-03,  1.59711783e-03,  5.27504550e-05, -1.43055044e-02,\n",
       "         1.12416863e-02,  1.55610988e-03, -1.50899533e-03,  1.66040315e-03,  1.89126406e-03,\n",
       "         9.28984711e-03,  2.52184039e-03, -5.92079186e-04,  2.20960459e-03,  3.61162097e-03,\n",
       "         1.04807389e-02, -6.78670244e-03, -1.65608052e-02,  6.21968379e-03, -1.64472749e-03,\n",
       "         3.84376809e-03,  3.15476807e-03,  1.33709709e-03, -6.25783993e-03, -2.29427986e-03,\n",
       "         2.19531198e-02,  8.00860045e-03,  9.18263531e-03,  4.08077451e-03, -1.12600945e-02,\n",
       "         6.80765414e-03,  1.03430757e-03, -1.28541818e-03, -1.86663852e-02,  1.52661497e-03]),\n",
       " array([-5.90814270e-01, -1.11321607e+00,  1.15095752e+00,  6.87063924e-01,  6.40293561e-01,\n",
       "        -1.69374030e+00,  8.71403383e-01, -6.94379736e-01,  1.20866282e+00, -1.75238934e-01,\n",
       "        -5.90611190e-01,  4.51873454e-01,  1.56854930e+00,  9.37139756e-01,  3.30179252e-01,\n",
       "        -6.21776857e-01, -1.68055436e-01,  1.04836673e+00,  9.84804634e-01, -2.24043441e-01,\n",
       "        -1.10207886e-02,  4.74571699e-03,  1.99914358e-02, -3.99392232e-03,  2.99631275e-03,\n",
       "        -3.21884881e-03, -1.00943808e-02, -4.96676839e-03, -4.24626145e-03, -5.95266905e-03,\n",
       "        -3.72556604e-03,  5.14898158e-03, -3.52804213e-03,  5.04132529e-03,  2.25529949e-03,\n",
       "        -1.10746048e-02,  1.45531578e-02, -2.68163609e-03, -8.41348115e-03,  5.02697750e-04,\n",
       "        -4.25471754e-03, -3.12527736e-03,  4.03257522e-03, -1.44902762e-03,  1.63975781e-03,\n",
       "        -1.44719846e-02,  7.95545957e-03, -3.18808466e-03, -2.90799052e-03, -2.48552651e-03,\n",
       "        -8.21171927e-03, -4.37358090e-03, -6.20168644e-03, -4.40891713e-03,  7.54453281e-03,\n",
       "        -6.51901703e-03, -3.37406838e-03, -6.47460589e-03,  3.77705051e-04,  2.16971833e-03,\n",
       "         1.45007057e-02,  6.17369766e-03, -1.63980447e-03, -3.83005523e-03, -8.87793650e-03,\n",
       "        -3.29105327e-03, -6.68826392e-03,  1.59711783e-03,  5.27504550e-05, -1.43055044e-02,\n",
       "         1.12416863e-02,  1.55610988e-03, -1.50899533e-03,  1.66040315e-03,  1.89126406e-03,\n",
       "         9.28984711e-03,  2.52184039e-03, -5.92079186e-04,  2.20960459e-03,  3.61162097e-03,\n",
       "         1.04807389e-02, -6.78670244e-03, -1.65608052e-02,  6.21968379e-03, -1.64472749e-03,\n",
       "         3.84376809e-03,  3.15476807e-03,  1.33709709e-03, -6.25783993e-03, -2.29427986e-03,\n",
       "         2.19531198e-02,  8.00860045e-03,  9.18263531e-03,  4.08077451e-03, -1.12600945e-02,\n",
       "         6.80765414e-03,  1.03430757e-03, -1.28541818e-03, -1.86663852e-02,  1.52661497e-03]))"
      ]
     },
     "execution_count": 14,
     "metadata": {},
     "output_type": "execute_result"
    }
   ],
   "source": [
    "def update_u(param, z):\n",
    "    xi_new, ui = param\n",
    "    # 计算新 ui\n",
    "    ui_new = ui + xi_new - z\n",
    "    return xi_new, ui_new\n",
    "\n",
    "updated_u = updated_x.map(lambda d: update_u(d, znew))\n",
    "updated_u.first()"
   ]
  },
  {
   "cell_type": "markdown",
   "id": "8854d08c",
   "metadata": {},
   "source": [
    "计算原问题残差范数\n",
    "\n",
    "$$\n",
    "\\Vert r^{k+1}\\Vert=\\sqrt{\\sum_{i=1}^N \\Vert x_i^{k+1} - z^{k+1}\\Vert^2}.\n",
    "$$"
   ]
  },
  {
   "cell_type": "code",
   "execution_count": 15,
   "id": "9200adea",
   "metadata": {},
   "outputs": [
    {
     "name": "stdout",
     "output_type": "stream",
     "text": [
      "7.9930216055938645\n"
     ]
    },
    {
     "name": "stderr",
     "output_type": "stream",
     "text": [
      "                                                                                \r"
     ]
    }
   ],
   "source": [
    "# 在每个分块上计算 ||xi_new - z||^2，然后汇总求和\n",
    "resid_r_norm = updated_u.map(lambda d: np.sum(np.square(d[0] - znew))).reduce(lambda x, y: x + y)\n",
    "resid_r_norm = np.sqrt(resid_r_norm)\n",
    "print(resid_r_norm)"
   ]
  },
  {
   "cell_type": "markdown",
   "id": "797b9b02",
   "metadata": {},
   "source": [
    "计算对偶问题残差范数："
   ]
  },
  {
   "cell_type": "code",
   "execution_count": 16,
   "id": "a38f341f",
   "metadata": {},
   "outputs": [
    {
     "name": "stdout",
     "output_type": "stream",
     "text": [
      "0.0\n"
     ]
    }
   ],
   "source": [
    "resid_s_norm = rho * np.sqrt(N) * np.linalg.norm(znew - z)\n",
    "print(resid_s_norm)"
   ]
  },
  {
   "cell_type": "markdown",
   "id": "f71b68f3",
   "metadata": {},
   "source": [
    "接下来将整个过程写入一个循环，同时设定最大迭代次数为100，收敛的阈值为0.001。"
   ]
  },
  {
   "cell_type": "code",
   "execution_count": 17,
   "id": "4dfebd79",
   "metadata": {
    "scrolled": true
   },
   "outputs": [
    {
     "name": "stderr",
     "output_type": "stream",
     "text": [
      "                                                                                \r"
     ]
    },
    {
     "name": "stdout",
     "output_type": "stream",
     "text": [
      "Iteration 0, ||r|| = 7.993022, ||s|| = 0.000000\n",
      "Iteration 1, ||r|| = 6.960675, ||s|| = 22.149790\n",
      "Iteration 2, ||r|| = 4.198749, ||s|| = 45.315842\n"
     ]
    },
    {
     "name": "stderr",
     "output_type": "stream",
     "text": [
      "                                                                                \r"
     ]
    },
    {
     "name": "stdout",
     "output_type": "stream",
     "text": [
      "Iteration 3, ||r|| = 2.976602, ||s|| = 25.851012\n",
      "Iteration 4, ||r|| = 1.368161, ||s|| = 24.406323\n",
      "Iteration 5, ||r|| = 1.070546, ||s|| = 5.704705\n",
      "Iteration 6, ||r|| = 0.946671, ||s|| = 4.991149\n",
      "Iteration 7, ||r|| = 0.751589, ||s|| = 3.304970\n",
      "Iteration 8, ||r|| = 0.672594, ||s|| = 3.348655\n",
      "Iteration 9, ||r|| = 0.672322, ||s|| = 0.001349\n",
      "Iteration 10, ||r|| = 0.672049, ||s|| = 0.000038\n",
      "Iteration 11, ||r|| = 0.496576, ||s|| = 4.425707\n",
      "Iteration 12, ||r|| = 0.496273, ||s|| = 0.101481\n",
      "Iteration 13, ||r|| = 0.496070, ||s|| = 0.000055\n",
      "Iteration 14, ||r|| = 0.357201, ||s|| = 2.807153\n",
      "Iteration 15, ||r|| = 0.161806, ||s|| = 2.378260\n",
      "Iteration 16, ||r|| = 0.128301, ||s|| = 0.985750\n",
      "Iteration 17, ||r|| = 0.128248, ||s|| = 0.000402\n",
      "Iteration 18, ||r|| = 0.128196, ||s|| = 0.000017\n",
      "Iteration 19, ||r|| = 0.128143, ||s|| = 0.000017\n",
      "Iteration 20, ||r|| = 0.128091, ||s|| = 0.000017\n",
      "Iteration 21, ||r|| = 0.128038, ||s|| = 0.000017\n",
      "Iteration 22, ||r|| = 0.127986, ||s|| = 0.000017\n",
      "Iteration 23, ||r|| = 0.127933, ||s|| = 0.000017\n",
      "Iteration 24, ||r|| = 0.127881, ||s|| = 0.000017\n",
      "Iteration 25, ||r|| = 0.127828, ||s|| = 0.000017\n",
      "Iteration 26, ||r|| = 0.127776, ||s|| = 0.000017\n",
      "Iteration 27, ||r|| = 0.127723, ||s|| = 0.000017\n",
      "Iteration 28, ||r|| = 0.127671, ||s|| = 0.000017\n",
      "Iteration 29, ||r|| = 0.127619, ||s|| = 0.000017\n",
      "Iteration 30, ||r|| = 0.127566, ||s|| = 0.000017\n",
      "Iteration 31, ||r|| = 0.127514, ||s|| = 0.000017\n"
     ]
    },
    {
     "name": "stderr",
     "output_type": "stream",
     "text": [
      "                                                                                \r"
     ]
    },
    {
     "name": "stdout",
     "output_type": "stream",
     "text": [
      "Iteration 32, ||r|| = 0.127462, ||s|| = 0.000017\n",
      "Iteration 33, ||r|| = 0.127409, ||s|| = 0.000017\n",
      "Iteration 34, ||r|| = 0.127357, ||s|| = 0.000017\n",
      "Iteration 35, ||r|| = 0.127305, ||s|| = 0.000017\n",
      "Iteration 36, ||r|| = 0.127253, ||s|| = 0.000017\n",
      "Iteration 37, ||r|| = 0.127201, ||s|| = 0.000017\n",
      "Iteration 38, ||r|| = 0.127148, ||s|| = 0.000017\n",
      "Iteration 39, ||r|| = 0.127096, ||s|| = 0.000017\n"
     ]
    },
    {
     "name": "stderr",
     "output_type": "stream",
     "text": [
      "ERROR:root:KeyboardInterrupt while sending command.\n",
      "Traceback (most recent call last):\n",
      "  File \"/Users/xinby/Library/Spark/python/lib/py4j-0.10.9.5-src.zip/py4j/java_gateway.py\", line 1038, in send_command\n",
      "    response = connection.send_command(command)\n",
      "  File \"/Users/xinby/Library/Spark/python/lib/py4j-0.10.9.5-src.zip/py4j/clientserver.py\", line 511, in send_command\n",
      "    answer = smart_decode(self.stream.readline()[:-1])\n",
      "  File \"/Users/xinby/opt/anaconda3/lib/python3.9/socket.py\", line 704, in readinto\n",
      "    return self._sock.recv_into(b)\n",
      "KeyboardInterrupt\n"
     ]
    },
    {
     "ename": "KeyboardInterrupt",
     "evalue": "",
     "output_type": "error",
     "traceback": [
      "\u001b[0;31m---------------------------------------------------------------------------\u001b[0m",
      "\u001b[0;31mKeyboardInterrupt\u001b[0m                         Traceback (most recent call last)",
      "\u001b[1;32m/Users/xinby/Desktop/ByCsdiy/ds2023s/lecture codes/lec13-admm-concensus.ipynb 单元格 41\u001b[0m in \u001b[0;36m<cell line: 4>\u001b[0;34m()\u001b[0m\n\u001b[1;32m      <a href='vscode-notebook-cell:/Users/xinby/Desktop/ByCsdiy/ds2023s/lecture%20codes/lec13-admm-concensus.ipynb#X55sZmlsZQ%3D%3D?line=6'>7</a>\u001b[0m updated_x\u001b[39m.\u001b[39mcache()\n\u001b[1;32m      <a href='vscode-notebook-cell:/Users/xinby/Desktop/ByCsdiy/ds2023s/lecture%20codes/lec13-admm-concensus.ipynb#X55sZmlsZQ%3D%3D?line=7'>8</a>\u001b[0m \u001b[39m# 计算平均\u001b[39;00m\n\u001b[0;32m----> <a href='vscode-notebook-cell:/Users/xinby/Desktop/ByCsdiy/ds2023s/lecture%20codes/lec13-admm-concensus.ipynb#X55sZmlsZQ%3D%3D?line=8'>9</a>\u001b[0m xbar, ubar \u001b[39m=\u001b[39m updated_x\u001b[39m.\u001b[39;49mreduce(\u001b[39mlambda\u001b[39;49;00m xu1, xu2: (xu1[\u001b[39m0\u001b[39;49m] \u001b[39m+\u001b[39;49m xu2[\u001b[39m0\u001b[39;49m], xu1[\u001b[39m1\u001b[39;49m] \u001b[39m+\u001b[39;49m xu2[\u001b[39m1\u001b[39;49m]))\n\u001b[1;32m     <a href='vscode-notebook-cell:/Users/xinby/Desktop/ByCsdiy/ds2023s/lecture%20codes/lec13-admm-concensus.ipynb#X55sZmlsZQ%3D%3D?line=9'>10</a>\u001b[0m xbar \u001b[39m/\u001b[39m\u001b[39m=\u001b[39m N\n\u001b[1;32m     <a href='vscode-notebook-cell:/Users/xinby/Desktop/ByCsdiy/ds2023s/lecture%20codes/lec13-admm-concensus.ipynb#X55sZmlsZQ%3D%3D?line=10'>11</a>\u001b[0m ubar \u001b[39m/\u001b[39m\u001b[39m=\u001b[39m N\n",
      "File \u001b[0;32m~/Library/Spark/python/pyspark/rdd.py:1250\u001b[0m, in \u001b[0;36mRDD.reduce\u001b[0;34m(self, f)\u001b[0m\n\u001b[1;32m   1247\u001b[0m         \u001b[39mreturn\u001b[39;00m\n\u001b[1;32m   1248\u001b[0m     \u001b[39myield\u001b[39;00m reduce(f, iterator, initial)\n\u001b[0;32m-> 1250\u001b[0m vals \u001b[39m=\u001b[39m \u001b[39mself\u001b[39;49m\u001b[39m.\u001b[39;49mmapPartitions(func)\u001b[39m.\u001b[39;49mcollect()\n\u001b[1;32m   1251\u001b[0m \u001b[39mif\u001b[39;00m vals:\n\u001b[1;32m   1252\u001b[0m     \u001b[39mreturn\u001b[39;00m reduce(f, vals)\n",
      "File \u001b[0;32m~/Library/Spark/python/pyspark/rdd.py:1197\u001b[0m, in \u001b[0;36mRDD.collect\u001b[0;34m(self)\u001b[0m\n\u001b[1;32m   1195\u001b[0m \u001b[39mwith\u001b[39;00m SCCallSiteSync(\u001b[39mself\u001b[39m\u001b[39m.\u001b[39mcontext):\n\u001b[1;32m   1196\u001b[0m     \u001b[39massert\u001b[39;00m \u001b[39mself\u001b[39m\u001b[39m.\u001b[39mctx\u001b[39m.\u001b[39m_jvm \u001b[39mis\u001b[39;00m \u001b[39mnot\u001b[39;00m \u001b[39mNone\u001b[39;00m\n\u001b[0;32m-> 1197\u001b[0m     sock_info \u001b[39m=\u001b[39m \u001b[39mself\u001b[39;49m\u001b[39m.\u001b[39;49mctx\u001b[39m.\u001b[39;49m_jvm\u001b[39m.\u001b[39;49mPythonRDD\u001b[39m.\u001b[39;49mcollectAndServe(\u001b[39mself\u001b[39;49m\u001b[39m.\u001b[39;49m_jrdd\u001b[39m.\u001b[39;49mrdd())\n\u001b[1;32m   1198\u001b[0m \u001b[39mreturn\u001b[39;00m \u001b[39mlist\u001b[39m(_load_from_socket(sock_info, \u001b[39mself\u001b[39m\u001b[39m.\u001b[39m_jrdd_deserializer))\n",
      "File \u001b[0;32m~/Library/Spark/python/lib/py4j-0.10.9.5-src.zip/py4j/java_gateway.py:1320\u001b[0m, in \u001b[0;36mJavaMember.__call__\u001b[0;34m(self, *args)\u001b[0m\n\u001b[1;32m   1313\u001b[0m args_command, temp_args \u001b[39m=\u001b[39m \u001b[39mself\u001b[39m\u001b[39m.\u001b[39m_build_args(\u001b[39m*\u001b[39margs)\n\u001b[1;32m   1315\u001b[0m command \u001b[39m=\u001b[39m proto\u001b[39m.\u001b[39mCALL_COMMAND_NAME \u001b[39m+\u001b[39m\\\n\u001b[1;32m   1316\u001b[0m     \u001b[39mself\u001b[39m\u001b[39m.\u001b[39mcommand_header \u001b[39m+\u001b[39m\\\n\u001b[1;32m   1317\u001b[0m     args_command \u001b[39m+\u001b[39m\\\n\u001b[1;32m   1318\u001b[0m     proto\u001b[39m.\u001b[39mEND_COMMAND_PART\n\u001b[0;32m-> 1320\u001b[0m answer \u001b[39m=\u001b[39m \u001b[39mself\u001b[39;49m\u001b[39m.\u001b[39;49mgateway_client\u001b[39m.\u001b[39;49msend_command(command)\n\u001b[1;32m   1321\u001b[0m return_value \u001b[39m=\u001b[39m get_return_value(\n\u001b[1;32m   1322\u001b[0m     answer, \u001b[39mself\u001b[39m\u001b[39m.\u001b[39mgateway_client, \u001b[39mself\u001b[39m\u001b[39m.\u001b[39mtarget_id, \u001b[39mself\u001b[39m\u001b[39m.\u001b[39mname)\n\u001b[1;32m   1324\u001b[0m \u001b[39mfor\u001b[39;00m temp_arg \u001b[39min\u001b[39;00m temp_args:\n",
      "File \u001b[0;32m~/Library/Spark/python/lib/py4j-0.10.9.5-src.zip/py4j/java_gateway.py:1038\u001b[0m, in \u001b[0;36mGatewayClient.send_command\u001b[0;34m(self, command, retry, binary)\u001b[0m\n\u001b[1;32m   1036\u001b[0m connection \u001b[39m=\u001b[39m \u001b[39mself\u001b[39m\u001b[39m.\u001b[39m_get_connection()\n\u001b[1;32m   1037\u001b[0m \u001b[39mtry\u001b[39;00m:\n\u001b[0;32m-> 1038\u001b[0m     response \u001b[39m=\u001b[39m connection\u001b[39m.\u001b[39;49msend_command(command)\n\u001b[1;32m   1039\u001b[0m     \u001b[39mif\u001b[39;00m binary:\n\u001b[1;32m   1040\u001b[0m         \u001b[39mreturn\u001b[39;00m response, \u001b[39mself\u001b[39m\u001b[39m.\u001b[39m_create_connection_guard(connection)\n",
      "File \u001b[0;32m~/Library/Spark/python/lib/py4j-0.10.9.5-src.zip/py4j/clientserver.py:511\u001b[0m, in \u001b[0;36mClientServerConnection.send_command\u001b[0;34m(self, command)\u001b[0m\n\u001b[1;32m    509\u001b[0m \u001b[39mtry\u001b[39;00m:\n\u001b[1;32m    510\u001b[0m     \u001b[39mwhile\u001b[39;00m \u001b[39mTrue\u001b[39;00m:\n\u001b[0;32m--> 511\u001b[0m         answer \u001b[39m=\u001b[39m smart_decode(\u001b[39mself\u001b[39;49m\u001b[39m.\u001b[39;49mstream\u001b[39m.\u001b[39;49mreadline()[:\u001b[39m-\u001b[39m\u001b[39m1\u001b[39m])\n\u001b[1;32m    512\u001b[0m         logger\u001b[39m.\u001b[39mdebug(\u001b[39m\"\u001b[39m\u001b[39mAnswer received: \u001b[39m\u001b[39m{0}\u001b[39;00m\u001b[39m\"\u001b[39m\u001b[39m.\u001b[39mformat(answer))\n\u001b[1;32m    513\u001b[0m         \u001b[39m# Happens when a the other end is dead. There might be an empty\u001b[39;00m\n\u001b[1;32m    514\u001b[0m         \u001b[39m# answer before the socket raises an error.\u001b[39;00m\n",
      "File \u001b[0;32m~/opt/anaconda3/lib/python3.9/socket.py:704\u001b[0m, in \u001b[0;36mSocketIO.readinto\u001b[0;34m(self, b)\u001b[0m\n\u001b[1;32m    702\u001b[0m \u001b[39mwhile\u001b[39;00m \u001b[39mTrue\u001b[39;00m:\n\u001b[1;32m    703\u001b[0m     \u001b[39mtry\u001b[39;00m:\n\u001b[0;32m--> 704\u001b[0m         \u001b[39mreturn\u001b[39;00m \u001b[39mself\u001b[39;49m\u001b[39m.\u001b[39;49m_sock\u001b[39m.\u001b[39;49mrecv_into(b)\n\u001b[1;32m    705\u001b[0m     \u001b[39mexcept\u001b[39;00m timeout:\n\u001b[1;32m    706\u001b[0m         \u001b[39mself\u001b[39m\u001b[39m.\u001b[39m_timeout_occurred \u001b[39m=\u001b[39m \u001b[39mTrue\u001b[39;00m\n",
      "\u001b[0;31mKeyboardInterrupt\u001b[0m: "
     ]
    },
    {
     "name": "stderr",
     "output_type": "stream",
     "text": [
      "Exception in thread \"serve RDD 307\" java.net.SocketTimeoutException: Accept timed out\n",
      "\tat java.base/sun.nio.ch.NioSocketImpl.timedAccept(NioSocketImpl.java:694)\n",
      "\tat java.base/sun.nio.ch.NioSocketImpl.accept(NioSocketImpl.java:738)\n",
      "\tat java.base/java.net.ServerSocket.implAccept(ServerSocket.java:690)\n",
      "\tat java.base/java.net.ServerSocket.platformImplAccept(ServerSocket.java:655)\n",
      "\tat java.base/java.net.ServerSocket.implAccept(ServerSocket.java:631)\n",
      "\tat java.base/java.net.ServerSocket.implAccept(ServerSocket.java:588)\n",
      "\tat java.base/java.net.ServerSocket.accept(ServerSocket.java:546)\n",
      "\tat org.apache.spark.security.SocketAuthServer$$anon$1.run(SocketAuthServer.scala:64)\n"
     ]
    }
   ],
   "source": [
    "max_iter = 100\n",
    "tol = 0.001\n",
    "\n",
    "for i in range(max_iter):\n",
    "    # x 更新\n",
    "    updated_x = dat.zip(params).map(lambda d: update_x(d, z, rho))\n",
    "    updated_x.cache()\n",
    "    # 计算平均\n",
    "    xbar, ubar = updated_x.reduce(lambda xu1, xu2: (xu1[0] + xu2[0], xu1[1] + xu2[1]))\n",
    "    xbar /= N\n",
    "    ubar /= N\n",
    "    # z 更新\n",
    "    znew = soft_thresholding(xbar + ubar, lam / (rho * N))\n",
    "    # u 更新\n",
    "    updated_u = updated_x.map(lambda d: update_u(d, znew))\n",
    "    updated_u.cache()\n",
    "    # 计算残差大小\n",
    "    resid_r_norm = updated_u.map(lambda d: np.sum(np.square(d[0] - znew))).reduce(lambda x, y: x + y)\n",
    "    resid_r_norm = np.sqrt(resid_r_norm)\n",
    "    resid_s_norm = rho * np.sqrt(N) * np.linalg.norm(znew - z)\n",
    "    # 更新 x、z 和 u 的取值\n",
    "    params = updated_u\n",
    "    params.cache()\n",
    "    z = znew\n",
    "    # 打印残差信息，判断是否收敛\n",
    "    if i % 1 == 0:\n",
    "        print(f\"Iteration {i}, ||r|| = {resid_r_norm:.6f}, ||s|| = {resid_s_norm:.6f}\")\n",
    "    if resid_r_norm <= tol and resid_s_norm <= tol:\n",
    "        break"
   ]
  },
  {
   "cell_type": "code",
   "execution_count": null,
   "id": "70a673cb",
   "metadata": {},
   "outputs": [],
   "source": [
    "z"
   ]
  },
  {
   "cell_type": "code",
   "execution_count": null,
   "id": "78ff02b0",
   "metadata": {},
   "outputs": [],
   "source": [
    "xtrue"
   ]
  },
  {
   "cell_type": "code",
   "execution_count": null,
   "id": "f62b53b4",
   "metadata": {},
   "outputs": [],
   "source": [
    "sc.stop()"
   ]
  }
 ],
 "metadata": {
  "kernelspec": {
   "display_name": "Python 3 (ipykernel)",
   "language": "python",
   "name": "python3"
  },
  "language_info": {
   "codemirror_mode": {
    "name": "ipython",
    "version": 3
   },
   "file_extension": ".py",
   "mimetype": "text/x-python",
   "name": "python",
   "nbconvert_exporter": "python",
   "pygments_lexer": "ipython3",
   "version": "3.9.12"
  }
 },
 "nbformat": 4,
 "nbformat_minor": 5
}
