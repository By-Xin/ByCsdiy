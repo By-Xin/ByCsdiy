{
 "cells": [
  {
   "cell_type": "markdown",
   "metadata": {},
   "source": [
    "# 作业1：问卷+环境配置"
   ]
  },
  {
   "cell_type": "markdown",
   "metadata": {},
   "source": [
    "## 0. 说明"
   ]
  },
  {
   "cell_type": "markdown",
   "metadata": {},
   "source": [
    "### 0.1 关于 Jupyter Notebook"
   ]
  },
  {
   "cell_type": "markdown",
   "metadata": {},
   "source": [
    "Jupyter Notebook 是一种可编程的文档类型，类似于 R Markdown。Jupyter Notebook 文档以一个个单元格组成，每个单元格可以是 Markdown 或者 Python 代码：前者通常用来写文字说明，后者用来运行代码。比如你双击第一行的标题，就会看到标题的 Markdown 代码（以 `#` 符号开头），再按 `Ctrl+Enter`，就会显示 Markdown 渲染的结果。"
   ]
  },
  {
   "cell_type": "markdown",
   "metadata": {},
   "source": [
    "而对于代码单元格， `Ctrl+Enter` 会执行单元格内的代码，例如用鼠标点击下面的单元格然后按键后会出现形如 `Out[x]` 的输出结果。"
   ]
  },
  {
   "cell_type": "code",
   "execution_count": 1,
   "metadata": {},
   "outputs": [
    {
     "data": {
      "text/plain": [
       "3.141592653589793"
      ]
     },
     "execution_count": 1,
     "metadata": {},
     "output_type": "execute_result"
    }
   ],
   "source": [
    "import math\n",
    "\n",
    "math.pi"
   ]
  },
  {
   "cell_type": "markdown",
   "metadata": {},
   "source": [
    "我们的作业中既有需要说明的文字，又有需要编写的程序，前者用 Markdown 单元格，后者用代码单元格。单元格的类型可以在上方的下拉菜单中选择，也可以通过快捷键实现（通过菜单 Cell => Cell Type 查看）。"
   ]
  },
  {
   "cell_type": "markdown",
   "metadata": {},
   "source": [
    "### 0.2 关于 Markdown"
   ]
  },
  {
   "cell_type": "markdown",
   "metadata": {},
   "source": [
    "Markdown 是常用的文档格式化语法，如果有不熟悉的，可以参考[这里](https://www.jianshu.com/p/335db5716248)的教程。需要说明的是 Jupyter Notebook 里可以插入数学公式，例如 $f(x)=\\frac{1}{\\sqrt{2\\pi}}e^{-x^2/2}$。双击这个单元格来查看源代码。"
   ]
  },
  {
   "cell_type": "markdown",
   "metadata": {},
   "source": [
    "## 1. 问卷"
   ]
  },
  {
   "cell_type": "markdown",
   "metadata": {},
   "source": [
    "思考并回答**至少四个**问题："
   ]
  },
  {
   "attachments": {},
   "cell_type": "markdown",
   "metadata": {},
   "source": [
    "- **你现在对深度学习有多少了解？**\n",
    "\n",
    "    跟着Seminar、各路大神大佬（李沐、李宏毅、Andrew Ng），还有暑假的兴趣小组学长姐们已经听过好多讲座、报告之类，基础的像CNN,RNN等等，最近的Attention，Transformer，BERT，但是都是在理论层面，没有实际操作过（就很悲伤），而且感觉也不成体系（更悲伤了）"
   ]
  },
  {
   "attachments": {},
   "cell_type": "markdown",
   "metadata": {},
   "source": [
    "- **你预期今后的工作/研究与深度学习的关联大吗？**\n",
    "\n",
    "    希望可以很大（）。想做NLP，往下读PhD这样，所以希望能够和深度学习一直相爱相杀下去。而且就算以后不幸（或者是有幸？）去到业界工作，也希望能够从事与之相关的一些内容（比如算法开发？或者在一些互联网/金融厂利用深度学习继续开展业务）"
   ]
  },
  {
   "attachments": {},
   "cell_type": "markdown",
   "metadata": {},
   "source": [
    "- **你想从这门课学到什么？**\n",
    "\n",
    "    前面有说嘛，在选这门课的时候主要的预期在于：\n",
    "\n",
    "    1. 更系统的了解深度学习这个领域，有一个自己较为清晰的脉络理解（明白一学期短短的16次课肯定没办法面面俱到，但是至少希望能够对这个领域能初见其貌，先“把地图跑开”，在日后不论是研究生还是自学上，都能有一个相对清晰一点的认识）；\n",
    "        \n",
    "    2. 希望能够具体实现一些（哪怕是demo）也好的深度学习模型，去大量的进行coding（不是那种纯粹封装好调包那种）。在为数不多的理解一直在听各路神仙们非常炫酷的讲解，但是对于具体的编程实现知之甚少。希望自己能够从零开始完整搭建一个这样的神经网络。\n",
    "\n",
    "  但是在上完两次课之后，似乎还有了新的期待：\n",
    "  \n",
    "  希望能够得到更深的关于统计学的认识。比如第二次课讲授的关于**分布**的这个内容就很有启发（邱、、不愧是你、、颇有醍醐灌顶之感）。确实，想来的话，确实希望这门深度学习的课，不是一门信息学院计算机系的”深度学习“，而是作为一个设立在统计与管理学院下面的”深度学习“。自己虽然前面也有说很希望能够有大量的编程实践，但是coding可能更多的是对于这门”课程“的一个期待。而这些统计学，或者是更宏观的方法论上的这些内容，却倒确实是更对于每周一上午10.05～11.45的“课堂”的一个期待～"
   ]
  },
  {
   "attachments": {},
   "cell_type": "markdown",
   "metadata": {},
   "source": [
    "- 你还有哪些喜欢的获取知识的渠道（例如B站，知乎，技术博客，公众号等）？如果有请向大家推荐一些，**具体到账号或网址**，不需要与深度学习相关。"
   ]
  },
  {
   "cell_type": "markdown",
   "metadata": {},
   "source": []
  },
  {
   "attachments": {},
   "cell_type": "markdown",
   "metadata": {},
   "source": [
    "- **你对编程的喜欢/厌恶程度是多少？1为很厌恶，10为很喜欢。**\n",
    "  $$ 10 \\times \\textit1_{\\text{\\{No Bug\\}}} $$"
   ]
  },
  {
   "attachments": {},
   "cell_type": "markdown",
   "metadata": {},
   "source": [
    "- **你喜欢/**不**喜欢的上课方式是怎样的？**\n",
    "\n",
    "    喜欢大家一起有效互动，像一个community一样互相提出好问题，解答好问题（当然，所有问题，除了水发言的问题，都是好问题）。课程除了coding也有很多对于统计学本身更高屋建瓴的理解（而不是只学会几个函数，调用一些包）"
   ]
  },
  {
   "cell_type": "markdown",
   "metadata": {},
   "source": [
    "## 2. 安装 PyTorch"
   ]
  },
  {
   "cell_type": "markdown",
   "metadata": {},
   "source": [
    "请参照课程文档《PyTorch安装》的提示配置好 PyTorch 环境。如果你的电脑具备 Nvidia 显卡，优先尝试安装 GPU 版本。用如下的代码验证 Conda 和 PyTorch 安装是否成功："
   ]
  },
  {
   "cell_type": "code",
   "execution_count": 3,
   "metadata": {},
   "outputs": [
    {
     "name": "stdout",
     "output_type": "stream",
     "text": [
      "\n",
      "     active environment : deepL_Q\n",
      "    active env location : /Users/xinby/opt/anaconda3/envs/deepL_Q\n",
      "            shell level : 2\n",
      "       user config file : /Users/xinby/.condarc\n",
      " populated config files : /Users/xinby/.condarc\n",
      "          conda version : 23.3.1\n",
      "    conda-build version : 3.21.8\n",
      "         python version : 3.9.12.final.0\n",
      "       virtual packages : __archspec=1=x86_64\n",
      "                          __osx=10.16=0\n",
      "                          __unix=0=0\n",
      "       base environment : /Users/xinby/opt/anaconda3  (writable)\n",
      "      conda av data dir : /Users/xinby/opt/anaconda3/etc/conda\n",
      "  conda av metadata url : None\n",
      "           channel URLs : https://mirrors.sustech.edu.cn/anaconda/pkgs/main/osx-64\n",
      "                          https://mirrors.sustech.edu.cn/anaconda/pkgs/main/noarch\n",
      "                          https://mirrors.sustech.edu.cn/anaconda/pkgs/free/osx-64\n",
      "                          https://mirrors.sustech.edu.cn/anaconda/pkgs/free/noarch\n",
      "                          https://mirrors.sustech.edu.cn/anaconda/cloud/pytorch/osx-64\n",
      "                          https://mirrors.sustech.edu.cn/anaconda/cloud/pytorch/noarch\n",
      "                          https://mirrors.sustech.edu.cn/anaconda-extra/cloud/nvidia/osx-64\n",
      "                          https://mirrors.sustech.edu.cn/anaconda-extra/cloud/nvidia/noarch\n",
      "                          https://mirrors.sustech.edu.cn/anaconda/cloud/conda-forge/osx-64\n",
      "                          https://mirrors.sustech.edu.cn/anaconda/cloud/conda-forge/noarch\n",
      "          package cache : /Users/xinby/opt/anaconda3/pkgs\n",
      "                          /Users/xinby/.conda/pkgs\n",
      "       envs directories : /Users/xinby/opt/anaconda3/envs\n",
      "                          /Users/xinby/.conda/envs\n",
      "               platform : osx-64\n",
      "             user-agent : conda/23.3.1 requests/2.27.1 CPython/3.9.12 Darwin/22.5.0 OSX/10.16\n",
      "                UID:GID : 501:20\n",
      "             netrc file : None\n",
      "           offline mode : False\n",
      "\n"
     ]
    }
   ],
   "source": [
    "!conda info"
   ]
  },
  {
   "cell_type": "code",
   "execution_count": 1,
   "metadata": {},
   "outputs": [
    {
     "name": "stdout",
     "output_type": "stream",
     "text": [
      "Intel MKL WARNING: Support of Intel(R) Streaming SIMD Extensions 4.2 (Intel(R) SSE4.2) enabled only processors has been deprecated. Intel oneAPI Math Kernel Library 2025.0 will require Intel(R) Advanced Vector Extensions (Intel(R) AVX) instructions.\n",
      "Intel MKL WARNING: Support of Intel(R) Streaming SIMD Extensions 4.2 (Intel(R) SSE4.2) enabled only processors has been deprecated. Intel oneAPI Math Kernel Library 2025.0 will require Intel(R) Advanced Vector Extensions (Intel(R) AVX) instructions.\n"
     ]
    },
    {
     "data": {
      "text/plain": [
       "tensor([[-0.1115,  0.1204, -0.3696],\n",
       "        [-0.2404, -1.1969,  0.2093],\n",
       "        [-0.9724, -0.7550,  0.3239],\n",
       "        [-0.1085,  0.2103, -0.3908],\n",
       "        [ 0.2350,  0.6653,  0.3528]])"
      ]
     },
     "execution_count": 1,
     "metadata": {},
     "output_type": "execute_result"
    }
   ],
   "source": [
    "import torch\n",
    "torch.manual_seed(123)\n",
    "torch.randn(5, 3)"
   ]
  },
  {
   "cell_type": "code",
   "execution_count": 2,
   "metadata": {
    "scrolled": true
   },
   "outputs": [
    {
     "data": {
      "text/plain": [
       "False"
      ]
     },
     "execution_count": 2,
     "metadata": {},
     "output_type": "execute_result"
    }
   ],
   "source": [
    "torch.cuda.is_available()"
   ]
  },
  {
   "cell_type": "markdown",
   "metadata": {},
   "source": [
    "## 3. Diffusion Model（选做）"
   ]
  },
  {
   "cell_type": "markdown",
   "metadata": {},
   "source": [
    "按照 `lec1-huggingface.ipynb` 的提示配置好 Hugging Face 环境，并运行一个 Stable Diffusion 文生图的例子。发挥你的创意选择 Prompt 提示词，并在硬件条件允许的情况下适当增加 `num_inference_steps` 参数以提升生成质量。如果模型下载过慢，可以从实验室机房的电脑中复制模型文件，路径为 `C:\\Users\\<用户名>\\.cache\\huggingface`。将此文件夹复制到你自己电脑的对应位置（Windows 下为你用户名的对应文件夹，Mac/Linux 下为 `~/.cache/huggingface`。）"
   ]
  },
  {
   "cell_type": "code",
   "execution_count": null,
   "metadata": {},
   "outputs": [],
   "source": []
  }
 ],
 "metadata": {
  "kernelspec": {
   "display_name": "Python 3 (ipykernel)",
   "language": "python",
   "name": "python3"
  },
  "language_info": {
   "codemirror_mode": {
    "name": "ipython",
    "version": 3
   },
   "file_extension": ".py",
   "mimetype": "text/x-python",
   "name": "python",
   "nbconvert_exporter": "python",
   "pygments_lexer": "ipython3",
   "version": "3.11.5"
  }
 },
 "nbformat": 4,
 "nbformat_minor": 4
}
