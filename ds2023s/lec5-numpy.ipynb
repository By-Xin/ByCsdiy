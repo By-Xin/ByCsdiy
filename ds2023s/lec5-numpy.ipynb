{
 "cells": [
  {
   "cell_type": "markdown",
   "metadata": {},
   "source": [
    "# Numpy 基础"
   ]
  },
  {
   "cell_type": "markdown",
   "metadata": {},
   "source": [
    "如遇到不清楚的函数或主题，可以查阅[官方文档](https://numpy.org/doc/stable/user/index.html)、阅读[教程](https://www.runoob.com/numpy/numpy-tutorial.html)或利用搜索引擎寻求帮助。"
   ]
  },
  {
   "cell_type": "markdown",
   "metadata": {},
   "source": [
    "## 1. 矩阵和向量"
   ]
  },
  {
   "cell_type": "markdown",
   "metadata": {},
   "source": [
    "首先导入Numpy包："
   ]
  },
  {
   "cell_type": "code",
   "execution_count": 2,
   "metadata": {},
   "outputs": [],
   "source": [
    "import numpy as np"
   ]
  },
  {
   "cell_type": "markdown",
   "metadata": {},
   "source": [
    "利用Numpy可以方便地创建向量和矩阵："
   ]
  },
  {
   "cell_type": "code",
   "execution_count": 5,
   "metadata": {},
   "outputs": [
    {
     "data": {
      "text/plain": [
       "[1.0, 2.0, 1.0, 2.0]"
      ]
     },
     "execution_count": 5,
     "metadata": {},
     "output_type": "execute_result"
    }
   ],
   "source": [
    "[1.0,2.0]+[1.0,2.0]"
   ]
  },
  {
   "cell_type": "code",
   "execution_count": 7,
   "metadata": {},
   "outputs": [
    {
     "name": "stdout",
     "output_type": "stream",
     "text": [
      "[1. 2. 5.]\n",
      "[ 2.  4. 10.]\n"
     ]
    }
   ],
   "source": [
    "vec = np.array([1.0, 2.0, 5.0])\n",
    "print(vec)\n",
    "print(vec+vec)\n"
   ]
  },
  {
   "attachments": {},
   "cell_type": "markdown",
   "metadata": {},
   "source": [
    "- ***在numpy中，默认情况下这种向量的拼接是按照行排列的***"
   ]
  },
  {
   "cell_type": "code",
   "execution_count": 8,
   "metadata": {},
   "outputs": [
    {
     "name": "stdout",
     "output_type": "stream",
     "text": [
      "[[1.  2.  2. ]\n",
      " [3.  5.  4.5]]\n"
     ]
    }
   ],
   "source": [
    "mat = np.array([[1.0, 2.0, 2.0], [3.0, 5.0, 4.5]]) #两重列表\n",
    "print(mat)"
   ]
  },
  {
   "attachments": {},
   "cell_type": "markdown",
   "metadata": {},
   "source": [
    "* 通过`linspace`生成均匀步进的数列"
   ]
  },
  {
   "cell_type": "code",
   "execution_count": 9,
   "metadata": {},
   "outputs": [
    {
     "name": "stdout",
     "output_type": "stream",
     "text": [
      "[1.         1.36363636 1.72727273 2.09090909 2.45454545 2.81818182\n",
      " 3.18181818 3.54545455 3.90909091 4.27272727 4.63636364 5.        ]\n"
     ]
    }
   ],
   "source": [
    "vec = np.linspace(start=1.0, stop=5.0, num=12) \n",
    "print(vec)"
   ]
  },
  {
   "attachments": {},
   "cell_type": "markdown",
   "metadata": {},
   "source": [
    "* `reshape` 进行形状改变"
   ]
  },
  {
   "cell_type": "code",
   "execution_count": 10,
   "metadata": {},
   "outputs": [
    {
     "name": "stdout",
     "output_type": "stream",
     "text": [
      "[[1.         1.36363636 1.72727273 2.09090909]\n",
      " [2.45454545 2.81818182 3.18181818 3.54545455]\n",
      " [3.90909091 4.27272727 4.63636364 5.        ]]\n"
     ]
    }
   ],
   "source": [
    "mat = np.reshape(vec, (3, 4))\n",
    "print(mat)"
   ]
  },
  {
   "cell_type": "code",
   "execution_count": 14,
   "metadata": {},
   "outputs": [
    {
     "name": "stdout",
     "output_type": "stream",
     "text": [
      "[1.         1.36363636 1.72727273 2.09090909 2.45454545 2.81818182\n",
      " 3.18181818 3.54545455 3.90909091 4.27272727 4.63636364 5.        ]\n"
     ]
    }
   ],
   "source": [
    "vec.reshape(3, 4)\n"
   ]
  },
  {
   "cell_type": "markdown",
   "metadata": {},
   "source": [
    "一些特殊的向量和矩阵有专用的创建方法。1-向量/矩阵："
   ]
  },
  {
   "cell_type": "code",
   "execution_count": 15,
   "metadata": {},
   "outputs": [
    {
     "data": {
      "text/plain": [
       "array([1., 1., 1., 1., 1.])"
      ]
     },
     "execution_count": 15,
     "metadata": {},
     "output_type": "execute_result"
    }
   ],
   "source": [
    "np.ones(5)"
   ]
  },
  {
   "cell_type": "code",
   "execution_count": 16,
   "metadata": {},
   "outputs": [
    {
     "data": {
      "text/plain": [
       "array([[1., 1.],\n",
       "       [1., 1.],\n",
       "       [1., 1.]])"
      ]
     },
     "execution_count": 16,
     "metadata": {},
     "output_type": "execute_result"
    }
   ],
   "source": [
    "np.ones((3, 2))"
   ]
  },
  {
   "cell_type": "markdown",
   "metadata": {},
   "source": [
    "0-向量/矩阵："
   ]
  },
  {
   "cell_type": "code",
   "execution_count": 17,
   "metadata": {},
   "outputs": [
    {
     "data": {
      "text/plain": [
       "array([0., 0., 0.])"
      ]
     },
     "execution_count": 17,
     "metadata": {},
     "output_type": "execute_result"
    }
   ],
   "source": [
    "np.zeros(3)"
   ]
  },
  {
   "cell_type": "code",
   "execution_count": 18,
   "metadata": {},
   "outputs": [
    {
     "data": {
      "text/plain": [
       "array([[0., 0., 0.],\n",
       "       [0., 0., 0.]])"
      ]
     },
     "execution_count": 18,
     "metadata": {},
     "output_type": "execute_result"
    }
   ],
   "source": [
    "np.zeros((2, 3))"
   ]
  },
  {
   "cell_type": "markdown",
   "metadata": {},
   "source": [
    "单位阵："
   ]
  },
  {
   "cell_type": "code",
   "execution_count": 19,
   "metadata": {},
   "outputs": [
    {
     "data": {
      "text/plain": [
       "array([[1., 0., 0., 0., 0.],\n",
       "       [0., 1., 0., 0., 0.],\n",
       "       [0., 0., 1., 0., 0.],\n",
       "       [0., 0., 0., 1., 0.],\n",
       "       [0., 0., 0., 0., 1.]])"
      ]
     },
     "execution_count": 19,
     "metadata": {},
     "output_type": "execute_result"
    }
   ],
   "source": [
    "np.eye(5)"
   ]
  },
  {
   "cell_type": "markdown",
   "metadata": {},
   "source": [
    "对角矩阵："
   ]
  },
  {
   "cell_type": "code",
   "execution_count": 20,
   "metadata": {},
   "outputs": [
    {
     "data": {
      "text/plain": [
       "array([[1, 0, 0],\n",
       "       [0, 3, 0],\n",
       "       [0, 0, 5]])"
      ]
     },
     "execution_count": 20,
     "metadata": {},
     "output_type": "execute_result"
    }
   ],
   "source": [
    "d = np.array([1, 3, 5])\n",
    "np.diag(d)"
   ]
  },
  {
   "attachments": {},
   "cell_type": "markdown",
   "metadata": {},
   "source": [
    "Python中***下标是从0开始的***，请一定要记住这一点，否则会造成很多逻辑错误。"
   ]
  },
  {
   "cell_type": "code",
   "execution_count": 21,
   "metadata": {},
   "outputs": [
    {
     "name": "stdout",
     "output_type": "stream",
     "text": [
      "1.0\n",
      "1.7272727272727273\n",
      "2.8181818181818183\n"
     ]
    }
   ],
   "source": [
    "print(vec[0])\n",
    "print(vec[2])\n",
    "print(mat[1, 1])"
   ]
  },
  {
   "attachments": {},
   "cell_type": "markdown",
   "metadata": {},
   "source": [
    "负数的下标表示从尾部往前数：\n",
    "* `-1`表示最后一个元素（如果是-0的话就和0没区别了）"
   ]
  },
  {
   "cell_type": "code",
   "execution_count": 22,
   "metadata": {},
   "outputs": [
    {
     "name": "stdout",
     "output_type": "stream",
     "text": [
      "5.0\n",
      "4.636363636363637\n",
      "3.5454545454545454\n"
     ]
    }
   ],
   "source": [
    "print(vec[-1])\n",
    "print(vec[-2])\n",
    "print(mat[1, -1])"
   ]
  },
  {
   "attachments": {},
   "cell_type": "markdown",
   "metadata": {},
   "source": [
    "可以用冒号选取向量中的一段范围，格式为`x[start:end]`，选出的元素包含`x[start]`，不包含`x[end]`。\n",
    "- *左开右闭*"
   ]
  },
  {
   "cell_type": "code",
   "execution_count": 23,
   "metadata": {},
   "outputs": [
    {
     "name": "stdout",
     "output_type": "stream",
     "text": [
      "[1.36363636 1.72727273]\n"
     ]
    }
   ],
   "source": [
    "print(vec[1:3])"
   ]
  },
  {
   "cell_type": "code",
   "execution_count": 24,
   "metadata": {},
   "outputs": [
    {
     "name": "stdout",
     "output_type": "stream",
     "text": [
      "[[1.         1.36363636]\n",
      " [2.45454545 2.81818182]\n",
      " [3.90909091 4.27272727]]\n"
     ]
    }
   ],
   "source": [
    "print(mat[:, :2])"
   ]
  },
  {
   "cell_type": "markdown",
   "metadata": {},
   "source": [
    "在编写函数时，经常需要各种测试数据，此时可以用Numpy来生成各类随机数。**在需要用到随机数之前，一定要先设置随机数种子，以使结果可重复。**"
   ]
  },
  {
   "cell_type": "code",
   "execution_count": 25,
   "metadata": {},
   "outputs": [],
   "source": [
    "np.random.seed(123)"
   ]
  },
  {
   "cell_type": "markdown",
   "metadata": {},
   "source": [
    "生成均匀分布随机数："
   ]
  },
  {
   "cell_type": "code",
   "execution_count": 26,
   "metadata": {},
   "outputs": [
    {
     "name": "stdout",
     "output_type": "stream",
     "text": [
      "[0.69646919 0.28613933 0.22685145 0.55131477 0.71946897]\n"
     ]
    }
   ],
   "source": [
    "unif = np.random.uniform(low=0.0, high=1.0, size=5)\n",
    "print(unif)"
   ]
  },
  {
   "cell_type": "markdown",
   "metadata": {},
   "source": [
    "正态分布随机数："
   ]
  },
  {
   "cell_type": "code",
   "execution_count": 27,
   "metadata": {},
   "outputs": [
    {
     "name": "stdout",
     "output_type": "stream",
     "text": [
      "[[ 0.32210607 -0.05151772 -0.20420096  1.97934843 -1.61930007]\n",
      " [-1.11396442 -0.44744072  1.66840161 -0.14337247 -0.6191909 ]]\n"
     ]
    }
   ],
   "source": [
    "norm = np.random.normal(loc=0.0, scale=1.0, size=(2, 5))\n",
    "print(norm)"
   ]
  },
  {
   "cell_type": "markdown",
   "metadata": {},
   "source": [
    "Numpy提供了许多数学函数对向量和矩阵进行操作："
   ]
  },
  {
   "cell_type": "code",
   "execution_count": 28,
   "metadata": {},
   "outputs": [
    {
     "name": "stdout",
     "output_type": "stream",
     "text": [
      "[ 0.19646919 -0.21386067 -0.27314855  0.05131477  0.21946897]\n"
     ]
    }
   ],
   "source": [
    "print(unif - 0.5)"
   ]
  },
  {
   "cell_type": "code",
   "execution_count": 29,
   "metadata": {},
   "outputs": [
    {
     "name": "stdout",
     "output_type": "stream",
     "text": [
      "[[ 0.64421214 -0.10303544 -0.40840193  3.95869687 -3.23860013]\n",
      " [-2.22792883 -0.89488144  3.33680322 -0.28674495 -1.2383818 ]]\n"
     ]
    }
   ],
   "source": [
    "print(norm * 2)"
   ]
  },
  {
   "cell_type": "code",
   "execution_count": 30,
   "metadata": {},
   "outputs": [
    {
     "name": "stdout",
     "output_type": "stream",
     "text": [
      "[[1.38003115 0.94978682 0.81529851 7.23802539 0.19803726]\n",
      " [0.32825504 0.63926211 5.30368367 0.86643129 0.53837986]]\n"
     ]
    }
   ],
   "source": [
    "print(np.exp(norm))"
   ]
  },
  {
   "cell_type": "code",
   "execution_count": 31,
   "metadata": {},
   "outputs": [
    {
     "name": "stdout",
     "output_type": "stream",
     "text": [
      "[-0.36173173 -1.2512764  -1.48345987 -0.59544936 -0.32924188]\n"
     ]
    }
   ],
   "source": [
    "print(np.log(unif))"
   ]
  },
  {
   "cell_type": "markdown",
   "metadata": {},
   "source": [
    "也可以对向量和矩阵进行汇总："
   ]
  },
  {
   "cell_type": "code",
   "execution_count": 33,
   "metadata": {},
   "outputs": [
    {
     "data": {
      "text/plain": [
       "2.4802437129808985"
      ]
     },
     "execution_count": 33,
     "metadata": {},
     "output_type": "execute_result"
    }
   ],
   "source": [
    "np.sum(unif)"
   ]
  },
  {
   "cell_type": "code",
   "execution_count": 34,
   "metadata": {},
   "outputs": [
    {
     "data": {
      "text/plain": [
       "-0.02291311494411293"
      ]
     },
     "execution_count": 34,
     "metadata": {},
     "output_type": "execute_result"
    }
   ],
   "source": [
    "np.mean(norm)"
   ]
  },
  {
   "cell_type": "markdown",
   "metadata": {},
   "source": [
    "汇总可以按行或者按列进行，这由`axis`参数决定。0表示运算时第一个维度（行）在变化，1表示运算时第二个维度（列）在变化。\n",
    "再次提醒，Python中以0表示第一个元素！"
   ]
  },
  {
   "cell_type": "code",
   "execution_count": 35,
   "metadata": {},
   "outputs": [
    {
     "data": {
      "text/plain": [
       "array([[ 0.32210607, -0.05151772, -0.20420096,  1.97934843, -1.61930007],\n",
       "       [-1.11396442, -0.44744072,  1.66840161, -0.14337247, -0.6191909 ]])"
      ]
     },
     "execution_count": 35,
     "metadata": {},
     "output_type": "execute_result"
    }
   ],
   "source": [
    "norm"
   ]
  },
  {
   "attachments": {},
   "cell_type": "markdown",
   "metadata": {},
   "source": [
    "- 记忆：前行后列，所以0行1列"
   ]
  },
  {
   "cell_type": "code",
   "execution_count": 38,
   "metadata": {},
   "outputs": [
    {
     "data": {
      "text/plain": [
       "array([-0.39592917, -0.24947922,  0.73210032,  0.91798798, -1.11924548])"
      ]
     },
     "execution_count": 38,
     "metadata": {},
     "output_type": "execute_result"
    }
   ],
   "source": [
    "np.mean(norm, axis=0)  # 对第一个维度（行标在变化）求均值"
   ]
  },
  {
   "cell_type": "code",
   "execution_count": 39,
   "metadata": {},
   "outputs": [
    {
     "data": {
      "text/plain": [
       "array([1.33033757, 0.90853666])"
      ]
     },
     "execution_count": 39,
     "metadata": {},
     "output_type": "execute_result"
    }
   ],
   "source": [
    "np.var(norm, axis=1)  # 对第二个维度（列标在变化）求方差"
   ]
  },
  {
   "cell_type": "markdown",
   "metadata": {},
   "source": [
    "Numpy 中还有一种常见的操作称为广播（[教程](https://www.runoob.com/numpy/numpy-broadcast.html)），即矩阵和向量进行逐元素运算时，向量可以自动扩展以匹配矩阵的维度。考虑如下矩阵和向量："
   ]
  },
  {
   "cell_type": "code",
   "execution_count": 40,
   "metadata": {},
   "outputs": [
    {
     "data": {
      "text/plain": [
       "array([[ 0,  1,  2,  3],\n",
       "       [ 4,  5,  6,  7],\n",
       "       [ 8,  9, 10, 11]])"
      ]
     },
     "execution_count": 40,
     "metadata": {},
     "output_type": "execute_result"
    }
   ],
   "source": [
    "mat = np.arange(12).reshape(3, 4)\n",
    "mat"
   ]
  },
  {
   "cell_type": "code",
   "execution_count": 41,
   "metadata": {},
   "outputs": [
    {
     "data": {
      "text/plain": [
       "array([0, 1, 2])"
      ]
     },
     "execution_count": 41,
     "metadata": {},
     "output_type": "execute_result"
    }
   ],
   "source": [
    "v1 = np.arange(3)\n",
    "v1"
   ]
  },
  {
   "cell_type": "code",
   "execution_count": 42,
   "metadata": {},
   "outputs": [
    {
     "data": {
      "text/plain": [
       "array([0, 1, 2, 3])"
      ]
     },
     "execution_count": 42,
     "metadata": {},
     "output_type": "execute_result"
    }
   ],
   "source": [
    "v2 = np.arange(4)\n",
    "v2"
   ]
  },
  {
   "cell_type": "markdown",
   "metadata": {},
   "source": [
    "将 `v1` 加到 `mat` 的每一列："
   ]
  },
  {
   "cell_type": "code",
   "execution_count": 43,
   "metadata": {},
   "outputs": [
    {
     "data": {
      "text/plain": [
       "array([[0],\n",
       "       [1],\n",
       "       [2]])"
      ]
     },
     "execution_count": 43,
     "metadata": {},
     "output_type": "execute_result"
    }
   ],
   "source": [
    "v1.reshape(3, 1)"
   ]
  },
  {
   "cell_type": "code",
   "execution_count": 45,
   "metadata": {},
   "outputs": [
    {
     "data": {
      "text/plain": [
       "array([[ 0,  1,  2,  3],\n",
       "       [ 5,  6,  7,  8],\n",
       "       [10, 11, 12, 13]])"
      ]
     },
     "execution_count": 45,
     "metadata": {},
     "output_type": "execute_result"
    }
   ],
   "source": [
    "mat + v1.reshape(3, 1)"
   ]
  },
  {
   "cell_type": "markdown",
   "metadata": {},
   "source": [
    "将 `v2` 加到 `mat` 的每一行："
   ]
  },
  {
   "cell_type": "code",
   "execution_count": 44,
   "metadata": {},
   "outputs": [
    {
     "data": {
      "text/plain": [
       "array([[ 0,  2,  4,  6],\n",
       "       [ 4,  6,  8, 10],\n",
       "       [ 8, 10, 12, 14]])"
      ]
     },
     "execution_count": 44,
     "metadata": {},
     "output_type": "execute_result"
    }
   ],
   "source": [
    "mat + v2.reshape(1, 4)"
   ]
  },
  {
   "cell_type": "markdown",
   "metadata": {},
   "source": [
    "对行操作时，也可以不用 `reshape()` 直接进行运算："
   ]
  },
  {
   "cell_type": "code",
   "execution_count": 46,
   "metadata": {},
   "outputs": [
    {
     "data": {
      "text/plain": [
       "array([[ 0,  2,  4,  6],\n",
       "       [ 4,  6,  8, 10],\n",
       "       [ 8, 10, 12, 14]])"
      ]
     },
     "execution_count": 46,
     "metadata": {},
     "output_type": "execute_result"
    }
   ],
   "source": [
    "mat + v2"
   ]
  },
  {
   "cell_type": "markdown",
   "metadata": {},
   "source": [
    "### 练习"
   ]
  },
  {
   "cell_type": "markdown",
   "metadata": {},
   "source": [
    "(a) 生成10000个服从(0, 1)间均匀分布的随机数，赋值给变量`x`，并打印其**前10个**元素。"
   ]
  },
  {
   "cell_type": "markdown",
   "metadata": {},
   "source": [
    "(b) 创建向量`y`，令其在数学上等于`y=-log(x)`，其中`log`为自然对数。打印`y`的**最后10个**元素。"
   ]
  },
  {
   "cell_type": "markdown",
   "metadata": {},
   "source": [
    "(c) 查找在Python中绘制图形的方法，绘制`y`的直方图。"
   ]
  },
  {
   "cell_type": "markdown",
   "metadata": {},
   "source": [
    "(d) 猜测或证明`y`服从什么分布，并简要说明理由。"
   ]
  },
  {
   "cell_type": "markdown",
   "metadata": {},
   "source": [
    "## 2. 线性代数操作"
   ]
  },
  {
   "cell_type": "markdown",
   "metadata": {},
   "source": [
    "矩阵转置 $A^T$："
   ]
  },
  {
   "cell_type": "code",
   "execution_count": 47,
   "metadata": {},
   "outputs": [
    {
     "data": {
      "text/plain": [
       "array([[-1.0856306 ,  0.99734545,  0.2829785 ],\n",
       "       [-1.50629471, -0.57860025,  1.65143654],\n",
       "       [-2.42667924, -0.42891263,  1.26593626],\n",
       "       [-0.8667404 , -0.67888615, -0.09470897],\n",
       "       [ 1.49138963, -0.638902  , -0.44398196]])"
      ]
     },
     "execution_count": 47,
     "metadata": {},
     "output_type": "execute_result"
    }
   ],
   "source": [
    "np.random.seed(123)\n",
    "A = np.random.normal(size=(5, 3))\n",
    "A"
   ]
  },
  {
   "cell_type": "code",
   "execution_count": 48,
   "metadata": {
    "scrolled": true
   },
   "outputs": [
    {
     "data": {
      "text/plain": [
       "array([[-1.0856306 , -1.50629471, -2.42667924, -0.8667404 ,  1.49138963],\n",
       "       [ 0.99734545, -0.57860025, -0.42891263, -0.67888615, -0.638902  ],\n",
       "       [ 0.2829785 ,  1.65143654,  1.26593626, -0.09470897, -0.44398196]])"
      ]
     },
     "execution_count": 48,
     "metadata": {},
     "output_type": "execute_result"
    }
   ],
   "source": [
    "A.transpose()"
   ]
  },
  {
   "cell_type": "markdown",
   "metadata": {},
   "source": [
    "矩阵乘法 $B=A^TA$："
   ]
  },
  {
   "cell_type": "code",
   "execution_count": 57,
   "metadata": {
    "scrolled": true
   },
   "outputs": [
    {
     "data": {
      "text/plain": [
       "array([[12.31177166,  0.46519338, -6.44684349],\n",
       "       [ 0.46519338,  2.3825244 , -0.86831276],\n",
       "       [-6.44684349, -0.86831276,  4.61600385]])"
      ]
     },
     "execution_count": 57,
     "metadata": {},
     "output_type": "execute_result"
    }
   ],
   "source": [
    "B = np.matmul(A.transpose(), A)\n",
    "B"
   ]
  },
  {
   "cell_type": "markdown",
   "metadata": {},
   "source": [
    "$Bx$："
   ]
  },
  {
   "cell_type": "code",
   "execution_count": 58,
   "metadata": {},
   "outputs": [
    {
     "data": {
      "text/plain": [
       "array([-21.58213548,  -2.89040652,  12.82454126])"
      ]
     },
     "execution_count": 58,
     "metadata": {},
     "output_type": "execute_result"
    }
   ],
   "source": [
    "x = np.random.normal(size=3)\n",
    "Bx = np.matmul(B, x)\n",
    "Bx"
   ]
  },
  {
   "cell_type": "markdown",
   "metadata": {},
   "source": [
    "也可以调用对象自己的 `dot()` 函数："
   ]
  },
  {
   "cell_type": "code",
   "execution_count": 50,
   "metadata": {
    "scrolled": true
   },
   "outputs": [
    {
     "name": "stdout",
     "output_type": "stream",
     "text": [
      "[[12.31177166  0.46519338 -6.44684349]\n",
      " [ 0.46519338  2.3825244  -0.86831276]\n",
      " [-6.44684349 -0.86831276  4.61600385]]\n",
      "\n",
      "[-18.4193173    3.15481065  10.97897045]\n"
     ]
    }
   ],
   "source": [
    "B = A.transpose().dot(A)\n",
    "Bx = B.dot(x)\n",
    "print(B)\n",
    "print()\n",
    "print(Bx)"
   ]
  },
  {
   "cell_type": "markdown",
   "metadata": {},
   "source": [
    "**注意**：如果最终目的是计算 $A^TAx$，应先计算 $Ax$，再计算 $A^T(Ax)$。（为什么？）"
   ]
  },
  {
   "cell_type": "markdown",
   "metadata": {},
   "source": [
    "矩阵求逆："
   ]
  },
  {
   "cell_type": "code",
   "execution_count": 51,
   "metadata": {},
   "outputs": [
    {
     "data": {
      "text/plain": [
       "array([[0.3272113 , 0.11021878, 0.47772586],\n",
       "       [0.11021878, 0.48774192, 0.24568345],\n",
       "       [0.47772586, 0.24568345, 0.93005856]])"
      ]
     },
     "execution_count": 51,
     "metadata": {},
     "output_type": "execute_result"
    }
   ],
   "source": [
    "Binv = np.linalg.inv(B)\n",
    "Binv"
   ]
  },
  {
   "cell_type": "code",
   "execution_count": 52,
   "metadata": {},
   "outputs": [
    {
     "data": {
      "text/plain": [
       "array([[ 1.00000000e+00, -5.55111512e-17, -4.44089210e-16],\n",
       "       [ 2.22044605e-16,  1.00000000e+00,  0.00000000e+00],\n",
       "       [ 8.88178420e-16, -1.11022302e-16,  1.00000000e+00]])"
      ]
     },
     "execution_count": 52,
     "metadata": {},
     "output_type": "execute_result"
    }
   ],
   "source": [
    "Binv.dot(B)"
   ]
  },
  {
   "cell_type": "markdown",
   "metadata": {},
   "source": [
    "**注意：实际计算中通常不需要显式地求逆，而应尽可能转化成解线性方程组。**"
   ]
  },
  {
   "cell_type": "markdown",
   "metadata": {},
   "source": [
    "解线性方程组 $Bx=d$，即计算 $x=B^{-1}d$："
   ]
  },
  {
   "cell_type": "code",
   "execution_count": 53,
   "metadata": {},
   "outputs": [
    {
     "data": {
      "text/plain": [
       "array([0.72336281, 0.48018414, 1.26033807])"
      ]
     },
     "execution_count": 53,
     "metadata": {},
     "output_type": "execute_result"
    }
   ],
   "source": [
    "d = np.random.normal(size=3)\n",
    "x = np.linalg.solve(B, d)\n",
    "x"
   ]
  },
  {
   "cell_type": "markdown",
   "metadata": {},
   "source": [
    "验证解的正确性："
   ]
  },
  {
   "cell_type": "code",
   "execution_count": 54,
   "metadata": {},
   "outputs": [
    {
     "name": "stdout",
     "output_type": "stream",
     "text": [
      "[1.0040539  0.3861864  0.73736858]\n",
      "[1.0040539  0.3861864  0.73736858]\n"
     ]
    }
   ],
   "source": [
    "print(d)\n",
    "print(B.dot(x))"
   ]
  },
  {
   "cell_type": "markdown",
   "metadata": {},
   "source": [
    "求解特征值和特征向量："
   ]
  },
  {
   "cell_type": "code",
   "execution_count": 55,
   "metadata": {},
   "outputs": [
    {
     "name": "stdout",
     "output_type": "stream",
     "text": [
      "[ 0.77881759  2.50876381 16.02271851]\n",
      "\n",
      "[[-0.45250424 -0.20887627 -0.86695479]\n",
      " [-0.31951962  0.94561067 -0.06105468]\n",
      " [-0.83255458 -0.24938156  0.49463291]]\n"
     ]
    }
   ],
   "source": [
    "evals, evecs = np.linalg.eigh(B)\n",
    "print(evals)\n",
    "print()\n",
    "print(evecs)"
   ]
  },
  {
   "attachments": {},
   "cell_type": "markdown",
   "metadata": {},
   "source": [
    "- 数值计算 引入"
   ]
  },
  {
   "cell_type": "code",
   "execution_count": 63,
   "metadata": {},
   "outputs": [
    {
     "name": "stdout",
     "output_type": "stream",
     "text": [
      "[[-1.32113575]\n",
      " [-0.12680952]\n",
      " [ 1.28256236]\n",
      " [-0.79913986]\n",
      " [-1.5374199 ]]\n"
     ]
    }
   ],
   "source": [
    "x = np.random.normal(size = (5,3))\n",
    "y = np.random.normal(size = (5,1))\n",
    "#inv = np.linalg.inv(x.transpose().dot(x))\n",
    "yhat = x.dot(np.linalg.inv(x.transpose().dot(x))).dot(x.transpose().dot(y))\n",
    "print(yhat)"
   ]
  }
 ],
 "metadata": {
  "kernelspec": {
   "display_name": "Python 3 (ipykernel)",
   "language": "python",
   "name": "python3"
  },
  "language_info": {
   "codemirror_mode": {
    "name": "ipython",
    "version": 3
   },
   "file_extension": ".py",
   "mimetype": "text/x-python",
   "name": "python",
   "nbconvert_exporter": "python",
   "pygments_lexer": "ipython3",
   "version": "3.9.12"
  }
 },
 "nbformat": 4,
 "nbformat_minor": 4
}
