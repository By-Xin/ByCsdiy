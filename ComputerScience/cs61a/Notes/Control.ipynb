{
 "cells": [
  {
   "cell_type": "markdown",
   "metadata": {},
   "source": [
    "# Control"
   ]
  },
  {
   "cell_type": "markdown",
   "metadata": {},
   "source": [
    "## Multiple Environments"
   ]
  },
  {
   "cell_type": "markdown",
   "metadata": {},
   "source": [
    "- Names have no meaning without environments.\n",
    "  - Every expression is evaluated in some environment.    \n",
    "- Names have different meanings in different environments.\n",
    "  - The same name can refer to different values in different environments."
   ]
  },
  {
   "cell_type": "code",
   "execution_count": 1,
   "metadata": {},
   "outputs": [
    {
     "data": {
      "text/plain": [
       "16"
      ]
     },
     "execution_count": 1,
     "metadata": {},
     "output_type": "execute_result"
    }
   ],
   "source": [
    "from operator import mul\n",
    "def square(square):\n",
    "    return mul(square,square)\n",
    "square(4)"
   ]
  },
  {
   "cell_type": "markdown",
   "metadata": {},
   "source": [
    "## Miscellaneous Python Features"
   ]
  },
  {
   "cell_type": "code",
   "execution_count": 2,
   "metadata": {},
   "outputs": [
    {
     "name": "stdout",
     "output_type": "stream",
     "text": [
      "201.3\n",
      "201\n",
      "3\n",
      "201.3\n",
      "201\n",
      "3\n"
     ]
    }
   ],
   "source": [
    "from operator import truediv, floordiv, mod\n",
    "print(2013/10)\n",
    "print(2013//10)\n",
    "print(2013%10)\n",
    "print(truediv(2013,10))\n",
    "print(floordiv(2013,10))\n",
    "print(mod(2013,10))"
   ]
  },
  {
   "cell_type": "code",
   "execution_count": null,
   "metadata": {},
   "outputs": [],
   "source": [
    "from operator import truediv, floordiv, mod\n",
    "def divide_exact(n,d):\n",
    "    \"\"\"Return the quotient and remainder of dividing n by d.\n",
    "    >>> q, r = divide_exact(2013,10)\n",
    "    >>> q\n",
    "    201\n",
    "    >>> r\n",
    "    3\n",
    "    \"\"\"\n",
    "    return floordiv(n,d), mod(n,d)\n",
    "\n",
    "# Bash: python3 -m doctest -v doctest.py"
   ]
  },
  {
   "cell_type": "markdown",
   "metadata": {},
   "source": [
    "## Conditional Statements"
   ]
  },
  {
   "cell_type": "markdown",
   "metadata": {},
   "source": [
    "- Execution rule for conditional statements:\n",
    "  - Evaluate the condition.\n",
    "  - If the condition is true, evaluate the consequent & skip the alternative.\n",
    "  - If the condition is false, evaluate the alternative."
   ]
  },
  {
   "cell_type": "markdown",
   "metadata": {},
   "source": [
    "## Iterations"
   ]
  },
  {
   "cell_type": "code",
   "execution_count": 3,
   "metadata": {},
   "outputs": [
    {
     "name": "stdout",
     "output_type": "stream",
     "text": [
      "45\n"
     ]
    }
   ],
   "source": [
    "i, total = 0, 0\n",
    "while i < 10:\n",
    "    total, i = total + i, i + 1\n",
    "print(total)\n"
   ]
  },
  {
   "cell_type": "markdown",
   "metadata": {},
   "source": [
    "- Execution rule for iterations:\n",
    "  - Evaluate the header's expression.\n",
    "  - If the expression is true, evaluate the body & go back to the header."
   ]
  }
 ],
 "metadata": {
  "kernelspec": {
   "display_name": "deepL_Q",
   "language": "python",
   "name": "python3"
  },
  "language_info": {
   "codemirror_mode": {
    "name": "ipython",
    "version": 3
   },
   "file_extension": ".py",
   "mimetype": "text/x-python",
   "name": "python",
   "nbconvert_exporter": "python",
   "pygments_lexer": "ipython3",
   "version": "3.11.5"
  }
 },
 "nbformat": 4,
 "nbformat_minor": 2
}
