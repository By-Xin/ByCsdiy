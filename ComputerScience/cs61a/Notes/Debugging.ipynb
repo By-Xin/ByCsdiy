{
 "cells": [
  {
   "cell_type": "markdown",
   "metadata": {},
   "source": [
    "# Debugging"
   ]
  },
  {
   "cell_type": "markdown",
   "metadata": {
    "vscode": {
     "languageId": "plaintext"
    }
   },
   "source": [
    "## Traceback Messages"
   ]
  },
  {
   "cell_type": "markdown",
   "metadata": {},
   "source": [
    "`File \"<file name>\", line <number>, in <function>`\n",
    "- File name: the name of the file that contains the problem.\n",
    "- Number: the line number in the file that caused the problem, or the line number that contains the next function call\n",
    "- Function: the name of the function in which the line can be found."
   ]
  },
  {
   "cell_type": "markdown",
   "metadata": {},
   "source": [
    "## Debugging Techniques"
   ]
  },
  {
   "cell_type": "markdown",
   "metadata": {},
   "source": [
    "**Running doctests**\n",
    "\n",
    "```python  \n",
    "def my_function(a, b):\n",
    "    \"\"\"\n",
    "    This is a function that adds two numbers.\n",
    "    >>> my_function(2, 3)\n",
    "    5\n",
    "    >>> my_function(2, 2)\n",
    "    4\n",
    "    \"\"\"\n",
    "    return a + b\n",
    "```\n",
    "\n",
    "**Using print statements**\n",
    "\n",
    "- Don't just print out a variable -- add some sort of message to make it easier for you to read:\n",
    "  - `print(x)   # harder to interpret`\n",
    "  - `print('DEBUG: x =', x)  # easier`\n",
    "- Use `print` calls to view the results of function calls (i.e. after function calls).\n",
    "- Use `print` calls at the end of a while loop to view the state of the counter variables after each iteration"
   ]
  },
  {
   "cell_type": "markdown",
   "metadata": {
    "vscode": {
     "languageId": "plaintext"
    }
   },
   "source": [
    "## Error Types"
   ]
  },
  {
   "cell_type": "markdown",
   "metadata": {},
   "source": [
    "**SyntaxError**\n",
    "- Cause: code syntax mistake\n",
    "- Example:\n",
    "\n",
    "  ``` bash\n",
    "  File \"file name\", line number\n",
    "      def incorrect(f)\n",
    "                      ^\n",
    "  SyntaxError: invalid syntax\n",
    "  ```\n",
    "\n",
    "- Solution: the `^` symbol points to the code that contains invalid syntax. The error message doesn't tell you what is wrong, but it does tell you where.\n",
    "- Notes: Python will check for `SyntaxErrors` before executing any code. This is different from other errors, which are only raised during runtime.\n",
    "\n",
    "**IndentationError**\n",
    "\n",
    "- Cause: improper indentation\n",
    "- Example:\n",
    "  ```bash\n",
    "    File \"file name\", line number\n",
    "      print('improper indentation')\n",
    "  IndentationError: unindent does not match any outer indentation level\n",
    "  ```\n",
    "- Solution: The line that is improperly indented is displayed. Simply re-indent it.\n",
    "- Notes: If you are inconsistent with tabs and spaces, Python will raise one of these. Make sure you use spaces! (It's just less of a headache in general in Python to use spaces and all cs61a content uses spaces).\n",
    "\n",
    "\n",
    "**TypeError**\n",
    "- Cause 1:\n",
    "  - Invalid operand types for primitive operators. You are probably trying to add/subract/multiply/divide incompatible types\n",
    "  - Example:\n",
    "    ```bash\n",
    "    TypeError: unsupported operand type(s) for +: 'function' and 'int'\n",
    "    ```\n",
    "\n",
    "- Cause 2:\n",
    "\n",
    "  - Using non-function objects in function calls.\n",
    "\n",
    "  - Example:\n",
    "    ```bash\n",
    "    >>> square = 3\n",
    "    >>> square(3)\n",
    "    Traceback (most recent call last):\n",
    "      ...\n",
    "    TypeError: 'int' object is not callable\n",
    "    ```\n",
    "- Cause 3:\n",
    "  - Passing an incorrect number of arguments to a function.\n",
    "  - Example:\n",
    "    ```bash\n",
    "    >>> add(3)\n",
    "    Traceback (most recent call last):\n",
    "      ...\n",
    "    TypeError: add expected 2 arguments, got 1\n",
    "    ```\n",
    "    \n",
    "**NameError**\n",
    "\n",
    "- Cause: variable not assigned to anything OR it doesn't exist. This includes function names.\n",
    "- Example:\n",
    "  ```bash\n",
    "  File \"file name\", line number\n",
    "    y = x + 3\n",
    "  NameError: global name 'x' is not defined\n",
    "  ```\n",
    "- Solution: Make sure you are initializing the variable (i.e. assigning the variable to a value) before you use it.\n",
    "- Notes: The reason the error message says \"global name\" is because Python will start searching for the variable from a function's local frame. If the variable is not found there, Python will keep searching the parent frames until it reaches the global frame. If it still can't find the variable, Python raises the error.\n",
    "\n",
    "**IndexError**\n",
    "\n",
    "- Cause: trying to index a sequence (e.g. a tuple, list, string) with a number that exceeds the size of the sequence.\n",
    "- Example:\n",
    "  ```bash\n",
    "  File \"file name\", line number\n",
    "    x[100]\n",
    "  IndexError: tuple index out of range\n",
    "  ```\n",
    "- Solution: Make sure the index is within the bounds of the sequence. If you're using a variable as an index (e.g. seq[x], make sure the variable is assigned to a proper index.\n"
   ]
  }
 ],
 "metadata": {
  "language_info": {
   "name": "python"
  }
 },
 "nbformat": 4,
 "nbformat_minor": 2
}
