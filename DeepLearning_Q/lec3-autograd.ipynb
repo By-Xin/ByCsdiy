{
 "cells": [
  {
   "cell_type": "markdown",
   "metadata": {},
   "source": [
    "# 自动微分"
   ]
  },
  {
   "cell_type": "markdown",
   "metadata": {},
   "source": [
    "自动微分是 PyTorch 的一个非常重要的功能，也是驱动深度学习快速发展的重要原因。"
   ]
  },
  {
   "cell_type": "markdown",
   "metadata": {},
   "source": [
    "首先看一个简单的例子。考虑函数 $f(x,y)=x\\cdot \\log(x)+\\sin(xy)$，我们想求 $f$ 在 $(x,y)=(1,2)$ 处对 $x$ 和 $y$ 的偏导。"
   ]
  },
  {
   "cell_type": "markdown",
   "metadata": {},
   "source": [
    "首先创建 Tensor 对象："
   ]
  },
  {
   "cell_type": "code",
   "execution_count": 2,
   "metadata": {},
   "outputs": [
    {
     "data": {
      "text/plain": [
       "tensor([1.])"
      ]
     },
     "execution_count": 2,
     "metadata": {},
     "output_type": "execute_result"
    }
   ],
   "source": [
    "import torch\n",
    "\n",
    "x = torch.tensor([1.0])\n",
    "y = torch.tensor([2.0])\n",
    "x"
   ]
  },
  {
   "cell_type": "markdown",
   "metadata": {},
   "source": [
    "为了告诉 PyTorch 要对 `x` 和 `y` 求导，我们需要设置 `requires_grad` 属性："
   ]
  },
  {
   "cell_type": "code",
   "execution_count": 3,
   "metadata": {},
   "outputs": [
    {
     "data": {
      "text/plain": [
       "tensor([1.], requires_grad=True)"
      ]
     },
     "execution_count": 3,
     "metadata": {},
     "output_type": "execute_result"
    }
   ],
   "source": [
    "x.requires_grad = True\n",
    "y.requires_grad = True\n",
    "x"
   ]
  },
  {
   "cell_type": "code",
   "execution_count": 4,
   "metadata": {},
   "outputs": [
    {
     "data": {
      "text/plain": [
       "tensor([1.], requires_grad=True)"
      ]
     },
     "execution_count": 4,
     "metadata": {},
     "output_type": "execute_result"
    }
   ],
   "source": [
    "x = torch.tensor([1.0], requires_grad = True)\n",
    "y = torch.tensor([2.0], requires_grad = True)\n",
    "x"
   ]
  },
  {
   "cell_type": "markdown",
   "metadata": {},
   "source": [
    "接下来利用 PyTorch 定义的运算计算函数值："
   ]
  },
  {
   "cell_type": "code",
   "execution_count": 11,
   "metadata": {},
   "outputs": [
    {
     "data": {
      "text/plain": [
       "tensor([0.9093], grad_fn=<AddBackward0>)"
      ]
     },
     "execution_count": 11,
     "metadata": {},
     "output_type": "execute_result"
    }
   ],
   "source": [
    "f = x * torch.log(x) + torch.sin(x * y)\n",
    "f"
   ]
  },
  {
   "cell_type": "markdown",
   "metadata": {},
   "source": [
    "然后调用 `backward()` 函数进行反向传播："
   ]
  },
  {
   "cell_type": "code",
   "execution_count": 12,
   "metadata": {},
   "outputs": [],
   "source": [
    "f.backward()"
   ]
  },
  {
   "cell_type": "markdown",
   "metadata": {},
   "source": [
    "此时 `x` 和 `y` 会有一个 `grad` 属性，即为计算出的导数值："
   ]
  },
  {
   "cell_type": "code",
   "execution_count": 13,
   "metadata": {},
   "outputs": [
    {
     "name": "stdout",
     "output_type": "stream",
     "text": [
      "tensor([0.5198])\n",
      "tensor([-1.2900])\n"
     ]
    }
   ],
   "source": [
    "print(x.grad)\n",
    "print(y.grad)"
   ]
  },
  {
   "cell_type": "markdown",
   "metadata": {},
   "source": [
    "我们可以手动计算 $\\partial f/\\partial x=\\log(x)+1+y\\cos(xy)$，$\\partial f/\\partial y=x\\cos(xy)$，对结果进行验证。因为此时不再需要 PyTorch 记录导数，所以可以把结果放在 `torch.no_grad()` 中："
   ]
  },
  {
   "cell_type": "code",
   "execution_count": 11,
   "metadata": {},
   "outputs": [
    {
     "name": "stdout",
     "output_type": "stream",
     "text": [
      "tensor([0.1677])\n",
      "tensor([-0.4161])\n"
     ]
    }
   ],
   "source": [
    "with torch.no_grad(): # with 会创建一个小的subenv，在其中都是no_grad()的\n",
    "    print(torch.log(x) + 1.0 + y * torch.cos(x * y))\n",
    "    print(x * torch.cos(x * y))"
   ]
  },
  {
   "cell_type": "markdown",
   "metadata": {},
   "source": [
    "自动微分同样适用于任意形状的 Tensor，包括向量和矩阵。例如 $f(x,y)=(x+y)'(x+y)$，其中 $x$ 和 $y$ 为向量。"
   ]
  },
  {
   "cell_type": "code",
   "execution_count": 12,
   "metadata": {},
   "outputs": [
    {
     "name": "stdout",
     "output_type": "stream",
     "text": [
      "tensor([-0.0717,  0.6340, -0.1064,  0.3226, -2.1567])\n",
      "tensor([-0.0717,  0.6340, -0.1064,  0.3226, -2.1567])\n",
      "tensor([-0.0717,  0.6340, -0.1064,  0.3226, -2.1567], grad_fn=<MulBackward0>)\n"
     ]
    }
   ],
   "source": [
    "torch.manual_seed(123)\n",
    "\n",
    "x = torch.randn(5)\n",
    "y = torch.rand(5)\n",
    "x.requires_grad = True\n",
    "y.requires_grad = True\n",
    "\n",
    "f = (x + y).dot(x + y) \n",
    "f.backward()\n",
    "\n",
    "print(x.grad)\n",
    "print(y.grad)\n",
    "print(2.0 * (x + y))"
   ]
  },
  {
   "cell_type": "markdown",
   "metadata": {},
   "source": [
    "**思考题**：给定一个行列式为正的矩阵 $X$，定义 $f(X)=\\log\\det(X)$，其中 $\\det(X)$ 为 $X$ 的行列式。那么 $\\partial f/\\partial X$ 应该是什么？"
   ]
  },
  {
   "cell_type": "code",
   "execution_count": 16,
   "metadata": {},
   "outputs": [
    {
     "name": "stdout",
     "output_type": "stream",
     "text": [
      "tensor(1.1183)\n",
      "tensor([[ 0.3374, -0.1778, -0.3035, -0.5880,  0.3486],\n",
      "        [ 0.6603, -0.2196, -0.3792,  0.7671, -0.4015],\n",
      "        [ 0.6957, -1.8061,  1.8960, -0.1750,  1.3689],\n",
      "        [-1.6033, -1.3250, -1.4096, -0.4076,  0.7953],\n",
      "        [ 0.9985,  0.2212,  1.8319, -0.3378,  0.8805]], requires_grad=True)\n",
      "tensor([[ 0.7673, -0.2915, -0.4447, -1.1218, -0.3021],\n",
      "        [ 0.5376,  0.2348, -0.5945,  1.1406,  1.0058],\n",
      "        [ 0.0020, -0.6879,  0.3541, -0.4003, -0.7196],\n",
      "        [-0.1782,  0.3465, -0.3755,  0.6708,  1.1536],\n",
      "        [ 0.0992,  0.9788, -0.3062,  0.9806,  1.7905]])\n"
     ]
    }
   ],
   "source": [
    "torch.manual_seed(123)\n",
    "\n",
    "x = torch.randn(5, 5)\n",
    "if x.det().item() < 0:\n",
    "    x = -x\n",
    "\n",
    "print(x.det().log())\n",
    "\n",
    "x.requires_grad = True\n",
    "f = torch.logdet(x)\n",
    "f.backward()\n",
    "\n",
    "print(x)\n",
    "print(x.grad)"
   ]
  }
 ],
 "metadata": {
  "kernelspec": {
   "display_name": "Python 3 (ipykernel)",
   "language": "python",
   "name": "python3"
  },
  "language_info": {
   "codemirror_mode": {
    "name": "ipython",
    "version": 3
   },
   "file_extension": ".py",
   "mimetype": "text/x-python",
   "name": "python",
   "nbconvert_exporter": "python",
   "pygments_lexer": "ipython3",
   "version": "3.11.5"
  }
 },
 "nbformat": 4,
 "nbformat_minor": 4
}
