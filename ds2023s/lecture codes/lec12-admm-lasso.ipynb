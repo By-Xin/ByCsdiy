{
 "cells": [
  {
   "attachments": {},
   "cell_type": "markdown",
   "id": "294f54c3",
   "metadata": {},
   "source": [
    "# ADMM 算法"
   ]
  },
  {
   "attachments": {},
   "cell_type": "markdown",
   "id": "7fbf4b67",
   "metadata": {},
   "source": [
    "### ADMM 算法"
   ]
  },
  {
   "attachments": {},
   "cell_type": "markdown",
   "id": "abb2fb3a",
   "metadata": {},
   "source": [
    "ADMM 可以用来求解形如\n",
    "$$\\begin{align*}\n",
    "\\min_{x,z}\\  & f(x)+g(z)\\\\\n",
    "\\mathrm{s.t.}\\  & Ax+Bz=c\n",
    "\\end{align*}$$\n",
    "的优化问题，其中 $f$ 和 $g$ 是凸函数。"
   ]
  },
  {
   "attachments": {},
   "cell_type": "markdown",
   "id": "975f1368",
   "metadata": {},
   "source": [
    "ADMM 的迭代公式为\n",
    "$$\n",
    "\\begin{align*}\n",
    "x^{k+1} & =\\underset{x}{\\arg\\min}\\ f(x)+\\frac{\\rho}{2}\\Vert Ax+Bz^{k}-c+u^{k}\\Vert^{2}\\\\\n",
    "z^{k+1} & =\\underset{z}{\\arg\\min}\\ g(z)+\\frac{\\rho}{2}\\Vert Ax^{k+1}+Bz-c+u^{k}\\Vert^{2}\\\\\n",
    "u^{k+1} & =u^{k}+Ax^{k+1}+Bz^{k+1}-c.\n",
    "\\end{align*}\n",
    "$$"
   ]
  },
  {
   "attachments": {},
   "cell_type": "markdown",
   "id": "a9e0c954",
   "metadata": {},
   "source": [
    "定义原问题残差 $r^{k+1}=Ax^{k+1}+Bz^{k+1}-c$ 和对偶问题残差 $s^{k+1}=\\rho A'B(z^{k+1}-z^{k})$。当 $||r^k||$ 和 $||s^k||$ 小于某个阈值时即可认为算法收敛。"
   ]
  },
  {
   "attachments": {},
   "cell_type": "markdown",
   "id": "dd303e5e",
   "metadata": {},
   "source": [
    "### Lasso"
   ]
  },
  {
   "attachments": {},
   "cell_type": "markdown",
   "id": "187e244a",
   "metadata": {},
   "source": [
    "Lasso 是一种带有变量选择效果的回归方法，它与线性回归中的最小二乘方法（OLS）类似，但加上了对回归系数的 $L^1$ 范数惩罚项。为了与 ADMM 算法的记号匹配，我们用 $M\\in\\mathbb{R}^{n\\times p}$ 表示自变量矩阵，$b\\in\\mathbb{R}^n$ 表示因变量向量，要估计的回归系数为 $x\\in\\mathbb{R}^p$。于是 Lasso 的目标函数为 $$\\frac{1}{2}\\Vert Mx-b\\Vert^2+\\lambda \\Vert x\\Vert_1,$$ 其中 $\\Vert v\\Vert_1$ 表示向量 $v=(v_1,\\ldots,v_n)'$ 的 $L^1$ 范数，即 $\\Vert v\\Vert_1=|v_1|+\\cdots+|v_n|$。"
   ]
  },
  {
   "attachments": {},
   "cell_type": "markdown",
   "id": "c1e2c671",
   "metadata": {},
   "source": [
    "Lasso 可以改写为 ADMM 的形式：$f(x)=(1/2)\\cdot\\Vert Mx-b\\Vert^2$，$g(z)=\\lambda ||z||_1$，约束中 $A=I_p$, $B=-I_p$，$c=0$。其迭代公式为\n",
    "\n",
    "$$\n",
    "\\begin{align*}\n",
    "x^{k+1} & =(M'M+\\rho I)^{-1}(M'b+\\rho(z^{k}-u^{k}))\\\\\n",
    "z^{k+1} & =S_{\\lambda/\\rho}(x^{k+1}+u^{k})\\\\\n",
    "u^{k+1} & =u^{k}+x^{k+1}-z^{k+1},\n",
    "\\end{align*}\n",
    "$$\n",
    "\n",
    "其中 $S_{\\kappa}(a)$ 为 soft-thresholding 运算符，定义为\n",
    "\n",
    "$$\n",
    "S_{\\kappa}(a)=\\begin{cases}\n",
    "a-\\kappa, & a>\\kappa\\\\\n",
    "0, & |a|\\le\\kappa\\\\\n",
    "a+\\kappa, & a<-\\kappa\n",
    "\\end{cases},\n",
    "$$\n",
    "\n",
    "一种紧凑的表达是 $S_{\\kappa}(a)=\\mathrm{sign}(a)\\cdot\\max\\{0,|a|-\\kappa\\}$。"
   ]
  },
  {
   "attachments": {},
   "cell_type": "markdown",
   "id": "060ae327",
   "metadata": {},
   "source": [
    "相应地，原问题残差为 $r^{k+1}=x^{k+1}-z^{k+1}$，对偶问题残差为 $s^{k+1}=-\\rho (z^{k+1}-z^{k})$。"
   ]
  },
  {
   "attachments": {},
   "cell_type": "markdown",
   "id": "71a98268",
   "metadata": {},
   "source": [
    "### 利用 ADMM 求解 Lasso"
   ]
  },
  {
   "cell_type": "code",
   "execution_count": 1,
   "id": "fb556efa",
   "metadata": {},
   "outputs": [],
   "source": [
    "import numpy as np\n",
    "np.set_printoptions(linewidth=100)"
   ]
  },
  {
   "attachments": {},
   "cell_type": "markdown",
   "id": "b67ee1cd",
   "metadata": {},
   "source": [
    "生成模拟数据："
   ]
  },
  {
   "cell_type": "code",
   "execution_count": 8,
   "id": "cc36a5cc",
   "metadata": {},
   "outputs": [
    {
     "data": {
      "text/plain": [
       "(1000,)"
      ]
     },
     "execution_count": 8,
     "metadata": {},
     "output_type": "execute_result"
    }
   ],
   "source": [
    "np.random.seed(123)\n",
    "n = 1000\n",
    "p = 30\n",
    "nz = 10\n",
    "M = np.random.normal(size=(n, p))\n",
    "# 真实的 x 只有前10个元素非零，其余均为0\n",
    "xtrue = np.random.normal(size=nz)\n",
    "xtrue = np.concatenate((xtrue, np.zeros(p - nz)))\n",
    "b = M.dot(xtrue) + np.random.normal(size=n)"
   ]
  },
  {
   "attachments": {},
   "cell_type": "markdown",
   "id": "0814eb19",
   "metadata": {},
   "source": [
    "将 $\\lambda$ 设为 $\\lambda=0.01n$，编写 ADMM 算法来对 Lasso 问题进行求解。"
   ]
  },
  {
   "attachments": {},
   "cell_type": "markdown",
   "id": "744ca389",
   "metadata": {},
   "source": [
    "**注意** ：注意到在每一次迭代中都要计算 $(M'M+\\rho I)^{-1}v$，其中 $v$ 是某个向量。如果直接使用 `np.linalg.solve()`，计算量会非常大。一种更好的方法是先对 $M'M+\\rho I$ 进行 Cholesky 分解（$M'M+\\rho I$ 是正定矩阵），然后再解线性方程组。"
   ]
  },
  {
   "cell_type": "code",
   "execution_count": 9,
   "id": "e1823885",
   "metadata": {},
   "outputs": [],
   "source": [
    "def soft_thresholding(a, k):\n",
    "    return np.sign(a) * np.maximum(0.0, np.abs(a) - k)\n",
    "\n",
    "from scipy.linalg import cho_factor, cho_solve\n",
    "\n",
    "# initialization\n",
    "rho = 1.0\n",
    "lam = 0.01*n\n",
    "A = np.ones(p)\n",
    "B = -A\n",
    "\n",
    "MtM  = M.transpose().dot(M)\n",
    "Mtb = M.transpose().dot(b)\n",
    "I = np.ones(p)\n",
    "\n",
    "c, lower = cho_factor(MtM+rho*I)\n",
    "\n",
    "x = np.zeros(p)\n",
    "z = np.zeros(p)\n",
    "u = np.zeros(p)\n",
    "\n",
    "max_iter = 10000\n",
    "\n",
    "kappa = lam / rho\n",
    "\n"
   ]
  },
  {
   "attachments": {},
   "cell_type": "markdown",
   "id": "d2762cf0",
   "metadata": {},
   "source": [
    "Lasso 可以改写为 ADMM 的形式：$f(x)=(1/2)\\cdot\\Vert Mx-b\\Vert^2$，$g(z)=\\lambda ||z||_1$，约束中 $A=I_p$, $B=-I_p$，$c=0$。其迭代公式为\n",
    "\n",
    "$$\n",
    "\\begin{align*}\n",
    "x^{k+1} & =(M'M+\\rho I)^{-1}(M'b+\\rho(z^{k}-u^{k}))\\\\\n",
    "z^{k+1} & =S_{\\lambda/\\rho}(x^{k+1}+u^{k})\\\\\n",
    "u^{k+1} & =u^{k}+x^{k+1}-z^{k+1},\n",
    "\\end{align*}\n",
    "$$\n",
    "\n",
    "其中 $S_{\\kappa}(a)$ 为 soft-thresholding 运算符，定义为\n",
    "\n",
    "$$\n",
    "S_{\\kappa}(a)=\\begin{cases}\n",
    "a-\\kappa, & a>\\kappa\\\\\n",
    "0, & |a|\\le\\kappa\\\\\n",
    "a+\\kappa, & a<-\\kappa\n",
    "\\end{cases},\n",
    "$$\n",
    "\n",
    "一种紧凑的表达是 $S_{\\kappa}(a)=\\mathrm{sign}(a)\\cdot\\max\\{0,|a|-\\kappa\\}$。"
   ]
  },
  {
   "attachments": {},
   "cell_type": "markdown",
   "id": "2bbb5be8",
   "metadata": {},
   "source": [
    "相应地，原问题残差为 $r^{k+1}=x^{k+1}-z^{k+1}$，对偶问题残差为 $s^{k+1}=-\\rho (z^{k+1}-z^{k})$。"
   ]
  },
  {
   "cell_type": "code",
   "execution_count": 18,
   "id": "91b46daa",
   "metadata": {},
   "outputs": [
    {
     "name": "stdout",
     "output_type": "stream",
     "text": [
      "Iteration 0, ||r|| = 3.520730, ||s|| = -0.000000\n",
      "Iteration 200, ||r|| = 0.098338, ||s|| = -0.000011\n",
      "Iteration 400, ||r|| = 0.038731, ||s|| = -0.000013\n",
      "Iteration 600, ||r|| = 0.018337, ||s|| = -0.000003\n",
      "Iteration 744, ||r|| = 0.009342, ||s|| = -0.007368\n",
      "[-1.12469786e+00 -7.80498981e-01  1.80942280e+00  1.75721941e+00  1.30998201e+00 -4.04790090e-01\n",
      " -6.23471517e-01 -4.88372154e-01  1.00859539e+00  6.82885406e-01 -2.63598759e-03 -3.26658753e-02\n",
      "  2.07148663e-02  2.05696779e-03  2.45310346e-02 -1.37300405e-02  2.43683249e-02 -3.98795953e-02\n",
      "  4.38271690e-03  9.60813135e-03  3.56153383e-02  8.76287708e-03  1.28729695e-02  6.15880683e-02\n",
      " -2.45111309e-02  1.36476410e-02  1.11215781e-03 -1.38215970e-02  6.85891463e-03 -2.58157792e-03]\n",
      "[-1.05417044 -0.78301134  1.82790084  1.7468072   1.3282585  -0.43277314 -0.6686141  -0.47208845\n",
      "  1.05554064  0.67905585  0.          0.          0.          0.          0.          0.\n",
      "  0.          0.          0.          0.          0.          0.          0.          0.\n",
      "  0.          0.          0.          0.          0.          0.        ]\n"
     ]
    }
   ],
   "source": [
    "np.random.seed(123)\n",
    "n = 1000\n",
    "p = 30\n",
    "nz = 10\n",
    "M = np.random.normal(size=(n, p))\n",
    "# 真实的 x 只有前10个元素非零，其余均为0\n",
    "xtrue = np.random.normal(size=nz)\n",
    "xtrue = np.concatenate((xtrue, np.zeros(p - nz)))\n",
    "b = M.dot(xtrue) + np.random.normal(size=n)\n",
    "\n",
    "def soft_thresholding(a, k):\n",
    "    return np.sign(a) * np.maximum(0.0, np.abs(a) - k)\n",
    "\n",
    "from scipy.linalg import cho_factor, cho_solve\n",
    "\n",
    "# initialization\n",
    "rho = 1.0\n",
    "lam = 0.01*n\n",
    "\n",
    "A = np.ones(p)\n",
    "B = -A\n",
    "\n",
    "MtM  = M.transpose().dot(M)\n",
    "Mtb = M.transpose().dot(b)\n",
    "I = np.ones(p)\n",
    "\n",
    "c, lower = cho_factor(MtM+rho*I)\n",
    "\n",
    "x = np.zeros(p)\n",
    "z = np.zeros(p)\n",
    "u = np.zeros(p)\n",
    "\n",
    "max_iter = 10000\n",
    "\n",
    "kappa = lam / rho\n",
    "\n",
    "\n",
    "tol = 0.01\n",
    "# iteration\n",
    "\n",
    "resid_r = -999\n",
    "resid_s = -999\n",
    "\n",
    "for iter in range(max_iter):\n",
    "    xnew = cho_solve((c,lower),Mtb+rho*(z-u))\n",
    "    znew = soft_thresholding(xnew+u,kappa)\n",
    "    unew = u + xnew - znew\n",
    "    \n",
    "    resid_r = np.linalg.norm(xnew-znew)\n",
    "    resid_s = - rho*np.linalg.norm(znew-z)\n",
    "\n",
    "    x = xnew\n",
    "    z = znew\n",
    "    u = unew\n",
    "\n",
    "    # 打印残差信息，判断是否收敛\n",
    "    if iter % 200 == 0:\n",
    "        print(f\"Iteration {iter}, ||r|| = {resid_r:.6f}, ||s|| = {resid_s:.6f}\")\n",
    "    if resid_r <= tol and resid_s <= tol:\n",
    "        print(f\"Iteration {iter}, ||r|| = {resid_r:.6f}, ||s|| = {resid_s:.6f}\")\n",
    "        break\n",
    "\n",
    "    \n",
    "\n",
    "\n",
    "print(x)\n",
    "print(xtrue)\n"
   ]
  }
 ],
 "metadata": {
  "kernelspec": {
   "display_name": "Python 3 (ipykernel)",
   "language": "python",
   "name": "python3"
  },
  "language_info": {
   "codemirror_mode": {
    "name": "ipython",
    "version": 3
   },
   "file_extension": ".py",
   "mimetype": "text/x-python",
   "name": "python",
   "nbconvert_exporter": "python",
   "pygments_lexer": "ipython3",
   "version": "3.9.12"
  }
 },
 "nbformat": 4,
 "nbformat_minor": 5
}
