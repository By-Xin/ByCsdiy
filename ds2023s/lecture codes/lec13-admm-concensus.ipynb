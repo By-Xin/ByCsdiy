{
 "cells": [
  {
   "cell_type": "markdown",
   "id": "294f54c3",
   "metadata": {},
   "source": [
    "# ADMM 算法"
   ]
  },
  {
   "cell_type": "markdown",
   "id": "7fbf4b67",
   "metadata": {},
   "source": [
    "### 一致性问题"
   ]
  },
  {
   "cell_type": "markdown",
   "id": "87938f5e",
   "metadata": {},
   "source": [
    "假设我们需要求解优化问题\n",
    "$$\n",
    "\\min_{x} \\sum_{i=1}^N f_i(x)+g(x)\n",
    "$$\n",
    "其中 $g(\\cdot)$ 是一个全局的正则项。一个典型的例子是 Lasso\n",
    "$$\n",
    "\\frac{1}{2}\\Vert Ax-b\\Vert^2+\\lambda \\Vert x\\Vert_1.\n",
    "$$"
   ]
  },
  {
   "cell_type": "markdown",
   "id": "abb2fb3a",
   "metadata": {},
   "source": [
    "它可以转化成 ADMM 一致性问题\n",
    "$$\\begin{align*}\n",
    "\\min_{x_1,\\ldots,x_N,z}\\  & f_i(x_i)+g(z)\\\\\n",
    "\\mathrm{s.t.}\\  & x_i=z,i=1,\\ldots,N.\n",
    "\\end{align*}$$"
   ]
  },
  {
   "cell_type": "markdown",
   "id": "975f1368",
   "metadata": {},
   "source": [
    "迭代公式为\n",
    "$$\n",
    "\\begin{align*}\n",
    "x_i^{k+1} & =\\underset{x_i}{\\arg\\min}\\ f_i(x_i)+\\frac{\\rho}{2}\\Vert x_i-z^{k}+u_i^{k}\\Vert^{2}\\\\\n",
    "z^{k+1} & =\\underset{z}{\\arg\\min}\\ g(z)+\\frac{N\\rho}{2}\\Vert z-\\bar{x}^{k+1}-\\bar{u}^{k}\\Vert^{2}\\\\\n",
    "u_i^{k+1} & =u_i^{k}+x_i^{k+1}-z^{k+1}.\n",
    "\\end{align*}\n",
    "$$"
   ]
  },
  {
   "cell_type": "markdown",
   "id": "915ef531",
   "metadata": {},
   "source": [
    "注意其中带下标 $i$ 的更新要对所有 $i=1,\\ldots,N$ 进行。"
   ]
  },
  {
   "cell_type": "markdown",
   "id": "9133019c",
   "metadata": {},
   "source": [
    "总的原问题残差范数为\n",
    "$$\n",
    "\\Vert r^{k+1}\\Vert=\\sqrt{\\sum_{i=1}^N \\Vert x_i^{k+1} - z^{k+1}\\Vert^2},\n",
    "$$"
   ]
  },
  {
   "cell_type": "markdown",
   "id": "5709612c",
   "metadata": {},
   "source": [
    "总的对偶问题残差范数为\n",
    "$$\n",
    "\\Vert s^{k+1}\\Vert=\\rho \\sqrt{N} \\Vert z^{k+1} - z^k\\Vert.\n",
    "$$"
   ]
  },
  {
   "cell_type": "markdown",
   "id": "dd303e5e",
   "metadata": {},
   "source": [
    "### Lasso"
   ]
  },
  {
   "cell_type": "markdown",
   "id": "187e244a",
   "metadata": {},
   "source": [
    "对于 Lasso 问题，假设数据按行分块，\n",
    "\n",
    "$$\n",
    "A_{n\\times p}=\\left[\\begin{array}{c}\n",
    "A_{1}\\in\\mathbb{R}^{n_{1}\\times p}\\\\\n",
    "\\vdots\\\\\n",
    "A_{N}\\in\\mathbb{R}^{n_{N}\\times p}\n",
    "\\end{array}\\right],\\quad b_{n\\times1}=\\left[\\begin{array}{c}\n",
    "b_{1}\\in\\mathbb{R}^{n_{1}}\\\\\n",
    "\\vdots\\\\\n",
    "b_{N}\\in\\mathbb{R}^{n_{N}}\n",
    "\\end{array}\\right].\n",
    "$$"
   ]
  },
  {
   "cell_type": "markdown",
   "id": "c1e2c671",
   "metadata": {},
   "source": [
    "其迭代公式为\n",
    "\n",
    "$$\n",
    "\\begin{align*}\n",
    "x_i^{k+1} & =(A_i'A_i+\\rho I)^{-1}(A_i'b_i+\\rho(z^{k}-u_i^{k}))\\\\\n",
    "z^{k+1} & =S_{\\lambda/(\\rho N)}(\\bar{x}^{k+1}+\\bar{u}^{k})\\\\\n",
    "u_i^{k+1} & =u_i^{k}+x_i^{k+1}-z^{k+1}.\n",
    "\\end{align*}\n",
    "$$"
   ]
  },
  {
   "cell_type": "markdown",
   "id": "71a98268",
   "metadata": {},
   "source": [
    "### PySpark 实现"
   ]
  },
  {
   "cell_type": "code",
   "execution_count": null,
   "id": "fb556efa",
   "metadata": {},
   "outputs": [],
   "source": [
    "import os\n",
    "import numpy as np\n",
    "np.set_printoptions(linewidth=100)"
   ]
  },
  {
   "cell_type": "markdown",
   "id": "b67ee1cd",
   "metadata": {},
   "source": [
    "先生成模拟数据："
   ]
  },
  {
   "cell_type": "code",
   "execution_count": null,
   "id": "cc36a5cc",
   "metadata": {},
   "outputs": [],
   "source": [
    "np.random.seed(123)\n",
    "n = 100000\n",
    "p = 100\n",
    "nz = 20\n",
    "A = np.random.normal(size=(n, p))\n",
    "# 真实的 x 只有前20个元素非零，其余均为0\n",
    "xtrue = np.random.normal(size=nz)\n",
    "xtrue = np.concatenate((xtrue, np.zeros(p - nz)))\n",
    "b = A.dot(xtrue) + np.random.normal(size=n)\n",
    "dat = np.hstack((b.reshape(n, 1), A))\n",
    "if not os.path.exists(\"data\"):\n",
    "    os.makedirs(\"data\", exist_ok=True)\n",
    "np.savetxt(\"data/lasso.txt\", dat, fmt=\"%.9f\", delimiter=\"\\t\")"
   ]
  },
  {
   "cell_type": "markdown",
   "id": "2934a18b",
   "metadata": {},
   "source": [
    "配置和启动 PySpark："
   ]
  },
  {
   "cell_type": "code",
   "execution_count": null,
   "id": "01ad334c",
   "metadata": {},
   "outputs": [],
   "source": [
    "import findspark\n",
    "findspark.init()\n",
    "\n",
    "from pyspark.sql import SparkSession\n",
    "# 本地模式\n",
    "spark = SparkSession.builder.\\\n",
    "    master(\"local[*]\").\\\n",
    "    config(\"spark.executor.memory\", \"2g\").\\\n",
    "    config(\"spark.driver.memory\", \"2g\").\\\n",
    "    appName(\"ADMM\").\\\n",
    "    getOrCreate()\n",
    "sc = spark.sparkContext\n",
    "# sc.setLogLevel(\"ERROR\")\n",
    "print(spark)\n",
    "print(sc)"
   ]
  },
  {
   "cell_type": "markdown",
   "id": "0814eb19",
   "metadata": {},
   "source": [
    "PySpark 读取文件："
   ]
  },
  {
   "cell_type": "code",
   "execution_count": null,
   "id": "6d6b2a04",
   "metadata": {},
   "outputs": [],
   "source": [
    "file = sc.textFile(\"data/lasso.txt\")\n",
    "\n",
    "# 打印前5行，并将每行字符串截尾\n",
    "text = file.map(lambda x: x[:70] + \"...\").take(5)\n",
    "print(*text, sep=\"\\n\")\n",
    "\n",
    "file.getNumPartitions()"
   ]
  },
  {
   "cell_type": "markdown",
   "id": "85068d51",
   "metadata": {},
   "source": [
    "分区转换："
   ]
  },
  {
   "cell_type": "code",
   "execution_count": null,
   "id": "f6ee0e4b",
   "metadata": {},
   "outputs": [],
   "source": [
    "# str => np.array\n",
    "def str_to_vec(line):\n",
    "    # 分割字符串\n",
    "    str_vec = line.split(\"\\t\")\n",
    "    # 将每一个元素从字符串变成数值型\n",
    "    num_vec = map(lambda s: float(s), str_vec)\n",
    "    # 创建 Numpy 向量\n",
    "    return np.fromiter(num_vec, dtype=float)\n",
    "\n",
    "# Iter[str] => Iter[matrix]\n",
    "def part_to_mat(iterator):\n",
    "    # Iter[str] => Iter[np.array]\n",
    "    iter_arr = map(str_to_vec, iterator)\n",
    "\n",
    "    # Iter[np.array] => list(np.array)\n",
    "    dat = list(iter_arr)\n",
    "\n",
    "    # list(np.array) => matrix\n",
    "    if len(dat) < 1:  # Test zero iterator\n",
    "        mat = np.array([])\n",
    "    else:\n",
    "        mat = np.vstack(dat)\n",
    "\n",
    "    # matrix => Iter[matrix]\n",
    "    yield mat\n",
    "\n",
    "dat = file.mapPartitions(part_to_mat).filter(lambda x: x.shape[0] > 0)\n",
    "dat.cache()\n",
    "print(dat.count())"
   ]
  },
  {
   "cell_type": "markdown",
   "id": "44d6d51d",
   "metadata": {},
   "source": [
    "创建一个新的 RDD，用来存储每个数据分区上的 $x_i$ 和 $u_i$ 变量："
   ]
  },
  {
   "cell_type": "code",
   "execution_count": null,
   "id": "660671a0",
   "metadata": {
    "scrolled": true
   },
   "outputs": [],
   "source": [
    "def create_xu(block_dat):\n",
    "    p = block_dat.shape[1] - 1\n",
    "    xi = np.zeros(p)\n",
    "    ui = np.zeros(p)\n",
    "    return xi, ui\n",
    "\n",
    "params = dat.map(create_xu)\n",
    "params.first()"
   ]
  },
  {
   "cell_type": "markdown",
   "id": "ae3a6fbb",
   "metadata": {},
   "source": [
    "在后续更新中，我们会将数据 RDD（dat）和参数 RDD（params）进行拼接，从而更新参数。"
   ]
  },
  {
   "cell_type": "code",
   "execution_count": null,
   "id": "2d8d446e",
   "metadata": {
    "scrolled": true
   },
   "outputs": [],
   "source": [
    "dat.zip(params).first()"
   ]
  },
  {
   "cell_type": "markdown",
   "id": "aad6f29b",
   "metadata": {},
   "source": [
    "在主进程上设定若干变量，包括初始化 $z$："
   ]
  },
  {
   "cell_type": "code",
   "execution_count": null,
   "id": "60bee50f",
   "metadata": {},
   "outputs": [],
   "source": [
    "# 样本量\n",
    "n = dat.map(lambda x: x.shape[0]).reduce(lambda x, y: x + y)\n",
    "print(f\"n = {n}\")\n",
    "\n",
    "# 变量数\n",
    "p = dat.first().shape[1] - 1\n",
    "print(f\"p = {p}\")\n",
    "\n",
    "# 分区数\n",
    "N = dat.count()\n",
    "print(f\"N = {N}\")\n",
    "\n",
    "# rho\n",
    "rho = 10.0\n",
    "\n",
    "# lambda\n",
    "lam = 0.001 * n\n",
    "\n",
    "# z变量\n",
    "z = np.zeros(p)"
   ]
  },
  {
   "cell_type": "markdown",
   "id": "11b6d4a3",
   "metadata": {},
   "source": [
    "更新一次 $x_i$："
   ]
  },
  {
   "cell_type": "code",
   "execution_count": null,
   "id": "7215d57f",
   "metadata": {
    "scrolled": true
   },
   "outputs": [],
   "source": [
    "def update_x(block_dat_and_param, z, rho):\n",
    "    block_dat, (xi, ui) = block_dat_and_param\n",
    "    # 分离因变量向量和自变量矩阵\n",
    "    bi = block_dat[:, 0]\n",
    "    Ai = block_dat[:, 1:]\n",
    "    p = Ai.shape[1]\n",
    "    # 计算新 xi\n",
    "    xi_new = np.linalg.solve(Ai.T.dot(Ai) + rho * np.eye(p), Ai.T.dot(bi) + rho * (z - ui))\n",
    "    return xi_new, ui\n",
    "\n",
    "updated_x = dat.zip(params).map(lambda d: update_x(d, z, rho))\n",
    "updated_x.first()"
   ]
  },
  {
   "cell_type": "markdown",
   "id": "46189c92",
   "metadata": {},
   "source": [
    "计算 $\\bar{x}$ 和 $\\bar{u}$："
   ]
  },
  {
   "cell_type": "code",
   "execution_count": null,
   "id": "408cddda",
   "metadata": {},
   "outputs": [],
   "source": [
    "xbar, ubar = updated_x.reduce(lambda xu1, xu2: (xu1[0] + xu2[0], xu1[1] + xu2[1]))\n",
    "xbar /= N\n",
    "ubar /= N\n",
    "print(xbar)\n",
    "print(ubar)"
   ]
  },
  {
   "cell_type": "markdown",
   "id": "773d9d8d",
   "metadata": {},
   "source": [
    "更新一次 $z$："
   ]
  },
  {
   "cell_type": "code",
   "execution_count": null,
   "id": "76165d30",
   "metadata": {},
   "outputs": [],
   "source": [
    "def soft_thresholding(a, k):\n",
    "    return np.sign(a) * np.maximum(0.0, np.abs(a) - k)\n",
    "\n",
    "znew = soft_thresholding(xbar + ubar, lam / (rho * N))\n",
    "znew"
   ]
  },
  {
   "cell_type": "markdown",
   "id": "935aed22",
   "metadata": {},
   "source": [
    "更新一次 $u_i$："
   ]
  },
  {
   "cell_type": "code",
   "execution_count": null,
   "id": "5cdec60b",
   "metadata": {},
   "outputs": [],
   "source": [
    "def update_u(param, z):\n",
    "    xi_new, ui = param\n",
    "    # 计算新 ui\n",
    "    ui_new = ui + xi_new - z\n",
    "    return xi_new, ui_new\n",
    "\n",
    "updated_u = updated_x.map(lambda d: update_u(d, znew))\n",
    "updated_u.first()"
   ]
  },
  {
   "cell_type": "markdown",
   "id": "8854d08c",
   "metadata": {},
   "source": [
    "计算原问题残差范数\n",
    "\n",
    "$$\n",
    "\\Vert r^{k+1}\\Vert=\\sqrt{\\sum_{i=1}^N \\Vert x_i^{k+1} - z^{k+1}\\Vert^2}.\n",
    "$$"
   ]
  },
  {
   "cell_type": "code",
   "execution_count": null,
   "id": "9200adea",
   "metadata": {},
   "outputs": [],
   "source": [
    "# 在每个分块上计算 ||xi_new - z||^2，然后汇总求和\n",
    "resid_r_norm = updated_u.map(lambda d: np.sum(np.square(d[0] - znew))).reduce(lambda x, y: x + y)\n",
    "resid_r_norm = np.sqrt(resid_r_norm)\n",
    "print(resid_r_norm)"
   ]
  },
  {
   "cell_type": "markdown",
   "id": "797b9b02",
   "metadata": {},
   "source": [
    "计算对偶问题残差范数："
   ]
  },
  {
   "cell_type": "code",
   "execution_count": null,
   "id": "a38f341f",
   "metadata": {},
   "outputs": [],
   "source": [
    "resid_s_norm = rho * np.sqrt(N) * np.linalg.norm(znew - z)\n",
    "print(resid_s_norm)"
   ]
  },
  {
   "cell_type": "markdown",
   "id": "f71b68f3",
   "metadata": {},
   "source": [
    "接下来将整个过程写入一个循环，同时设定最大迭代次数为100，收敛的阈值为0.001。"
   ]
  },
  {
   "cell_type": "code",
   "execution_count": null,
   "id": "4dfebd79",
   "metadata": {
    "scrolled": true
   },
   "outputs": [],
   "source": [
    "max_iter = 100\n",
    "tol = 0.001\n",
    "\n",
    "for i in range(max_iter):\n",
    "    # x 更新\n",
    "    updated_x = dat.zip(params).map(lambda d: update_x(d, z, rho))\n",
    "    updated_x.cache()\n",
    "    # 计算平均\n",
    "    xbar, ubar = updated_x.reduce(lambda xu1, xu2: (xu1[0] + xu2[0], xu1[1] + xu2[1]))\n",
    "    xbar /= N\n",
    "    ubar /= N\n",
    "    # z 更新\n",
    "    znew = soft_thresholding(xbar + ubar, lam / (rho * N))\n",
    "    # u 更新\n",
    "    updated_u = updated_x.map(lambda d: update_u(d, znew))\n",
    "    updated_u.cache()\n",
    "    # 计算残差大小\n",
    "    resid_r_norm = updated_u.map(lambda d: np.sum(np.square(d[0] - znew))).reduce(lambda x, y: x + y)\n",
    "    resid_r_norm = np.sqrt(resid_r_norm)\n",
    "    resid_s_norm = rho * np.sqrt(N) * np.linalg.norm(znew - z)\n",
    "    # 更新 x、z 和 u 的取值\n",
    "    params = updated_u\n",
    "    params.cache()\n",
    "    z = znew\n",
    "    # 打印残差信息，判断是否收敛\n",
    "    if i % 1 == 0:\n",
    "        print(f\"Iteration {i}, ||r|| = {resid_r_norm:.6f}, ||s|| = {resid_s_norm:.6f}\")\n",
    "    if resid_r_norm <= tol and resid_s_norm <= tol:\n",
    "        break"
   ]
  },
  {
   "cell_type": "code",
   "execution_count": null,
   "id": "70a673cb",
   "metadata": {},
   "outputs": [],
   "source": [
    "z"
   ]
  },
  {
   "cell_type": "code",
   "execution_count": null,
   "id": "78ff02b0",
   "metadata": {},
   "outputs": [],
   "source": [
    "xtrue"
   ]
  },
  {
   "cell_type": "code",
   "execution_count": null,
   "id": "f62b53b4",
   "metadata": {},
   "outputs": [],
   "source": [
    "sc.stop()"
   ]
  }
 ],
 "metadata": {
  "kernelspec": {
   "display_name": "Python 3 (ipykernel)",
   "language": "python",
   "name": "python3"
  },
  "language_info": {
   "codemirror_mode": {
    "name": "ipython",
    "version": 3
   },
   "file_extension": ".py",
   "mimetype": "text/x-python",
   "name": "python",
   "nbconvert_exporter": "python",
   "pygments_lexer": "ipython3",
   "version": "3.10.10"
  }
 },
 "nbformat": 4,
 "nbformat_minor": 5
}
