{
 "cells": [
  {
   "cell_type": "code",
   "execution_count": 2,
   "id": "7521e921",
   "metadata": {},
   "outputs": [
    {
     "data": {
      "text/plain": [
       "<torch._C.Generator at 0x1c12f53cad0>"
      ]
     },
     "execution_count": 2,
     "metadata": {},
     "output_type": "execute_result"
    }
   ],
   "source": [
    "import numpy as np\n",
    "import torch\n",
    "import torch.nn as nn\n",
    "\n",
    "np.random.seed(123)\n",
    "torch.random.manual_seed(123)"
   ]
  },
  {
   "cell_type": "code",
   "execution_count": 3,
   "id": "f2b9d1c2",
   "metadata": {},
   "outputs": [],
   "source": [
    "p = 3\n",
    "d = 10\n",
    "fc1 = nn.Linear(in_features=p, out_features=d)\n",
    "fc2 = nn.Linear(in_features=d, out_features=p)\n",
    "\n",
    "n = 5\n",
    "x = torch.randn(n, p)\n",
    "\n",
    "z1 = fc1(x)\n",
    "a1 = torch.relu(z1)\n",
    "z2 = fc2(a1)\n",
    "z2_2 = x + z2\n",
    "a2 = torch.relu(z2_2)"
   ]
  }
 ],
 "metadata": {
  "kernelspec": {
   "display_name": "Python 3 (ipykernel)",
   "language": "python",
   "name": "python3"
  },
  "language_info": {
   "codemirror_mode": {
    "name": "ipython",
    "version": 3
   },
   "file_extension": ".py",
   "mimetype": "text/x-python",
   "name": "python",
   "nbconvert_exporter": "python",
   "pygments_lexer": "ipython3",
   "version": "3.10.9"
  }
 },
 "nbformat": 4,
 "nbformat_minor": 5
}
