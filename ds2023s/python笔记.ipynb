{
 "cells": [
  {
   "attachments": {},
   "cell_type": "markdown",
   "metadata": {},
   "source": [
    "# Note for DS2023s (python)"
   ]
  },
  {
   "attachments": {},
   "cell_type": "markdown",
   "metadata": {},
   "source": [
    "## I. Numpy"
   ]
  },
  {
   "attachments": {},
   "cell_type": "markdown",
   "metadata": {},
   "source": [
    "### Lecture Notes"
   ]
  },
  {
   "attachments": {},
   "cell_type": "markdown",
   "metadata": {},
   "source": [
    "#### Creating Matrixes & Vectors\n",
    "-  Create a matrix with `np.array([])`:\n",
    "\n",
    "    - *Note that numpy automatically assume that vector goes in rows (rather than columns)*\n",
    "  \n",
    "-   Create a stepping series with `np.linspace(start= ,stop=, num= )`\n",
    "-   Reshape a matrix using `np.reshape(MATRIX_NAME,(m,n))` or `MATRIX_NAME.reshape(m,n)`\n",
    "-   Create a all-ones matrix with `np.ones(SIZE)`, all-zeros matrix with `np.zeros()`, I matrix with `np.eye(SIZE)`, diagno matrix with `np.diag()`"
   ]
  },
  {
   "cell_type": "code",
   "execution_count": 1,
   "metadata": {},
   "outputs": [
    {
     "name": "stdout",
     "output_type": "stream",
     "text": [
      "[1 2 3]\n",
      "[[1.  2.  2. ]\n",
      " [3.  5.  4.5]]\n"
     ]
    }
   ],
   "source": [
    "import numpy as np\n",
    "vec = np.array([1,2,3])\n",
    "print(vec)\n",
    "mat = np.array([[1.0, 2.0, 2.0], [3.0, 5.0, 4.5]])\n",
    "print(mat)"
   ]
  },
  {
   "attachments": {},
   "cell_type": "markdown",
   "metadata": {},
   "source": [
    "#### Matrix Indexing and Slicing\n",
    "\n",
    "- Remember that in python, the index **starts from 0**\n",
    "- Negative index means *the last i'th elem* , i.e. elem[-1] means the last elem in this array. ([0] points to the first does not contradict with [-1] represents the last, since if [-0] is the last one then it will puzzle the computer as -0 == 0!)\n",
    "- Get a section of the vector using `x[start:end]`; mathematically, you will get $[start,end)$, which means the *end'th* elem will NOT be returned\n",
    "   \n",
    "    -   *Note that even for negative indexings, $start<end$ must be held (which is also apparent mathematically); thus you cannot get a series of number reversely by slicing.*\n",
    "    -   *Also note that the Start-Included-End-Excluded law also works with negative integers*"
   ]
  },
  {
   "cell_type": "code",
   "execution_count": 2,
   "metadata": {},
   "outputs": [
    {
     "name": "stdout",
     "output_type": "stream",
     "text": [
      "[1 2 3]\n",
      "[1 2]\n"
     ]
    }
   ],
   "source": [
    "print(vec)\n",
    "print(vec[-3:-1])"
   ]
  },
  {
   "attachments": {},
   "cell_type": "markdown",
   "metadata": {},
   "source": [
    "#### Stat: Random Variables\n",
    "- Set random seed by `np.random.seed(SEED_NUM)`\n",
    "- Generate Uniform Dist. r.v.by `np.random.uniform(low= , high= ,size= )`\n",
    "- Generate Normal Dist. r.v. by `np.random.normal(loc= , scale= , size= )`"
   ]
  },
  {
   "cell_type": "code",
   "execution_count": 3,
   "metadata": {},
   "outputs": [
    {
     "name": "stdout",
     "output_type": "stream",
     "text": [
      "[[ 0.658334    1.41116018  0.3742958   0.57306435  0.39315748]\n",
      " [ 0.75465141 -0.54450501 -1.17218021  0.88646133 -2.29618316]]\n"
     ]
    }
   ],
   "source": [
    "norm = np.random.normal(loc=0.0, scale=1.0, size=(2, 5))\n",
    "print(norm)"
   ]
  },
  {
   "attachments": {},
   "cell_type": "markdown",
   "metadata": {},
   "source": [
    "#### Stat: Some Mathematical Operations (Esp. to Matrix)\n",
    "- Adding or multiplying a sclar will be automatically applied to the whole matrix\n",
    "- There are some other handy build in math functions like `np.exp()`,`np.log()`,etc.\n",
    "- A matrix can also be summarized with `np.sum()` (which calc. the sum of all elem's) or `np.mean()`, etc.\n",
    "  - Such cal. can also be done by specifically by rows or columns by adding `np.sum(,axis=0/1)`, where `0` is for rows and `1` for columns.\n",
    "    - (It is also somehow reasonable if we think of the notation of a certain elem in a matrix (i.e. A[3][4]), we are usually talking about the one in row 3, column 4, and thus row comes first than columns, and thus 0 for rows and 1 for columns)\n",
    "    - Plus, 'by rows' or 'by cols' means the increasing index. E.g. if we cal the sum of a matrix by rows, we are adding the i'th elem in the 1'st row, the i'th elem in the 2'nd row, etc. as the i'th elem in the final result"
   ]
  },
  {
   "cell_type": "code",
   "execution_count": 4,
   "metadata": {},
   "outputs": [
    {
     "name": "stdout",
     "output_type": "stream",
     "text": [
      "e.g. mat: [[ 0.658334    1.41116018  0.3742958   0.57306435  0.39315748]\n",
      " [ 0.75465141 -0.54450501 -1.17218021  0.88646133 -2.29618316]]\n",
      "By row: [ 0.70649271  0.43332758 -0.39894221  0.72976284 -0.95151284]\n",
      "By col: [0.1444427  1.43464335]\n"
     ]
    }
   ],
   "source": [
    "print(\"e.g. mat:\",norm)\n",
    "print(\"By row:\",np.mean(norm, axis=0)) \n",
    "print(\"By col:\",np.var(norm, axis=1)) "
   ]
  },
  {
   "attachments": {},
   "cell_type": "markdown",
   "metadata": {},
   "source": [
    "#### Exercise 1\n",
    "(Questions will be shown directly within the code)"
   ]
  },
  {
   "cell_type": "code",
   "execution_count": 5,
   "metadata": {},
   "outputs": [
    {
     "name": "stdout",
     "output_type": "stream",
     "text": [
      "[0.20051199 0.54724749 0.92938819 0.4431494  0.82487782 0.30300895\n",
      " 0.15361222 0.03799268 0.70342975 0.94746149]\n",
      "[7.62684464 0.96876169 1.58574367 0.39605401 0.5192377  0.26964302\n",
      " 2.0614057  1.10335994 0.96335912 0.74288587]\n"
     ]
    },
    {
     "data": {
      "image/png": "[encoded data removed]",
      "text/plain": [
       "<Figure size 432x288 with 1 Axes>"
      ]
     },
     "metadata": {
      "needs_background": "light"
     },
     "output_type": "display_data"
    }
   ],
   "source": [
    "import numpy as np\n",
    "import matplotlib.pyplot as plt\n",
    "# generate 10000 x~unif(0,1) and print the first 10\n",
    "x = np.random.uniform(low = 0, high = 1, size = 10000)\n",
    "print(x[:10])\n",
    "# let y = -log(x), and print the last 10 elem in y\n",
    "y = -np.log(x) # y~exp(1)\n",
    "print(y[-10:])\n",
    "# plot the histogram of y\n",
    "plt.hist(y,bins=100)\n",
    "plt.show()\n"
   ]
  },
  {
   "attachments": {},
   "cell_type": "markdown",
   "metadata": {},
   "source": [
    "#### Linear Algebra\n",
    "- Transpose by `MATRIX.transpose()`\n",
    "- Matrix Multiplication by `MATRIX_A.dot(MATRIX_B)`\n",
    "- Matrix Inversion by `np.linalg.inv(MATIX)` [NOT RECOMMEND]\n",
    "  - If the final result is to cal. $A^{-1}x$, then do not try to first cal the inverse then cal the mul. Insead, use `np.linalg.solve(A,x)` to directly get the result.\n",
    "    - Avoiding cal the inverse of a matrix will largely improve the computing efficiency.\n",
    "- Eign value and eign vector by `np.linalg.eigh(MATRIX)`"
   ]
  },
  {
   "attachments": {},
   "cell_type": "markdown",
   "metadata": {},
   "source": [
    "### Supplements"
   ]
  }
 ],
 "metadata": {
  "kernelspec": {
   "display_name": "base",
   "language": "python",
   "name": "python3"
  },
  "language_info": {
   "codemirror_mode": {
    "name": "ipython",
    "version": 3
   },
   "file_extension": ".py",
   "mimetype": "text/x-python",
   "name": "python",
   "nbconvert_exporter": "python",
   "pygments_lexer": "ipython3",
   "version": "3.9.12"
  },
  "orig_nbformat": 4,
  "vscode": {
   "interpreter": {
    "hash": "88279d2366fe020547cde40dd65aa0e3aa662a6ec1f3ca12d88834876c85e1a6"
   }
  }
 },
 "nbformat": 4,
 "nbformat_minor": 2
}
