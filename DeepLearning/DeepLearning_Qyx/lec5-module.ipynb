{
 "cells": [
  {
   "cell_type": "markdown",
   "metadata": {},
   "source": [
    "# 自动微分与优化"
   ]
  },
  {
   "cell_type": "markdown",
   "metadata": {},
   "source": [
    "有了自动微分以后，对一大类机器学习的求解会非常方便。首先考虑一个简单的线性模型："
   ]
  },
  {
   "cell_type": "code",
   "execution_count": 1,
   "metadata": {},
   "outputs": [],
   "source": [
    "import math\n",
    "import numpy as np\n",
    "import torch\n",
    "\n",
    "np.random.seed(123456)\n",
    "torch.manual_seed(123456)\n",
    "n = 100\n",
    "p = 5\n",
    "\n",
    "beta = torch.randn(p)\n",
    "x = torch.randn(n, p)\n",
    "y = torch.matmul(x, beta) + torch.randn(n) * math.sqrt(0.1)"
   ]
  },
  {
   "cell_type": "markdown",
   "metadata": {},
   "source": [
    "我们将利用简单的梯度下降对 $\\beta$ 进行优化。首先创建一个初始值并声明需要梯度："
   ]
  },
  {
   "cell_type": "code",
   "execution_count": 2,
   "metadata": {},
   "outputs": [],
   "source": [
    "bhat = torch.zeros(p)\n",
    "bhat.requires_grad = True"
   ]
  },
  {
   "cell_type": "markdown",
   "metadata": {},
   "source": [
    "编写损失函数："
   ]
  },
  {
   "cell_type": "code",
   "execution_count": 3,
   "metadata": {},
   "outputs": [],
   "source": [
    "def loss_fn(bhat, x, y):\n",
    "    yhat = torch.matmul(x, bhat)\n",
    "    return torch.mean(torch.square(y - yhat))"
   ]
  },
  {
   "cell_type": "markdown",
   "metadata": {},
   "source": [
    "建立一个循环用来不断更新参数："
   ]
  },
  {
   "cell_type": "code",
   "execution_count": 4,
   "metadata": {
    "scrolled": false
   },
   "outputs": [
    {
     "name": "stdout",
     "output_type": "stream",
     "text": [
      "iteration 0, loss = 6.666600227355957, error = 1.300956130027771\n",
      "iteration 50, loss = 0.8894939422607422, error = 0.17852996289730072\n",
      "iteration 100, loss = 0.20490001142024994, error = 0.03156755119562149\n",
      "iteration 150, loss = 0.11406506597995758, error = 0.007916359230875969\n",
      "iteration 200, loss = 0.09939472377300262, error = 0.002928879577666521\n",
      "iteration 250, loss = 0.09633128345012665, error = 0.0016137383645400405\n",
      "iteration 300, loss = 0.09553373605012894, error = 0.001224947045557201\n",
      "iteration 350, loss = 0.09529763460159302, error = 0.001107055344618857\n",
      "iteration 400, loss = 0.09522350132465363, error = 0.0010728153865784407\n",
      "iteration 450, loss = 0.09519967436790466, error = 0.0010642616543918848\n"
     ]
    }
   ],
   "source": [
    "# 迭代次数\n",
    "nepoch = 500\n",
    "# 学习率，即步长\n",
    "learning_rate = 0.01\n",
    "# 记录损失函数值\n",
    "losses = []\n",
    "\n",
    "for i in range(nepoch):\n",
    "    loss = loss_fn(bhat, x, y)\n",
    "\n",
    "    loss.backward()\n",
    "    losses.append(loss.item())\n",
    "\n",
    "    if i % 50 == 0:\n",
    "        print(f\"iteration {i}, loss = {loss.item()}, error = {torch.mean(torch.square(bhat - beta))}\")\n",
    "\n",
    "    with torch.no_grad():\n",
    "        bhat -= learning_rate * bhat.grad\n",
    "        \n",
    "        # 清空梯度项\n",
    "        bhat.grad = None"
   ]
  },
  {
   "cell_type": "markdown",
   "metadata": {},
   "source": [
    "画出损失函数值的图像："
   ]
  },
  {
   "cell_type": "code",
   "execution_count": 5,
   "metadata": {
    "scrolled": true
   },
   "outputs": [
    {
     "data": {
      "text/plain": [
       "[<matplotlib.lines.Line2D at 0x24c28867ee0>]"
      ]
     },
     "execution_count": 5,
     "metadata": {},
     "output_type": "execute_result"
    },
    {
     "data": {
      "image/png": "[encoded data removed]",
      "text/plain": [
       "<Figure size 640x480 with 1 Axes>"
      ]
     },
     "metadata": {},
     "output_type": "display_data"
    }
   ],
   "source": [
    "import matplotlib.pylab as plt\n",
    "plt.plot(losses)"
   ]
  },
  {
   "cell_type": "markdown",
   "metadata": {},
   "source": [
    "比较真实和估计的 $\\beta$："
   ]
  },
  {
   "cell_type": "code",
   "execution_count": 6,
   "metadata": {
    "scrolled": true
   },
   "outputs": [
    {
     "name": "stdout",
     "output_type": "stream",
     "text": [
      "tensor([ 1.8645,  0.4071, -1.1971,  0.3489, -1.1437])\n",
      "tensor([ 1.8304,  0.4262, -1.1998,  0.3770, -1.0890], requires_grad=True)\n"
     ]
    }
   ],
   "source": [
    "print(beta)\n",
    "print(bhat)"
   ]
  },
  {
   "cell_type": "markdown",
   "metadata": {},
   "source": [
    "# 模块化编程"
   ]
  },
  {
   "cell_type": "markdown",
   "metadata": {},
   "source": [
    "PyTorch 中一种更常用的模型搭建和求解的方法是利用模块化编程，即将所有的参数装进一个类中，然后通过定义 `forward()` 函数来计算预测值。"
   ]
  },
  {
   "cell_type": "code",
   "execution_count": 7,
   "metadata": {},
   "outputs": [
    {
     "name": "stdout",
     "output_type": "stream",
     "text": [
      "[Parameter containing:\n",
      "tensor([0., 0., 0., 0., 0.], requires_grad=True)]\n"
     ]
    }
   ],
   "source": [
    "import torch.nn as nn\n",
    "\n",
    "class MyModel(nn.Module):\n",
    "    def __init__(self, beta_dim):\n",
    "        super(MyModel, self).__init__()\n",
    "        self.bhat = nn.Parameter(torch.zeros(beta_dim))\n",
    "\n",
    "    def forward(self, x):\n",
    "        yhat = torch.matmul(x, self.bhat)\n",
    "        return yhat\n",
    "\n",
    "np.random.seed(123456)\n",
    "torch.random.manual_seed(123456)\n",
    "\n",
    "model = MyModel(beta_dim=p)\n",
    "print(list(model.parameters()))"
   ]
  },
  {
   "cell_type": "code",
   "execution_count": 8,
   "metadata": {},
   "outputs": [
    {
     "name": "stdout",
     "output_type": "stream",
     "text": [
      "iteration 0, loss = 6.666600227355957\n",
      "iteration 50, loss = 0.8894939422607422\n",
      "iteration 100, loss = 0.20490001142024994\n",
      "iteration 150, loss = 0.11406506597995758\n",
      "iteration 200, loss = 0.09939472377300262\n",
      "iteration 250, loss = 0.09633128345012665\n",
      "iteration 300, loss = 0.09553373605012894\n",
      "iteration 350, loss = 0.09529763460159302\n",
      "iteration 400, loss = 0.09522350132465363\n",
      "iteration 450, loss = 0.09519967436790466\n"
     ]
    }
   ],
   "source": [
    "# 迭代次数\n",
    "nepoch = 500\n",
    "# 学习率，即步长\n",
    "learning_rate = 0.01\n",
    "# 记录损失函数值\n",
    "losses = []\n",
    "\n",
    "opt = torch.optim.SGD(model.parameters(), lr=learning_rate)\n",
    "\n",
    "for i in range(nepoch):\n",
    "    yhat = model(x)\n",
    "    loss = torch.mean(torch.square(y - yhat))\n",
    "\n",
    "    opt.zero_grad()\n",
    "    loss.backward()\n",
    "    opt.step()\n",
    "\n",
    "    losses.append(loss.item())\n",
    "\n",
    "    if i % 50 == 0:\n",
    "        print(f\"iteration {i}, loss = {loss.item()}\")"
   ]
  },
  {
   "cell_type": "code",
   "execution_count": 9,
   "metadata": {
    "scrolled": true
   },
   "outputs": [
    {
     "name": "stdout",
     "output_type": "stream",
     "text": [
      "[Parameter containing:\n",
      "tensor([ 1.8304,  0.4262, -1.1998,  0.3770, -1.0890], requires_grad=True)]\n"
     ]
    },
    {
     "data": {
      "text/plain": [
       "[<matplotlib.lines.Line2D at 0x24c288fcb80>]"
      ]
     },
     "execution_count": 9,
     "metadata": {},
     "output_type": "execute_result"
    },
    {
     "data": {
      "image/png": "[encoded data removed]",
      "text/plain": [
       "<Figure size 640x480 with 1 Axes>"
      ]
     },
     "metadata": {},
     "output_type": "display_data"
    }
   ],
   "source": [
    "print(list(model.parameters()))\n",
    "plt.plot(losses)"
   ]
  },
  {
   "cell_type": "markdown",
   "metadata": {},
   "source": [
    "模块化编程的好处是模型的结构可以随时发生调整，而后续的循环、优化等部分的代码可以保持不变。例如，假设我们此时希望加入一个截距项，可以把模型修改为如下形式："
   ]
  },
  {
   "cell_type": "code",
   "execution_count": 10,
   "metadata": {},
   "outputs": [
    {
     "name": "stdout",
     "output_type": "stream",
     "text": [
      "[Parameter containing:\n",
      "tensor([ 1.8645,  0.4071, -1.1971,  0.3489, -1.1437], requires_grad=True), Parameter containing:\n",
      "tensor([0.], requires_grad=True)]\n"
     ]
    }
   ],
   "source": [
    "class MyModel(nn.Module):\n",
    "    def __init__(self, beta_dim):\n",
    "        super(MyModel, self).__init__()\n",
    "        self.bhat = nn.Parameter(torch.randn(beta_dim))\n",
    "        self.b0 = nn.Parameter(torch.zeros(1))\n",
    "\n",
    "    def forward(self, x):\n",
    "        yhat = torch.matmul(x, self.bhat) + self.b0\n",
    "        return yhat\n",
    "\n",
    "np.random.seed(123456)\n",
    "torch.random.manual_seed(123456)\n",
    "\n",
    "model = MyModel(beta_dim=p)\n",
    "print(list(model.parameters()))"
   ]
  },
  {
   "cell_type": "markdown",
   "metadata": {},
   "source": [
    "接下来模型训练的代码可以不做任何改变："
   ]
  },
  {
   "cell_type": "code",
   "execution_count": 11,
   "metadata": {},
   "outputs": [
    {
     "name": "stdout",
     "output_type": "stream",
     "text": [
      "iteration 0, loss = 0.10102550685405731\n",
      "iteration 50, loss = 0.09571389853954315\n",
      "iteration 100, loss = 0.09518022835254669\n",
      "iteration 150, loss = 0.0951167494058609\n",
      "iteration 200, loss = 0.09510793536901474\n",
      "iteration 250, loss = 0.09510650485754013\n",
      "iteration 300, loss = 0.09510625153779984\n",
      "iteration 350, loss = 0.09510622173547745\n",
      "iteration 400, loss = 0.09510618448257446\n",
      "iteration 450, loss = 0.09510619193315506\n",
      "[Parameter containing:\n",
      "tensor([ 1.8301,  0.4255, -1.2002,  0.3755, -1.0897], requires_grad=True), Parameter containing:\n",
      "tensor([0.0094], requires_grad=True)]\n"
     ]
    },
    {
     "data": {
      "text/plain": [
       "[<matplotlib.lines.Line2D at 0x24c28973760>]"
      ]
     },
     "execution_count": 11,
     "metadata": {},
     "output_type": "execute_result"
    },
    {
     "data": {
      "image/png": "[encoded data removed]",
      "text/plain": [
       "<Figure size 640x480 with 1 Axes>"
      ]
     },
     "metadata": {},
     "output_type": "display_data"
    }
   ],
   "source": [
    "# 迭代次数\n",
    "nepoch = 500\n",
    "# 学习率，即步长\n",
    "learning_rate = 0.01\n",
    "# 记录损失函数值\n",
    "losses = []\n",
    "\n",
    "opt = torch.optim.SGD(model.parameters(), lr=learning_rate)\n",
    "\n",
    "for i in range(nepoch):\n",
    "    yhat = model(x)\n",
    "    loss = torch.mean(torch.square(y - yhat))\n",
    "\n",
    "    opt.zero_grad()\n",
    "    loss.backward()\n",
    "    opt.step()\n",
    "\n",
    "    losses.append(loss.item())\n",
    "\n",
    "    if i % 50 == 0:\n",
    "        print(f\"iteration {i}, loss = {loss.item()}\")\n",
    "\n",
    "print(list(model.parameters()))\n",
    "plt.plot(losses)"
   ]
  }
 ],
 "metadata": {
  "kernelspec": {
   "display_name": "Python 3 (ipykernel)",
   "language": "python",
   "name": "python3"
  },
  "language_info": {
   "codemirror_mode": {
    "name": "ipython",
    "version": 3
   },
   "file_extension": ".py",
   "mimetype": "text/x-python",
   "name": "python",
   "nbconvert_exporter": "python",
   "pygments_lexer": "ipython3",
   "version": "3.8.13"
  }
 },
 "nbformat": 4,
 "nbformat_minor": 4
}
