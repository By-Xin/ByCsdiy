{
 "cells": [
  {
   "attachments": {},
   "cell_type": "markdown",
   "metadata": {},
   "source": [
    "# 作业5"
   ]
  },
  {
   "attachments": {},
   "cell_type": "markdown",
   "metadata": {},
   "source": [
    "### 第1题"
   ]
  },
  {
   "attachments": {},
   "cell_type": "markdown",
   "metadata": {},
   "source": [
    "利用 PySpark 实现一个分布式估计圆周率 $\\pi$ 的程序，原理如下："
   ]
  },
  {
   "attachments": {},
   "cell_type": "markdown",
   "metadata": {},
   "source": [
    "在正方形 $\\{(x,y):-1\\le x \\le 1, -1\\le y \\le 1\\}$ 中随机生成 $N$ 个独立的均匀分布随机数 $(X_i,Y_i)$，其中每个点 $(X_i,Y_i)$ 落入圆 $R=\\{(x,y): x^2+y^2\\le 1\\}$ 的概率是 $\\pi/4$。因此，如果随机生成的 $N$ 个点中有 $n$ 个落入圆 $R$ 中，那么 $\\pi$ 的估计就是 $4n/N$。"
   ]
  },
  {
   "attachments": {},
   "cell_type": "markdown",
   "metadata": {},
   "source": [
    "![](https://media.geeksforgeeks.org/wp-content/uploads/MonteCarlo.png)"
   ]
  },
  {
   "attachments": {},
   "cell_type": "markdown",
   "metadata": {},
   "source": [
    "现在我们采用分布式的方法并行模拟大量的随机数。考虑将所有的点分成100组，每组生成10000个点，每组独立产生随机数并计算落入圆内的数量，最后将所有100组的结果汇总并得出最终 $\\pi$ 的估计。为了使结果可重复，第 $i$ 组在生成随机数时使用 $i$ 作为随机数种子。PySpark 使用本地模式，开启 8 个 CPU 核心。"
   ]
  },
  {
   "attachments": {},
   "cell_type": "markdown",
   "metadata": {},
   "source": [
    "**提示**：使用标准方法启动 PySpark 后，可以利用 `sc.parallelize()` 从一个迭代器或列表生成 RDD，如 `sc.parallelize(range(10))` 和 `sc.parallelize([1, 2, 3])`。"
   ]
  },
  {
   "cell_type": "code",
   "execution_count": 2,
   "metadata": {},
   "outputs": [
    {
     "name": "stdout",
     "output_type": "stream",
     "text": [
      "23/06/02 21:03:39 WARN Utils: Your hostname, XinBys-MacBook-Air.local resolves to a loopback address: 127.0.0.1; using 172.17.1.210 instead (on interface en0)\n",
      "23/06/02 21:03:39 WARN Utils: Set SPARK_LOCAL_IP if you need to bind to another address\n"
     ]
    },
    {
     "name": "stderr",
     "output_type": "stream",
     "text": [
      "Setting default log level to \"WARN\".\n",
      "To adjust logging level use sc.setLogLevel(newLevel). For SparkR, use setLogLevel(newLevel).\n"
     ]
    },
    {
     "name": "stdout",
     "output_type": "stream",
     "text": [
      "23/06/02 21:03:40 WARN NativeCodeLoader: Unable to load native-hadoop library for your platform... using builtin-java classes where applicable\n",
      "23/06/02 21:03:40 WARN Utils: Service 'SparkUI' could not bind on port 4040. Attempting port 4041.\n",
      "<pyspark.sql.session.SparkSession object at 0x7fe8097f38e0>\n",
      "<SparkContext master=local[8] appName=PySpark RDD>\n"
     ]
    },
    {
     "name": "stderr",
     "output_type": "stream",
     "text": [
      "[Stage 0:>                                                          (0 + 8) / 8]\r"
     ]
    },
    {
     "name": "stdout",
     "output_type": "stream",
     "text": [
      "pi:3.14186\n"
     ]
    },
    {
     "name": "stderr",
     "output_type": "stream",
     "text": [
      "                                                                                \r"
     ]
    }
   ],
   "source": [
    "# PySpark 初始化\n",
    "import findspark\n",
    "findspark.init(\"/Users/xinby/Library/Spark\")\n",
    "\n",
    "from pyspark.sql import SparkSession\n",
    "\n",
    "spark = SparkSession.builder.\\\n",
    "    master(\"local[8]\").\\\n",
    "    appName(\"PySpark RDD\").\\\n",
    "    getOrCreate()\n",
    "sc = spark.sparkContext\n",
    "sc.setLogLevel(\"ERROR\")\n",
    "print(spark)\n",
    "print(sc)\n",
    "\n",
    "# set rand num using numpy\n",
    "import numpy as np\n",
    "\n",
    "def gen_point(grp_num):\n",
    "    \"\"\"Generate a point set with 10000 points;\n",
    "    grp_num: (int), used to define random seed;\n",
    "    return: (np.array), a 10000*2 array, each row is a point(x,y);\n",
    "    \"\"\"\n",
    "    np.random.seed(grp_num)\n",
    "    PointSet = np.random.uniform(low=-1.00,high = 1.00,size=(10000,2))\n",
    "    return PointSet\n",
    "\n",
    "\n",
    "def is_in_circle(point):\n",
    "    \"\"\"Check if a point is in the circle;\n",
    "    point: (np.array), a 1*2 array, the point to be checked;\n",
    "    return: (int), 1 if in, 0 if not;\n",
    "    \"\"\"\n",
    "    if ( point[0]**2 + point[1]**2 <= 1):\n",
    "        return 1\n",
    "    else:\n",
    "        return 0\n",
    "    \n",
    "def num_in_circle(PointSet):\n",
    "    \"\"\"Count the number of points in the circle;\n",
    "    PointSet: (np.array), a 10000*2 array, each row is a point(x,y);\n",
    "    return: (int), number of points in the circle;\n",
    "    \"\"\"\n",
    "    is_in_circle_list = np.apply_along_axis(is_in_circle,1,PointSet)\n",
    "    num = np.sum(is_in_circle_list)\n",
    "    return num\n",
    "\n",
    "# RDD\n",
    "NUM = sc.parallelize(np.array(range(100))).\\\n",
    "    map(lambda x: gen_point(x)).\\\n",
    "    map(lambda x: num_in_circle(x)).\\\n",
    "    reduce(lambda x,y : x+y)\n",
    "\n",
    "print(f\"pi:{NUM*4/(100*10000)}\")"
   ]
  },
  {
   "attachments": {},
   "cell_type": "markdown",
   "metadata": {},
   "source": [
    "### 第2题"
   ]
  },
  {
   "attachments": {},
   "cell_type": "markdown",
   "metadata": {},
   "source": [
    "在 `lec12-admm-lasso.ipynb` 的基础上，利用 ADMM 算法求解 Lasso 问题"
   ]
  },
  {
   "attachments": {},
   "cell_type": "markdown",
   "metadata": {},
   "source": [
    "$$\\frac{1}{2}\\Vert y-X\\beta\\Vert^2+\\lambda \\Vert \\beta\\Vert_1,$$"
   ]
  },
  {
   "attachments": {},
   "cell_type": "markdown",
   "metadata": {},
   "source": [
    "并将其封装成一个函数："
   ]
  },
  {
   "attachments": {},
   "cell_type": "markdown",
   "metadata": {},
   "source": [
    "```python\n",
    "admm_lasso(X, y, lam, rho=1.0, maxit=10000, eps=1e-3, verbose=0)\n",
    "```"
   ]
  },
  {
   "attachments": {},
   "cell_type": "markdown",
   "metadata": {},
   "source": [
    "1. 其中 `X` 是 $n\\times p$ 的自变量矩阵，`y` 是 $n\\times 1$ 的因变量向量，`lam` 是惩罚项参数 $\\lambda$，`rho` 是 ADMM 算法的 $\\rho$ 参数，`maxit` 是最大迭代次数，`eps` 是 ADMM 收敛的残差临界值，`verbose` 表示是否输出迭代信息，如果 $>0$，则每隔 1000 次迭代打印出当前的两类残差，如果 $\\le 0$ 否则不输出任何信息。\n",
    "2. 参考 `lec12-admm-lad.ipynb` 中的 Cholesky 分解方法，只对矩阵进行一次分解，从而在每次迭代中高效地求解线性方程组。\n",
    "3. 函数需返回两个量，第一个表示实际使用的迭代次数，第二个表示估计的回归系数。"
   ]
  },
  {
   "cell_type": "code",
   "execution_count": 3,
   "metadata": {},
   "outputs": [],
   "source": [
    "# 此处插入代码\n",
    "from scipy.linalg import cho_factor, cho_solve\n",
    "\n",
    "def soft_thresholding(a, k):\n",
    "    return np.sign(a) * np.maximum(0.0, np.abs(a) - k)\n",
    "\n",
    "def admm_lasso(X, y, lam, rho=1.0, maxit=10000, eps=1e-3, verbose=0):\n",
    "    # 此处插入代码\n",
    "\n",
    "    M = X\n",
    "    b = y\n",
    "    \n",
    "    p = M.shape[1]\n",
    "\n",
    "\n",
    "    MtM  = M.transpose().dot(M)\n",
    "    Mtb = M.transpose().dot(b)\n",
    "    I = np.eye(p)\n",
    "\n",
    "    c, lower = cho_factor(MtM+rho*I)\n",
    "\n",
    "    x = np.zeros(p)\n",
    "    z = np.zeros(p)\n",
    "    u = np.zeros(p)\n",
    "\n",
    "\n",
    "    kappa = lam / rho\n",
    "\n",
    "    # iteration\n",
    "\n",
    "    resid_r = -999\n",
    "    resid_s = -999\n",
    "\n",
    "    for iter in range(maxit):\n",
    "        xnew = cho_solve((c,lower),Mtb+rho*(z-u))\n",
    "        znew = soft_thresholding(xnew+u,kappa)\n",
    "        unew = u + xnew - znew\n",
    "        \n",
    "        resid_r = np.linalg.norm(xnew-znew)\n",
    "        resid_s = np.linalg.norm(- rho*(znew-z))\n",
    "\n",
    "        x = xnew\n",
    "        z = znew\n",
    "        u = unew\n",
    "\n",
    "        # 打印残差信息，判断是否收敛\n",
    "\n",
    "        if iter % 1000 == 0:\n",
    "            if (verbose):\n",
    "                print(f\"Iteration {iter}, ||r|| = {resid_r:.6f}, ||s|| = {resid_s:.6f}\")\n",
    "        if resid_r <= eps and resid_s <= eps:\n",
    "            if (verbose):\n",
    "                print(f\"Iteration {iter}, ||r|| = {resid_r:.6f}, ||s|| = {resid_s:.6f}\")\n",
    "            break\n",
    "            \n",
    "    #print(f\" **{iter}**\")        \n",
    "    return iter, x\n"
   ]
  },
  {
   "attachments": {},
   "cell_type": "markdown",
   "metadata": {},
   "source": [
    "利用模拟训练集数据测试上述编写的函数："
   ]
  },
  {
   "cell_type": "code",
   "execution_count": 4,
   "metadata": {},
   "outputs": [
    {
     "data": {
      "text/plain": [
       "array([-1.05417044, -0.78301134,  1.82790084,  1.7468072 ,  1.3282585 ,\n",
       "       -0.43277314, -0.6686141 , -0.47208845,  1.05554064,  0.67905585,\n",
       "        0.14814832,  1.04294573,  0.28718991,  1.55577283,  0.97031604,\n",
       "        0.39737593,  1.15394013, -0.00333042,  1.30948521, -0.90230241,\n",
       "        0.        ,  0.        ,  0.        ,  0.        ,  0.        ,\n",
       "        0.        ,  0.        ,  0.        ,  0.        ,  0.        ])"
      ]
     },
     "execution_count": 4,
     "metadata": {},
     "output_type": "execute_result"
    }
   ],
   "source": [
    "np.random.seed(123)\n",
    "n = 1000\n",
    "p = 30\n",
    "nz = 20\n",
    "Xtrain = np.random.normal(size=(n, p))\n",
    "# 真实的 x 只有前20个元素非零，其余均为0\n",
    "beta = np.random.normal(size=nz)\n",
    "beta = np.concatenate((beta, np.zeros(p - nz)))\n",
    "ytrain = Xtrain.dot(beta) + np.random.normal(size=n)\n",
    "beta"
   ]
  },
  {
   "cell_type": "code",
   "execution_count": 5,
   "metadata": {},
   "outputs": [
    {
     "name": "stdout",
     "output_type": "stream",
     "text": [
      "Iteration 0, ||r|| = 4.571809, ||s|| = 0.000000\n",
      "Iteration 1000, ||r|| = 0.067950, ||s|| = 0.000009\n",
      "Iteration 2000, ||r|| = 0.019016, ||s|| = 0.000003\n",
      "Iteration 3000, ||r|| = 0.007483, ||s|| = 0.000001\n",
      "Iteration 4000, ||r|| = 0.002978, ||s|| = 0.000000\n",
      "Iteration 5000, ||r|| = 0.001199, ||s|| = 0.000000\n",
      "Iteration 5201, ||r|| = 0.001000, ||s|| = 0.000000\n"
     ]
    },
    {
     "data": {
      "text/plain": [
       "(5201,\n",
       " array([-9.88446192e-01, -7.29951991e-01,  1.72843395e+00,  1.66188615e+00,\n",
       "         1.18779108e+00, -1.94466297e-01, -5.94711189e-01, -3.91430856e-01,\n",
       "         1.01063023e+00,  5.73786673e-01,  3.36364138e-02,  9.31135970e-01,\n",
       "         2.21897026e-01,  1.51032137e+00,  9.07779872e-01,  2.93449914e-01,\n",
       "         1.08151311e+00, -2.97145094e-04,  1.17431918e+00, -7.88572868e-01,\n",
       "        -1.56776389e-04,  3.81700889e-04, -4.71138798e-04, -2.07577854e-04,\n",
       "        -3.67392622e-04, -3.15013324e-04, -8.35414719e-06,  5.02959595e-06,\n",
       "         4.88460731e-04, -5.39329955e-05]))"
      ]
     },
     "execution_count": 5,
     "metadata": {},
     "output_type": "execute_result"
    }
   ],
   "source": [
    "admm_lasso(Xtrain, ytrain, lam=0.1 * n, maxit=10000, eps=1e-3, verbose=1)"
   ]
  },
  {
   "cell_type": "code",
   "execution_count": 6,
   "metadata": {},
   "outputs": [
    {
     "data": {
      "text/plain": [
       "(1286,\n",
       " array([-1.07555904e+00, -8.14460224e-01,  1.79118556e+00,  1.72909346e+00,\n",
       "         1.27448621e+00, -3.06897473e-01, -6.69469287e-01, -4.73021701e-01,\n",
       "         1.09124222e+00,  6.69340756e-01,  1.24876014e-01,  1.02527211e+00,\n",
       "         3.02106479e-01,  1.58722372e+00,  9.68663224e-01,  3.84937457e-01,\n",
       "         1.15919477e+00, -3.76698667e-02,  1.27397237e+00, -9.01267833e-01,\n",
       "        -7.42409908e-03,  1.91910835e-02, -6.06421740e-02, -2.57202269e-02,\n",
       "        -1.93040114e-02, -3.33947154e-02,  9.99301503e-04, -1.52979627e-02,\n",
       "         2.22508621e-02, -2.01260868e-02]))"
      ]
     },
     "execution_count": 6,
     "metadata": {},
     "output_type": "execute_result"
    }
   ],
   "source": [
    "admm_lasso(Xtrain, ytrain, lam=0.01 * n, maxit=10000, eps=1e-3, verbose=0)"
   ]
  },
  {
   "attachments": {},
   "cell_type": "markdown",
   "metadata": {},
   "source": [
    "### 第3题"
   ]
  },
  {
   "attachments": {},
   "cell_type": "markdown",
   "metadata": {},
   "source": [
    "利用第2题中编写的函数，对一个新的测试集数据做预测。首先生成模拟数据："
   ]
  },
  {
   "cell_type": "code",
   "execution_count": 7,
   "metadata": {},
   "outputs": [],
   "source": [
    "np.random.seed(123)\n",
    "ntest = 500\n",
    "p = 30\n",
    "Xtest = np.random.normal(size=(ntest, p))\n",
    "ytest = Xtest.dot(beta) + np.random.normal(size=ntest)"
   ]
  },
  {
   "attachments": {},
   "cell_type": "markdown",
   "metadata": {},
   "source": [
    "取 $\\lambda=0.1 n$，利用训练集估计回归系数，然后对测试集的因变量做预测，计算预测结果的均方误差，即\n",
    "$$\n",
    "MSE=\\frac{1}{n_{test}}\\sum_{i=1}^{n_{test}}(\\hat{y}_i-y_i)^2,\n",
    "$$\n",
    "其中 $y_i$ 是第 $i$ 个测试集观测的因变量取值，$\\hat{y}_i=x_i'\\hat{\\beta}$ 是第 $i$ 个观测的因变量预测值。"
   ]
  },
  {
   "cell_type": "code",
   "execution_count": 8,
   "metadata": {},
   "outputs": [
    {
     "name": "stdout",
     "output_type": "stream",
     "text": [
      "MSE:1.178361311126027\n"
     ]
    }
   ],
   "source": [
    "# 此处插入代码\n",
    "num_train = Xtrain.shape[0]\n",
    "num_test = Xtest.shape[0]\n",
    "fit = admm_lasso(X = Xtrain, y = ytrain, lam = 0.1*num_train)\n",
    "betahat = fit[1]\n",
    "\n",
    "yhat =  Xtest.dot(betahat)\n",
    "MSE = np.sum((yhat - ytest)**2)/num_test\n",
    "print(f\"MSE:{MSE}\")\n"
   ]
  },
  {
   "attachments": {},
   "cell_type": "markdown",
   "metadata": {},
   "source": [
    "利用 PySpark 来并行地对 Lasso 模型的 $\\lambda$ 参数进行调优，并考察 $\\rho$ 参数对算法收敛速度的影响。取 $\\rho=0.1,0.2,\\ldots,1.0$，$\\lambda=0.1n,0.01n,0.001n$。对于 $\\rho$ 和 $\\lambda$ 的这 30 个组合，分别利用训练集拟合 Lasso 模型，返回迭代次数，并计算在测试集上的预测 MSE。最终输出如下的结果："
   ]
  },
  {
   "attachments": {},
   "cell_type": "markdown",
   "metadata": {},
   "source": [
    "```\n",
    "rho = 0.1, lambda/n = 0.1, niter = ..., mse = ...\n",
    "rho = 0.1, lambda/n = 0.01, niter = ..., mse = ...\n",
    "...\n",
    "```"
   ]
  },
  {
   "attachments": {},
   "cell_type": "markdown",
   "metadata": {},
   "source": [
    "**提示**：先生成 $\\rho$ 和 $\\lambda$ 所有组合的列表，类似于 `params = [(0.1, 0.1), (0.1, 0.01), (0.1, 0.001), (0.2, 0.1), ...]`，然后利用 `sc.parallelize(params)` 生成一个 RDD，最后对这个 RDD 进行 `map()` 和 `collect()` 操作。"
   ]
  },
  {
   "cell_type": "code",
   "execution_count": 9,
   "metadata": {},
   "outputs": [
    {
     "name": "stdout",
     "output_type": "stream",
     "text": [
      "[(0.1, 0.1), (0.1, 0.01), (0.1, 0.001), (0.2, 0.1), (0.2, 0.01), (0.2, 0.001), (0.3, 0.1), (0.3, 0.01), (0.3, 0.001), (0.4, 0.1), (0.4, 0.01), (0.4, 0.001), (0.5, 0.1), (0.5, 0.01), (0.5, 0.001), (0.6, 0.1), (0.6, 0.01), (0.6, 0.001), (0.7, 0.1), (0.7, 0.01), (0.7, 0.001), (0.8, 0.1), (0.8, 0.01), (0.8, 0.001), (0.9, 0.1), (0.9, 0.01), (0.9, 0.001), (1.0, 0.1), (1.0, 0.01), (1.0, 0.001)]\n"
     ]
    },
    {
     "name": "stderr",
     "output_type": "stream",
     "text": [
      "[Stage 1:============================================>              (6 + 2) / 8]\r"
     ]
    },
    {
     "name": "stdout",
     "output_type": "stream",
     "text": [
      "1: rho:0.1, lambda/n:0.1, niter:10000, MSE:1.1776481573538624\n",
      "2: rho:0.1, lambda/n:0.01, niter:10000, MSE:1.0461628597163128\n",
      "3: rho:0.1, lambda/n:0.001, niter:2469, MSE:1.0544803270461345\n",
      "4: rho:0.2, lambda/n:0.1, niter:10000, MSE:1.178891757864105\n",
      "5: rho:0.2, lambda/n:0.01, niter:6429, MSE:1.0461758946479949\n",
      "6: rho:0.2, lambda/n:0.001, niter:1235, MSE:1.0544803365447828\n",
      "7: rho:0.3, lambda/n:0.1, niter:10000, MSE:1.1784775331915271\n",
      "8: rho:0.3, lambda/n:0.01, niter:4286, MSE:1.0461758914463362\n",
      "9: rho:0.3, lambda/n:0.001, niter:824, MSE:1.0544803449550013\n",
      "10: rho:0.4, lambda/n:0.1, niter:10000, MSE:1.1783893073944776\n",
      "11: rho:0.4, lambda/n:0.01, niter:3215, MSE:1.0461758960880838\n",
      "12: rho:0.4, lambda/n:0.001, niter:619, MSE:1.0544803244140812\n",
      "13: rho:0.5, lambda/n:0.1, niter:10000, MSE:1.1783639995979076\n",
      "14: rho:0.5, lambda/n:0.01, niter:2572, MSE:1.0461758928138751\n",
      "15: rho:0.5, lambda/n:0.001, niter:496, MSE:1.0544803174526547\n",
      "16: rho:0.6, lambda/n:0.1, niter:8668, MSE:1.1783613194710008\n",
      "17: rho:0.6, lambda/n:0.01, niter:2144, MSE:1.046175905332936\n",
      "18: rho:0.6, lambda/n:0.001, niter:414, MSE:1.0544803174512845\n",
      "19: rho:0.7, lambda/n:0.1, niter:7430, MSE:1.1783613186097064\n",
      "20: rho:0.7, lambda/n:0.01, niter:1838, MSE:1.0461759098336199\n",
      "21: rho:0.7, lambda/n:0.001, niter:355, MSE:1.0544803174750599\n",
      "22: rho:0.8, lambda/n:0.1, niter:6502, MSE:1.1783613128624875\n",
      "23: rho:0.8, lambda/n:0.01, niter:1608, MSE:1.0461758984525638\n",
      "24: rho:0.8, lambda/n:0.001, niter:311, MSE:1.054480317483943\n",
      "25: rho:0.9, lambda/n:0.1, niter:5780, MSE:1.1783613095632939\n",
      "26: rho:0.9, lambda/n:0.01, niter:1430, MSE:1.0461759188665334\n",
      "27: rho:0.9, lambda/n:0.001, niter:277, MSE:1.0544803174700836\n",
      "28: rho:1.0, lambda/n:0.1, niter:5202, MSE:1.178361311126027\n",
      "29: rho:1.0, lambda/n:0.01, niter:1287, MSE:1.0461759153203898\n",
      "30: rho:1.0, lambda/n:0.001, niter:249, MSE:1.0544803175552797\n"
     ]
    },
    {
     "name": "stderr",
     "output_type": "stream",
     "text": [
      "                                                                                \r"
     ]
    }
   ],
   "source": [
    "# 此处插入代码\n",
    "# define func MSE\n",
    "def cal_MSE(y_hat, y_real):\n",
    "    MSE = np.sum((y_hat-y_real)**2)/(y_hat.shape[0])\n",
    "    return MSE\n",
    "\n",
    "# set Params\n",
    "rho_list = np.round(np.linspace(start = 0.1, stop = 1, num = 10),decimals = 3)\n",
    "lam_list = np.array([0.1,0.01,0.001])\n",
    "params = [(rho,lam) for rho in rho_list for lam in lam_list ]\n",
    "print(params)\n",
    "\n",
    "# transform params into rdd\n",
    "result = sc.parallelize(params).\\\n",
    "    map(lambda p: (p[0],p[1], admm_lasso(X = Xtrain, y = ytrain, lam = p[1]*num_train, rho = p[0]))).\\\n",
    "    map(lambda fit: (fit[0],fit[1],fit[2][0],cal_MSE (y_hat = Xtest.dot(fit[2][1]), y_real = ytest))).\\\n",
    "    collect()\n",
    "\n",
    "for trial in range(len(result)):\n",
    "    fit_result = result[trial]\n",
    "    print(f\"{trial+1}: rho:{fit_result[0]}, lambda/n:{fit_result[1]}, niter:{fit_result[2]+1}, MSE:{fit_result[3]}\")"
   ]
  }
 ],
 "metadata": {
  "kernelspec": {
   "display_name": "Python 3 (ipykernel)",
   "language": "python",
   "name": "python3"
  },
  "language_info": {
   "codemirror_mode": {
    "name": "ipython",
    "version": 3
   },
   "file_extension": ".py",
   "mimetype": "text/x-python",
   "name": "python",
   "nbconvert_exporter": "python",
   "pygments_lexer": "ipython3",
   "version": "3.9.12"
  }
 },
 "nbformat": 4,
 "nbformat_minor": 4
}
