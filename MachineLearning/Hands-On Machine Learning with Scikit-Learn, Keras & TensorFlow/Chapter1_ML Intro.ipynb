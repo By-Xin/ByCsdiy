{
 "cells": [
  {
   "cell_type": "markdown",
   "metadata": {},
   "source": [
    "# 1. Introduction to Machine Learning"
   ]
  },
  {
   "cell_type": "markdown",
   "metadata": {},
   "source": [
    "## Categories "
   ]
  },
  {
   "cell_type": "markdown",
   "metadata": {},
   "source": [
    "- ***Whether under supervision?***\n",
    "  - **Supervised Learning**: including labels\n",
    "    - KNN\n",
    "    - Linear Regression\n",
    "    - Logistics Regression\n",
    "    - SVM\n",
    "    - Decision Tree, Random Forest\n",
    "    - Neural Forest\n",
    "  - **Unsupervised Learning**: without labels\n",
    "    - Cluster Algorithms:\n",
    "      - k-means\n",
    "      - DBSCAN\n",
    "      - HCA （分层聚类分析）\n",
    "    - Anomaly Detection & Novelty Detection *(Anomaly detects outliers, Novelty detects new data)*:\n",
    "      - One Class SVM\n",
    "      - Isolation Forest\n",
    "    - Visialization & Dimensionality\n",
    "      - PCA\n",
    "      - Kernal PCA\n",
    "      - LLE\n",
    "      - t-SNE\n",
    "    - Association Rule Learning *(finding patterns and relationships in data)*:\n",
    "      - Apriori\n",
    "      - Eclat\n",
    "  - **Semi-supervised Learning**: partially labeled, usually a combination of supervised and unsupervised learning\n",
    "    - Deep Belief Networks\n",
    "      - Restricted Boltzmann Machines\n",
    "  - **Reinforcement Learning**: learning from rewards or punishments\n",
    "    - Q-Learning\n",
    "    \n",
    "- ***Whether able to learn incrementally?***\n",
    "  - **Batch Learning**: unable to learn incrementally, each time trained on the whole dataset(e.g. Linear Regression)\n",
    "    - Requires a lot of computational resources\n",
    "  - **Online Learning**: able to learn incrementally, used data can be discarded after learning(e.g. Gradient Descent)\n",
    "    - *learning rate*: to control the learning speed for learning and forgetting\n",
    "    - *out-of-core learning*: to train on huge datasets that cannot fit into a single machine's main memory, by using online learning\n",
    "    - Challenge: if bad data is fed, the model's performance will degrade over time\n",
    "\n",
    "- ***Whether able to generalize?***\n",
    "  - **Instance-based Learning**: make predictions by comparing new data to known data\n",
    "    - KNN\n",
    "  - **Model-based Learning**: define a model from the training data and use it to make predictions\n",
    "    - Linear Regression\n",
    "    - Logistics Regression\n",
    "    - SVM\n",
    "    - Decision Tree, Random Forest\n",
    "    - Neural Forest"
   ]
  },
  {
   "cell_type": "markdown",
   "metadata": {},
   "source": [
    "## Main Challenges of ML"
   ]
  },
  {
   "cell_type": "markdown",
   "metadata": {},
   "source": [
    "\n",
    "- Insufficient Data\n",
    "- Data lack of representativeness\n",
    "- Poor Data Quality\n",
    "  - Wrong Data: remove or correct\n",
    "  - Missing Data: remove, fill, or ignore\n",
    "- Irrelevant Features\n",
    "  - Feature Engineering\n",
    "    - Feature Selection\n",
    "    - Feature Extraction\n",
    "    - Feature Creation\n",
    "- Overfitting\n",
    "- Underfitting\n",
    "\n"
   ]
  },
  {
   "cell_type": "markdown",
   "metadata": {},
   "source": [
    "## Model Evaluation & Testing\n"
   ]
  },
  {
   "cell_type": "markdown",
   "metadata": {},
   "source": [
    "\n",
    "- Hyperparameter Tuning & Model Selection\n",
    "  - For hyperparameter tuning, use *dev set* to tune hyperparameters, and *test set* to evaluate the model.\n",
    "  - [[Cross-Validation]]\n",
    "- Data Unmatching\n",
    "  - *train-dev set*: to detect data mismatch between training and dev set"
   ]
  }
 ],
 "metadata": {
  "kernelspec": {
   "display_name": "deepL_Q",
   "language": "python",
   "name": "python3"
  },
  "language_info": {
   "codemirror_mode": {
    "name": "ipython",
    "version": 3
   },
   "file_extension": ".py",
   "mimetype": "text/x-python",
   "name": "python",
   "nbconvert_exporter": "python",
   "pygments_lexer": "ipython3",
   "version": "3.11.5"
  }
 },
 "nbformat": 4,
 "nbformat_minor": 2
}
