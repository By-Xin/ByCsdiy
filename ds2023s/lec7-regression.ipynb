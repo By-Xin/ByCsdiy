{
 "cells": [
  {
   "cell_type": "markdown",
   "id": "294f54c3",
   "metadata": {},
   "source": [
    "# 分布式回归模型"
   ]
  },
  {
   "cell_type": "markdown",
   "id": "dd303e5e",
   "metadata": {},
   "source": [
    "### 1. 准备工作"
   ]
  },
  {
   "cell_type": "markdown",
   "id": "4330a894",
   "metadata": {},
   "source": [
    "配置和启动 PySpark："
   ]
  },
  {
   "cell_type": "code",
   "execution_count": null,
   "id": "54d9bba0",
   "metadata": {},
   "outputs": [],
   "source": [
    "import findspark\n",
    "findspark.init()\n",
    "\n",
    "from pyspark.sql import SparkSession\n",
    "# 本地模式\n",
    "spark = SparkSession.builder.\\\n",
    "    master(\"local[*]\").\\\n",
    "    appName(\"PySpark RDD\").\\\n",
    "    getOrCreate()\n",
    "sc = spark.sparkContext\n",
    "# sc.setLogLevel(\"ERROR\")\n",
    "print(spark)\n",
    "print(sc)"
   ]
  },
  {
   "cell_type": "markdown",
   "id": "b67ee1cd",
   "metadata": {},
   "source": [
    "利用 Numpy 生成模拟数据，并写入文件。首先生成 $n\\gg p$ 的数据："
   ]
  },
  {
   "cell_type": "code",
   "execution_count": null,
   "id": "cc36a5cc",
   "metadata": {},
   "outputs": [],
   "source": [
    "import numpy as np\n",
    "np.set_printoptions(linewidth=100)\n",
    "\n",
    "np.random.seed(123)\n",
    "n = 100000\n",
    "p = 100\n",
    "x1 = np.random.normal(size=(n, p))\n",
    "beta1 = np.random.normal(size=p)\n",
    "y1 = x1.dot(beta1) + np.random.normal(scale=0.1, size=n)\n",
    "dat = np.hstack((y1.reshape(n, 1), x1))\n",
    "np.savetxt(\"data/reg_tall.txt\", dat, fmt=\"%f\", delimiter=\"\\t\")"
   ]
  },
  {
   "cell_type": "markdown",
   "id": "bf186f2e",
   "metadata": {},
   "source": [
    "以及 $n<p$ 的数据："
   ]
  },
  {
   "cell_type": "code",
   "execution_count": null,
   "id": "c1961580",
   "metadata": {},
   "outputs": [],
   "source": [
    "n = 500\n",
    "p = 5000\n",
    "x2 = np.random.normal(size=(n, p))\n",
    "beta2 = np.random.normal(size=p)\n",
    "beta2[10:] = 0.0\n",
    "y2 = x2.dot(beta2) + np.random.normal(scale=0.1, size=n)\n",
    "dat = np.hstack((y2.reshape(n, 1), x2))\n",
    "np.savetxt(\"data/reg_wide.txt\", dat, fmt=\"%f\", delimiter=\"\\t\")"
   ]
  },
  {
   "cell_type": "markdown",
   "id": "8b44965a",
   "metadata": {},
   "source": [
    "PySpark 读取文件并进行一些简单操作："
   ]
  },
  {
   "cell_type": "code",
   "execution_count": null,
   "id": "4dfebd79",
   "metadata": {
    "scrolled": true
   },
   "outputs": [],
   "source": [
    "file1 = sc.textFile(\"data/reg_tall.txt\")\n",
    "\n",
    "# 打印矩阵行数\n",
    "print(file1.count())\n",
    "\n",
    "# 空行\n",
    "print()\n",
    "\n",
    "# 打印前5行，并将每行字符串截尾\n",
    "text = file1.map(lambda x: x[:70] + \"...\").take(5)\n",
    "print(*text, sep=\"\\n\")"
   ]
  },
  {
   "cell_type": "code",
   "execution_count": null,
   "id": "25c8a5f9",
   "metadata": {
    "scrolled": true
   },
   "outputs": [],
   "source": [
    "file2 = sc.textFile(\"data/reg_wide.txt\")\n",
    "\n",
    "# 打印矩阵行数\n",
    "print(file2.count())\n",
    "\n",
    "# 空行\n",
    "print()\n",
    "\n",
    "# 打印前5行，并将每行字符串截尾\n",
    "text = file2.map(lambda x: x[:70] + \"...\").take(5)\n",
    "print(*text, sep=\"\\n\")"
   ]
  },
  {
   "cell_type": "markdown",
   "id": "96ca1b07",
   "metadata": {},
   "source": [
    "### 2. $n\\gg p$"
   ]
  },
  {
   "cell_type": "markdown",
   "id": "cc4a0ff4",
   "metadata": {},
   "source": [
    "回归系数估计值的显式解为 $\\hat{\\beta}=(X'X)^{-1}X'y$。当 $n\\gg p$ 且 $p$ 不太大时，$X'X$ 为 $p\\times p$ 矩阵，$X'y$ 为 $p\\times 1$ 向量，均可放入内存。因此，此时问题的核心在于计算 $X'X$ 与 $X'y$。"
   ]
  },
  {
   "cell_type": "markdown",
   "id": "414e77bd",
   "metadata": {},
   "source": [
    "首先进行分区映射："
   ]
  },
  {
   "cell_type": "code",
   "execution_count": null,
   "id": "b3e21ee5",
   "metadata": {},
   "outputs": [],
   "source": [
    "file_p10 = file1.repartition(10)\n",
    "print(file_p10.getNumPartitions())"
   ]
  },
  {
   "cell_type": "code",
   "execution_count": null,
   "id": "3d75ea38",
   "metadata": {},
   "outputs": [],
   "source": [
    "# str => np.array\n",
    "def str_to_vec(line):\n",
    "    # 分割字符串\n",
    "    str_vec = line.split(\"\\t\")\n",
    "    # 将每一个元素从字符串变成数值型\n",
    "    num_vec = map(lambda s: float(s), str_vec)\n",
    "    # 创建 Numpy 向量\n",
    "    return np.fromiter(num_vec, dtype=float)\n",
    "\n",
    "# Iter[str] => Iter[matrix]\n",
    "def part_to_mat(iterator):\n",
    "    # Iter[str] => Iter[np.array]\n",
    "    iter_arr = map(str_to_vec, iterator)\n",
    "\n",
    "    # Iter[np.array] => list(np.array)\n",
    "    dat = list(iter_arr)\n",
    "\n",
    "    # list(np.array) => matrix\n",
    "    if len(dat) < 1:  # Test zero iterator\n",
    "        mat = np.array([])\n",
    "    else:\n",
    "        mat = np.vstack(dat)\n",
    "\n",
    "    # matrix => Iter[matrix]\n",
    "    yield mat"
   ]
  },
  {
   "cell_type": "code",
   "execution_count": null,
   "id": "d437358b",
   "metadata": {},
   "outputs": [],
   "source": [
    "dat = file_p10.mapPartitions(part_to_mat).filter(lambda x: x.shape[0] > 0)\n",
    "print(dat.count())"
   ]
  },
  {
   "cell_type": "code",
   "execution_count": null,
   "id": "eb2cd1b8",
   "metadata": {},
   "outputs": [],
   "source": [
    "dat.first()"
   ]
  },
  {
   "cell_type": "markdown",
   "id": "d05681c4",
   "metadata": {},
   "source": [
    "注意此时每个分区上的数据同时包含了因变量和自变量，在使用自变量时，要将第一列排除。计算 $X'X$："
   ]
  },
  {
   "cell_type": "code",
   "execution_count": null,
   "id": "c5bee37a",
   "metadata": {
    "scrolled": false
   },
   "outputs": [],
   "source": [
    "xtx = dat.map(lambda part: part[:, 1:].transpose().dot(part[:, 1:])).reduce(lambda x, y: x + y)\n",
    "xtx"
   ]
  },
  {
   "cell_type": "markdown",
   "id": "fc090087",
   "metadata": {},
   "source": [
    "计算 $X'y$："
   ]
  },
  {
   "cell_type": "code",
   "execution_count": null,
   "id": "55a52b11",
   "metadata": {},
   "outputs": [],
   "source": [
    "xty = dat.map(lambda part: part[:, 1:].transpose().dot(part[:, 0])).reduce(lambda x, y: x + y)\n",
    "xty"
   ]
  },
  {
   "cell_type": "markdown",
   "id": "ba3b5c59",
   "metadata": {},
   "source": [
    "此时剩下的操作即为求解线性方程组。由于 $p$ 较小，故可以在内存中完成："
   ]
  },
  {
   "cell_type": "code",
   "execution_count": null,
   "id": "d79fb3d7",
   "metadata": {},
   "outputs": [],
   "source": [
    "bhat = np.linalg.solve(xtx, xty)\n",
    "bhat"
   ]
  },
  {
   "cell_type": "markdown",
   "id": "5f1a932a",
   "metadata": {},
   "source": [
    "与真值进行对比："
   ]
  },
  {
   "cell_type": "code",
   "execution_count": null,
   "id": "7ddd4a9a",
   "metadata": {
    "scrolled": true
   },
   "outputs": [],
   "source": [
    "beta1"
   ]
  },
  {
   "cell_type": "markdown",
   "id": "b6425f18",
   "metadata": {},
   "source": [
    "**思考题**：实际计算回归时，我们一般会加入截距项。此时应该如何修改程序，使其可以输出包含截距项的回归系数？"
   ]
  },
  {
   "cell_type": "markdown",
   "id": "6ec97846",
   "metadata": {},
   "source": [
    "### 3. $n<p$"
   ]
  },
  {
   "cell_type": "markdown",
   "id": "baebff38",
   "metadata": {},
   "source": [
    "首先获取维度信息："
   ]
  },
  {
   "cell_type": "code",
   "execution_count": null,
   "id": "e15ce494",
   "metadata": {},
   "outputs": [],
   "source": [
    "n = file2.count()\n",
    "n"
   ]
  },
  {
   "cell_type": "code",
   "execution_count": null,
   "id": "6935bf9a",
   "metadata": {},
   "outputs": [],
   "source": [
    "p = str_to_vec(file2.first()).shape[0] - 1\n",
    "p"
   ]
  },
  {
   "cell_type": "markdown",
   "id": "7bb5581d",
   "metadata": {},
   "source": [
    "然后创建分区 RDD："
   ]
  },
  {
   "cell_type": "code",
   "execution_count": null,
   "id": "174c3ce5",
   "metadata": {},
   "outputs": [],
   "source": [
    "dat = file2.repartition(10).mapPartitions(part_to_mat).filter(lambda x: x.shape[0] > 0)\n",
    "print(dat.count())"
   ]
  },
  {
   "cell_type": "markdown",
   "id": "a51b05d0",
   "metadata": {},
   "source": [
    "当 $n<p$ 时，$X'X$ 不再可逆，因此最小二乘估计没有唯一解。此时我们可以采用岭回归的方法，其在最小二乘损失函数的基础上加入一个惩罚项 $\\lambda \\Vert\\beta\\Vert^2$。岭回归估计的显式解为 $\\hat{\\beta}_\\lambda=(X'X+\\lambda I)^{-1}X'y$，其中 $\\lambda>0$ 是一个给定的正数。"
   ]
  },
  {
   "cell_type": "markdown",
   "id": "06d1bdad",
   "metadata": {},
   "source": [
    "但注意到 $X'X+\\lambda I$ 是一个高维的矩阵，难以直接进行求解。因此我们采用共轭梯度法（参见 [lec7-cg.ipynb](lec7-cg.ipynb)）："
   ]
  },
  {
   "cell_type": "code",
   "execution_count": null,
   "id": "04e24729",
   "metadata": {},
   "outputs": [],
   "source": [
    "def cg(Afn, b, x0, eps=1e-3, print_progress=False, **Afn_args):\n",
    "    m = b.shape[0]\n",
    "    # 初始解（注意此处应该复制x0，否则程序退出时会修改x0）\n",
    "    x = np.copy(x0)\n",
    "    # 初始残差向量\n",
    "    r = b - Afn(x, **Afn_args)\n",
    "    # 初始共轭梯度\n",
    "    p = r\n",
    "\n",
    "    for k in range(m):\n",
    "        # 矩阵乘法\n",
    "        Ap = Afn(p, **Afn_args)\n",
    "        rr = r.dot(r)\n",
    "        alpha = rr / p.dot(Ap)\n",
    "        # 更新解\n",
    "        x += alpha * p\n",
    "        # 计算新残差向量\n",
    "        rnew = r - alpha * Ap\n",
    "        # 测试是否收敛\n",
    "        norm = np.linalg.norm(rnew)\n",
    "        if print_progress:\n",
    "            print(f\"Iter {k}, residual norm = {norm}\")\n",
    "        if norm < eps:\n",
    "            break\n",
    "        beta = rnew.dot(rnew) / rr\n",
    "        # 更新共轭梯度\n",
    "        p = rnew + beta * p\n",
    "        # 更新残差向量\n",
    "        r = rnew\n",
    "\n",
    "    return x"
   ]
  },
  {
   "cell_type": "markdown",
   "id": "c07d2863",
   "metadata": {},
   "source": [
    "先计算 $b=X'y$："
   ]
  },
  {
   "cell_type": "code",
   "execution_count": null,
   "id": "7d10a93a",
   "metadata": {},
   "outputs": [],
   "source": [
    "b = dat.map(lambda part: part[:, 1:].transpose().dot(part[:, 0])).reduce(lambda x, y: x + y)\n",
    "b"
   ]
  },
  {
   "cell_type": "markdown",
   "id": "41ca2fb1",
   "metadata": {},
   "source": [
    "我们需要定义一个函数计算 $(X'X+\\lambda I)v=X'Xv+\\lambda v$，其中第一项可以分布式进行（参见笔记）。"
   ]
  },
  {
   "cell_type": "code",
   "execution_count": null,
   "id": "4cb8ea06",
   "metadata": {},
   "outputs": [],
   "source": [
    "def xtxv(part, v):\n",
    "    x = part[:, 1:]\n",
    "    return x.transpose().dot(x.dot(v))\n",
    "\n",
    "def ridge_prod(v, lam, rdd):\n",
    "    first_term = rdd.map(lambda part: xtxv(part, v)).reduce(lambda x, y: x + y)\n",
    "    second_term = lam * v\n",
    "    return first_term + second_term"
   ]
  },
  {
   "cell_type": "markdown",
   "id": "40c2c147",
   "metadata": {},
   "source": [
    "接下来调用 CG 函数，取 $\\lambda=0.01 n$："
   ]
  },
  {
   "cell_type": "code",
   "execution_count": null,
   "id": "53e63e15",
   "metadata": {},
   "outputs": [],
   "source": [
    "lam = 0.01 * n\n",
    "sol = cg(ridge_prod, b, x0=np.zeros(shape=p), eps=1e-3, print_progress=True, lam=lam, rdd=dat)"
   ]
  },
  {
   "cell_type": "code",
   "execution_count": null,
   "id": "6a731231",
   "metadata": {},
   "outputs": [],
   "source": [
    "sol[:30]"
   ]
  },
  {
   "cell_type": "markdown",
   "id": "68d375e8",
   "metadata": {},
   "source": [
    "关闭 Spark 连接："
   ]
  },
  {
   "cell_type": "code",
   "execution_count": null,
   "id": "c6e9f36e",
   "metadata": {},
   "outputs": [],
   "source": [
    "sc.stop()"
   ]
  }
 ],
 "metadata": {
  "kernelspec": {
   "display_name": "Python 3 (ipykernel)",
   "language": "python",
   "name": "python3"
  },
  "language_info": {
   "codemirror_mode": {
    "name": "ipython",
    "version": 3
   },
   "file_extension": ".py",
   "mimetype": "text/x-python",
   "name": "python",
   "nbconvert_exporter": "python",
   "pygments_lexer": "ipython3",
   "version": "3.10.9"
  }
 },
 "nbformat": 4,
 "nbformat_minor": 5
}
