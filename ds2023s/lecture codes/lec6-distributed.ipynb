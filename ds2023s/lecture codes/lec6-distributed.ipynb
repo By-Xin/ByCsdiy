{
 "cells": [
  {
   "cell_type": "markdown",
   "id": "294f54c3",
   "metadata": {},
   "source": [
    "# 基础分布式算法"
   ]
  },
  {
   "cell_type": "markdown",
   "id": "dd303e5e",
   "metadata": {},
   "source": [
    "### 1. 准备工作"
   ]
  },
  {
   "cell_type": "markdown",
   "id": "4330a894",
   "metadata": {},
   "source": [
    "配置和启动 PySpark："
   ]
  },
  {
   "cell_type": "code",
   "execution_count": 2,
   "id": "54d9bba0",
   "metadata": {},
   "outputs": [
    {
     "name": "stdout",
     "output_type": "stream",
     "text": [
      "<pyspark.sql.session.SparkSession object at 0x7fcbf090ed60>\n",
      "<SparkContext master=local[*] appName=PySpark RDD>\n"
     ]
    }
   ],
   "source": [
    "import findspark\n",
    "findspark.init(\"/Users/xinby/Library/Spark\")\n",
    "\n",
    "from pyspark.sql import SparkSession\n",
    "# 本地模式\n",
    "spark = SparkSession.builder.\\\n",
    "    master(\"local[*]\").\\\n",
    "    appName(\"PySpark RDD\").\\\n",
    "    getOrCreate()\n",
    "sc = spark.sparkContext\n",
    "sc.setLogLevel(\"ERROR\")\n",
    "print(spark)\n",
    "print(sc)"
   ]
  },
  {
   "cell_type": "markdown",
   "id": "b67ee1cd",
   "metadata": {},
   "source": [
    "利用 Numpy 创建一个矩阵，并写入文件："
   ]
  },
  {
   "cell_type": "code",
   "execution_count": 3,
   "id": "cc36a5cc",
   "metadata": {},
   "outputs": [],
   "source": [
    "import numpy as np\n",
    "np.set_printoptions(linewidth=100)\n",
    "\n",
    "np.random.seed(123)\n",
    "n = 100\n",
    "p = 5\n",
    "mat = np.random.normal(size=(n, p))\n",
    "np.savetxt(\"mat_np.txt\", mat, fmt=\"%f\", delimiter=\"\\t\")"
   ]
  },
  {
   "cell_type": "markdown",
   "id": "8b44965a",
   "metadata": {},
   "source": [
    "PySpark 读取文件并进行一些简单操作："
   ]
  },
  {
   "cell_type": "code",
   "execution_count": 4,
   "id": "4dfebd79",
   "metadata": {
    "scrolled": true
   },
   "outputs": [
    {
     "name": "stderr",
     "output_type": "stream",
     "text": [
      "[Stage 0:>                                                          (0 + 2) / 2]\r"
     ]
    },
    {
     "name": "stdout",
     "output_type": "stream",
     "text": [
      "100\n",
      "\n",
      "-1.085631\t0.997345\t0.282978\t-1.506295\t-0.578600\n",
      "1.651437\t-2.426679\t-0.428913\t1.265936\t-0.866740\n",
      "-0.678886\t-0.094709\t1.491390\t-0.638902\t-0.443982\n",
      "-0.434351\t2.205930\t2.186786\t1.004054\t0.386186\n",
      "0.737369\t1.490732\t-0.935834\t1.175829\t-1.253881\n"
     ]
    },
    {
     "name": "stderr",
     "output_type": "stream",
     "text": [
      "                                                                                \r"
     ]
    }
   ],
   "source": [
    "file = sc.textFile(\"mat_np.txt\")\n",
    "\n",
    "# 打印矩阵行数\n",
    "print(file.count())\n",
    "\n",
    "# 空行\n",
    "print()\n",
    "\n",
    "# 打印前5行\n",
    "text = file.take(5)\n",
    "print(*text, sep=\"\\n\")"
   ]
  },
  {
   "cell_type": "code",
   "execution_count": 5,
   "id": "c8a8bd08",
   "metadata": {},
   "outputs": [
    {
     "name": "stdout",
     "output_type": "stream",
     "text": [
      "<class 'pyspark.rdd.RDD'>\n",
      "<class 'str'>\n"
     ]
    }
   ],
   "source": [
    "file.first()\n",
    "print(type(file))\n",
    "print(type(file.first()))"
   ]
  },
  {
   "cell_type": "markdown",
   "id": "8e12b890",
   "metadata": {},
   "source": [
    "### 2. 进行分区映射（MapPartitions）"
   ]
  },
  {
   "cell_type": "code",
   "execution_count": 6,
   "id": "b3e21ee5",
   "metadata": {},
   "outputs": [
    {
     "name": "stdout",
     "output_type": "stream",
     "text": [
      "2\n",
      "10\n"
     ]
    }
   ],
   "source": [
    "file_p10 = file.repartition(10)\n",
    "print(file.getNumPartitions())\n",
    "print(file_p10.getNumPartitions())"
   ]
  },
  {
   "cell_type": "code",
   "execution_count": 7,
   "id": "3d75ea38",
   "metadata": {},
   "outputs": [],
   "source": [
    "# str => np.array\n",
    "def str_to_vec(line):\n",
    "    # 分割字符串\n",
    "    str_vec = line.split(\"\\t\")\n",
    "    # 将每一个元素从字符串变成数值型\n",
    "    num_vec = map(lambda s: float(s), str_vec)\n",
    "    # 创建 Numpy 向量\n",
    "    return np.fromiter(num_vec, dtype=float)\n",
    "\n",
    "# Iter[str] => Iter[matrix]\n",
    "def part_to_mat(iterator):\n",
    "    # Iter[str] => Iter[np.array]\n",
    "    iter_arr = map(str_to_vec, iterator)\n",
    "\n",
    "    # Iter[np.array] => list(np.array)\n",
    "    dat = list(iter_arr)\n",
    "\n",
    "    # list(np.array) => matrix\n",
    "    if len(dat) < 1:  # Test zero iterator\n",
    "        mat = np.array([])\n",
    "    else:\n",
    "        mat = np.vstack(dat)\n",
    "\n",
    "    # matrix => Iter[matrix]\n",
    "    yield mat"
   ]
  },
  {
   "cell_type": "code",
   "execution_count": 8,
   "id": "d437358b",
   "metadata": {},
   "outputs": [
    {
     "name": "stdout",
     "output_type": "stream",
     "text": [
      "7\n"
     ]
    }
   ],
   "source": [
    "dat = file_p10.mapPartitions(part_to_mat).filter(lambda x: x.shape[0] > 0)\n",
    "print(dat.count())"
   ]
  },
  {
   "cell_type": "markdown",
   "id": "9caaf2e7",
   "metadata": {},
   "source": [
    "### 3. 矩阵乘法 $Xv$"
   ]
  },
  {
   "attachments": {},
   "cell_type": "markdown",
   "id": "96f1be5d",
   "metadata": {},
   "source": [
    "假设：$ X \\in \\R^{n\\times p}, v \\in \\R^{p}$\n",
    "- 将$X$按照行进行分块（包含所有列，但行不一定是一行），记为：$X=[X_1;...;X_m]^T$, $X_i \\in \\R^{n_i\\times p}$\n",
    "- 故$Xv=[X_1v;...;X_mv]^T$\n",
    "- 这样$X$的一个分块$X_i$就是一个partition"
   ]
  },
  {
   "attachments": {},
   "cell_type": "markdown",
   "id": "684edfb9",
   "metadata": {},
   "source": [
    "模拟数据和真实值：(核对用)"
   ]
  },
  {
   "cell_type": "code",
   "execution_count": 9,
   "id": "e6dcb844",
   "metadata": {},
   "outputs": [
    {
     "data": {
      "text/plain": [
       "array([-1.65326187,  0.43284335, -0.83326669,  1.65616556,  0.47393998, -1.20594195, -1.09926452,\n",
       "       -0.24483357, -0.58399139,  2.91984625, -1.22159268,  2.99167578,  0.04907967,  0.00526486,\n",
       "       -1.78033411, -1.03704672,  1.27253333,  0.0280204 ,  0.88785436,  0.03485989,  1.45756374,\n",
       "       -1.26733834,  0.89596346, -0.65027554,  1.24724097,  0.01338995, -0.45613812,  1.06057634,\n",
       "        0.33513133,  0.30420446, -1.8306843 ,  0.81135409,  0.8563569 , -0.59189289, -0.58993733,\n",
       "        0.85925493,  0.20665867, -2.07373852,  0.23232788, -2.69748055,  1.19285523, -0.22831252,\n",
       "       -0.75495708,  1.04599886, -0.59922216, -2.14049979, -0.68492854,  0.13322705,  0.11576237,\n",
       "       -1.07628496,  0.98308603,  2.28403745,  0.31327103,  0.97450293, -2.19087869, -1.38414598,\n",
       "       -2.06428815, -1.19693787, -2.20837322,  1.79393849,  0.37940968,  0.98364566,  2.12782768,\n",
       "        0.17228872, -1.42418937, -0.66160026,  0.20736396, -0.42352417, -1.83096405,  0.75557361,\n",
       "       -1.87660221, -1.93437067, -0.51802796,  0.70099077, -2.27776851, -0.17137795, -0.77013413,\n",
       "       -0.33715716, -0.46570004, -0.22885299,  0.07744646,  0.65965659,  1.30432415, -3.05410919,\n",
       "       -1.55812228, -0.35166363, -0.26695372,  1.71736731,  1.42907711,  0.74512303, -1.17590892,\n",
       "        1.28153134,  0.34006662,  1.1969479 ,  1.68259996, -2.70844742, -0.21291717,  2.74992919,\n",
       "       -2.1979523 ,  0.60576651])"
      ]
     },
     "execution_count": 9,
     "metadata": {},
     "output_type": "execute_result"
    }
   ],
   "source": [
    "np.random.seed(123)\n",
    "v = np.random.uniform(size=p)\n",
    "res = mat.dot(v)\n",
    "res"
   ]
  },
  {
   "cell_type": "markdown",
   "id": "f2acc05f",
   "metadata": {},
   "source": [
    "每个 RDD 分区上进行计算："
   ]
  },
  {
   "cell_type": "code",
   "execution_count": 12,
   "id": "733872af",
   "metadata": {
    "scrolled": false
   },
   "outputs": [
    {
     "name": "stdout",
     "output_type": "stream",
     "text": [
      "[array([-1.65326236,  0.43284381, -0.83326654,  1.65616548,  0.47393997, -1.20594265, -1.09926439,\n",
      "       -0.24483374, -0.58399159,  2.91984624]), array([-1.22159275,  2.99167581,  0.04907979,  0.0052652 , -1.78033393, -1.03704719,  1.27253296,\n",
      "        0.02802034,  0.88785453,  0.03485997]), array([ 1.45756404, -1.26733862,  0.89596327, -0.65027561,  1.24724115,  0.01338989, -0.45613776,\n",
      "        1.06057673,  0.33513193,  0.30420455,  2.28403732,  0.31327091,  0.97450361, -2.19087935,\n",
      "       -1.38414658, -2.06428804, -1.19693768, -2.20837397,  1.79393855,  0.37941031]), array([-1.8306849 ,  0.81135346,  0.85635656, -0.59189308, -0.58993783,  0.8592545 ,  0.20665878,\n",
      "       -2.07373867,  0.23232755, -2.69748044,  0.9836457 ,  2.12782845,  0.17228866, -1.42418964,\n",
      "       -0.66160031,  0.20736295, -0.4235236 , -1.83096434,  0.75557361, -1.87660252]), array([ 1.19285543, -0.22831212, -0.75495698,  1.04599886, -0.59922233, -2.14049959, -0.68492885,\n",
      "        0.13322687,  0.11576229, -1.07628444, -1.93437101, -0.51802806,  0.70099126, -2.27776847,\n",
      "       -0.17137845, -0.77013423, -0.33715737, -0.46569988, -0.22885317,  0.07744686]), array([ 0.98308645,  0.65965705,  1.30432399, -3.05410973, -1.55812232, -0.35166336, -0.26695394,\n",
      "        1.7173679 ,  1.42907711,  0.74512261, -1.17590882]), array([ 1.28153159,  0.34006666,  1.19694819,  1.68260023, -2.70844726, -0.21291761,  2.74992875,\n",
      "       -2.1979517 ,  0.60576649])] <class 'list'>\n"
     ]
    }
   ],
   "source": [
    "# mapPartition 的目的是将一个分区转换成了一个RDD的一个元素，因此以后的操作只要是map即可\n",
    "# 这里不是reduce是因为不是要把最后分块进行加和，而是想要最后的拼接\n",
    "res_part = dat.map(lambda x: x.dot(v)).collect() \n",
    "print(res_part,type(res_part))\n",
    "# 这个结果里，一个array就是前面的一个分块"
   ]
  },
  {
   "cell_type": "markdown",
   "id": "04bd0404",
   "metadata": {},
   "source": [
    "拼接分块结果："
   ]
  },
  {
   "cell_type": "code",
   "execution_count": 13,
   "id": "335b21e3",
   "metadata": {
    "scrolled": true
   },
   "outputs": [
    {
     "data": {
      "text/plain": [
       "array([-1.65326236,  0.43284381, -0.83326654,  1.65616548,  0.47393997, -1.20594265, -1.09926439,\n",
       "       -0.24483374, -0.58399159,  2.91984624, -1.22159275,  2.99167581,  0.04907979,  0.0052652 ,\n",
       "       -1.78033393, -1.03704719,  1.27253296,  0.02802034,  0.88785453,  0.03485997,  1.45756404,\n",
       "       -1.26733862,  0.89596327, -0.65027561,  1.24724115,  0.01338989, -0.45613776,  1.06057673,\n",
       "        0.33513193,  0.30420455,  2.28403732,  0.31327091,  0.97450361, -2.19087935, -1.38414658,\n",
       "       -2.06428804, -1.19693768, -2.20837397,  1.79393855,  0.37941031, -1.8306849 ,  0.81135346,\n",
       "        0.85635656, -0.59189308, -0.58993783,  0.8592545 ,  0.20665878, -2.07373867,  0.23232755,\n",
       "       -2.69748044,  0.9836457 ,  2.12782845,  0.17228866, -1.42418964, -0.66160031,  0.20736295,\n",
       "       -0.4235236 , -1.83096434,  0.75557361, -1.87660252,  1.19285543, -0.22831212, -0.75495698,\n",
       "        1.04599886, -0.59922233, -2.14049959, -0.68492885,  0.13322687,  0.11576229, -1.07628444,\n",
       "       -1.93437101, -0.51802806,  0.70099126, -2.27776847, -0.17137845, -0.77013423, -0.33715737,\n",
       "       -0.46569988, -0.22885317,  0.07744686,  0.98308645,  0.65965705,  1.30432399, -3.05410973,\n",
       "       -1.55812232, -0.35166336, -0.26695394,  1.7173679 ,  1.42907711,  0.74512261, -1.17590882,\n",
       "        1.28153159,  0.34006666,  1.19694819,  1.68260023, -2.70844726, -0.21291761,  2.74992875,\n",
       "       -2.1979517 ,  0.60576649])"
      ]
     },
     "execution_count": 13,
     "metadata": {},
     "output_type": "execute_result"
    }
   ],
   "source": [
    "np.concatenate(res_part)"
   ]
  },
  {
   "attachments": {},
   "cell_type": "markdown",
   "id": "047a11b9",
   "metadata": {},
   "source": [
    "### 4. 矩阵乘法 $X'X$\n",
    "\n",
    "- 同理进行分块，则最终的结果为：$X'X=X_1'X_1+\\dots+X_m'X_m$ (由于这里的假定$X\\in\\R^{n\\times p}, n>>p$，故最终的大小为$p\\times p$，是可以存储在内存中的)\n",
    "- 对于每个结果$X_i'X_i$ ，其大小也是$p\\times p$，故也是内存友好的\n",
    "- 这里由于是相加，因此需要`reduce`，而且参与运算的元素都是一个矩阵"
   ]
  },
  {
   "cell_type": "markdown",
   "id": "36b954aa",
   "metadata": {},
   "source": [
    "真实值："
   ]
  },
  {
   "cell_type": "code",
   "execution_count": 14,
   "id": "75b770d4",
   "metadata": {},
   "outputs": [
    {
     "data": {
      "text/plain": [
       "array([[ 9.35643395e+01, -2.39739879e-02,  4.75846887e+00,  2.27729644e+01,  5.35952824e+00],\n",
       "       [-2.39739879e-02,  1.09769750e+02,  2.74564778e+00, -3.29329848e-01,  1.11698743e+01],\n",
       "       [ 4.75846887e+00,  2.74564778e+00,  1.09077973e+02,  6.41825678e+00, -7.53446301e+00],\n",
       "       [ 2.27729644e+01, -3.29329848e-01,  6.41825678e+00,  9.95562632e+01,  7.71274621e+00],\n",
       "       [ 5.35952824e+00,  1.11698743e+01, -7.53446301e+00,  7.71274621e+00,  9.19863380e+01]])"
      ]
     },
     "execution_count": 14,
     "metadata": {},
     "output_type": "execute_result"
    }
   ],
   "source": [
    "res = mat.transpose().dot(mat)\n",
    "res"
   ]
  },
  {
   "cell_type": "markdown",
   "id": "21e6e4ec",
   "metadata": {},
   "source": [
    "每个 RDD 分区上进行计算："
   ]
  },
  {
   "cell_type": "code",
   "execution_count": 16,
   "id": "c5bee37a",
   "metadata": {},
   "outputs": [
    {
     "data": {
      "text/plain": [
       "array([[ 9.35643453e+01, -2.39794314e-02,  4.75847395e+00,  2.27729716e+01,  5.35953520e+00],\n",
       "       [-2.39794314e-02,  1.09769741e+02,  2.74564629e+00, -3.29332977e-01,  1.11698788e+01],\n",
       "       [ 4.75847395e+00,  2.74564629e+00,  1.09077969e+02,  6.41825316e+00, -7.53445385e+00],\n",
       "       [ 2.27729716e+01, -3.29332977e-01,  6.41825316e+00,  9.95562607e+01,  7.71275158e+00],\n",
       "       [ 5.35953520e+00,  1.11698788e+01, -7.53445385e+00,  7.71275158e+00,  9.19863445e+01]])"
      ]
     },
     "execution_count": 16,
     "metadata": {},
     "output_type": "execute_result"
    }
   ],
   "source": [
    "res = dat.map(lambda x: x.T.dot(x)).reduce(lambda x, y: x + y) # x代表了前面的累积结果，y代表了最新一项\n",
    "res"
   ]
  },
  {
   "attachments": {},
   "cell_type": "markdown",
   "id": "6ec97846",
   "metadata": {},
   "source": [
    "### 5. 矩阵乘法 $X'v$\n",
    "- 这里设定$X,v$的行数相同，故可以同时进行拆分(在具体操作时认为是在一个大矩阵中)\n",
    "- $X'v = X_1'v_1+...+X_m'v_m$"
   ]
  },
  {
   "cell_type": "markdown",
   "id": "a51b05d0",
   "metadata": {},
   "source": [
    "以 `mat` 的前4列为 `X`，最后一列为 `v`："
   ]
  },
  {
   "cell_type": "code",
   "execution_count": 17,
   "id": "04e24729",
   "metadata": {},
   "outputs": [
    {
     "data": {
      "text/plain": [
       "array([ 5.35952824, 11.1698743 , -7.53446301,  7.71274621])"
      ]
     },
     "execution_count": 17,
     "metadata": {},
     "output_type": "execute_result"
    }
   ],
   "source": [
    "X = mat[:, :-1]\n",
    "v = mat[:, -1]\n",
    "res = X.transpose().dot(v)\n",
    "res"
   ]
  },
  {
   "cell_type": "markdown",
   "id": "41ca2fb1",
   "metadata": {},
   "source": [
    "每个 RDD 分区上进行计算："
   ]
  },
  {
   "cell_type": "code",
   "execution_count": 18,
   "id": "4cb8ea06",
   "metadata": {},
   "outputs": [
    {
     "data": {
      "text/plain": [
       "array([ 5.3595352 , 11.16987882, -7.53445385,  7.71275158])"
      ]
     },
     "execution_count": 18,
     "metadata": {},
     "output_type": "execute_result"
    }
   ],
   "source": [
    "def Xitv(part):\n",
    "    '''\n",
    "    在定义这个map函数的时候，由于整体是一个大矩阵，但是在内部需要将X和v区分开来\n",
    "    '''\n",
    "    Xi = part[:, :-1]\n",
    "    vi = part[:, -1]\n",
    "    return Xi.transpose().dot(vi)\n",
    "\n",
    "res = dat.map(Xitv).reduce(lambda x, y: x + y)\n",
    "res"
   ]
  },
  {
   "cell_type": "markdown",
   "id": "68d375e8",
   "metadata": {},
   "source": [
    "关闭 Spark 连接："
   ]
  },
  {
   "cell_type": "code",
   "execution_count": 19,
   "id": "c6e9f36e",
   "metadata": {},
   "outputs": [],
   "source": [
    "sc.stop()"
   ]
  }
 ],
 "metadata": {
  "kernelspec": {
   "display_name": "Python 3 (ipykernel)",
   "language": "python",
   "name": "python3"
  },
  "language_info": {
   "codemirror_mode": {
    "name": "ipython",
    "version": 3
   },
   "file_extension": ".py",
   "mimetype": "text/x-python",
   "name": "python",
   "nbconvert_exporter": "python",
   "pygments_lexer": "ipython3",
   "version": "3.9.12"
  }
 },
 "nbformat": 4,
 "nbformat_minor": 5
}
