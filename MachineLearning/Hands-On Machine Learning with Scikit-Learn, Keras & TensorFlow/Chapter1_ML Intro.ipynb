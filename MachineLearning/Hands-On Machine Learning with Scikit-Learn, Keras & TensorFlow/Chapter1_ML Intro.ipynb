{
 "cells": [
  {
   "cell_type": "markdown",
   "metadata": {},
   "source": [
    "# 1. Introduction to Machine Learning"
   ]
  },
  {
   "cell_type": "markdown",
   "metadata": {},
   "source": [
    "## 1.1 Categories "
   ]
  },
  {
   "cell_type": "markdown",
   "metadata": {},
   "source": [
    "- Whether under supervision?\n",
    "  - **Supervised Learning**: including labels\n",
    "    - KNN\n",
    "    - Linear Regression\n",
    "    - Logistics Regression\n",
    "    - SVM\n",
    "    - Decision Tree, Random Forest\n",
    "    - Neural Forest\n",
    "  - **Unsupervised Learning**: without labels\n",
    "    - Cluster Algorithms:\n",
    "      - k-means\n",
    "      - DBSCAN\n",
    "      - HCA （分层聚类分析）\n",
    "    - Anomaly Detection & Novelty Detection\n",
    "      - One Class SVM\n",
    "      - Isolation Forest\n",
    "    - Visialization & Dimensionality\n",
    "      - PCA\n",
    "      - Kernal PCA\n",
    "      - LLE\n",
    "      - t-SNE\n",
    "    - Association Rule Learning\n",
    "      - Apriori\n",
    "      - Eclat"
   ]
  },
  {
   "cell_type": "markdown",
   "metadata": {},
   "source": []
  }
 ],
 "metadata": {
  "kernelspec": {
   "display_name": "deepL_Q",
   "language": "python",
   "name": "python3"
  },
  "language_info": {
   "codemirror_mode": {
    "name": "ipython",
    "version": 3
   },
   "file_extension": ".py",
   "mimetype": "text/x-python",
   "name": "python",
   "nbconvert_exporter": "python",
   "pygments_lexer": "ipython3",
   "version": "3.11.5"
  }
 },
 "nbformat": 4,
 "nbformat_minor": 2
}
