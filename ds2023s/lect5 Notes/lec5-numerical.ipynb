{
 "cells": [
  {
   "cell_type": "markdown",
   "id": "63a29840",
   "metadata": {},
   "source": [
    "# 数值计算基础"
   ]
  },
  {
   "attachments": {},
   "cell_type": "markdown",
   "id": "d761f5c6",
   "metadata": {},
   "source": [
    "### ***原则1：矩阵相乘，小维度优先***"
   ]
  },
  {
   "cell_type": "markdown",
   "id": "4330a894",
   "metadata": {},
   "source": [
    "矩阵 $A_{n\\times p}$，向量 $x_{p\\times 1}$，计算 $A^{T}Ax$。"
   ]
  },
  {
   "cell_type": "code",
   "execution_count": 1,
   "id": "54d9bba0",
   "metadata": {},
   "outputs": [],
   "source": [
    "import numpy as np\n",
    "np.set_printoptions(linewidth=100)\n",
    "\n",
    "np.random.seed(123)\n",
    "n = 2000\n",
    "p = 1000\n",
    "A = np.random.normal(size=(n, p))\n",
    "x = np.random.normal(size=p)"
   ]
  },
  {
   "cell_type": "markdown",
   "id": "b67ee1cd",
   "metadata": {},
   "source": [
    "方法1：先计算 $A^{T}A$，再与 $x$ 相乘："
   ]
  },
  {
   "cell_type": "code",
   "execution_count": 2,
   "id": "cc36a5cc",
   "metadata": {},
   "outputs": [
    {
     "name": "stdout",
     "output_type": "stream",
     "text": [
      "55.5 ms ± 1.94 ms per loop (mean ± std. dev. of 7 runs, 10 loops each)\n"
     ]
    }
   ],
   "source": [
    "%timeit A.transpose().dot(A).dot(x)"
   ]
  },
  {
   "cell_type": "markdown",
   "id": "8b44965a",
   "metadata": {},
   "source": [
    "方法2：先计算 $Ax$，再左乘 $A^{T}$："
   ]
  },
  {
   "cell_type": "code",
   "execution_count": null,
   "id": "4dfebd79",
   "metadata": {},
   "outputs": [],
   "source": [
    "%timeit A.transpose().dot(A.dot(x))"
   ]
  },
  {
   "cell_type": "markdown",
   "id": "c0b4b35d",
   "metadata": {},
   "source": [
    "经验法则：对于更一般的矩阵乘法 $A_{m\\times n}B_{n\\times p}C_{p\\times r}$，如果 $n\\approx p$ 且 $m>r$，则优先计算 $BC$，反之优先计算 $AB$。"
   ]
  },
  {
   "cell_type": "code",
   "execution_count": null,
   "id": "b646dc1a",
   "metadata": {},
   "outputs": [],
   "source": [
    "np.random.seed(123)\n",
    "m = 1000\n",
    "n = 500\n",
    "p = 200\n",
    "r = 100\n",
    "A = np.random.normal(size=(m, n))\n",
    "B = np.random.normal(size=(n, p))\n",
    "C = np.random.normal(size=(p, r))"
   ]
  },
  {
   "cell_type": "code",
   "execution_count": null,
   "id": "a7366799",
   "metadata": {},
   "outputs": [],
   "source": [
    "%timeit A.dot(B).dot(C)"
   ]
  },
  {
   "cell_type": "code",
   "execution_count": null,
   "id": "0ae3d743",
   "metadata": {},
   "outputs": [],
   "source": [
    "%timeit A.dot(B.dot(C))"
   ]
  },
  {
   "attachments": {},
   "cell_type": "markdown",
   "id": "071d029f",
   "metadata": {},
   "source": [
    "* 先计算向量有关的运算，再计算矩阵运算（维度小的运算会对数据降维，减少时间复杂度）\n",
    "* Thm：对于一个n\\*p, p\\*q的矩阵乘法，时间复杂度为O(nmp)"
   ]
  },
  {
   "cell_type": "markdown",
   "id": "8beec4f5",
   "metadata": {},
   "source": [
    "### 原则2：尽量避免显式矩阵求逆"
   ]
  },
  {
   "attachments": {},
   "cell_type": "markdown",
   "id": "299cd239",
   "metadata": {},
   "source": [
    "矩阵 $A_{n\\times n}$，向量 $b_{n\\times 1}$，计算 $A^{-1}b$。\n",
    "- 只要不是单独求矩阵的逆，都应该整体作为线性方程组进行求解（其实单独的逆也可以这样求解）"
   ]
  },
  {
   "cell_type": "code",
   "execution_count": null,
   "id": "34cfe8fe",
   "metadata": {},
   "outputs": [],
   "source": [
    "np.random.seed(123)\n",
    "n = 1000\n",
    "A = np.random.normal(size=(n, n))\n",
    "b = np.random.normal(size=n)"
   ]
  },
  {
   "cell_type": "markdown",
   "id": "e9226f55",
   "metadata": {},
   "source": [
    "方法1：先计算 $A^{-1}$，再与 $b$ 相乘："
   ]
  },
  {
   "cell_type": "code",
   "execution_count": null,
   "id": "9f16bb47",
   "metadata": {},
   "outputs": [],
   "source": [
    "%timeit np.linalg.inv(A).dot(b)"
   ]
  },
  {
   "cell_type": "markdown",
   "id": "729a7d01",
   "metadata": {},
   "source": [
    "方法2：解线性方程组 $Ax=b$："
   ]
  },
  {
   "cell_type": "code",
   "execution_count": null,
   "id": "a78a2944",
   "metadata": {},
   "outputs": [],
   "source": [
    "%timeit np.linalg.solve(A, b)"
   ]
  },
  {
   "cell_type": "markdown",
   "id": "9caaf2e7",
   "metadata": {},
   "source": [
    "线性方程组右边也可以是矩阵，即 $A_{n\\times n}$，$B_{n\\times p}$，计算 $A^{-1}B$。"
   ]
  },
  {
   "cell_type": "code",
   "execution_count": null,
   "id": "f47de328",
   "metadata": {},
   "outputs": [],
   "source": [
    "np.random.seed(123)\n",
    "n = 1000\n",
    "p = 100\n",
    "A = np.random.normal(size=(n, n))\n",
    "B = np.random.normal(size=(n, p))"
   ]
  },
  {
   "cell_type": "code",
   "execution_count": null,
   "id": "76ee68c4",
   "metadata": {},
   "outputs": [],
   "source": [
    "%timeit np.linalg.inv(A).dot(B)"
   ]
  },
  {
   "cell_type": "code",
   "execution_count": null,
   "id": "733872af",
   "metadata": {
    "scrolled": true
   },
   "outputs": [],
   "source": [
    "%timeit np.linalg.solve(A, B)"
   ]
  },
  {
   "cell_type": "markdown",
   "id": "53d291ae",
   "metadata": {},
   "source": [
    "### 原则3：利用矩阵的特殊结构"
   ]
  },
  {
   "cell_type": "markdown",
   "id": "ed6a814f",
   "metadata": {},
   "source": [
    "矩阵 $A_{n\\times n}$，对角矩阵 $W_{n\\times n}$，计算 $WA$ 和 $AW$。"
   ]
  },
  {
   "cell_type": "code",
   "execution_count": null,
   "id": "3c6707f5",
   "metadata": {},
   "outputs": [],
   "source": [
    "np.random.seed(123)\n",
    "n = 1000\n",
    "A = np.random.normal(size=(n, n))\n",
    "w = np.random.normal(size=n)\n",
    "W = np.diag(w)"
   ]
  },
  {
   "cell_type": "code",
   "execution_count": null,
   "id": "89a82929",
   "metadata": {},
   "outputs": [],
   "source": [
    "%timeit W.dot(A)"
   ]
  },
  {
   "cell_type": "code",
   "execution_count": null,
   "id": "ed4b0a95",
   "metadata": {},
   "outputs": [],
   "source": [
    "%timeit A.dot(W)"
   ]
  },
  {
   "cell_type": "markdown",
   "id": "67fdd1cc",
   "metadata": {},
   "source": [
    "令 $w_{n\\times 1}$ 表示 $W$ 的对角元素，$WA$ 相当于将 $A$ 的每一列乘以 $w$，$AW$ 相当于将 $A$ 的每一行乘以 $w^{T}$。此时可利用 Numpy 的广播机制进行运算。"
   ]
  },
  {
   "cell_type": "code",
   "execution_count": null,
   "id": "6e256194",
   "metadata": {},
   "outputs": [],
   "source": [
    "%timeit A * w.reshape(n, 1)"
   ]
  },
  {
   "cell_type": "code",
   "execution_count": null,
   "id": "e6cc3a71",
   "metadata": {},
   "outputs": [],
   "source": [
    "%timeit A * w"
   ]
  },
  {
   "cell_type": "markdown",
   "id": "a7691017",
   "metadata": {},
   "source": [
    "### 练习：回归分析"
   ]
  },
  {
   "cell_type": "markdown",
   "id": "82fad746",
   "metadata": {},
   "source": [
    "计算 $\\hat{y}=X(X^{T}X)^{-1}X^{T}y$"
   ]
  },
  {
   "cell_type": "code",
   "execution_count": null,
   "id": "8d9b17f6",
   "metadata": {},
   "outputs": [],
   "source": [
    "np.random.seed(123)\n",
    "n = 2000\n",
    "p = 500\n",
    "X = np.random.normal(size=(n, p))\n",
    "y = np.random.normal(size=n)"
   ]
  }
 ],
 "metadata": {
  "kernelspec": {
   "display_name": "Python 3 (ipykernel)",
   "language": "python",
   "name": "python3"
  },
  "language_info": {
   "codemirror_mode": {
    "name": "ipython",
    "version": 3
   },
   "file_extension": ".py",
   "mimetype": "text/x-python",
   "name": "python",
   "nbconvert_exporter": "python",
   "pygments_lexer": "ipython3",
   "version": "3.9.12"
  }
 },
 "nbformat": 4,
 "nbformat_minor": 5
}
