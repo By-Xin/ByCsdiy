{
 "cells": [
  {
   "cell_type": "markdown",
   "id": "8c204fbb",
   "metadata": {},
   "source": [
    "# 混洗（Shuffling）机制"
   ]
  },
  {
   "cell_type": "code",
   "execution_count": null,
   "id": "54d9bba0",
   "metadata": {
    "scrolled": true
   },
   "outputs": [],
   "source": [
    "import findspark\n",
    "findspark.init()\n",
    "\n",
    "from pyspark.sql import SparkSession\n",
    "# 本地模式\n",
    "spark = SparkSession.builder.\\\n",
    "    master(\"local[*]\").\\\n",
    "    appName(\"Shuffling\").\\\n",
    "    getOrCreate()\n",
    "sc = spark.sparkContext\n",
    "# sc.setLogLevel(\"ERROR\")\n",
    "print(spark)\n",
    "print(sc)"
   ]
  },
  {
   "cell_type": "markdown",
   "id": "c080a4e3",
   "metadata": {},
   "source": [
    "创建一个简单的 RDD："
   ]
  },
  {
   "cell_type": "code",
   "execution_count": null,
   "id": "d583d91c",
   "metadata": {},
   "outputs": [],
   "source": [
    "import string\n",
    "\n",
    "rdd = sc.parallelize(string.ascii_uppercase, numSlices=5)\n",
    "print(rdd.collect())"
   ]
  },
  {
   "cell_type": "code",
   "execution_count": null,
   "id": "f86fd6d5",
   "metadata": {},
   "outputs": [],
   "source": [
    "rdd.getNumPartitions()"
   ]
  },
  {
   "cell_type": "markdown",
   "id": "90fcd5d2",
   "metadata": {},
   "source": [
    "将每个分区的字母合并成一个字符串，从而可以知道分区是如何划分的："
   ]
  },
  {
   "cell_type": "code",
   "execution_count": null,
   "id": "d61ca93b",
   "metadata": {},
   "outputs": [],
   "source": [
    "def concat_letters(iter):\n",
    "    yield \"\".join(iter)\n",
    "\n",
    "rdd.mapPartitions(concat_letters).collect()"
   ]
  },
  {
   "cell_type": "markdown",
   "id": "ef56131e",
   "metadata": {},
   "source": [
    "将 RDD 重新分区，可以看出来字母的顺序产生了变化："
   ]
  },
  {
   "cell_type": "code",
   "execution_count": null,
   "id": "2c1175ef",
   "metadata": {},
   "outputs": [],
   "source": [
    "rdd2 = rdd.repartition(6)\n",
    "print(rdd2.collect())"
   ]
  },
  {
   "cell_type": "code",
   "execution_count": null,
   "id": "57a47242",
   "metadata": {},
   "outputs": [],
   "source": [
    "rdd2.mapPartitions(concat_letters).collect()"
   ]
  },
  {
   "cell_type": "markdown",
   "id": "46a32bdb",
   "metadata": {},
   "source": [
    "使用 `toDebugString()` 查看 RDD 包含的操作："
   ]
  },
  {
   "cell_type": "code",
   "execution_count": null,
   "id": "3d26d738",
   "metadata": {},
   "outputs": [],
   "source": [
    "print(rdd.toDebugString().decode(\"UTF-8\"))\n",
    "print(\"\\n\\n\")\n",
    "print(rdd2.toDebugString().decode(\"UTF-8\"))"
   ]
  },
  {
   "cell_type": "markdown",
   "id": "e55351a4",
   "metadata": {},
   "source": [
    "可以看出来 `rdd2` 包含了混洗（shuffling）操作，这也是数据顺序打乱的原因。"
   ]
  },
  {
   "cell_type": "markdown",
   "id": "9959af75",
   "metadata": {},
   "source": [
    "如果需要减小分区数目，可以使用 `coalesce()` 函数，避免混洗操作："
   ]
  },
  {
   "cell_type": "code",
   "execution_count": null,
   "id": "6d68730e",
   "metadata": {},
   "outputs": [],
   "source": [
    "rdd3 = rdd.coalesce(numPartitions=2, shuffle=False)\n",
    "print(rdd3.collect())\n",
    "rdd3.mapPartitions(concat_letters).collect()"
   ]
  },
  {
   "cell_type": "code",
   "execution_count": null,
   "id": "34ba11d3",
   "metadata": {},
   "outputs": [],
   "source": [
    "print(rdd3.toDebugString().decode(\"UTF-8\"))"
   ]
  },
  {
   "cell_type": "markdown",
   "id": "5ba7aa82",
   "metadata": {},
   "source": [
    "如果确实需要增加分区数目，同时希望保持数据顺序，可以在原始 RDD 中增加索引信息："
   ]
  },
  {
   "cell_type": "code",
   "execution_count": null,
   "id": "07ef8282",
   "metadata": {
    "scrolled": true
   },
   "outputs": [],
   "source": [
    "print(rdd.zipWithIndex().collect())"
   ]
  },
  {
   "cell_type": "code",
   "execution_count": null,
   "id": "9829982d",
   "metadata": {
    "scrolled": true
   },
   "outputs": [],
   "source": [
    "rdd4 = rdd.zipWithIndex().repartition(5)\n",
    "print(rdd4.collect())"
   ]
  },
  {
   "cell_type": "markdown",
   "id": "62c5264d",
   "metadata": {},
   "source": [
    "然后定义一个分区映射函数，在合并数据行时获取分区中第一条数据的索引："
   ]
  },
  {
   "cell_type": "code",
   "execution_count": null,
   "id": "4483ef3f",
   "metadata": {},
   "outputs": [],
   "source": [
    "def concat_letters_with_order(iter):\n",
    "    letters_and_indices = list(iter)\n",
    "    letters = map(lambda x: x[0], letters_and_indices)\n",
    "    indices = map(lambda x: x[1], letters_and_indices)\n",
    "    if len(letters_and_indices) < 1:\n",
    "        yield ()\n",
    "    else:\n",
    "        first_ind = next(indices)\n",
    "        combined_letters = \"\".join(letters)\n",
    "        yield combined_letters, first_ind\n",
    "\n",
    "rdd5 = rdd4.mapPartitions(concat_letters_with_order)\n",
    "print(rdd5.collect())"
   ]
  },
  {
   "cell_type": "markdown",
   "id": "d709bf84",
   "metadata": {},
   "source": [
    "然后过滤空分区，并按生成的索引对 RDD 进行排序："
   ]
  },
  {
   "cell_type": "code",
   "execution_count": null,
   "id": "6dfe9ebf",
   "metadata": {},
   "outputs": [],
   "source": [
    "rdd5.filter(lambda x: len(x) > 1).collect()"
   ]
  },
  {
   "cell_type": "code",
   "execution_count": null,
   "id": "7b98d3ba",
   "metadata": {},
   "outputs": [],
   "source": [
    "rdd5.filter(lambda x: len(x) > 1).sortBy(lambda x: x[1], ascending=True).collect()"
   ]
  }
 ],
 "metadata": {
  "kernelspec": {
   "display_name": "Python 3 (ipykernel)",
   "language": "python",
   "name": "python3"
  },
  "language_info": {
   "codemirror_mode": {
    "name": "ipython",
    "version": 3
   },
   "file_extension": ".py",
   "mimetype": "text/x-python",
   "name": "python",
   "nbconvert_exporter": "python",
   "pygments_lexer": "ipython3",
   "version": "3.10.9"
  }
 },
 "nbformat": 4,
 "nbformat_minor": 5
}
