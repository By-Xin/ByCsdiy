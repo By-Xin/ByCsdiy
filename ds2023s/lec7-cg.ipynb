{
 "cells": [
  {
   "cell_type": "markdown",
   "id": "294f54c3",
   "metadata": {},
   "source": [
    "# 共轭梯度法"
   ]
  },
  {
   "cell_type": "markdown",
   "id": "dd303e5e",
   "metadata": {},
   "source": [
    "### 1. CG 简单实现"
   ]
  },
  {
   "cell_type": "markdown",
   "id": "46ab5fa0",
   "metadata": {},
   "source": [
    "解线性方程组 $Ax=b$，其中 $A$ 为正定矩阵。"
   ]
  },
  {
   "cell_type": "code",
   "execution_count": null,
   "id": "54d9bba0",
   "metadata": {},
   "outputs": [],
   "source": [
    "import numpy as np\n",
    "np.set_printoptions(linewidth=100)\n",
    "\n",
    "# https://en.wikipedia.org/wiki/Conjugate_gradient_method\n",
    "# A [m x m], b [m], x0 [m]\n",
    "def cg(A, b, x0, eps=1e-3, print_progress=False):\n",
    "    m = b.shape[0]\n",
    "    # 初始解（注意此处应该复制x0，否则程序退出时会修改x0）\n",
    "    x = np.copy(x0)\n",
    "    # 初始残差向量\n",
    "    r = b - np.dot(A, x)\n",
    "    # 初始共轭梯度\n",
    "    p = r\n",
    "\n",
    "    for k in range(m):\n",
    "        # 矩阵乘法\n",
    "        Ap = np.dot(A, p)\n",
    "        rr = r.dot(r)\n",
    "        alpha = rr / p.dot(Ap)\n",
    "        # 更新解\n",
    "        x += alpha * p\n",
    "        # 计算新残差向量\n",
    "        rnew = r - alpha * Ap\n",
    "        # 测试是否收敛\n",
    "        norm = np.linalg.norm(rnew)\n",
    "        if print_progress:\n",
    "            print(f\"Iter {k}, residual norm = {norm}\")\n",
    "        if norm < eps:\n",
    "            break\n",
    "        beta = rnew.dot(rnew) / rr\n",
    "        # 更新共轭梯度\n",
    "        p = rnew + beta * p\n",
    "        # 更新残差向量\n",
    "        r = rnew\n",
    "\n",
    "    return x"
   ]
  },
  {
   "cell_type": "markdown",
   "id": "b67ee1cd",
   "metadata": {},
   "source": [
    "进行简单的测试："
   ]
  },
  {
   "cell_type": "code",
   "execution_count": null,
   "id": "cc36a5cc",
   "metadata": {},
   "outputs": [],
   "source": [
    "np.random.seed(123)\n",
    "m = 10\n",
    "x = np.random.normal(size=(m, m))\n",
    "# A 为正定矩阵\n",
    "A = x.transpose().dot(x)\n",
    "b = np.random.normal(size=m)\n",
    "# 直接求解\n",
    "sol = np.linalg.solve(A, b)\n",
    "sol"
   ]
  },
  {
   "cell_type": "markdown",
   "id": "6b2aca82",
   "metadata": {},
   "source": [
    "CG 求解："
   ]
  },
  {
   "cell_type": "code",
   "execution_count": null,
   "id": "7e68dcb6",
   "metadata": {},
   "outputs": [],
   "source": [
    "cg(A, b, x0=np.zeros(shape=m), print_progress=True)"
   ]
  },
  {
   "cell_type": "markdown",
   "id": "cee217a2",
   "metadata": {},
   "source": [
    "数学上可以证明，CG 可以保证在 $m$ 步后收敛，其中 $m$ 是 $A$ 的维度，但要注意前提 $A$ 正定。实际使用中如果 $A$ 的性质较好（最大特征值与最小特征值的比值较小），CG 往往在远小于 $m$ 步时就可以收敛。"
   ]
  },
  {
   "cell_type": "code",
   "execution_count": null,
   "id": "f6f8c542",
   "metadata": {},
   "outputs": [],
   "source": [
    "np.random.seed(123)\n",
    "m = 1000\n",
    "x = np.random.normal(size=(m, m))\n",
    "# A 为正定矩阵\n",
    "A = x.transpose().dot(x) / m\n",
    "# 计算条件数，即最大特征值与最小特征值的比值\n",
    "print(np.linalg.cond(A))\n",
    "b = np.random.normal(size=m)\n",
    "# 难以收敛\n",
    "# cg(A, b, x0=np.zeros(shape=m), print_progress=True)\n",
    "print()\n",
    "A = A + np.eye(m)\n",
    "print(np.linalg.cond(A))\n",
    "sol = cg(A, b, x0=np.zeros(shape=m), print_progress=True)"
   ]
  },
  {
   "cell_type": "markdown",
   "id": "62a3af3a",
   "metadata": {},
   "source": [
    "### 2. 更通用的 CG 实现"
   ]
  },
  {
   "cell_type": "markdown",
   "id": "f41ce709",
   "metadata": {},
   "source": [
    "在上述实现中我们可以发现，用到 $A$ 的地方仅仅是计算矩阵乘法 $Ax$，而并未直接使用其他信息，例如 $A$ 中每个元素的取值。因此，我们可以传入一个计算矩阵乘法的函数给 CG，使其可以适用于不同类型的矩阵。"
   ]
  },
  {
   "cell_type": "code",
   "execution_count": null,
   "id": "75e41dbb",
   "metadata": {},
   "outputs": [],
   "source": [
    "def cg(Afn, b, x0, eps=1e-3, print_progress=False, **Afn_args):\n",
    "    m = b.shape[0]\n",
    "    # 初始解（注意此处应该复制x0，否则程序退出时会修改x0）\n",
    "    x = np.copy(x0)\n",
    "    # 初始残差向量\n",
    "    r = b - Afn(x, **Afn_args)\n",
    "    # 初始共轭梯度\n",
    "    p = r\n",
    "\n",
    "    for k in range(m):\n",
    "        # 矩阵乘法\n",
    "        Ap = Afn(p, **Afn_args)\n",
    "        rr = r.dot(r)\n",
    "        alpha = rr / p.dot(Ap)\n",
    "        # 更新解\n",
    "        x += alpha * p\n",
    "        # 计算新残差向量\n",
    "        rnew = r - alpha * Ap\n",
    "        # 测试是否收敛\n",
    "        norm = np.linalg.norm(rnew)\n",
    "        if print_progress:\n",
    "            print(f\"Iter {k}, residual norm = {norm}\")\n",
    "        if norm < eps:\n",
    "            break\n",
    "        beta = rnew.dot(rnew) / rr\n",
    "        # 更新共轭梯度\n",
    "        p = rnew + beta * p\n",
    "        # 更新残差向量\n",
    "        r = rnew\n",
    "\n",
    "    return x"
   ]
  },
  {
   "cell_type": "markdown",
   "id": "99f98f8a",
   "metadata": {},
   "source": [
    "此时要使用 CG 时我们需要提供一个函数，而不是 $A$ 本身："
   ]
  },
  {
   "cell_type": "code",
   "execution_count": null,
   "id": "4e94d381",
   "metadata": {},
   "outputs": [],
   "source": [
    "def mat_prod(x, mat):\n",
    "    return mat.dot(x)\n",
    "\n",
    "sol = cg(mat_prod, b, x0=np.zeros(shape=m), print_progress=True, mat=A)"
   ]
  },
  {
   "cell_type": "markdown",
   "id": "8b44965a",
   "metadata": {},
   "source": [
    "这种通用写法的好处是我们可以针对一些特殊的矩阵定义高效的矩阵运算。以对角矩阵为例："
   ]
  },
  {
   "cell_type": "code",
   "execution_count": null,
   "id": "0500bb8e",
   "metadata": {},
   "outputs": [],
   "source": [
    "def diag_mat_prod(x, diag_elements):\n",
    "    return diag_elements * x  # 逐元素相乘，非矩阵乘法\n",
    "\n",
    "sol = cg(diag_mat_prod, b, x0=np.zeros(shape=m), print_progress=True, diag_elements=np.diagonal(A))"
   ]
  }
 ],
 "metadata": {
  "kernelspec": {
   "display_name": "Python 3 (ipykernel)",
   "language": "python",
   "name": "python3"
  },
  "language_info": {
   "codemirror_mode": {
    "name": "ipython",
    "version": 3
   },
   "file_extension": ".py",
   "mimetype": "text/x-python",
   "name": "python",
   "nbconvert_exporter": "python",
   "pygments_lexer": "ipython3",
   "version": "3.10.9"
  }
 },
 "nbformat": 4,
 "nbformat_minor": 5
}
