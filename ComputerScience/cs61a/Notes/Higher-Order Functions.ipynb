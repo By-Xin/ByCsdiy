{
 "cells": [
  {
   "cell_type": "markdown",
   "metadata": {},
   "source": [
    "# Higher-Order Functions"
   ]
  },
  {
   "cell_type": "markdown",
   "metadata": {},
   "source": [
    "## Iteration Example"
   ]
  },
  {
   "cell_type": "code",
   "execution_count": 9,
   "metadata": {},
   "outputs": [],
   "source": [
    "# Fibonacci sequence\n",
    "def fibonacci(n):\n",
    "    pred, curr = 0, 1\n",
    "    k = 1\n",
    "    while k < n:\n",
    "        pred, curr = curr, pred + curr\n",
    "        k += 1\n",
    "    return curr"
   ]
  },
  {
   "cell_type": "markdown",
   "metadata": {},
   "source": [
    "## Control"
   ]
  },
  {
   "cell_type": "markdown",
   "metadata": {},
   "source": [
    "- Calling an expression will make every part of the expression to be evaluated. While a control structure will only evaluate the parts that are needed."
   ]
  },
  {
   "cell_type": "code",
   "execution_count": 11,
   "metadata": {},
   "outputs": [
    {
     "name": "stdout",
     "output_type": "stream",
     "text": [
      "0\n"
     ]
    },
    {
     "ename": "ValueError",
     "evalue": "math domain error",
     "output_type": "error",
     "traceback": [
      "\u001b[0;31m---------------------------------------------------------------------------\u001b[0m",
      "\u001b[0;31mValueError\u001b[0m                                Traceback (most recent call last)",
      "Cell \u001b[0;32mIn[11], line 18\u001b[0m\n\u001b[1;32m     15\u001b[0m         \u001b[38;5;28;01mreturn\u001b[39;00m \u001b[38;5;241m0\u001b[39m\n\u001b[1;32m     17\u001b[0m \u001b[38;5;28mprint\u001b[39m(real_sqrt_2(\u001b[38;5;241m-\u001b[39m\u001b[38;5;241m4\u001b[39m))\n\u001b[0;32m---> 18\u001b[0m \u001b[38;5;28mprint\u001b[39m(real_sqrt(\u001b[38;5;241m-\u001b[39m\u001b[38;5;241m4\u001b[39m))\n",
      "Cell \u001b[0;32mIn[11], line 9\u001b[0m, in \u001b[0;36mreal_sqrt\u001b[0;34m(x)\u001b[0m\n\u001b[1;32m      8\u001b[0m \u001b[38;5;28;01mdef\u001b[39;00m \u001b[38;5;21mreal_sqrt\u001b[39m(x):\n\u001b[0;32m----> 9\u001b[0m     \u001b[38;5;28;01mreturn\u001b[39;00m if_(x \u001b[38;5;241m>\u001b[39m\u001b[38;5;241m=\u001b[39m \u001b[38;5;241m0\u001b[39m, sqrt(x), \u001b[38;5;28;01mNone\u001b[39;00m)\n",
      "\u001b[0;31mValueError\u001b[0m: math domain error"
     ]
    }
   ],
   "source": [
    "def if_(cond, then, else_):\n",
    "    if cond:\n",
    "        return then\n",
    "    else:\n",
    "        return else_\n",
    "    \n",
    "from math import sqrt\n",
    "def real_sqrt(x):\n",
    "    return if_(x >= 0, sqrt(x), None)\n",
    "\n",
    "def real_sqrt_2(x):\n",
    "    if x >= 0:\n",
    "        return sqrt(x)\n",
    "    else:\n",
    "        return 0\n",
    "    \n",
    "print(real_sqrt_2(-4))\n",
    "print(real_sqrt(-4))\n"
   ]
  },
  {
   "cell_type": "markdown",
   "metadata": {},
   "source": [
    "## Control Expression"
   ]
  },
  {
   "cell_type": "markdown",
   "metadata": {},
   "source": [
    "- `<left> and <right>`\n",
    "  - Evaluate `<left>`\n",
    "    - If `<left>` is `False`, return `False`\n",
    "    - Otherwise, return `<right>`\n",
    "- `<left> or <right>`\n",
    "  - Evaluate `<left>`\n",
    "    - If `<left>` is `True`, return `True`\n",
    "    - Otherwise, return `<right>`"
   ]
  },
  {
   "cell_type": "code",
   "execution_count": 18,
   "metadata": {},
   "outputs": [
    {
     "name": "stdout",
     "output_type": "stream",
     "text": [
      "True\n",
      "False\n",
      "True\n",
      "False\n"
     ]
    }
   ],
   "source": [
    "def has_big_sqrt(x):\n",
    "    return x>0 and real_sqrt(x) > 10 #if x is negative, then the whole expression is false, thus real_sqrt is not evaluated\n",
    "\n",
    "print(has_big_sqrt(1000))\n",
    "print(has_big_sqrt(-1000))\n",
    "\n",
    "def reasonable(n):\n",
    "    return n==0 or 1/n !=0 #if n is 0, then the whole expression is true, thus 1/n is not evaluated\n",
    "\n",
    "print(reasonable(0))\n",
    "print(reasonable(10**1000000))\n"
   ]
  },
  {
   "cell_type": "markdown",
   "metadata": {},
   "source": [
    "## Generalizing Patterns"
   ]
  },
  {
   "cell_type": "code",
   "execution_count": 4,
   "metadata": {},
   "outputs": [],
   "source": [
    "from math import pi,sqrt\n",
    "def area_square(r):\n",
    "    assert r>0,'Length of side must be positive'\n",
    "    return r*r\n",
    "def area_circle(r):\n",
    "    return pi*r*r\n",
    "def area_hexagon(r):\n",
    "    return r*r*3*sqrt(3)/2\n",
    "\n",
    "\n",
    "#------ Generalizing ------\n",
    "def area (r,shape_const):\n",
    "    assert r>0,'Length of side must be positive'\n",
    "    return r*r*shape_const \n",
    "\n",
    "def area_square_2(r):\n",
    "    return area(r,1)\n",
    "\n",
    "def area_circle_2(r):\n",
    "    return area(r,pi)\n",
    "\n",
    "def area_hexagon_2(r):  \n",
    "    return area(r,3*sqrt(3)/2)"
   ]
  },
  {
   "cell_type": "code",
   "execution_count": 5,
   "metadata": {},
   "outputs": [
    {
     "data": {
      "text/plain": [
       "3.1415426535898203"
      ]
     },
     "execution_count": 5,
     "metadata": {},
     "output_type": "execute_result"
    }
   ],
   "source": [
    "from operator import mul\n",
    "def sum_naturals(n):\n",
    "    \"\"\"\n",
    "    >>> sum_naturals(5)\n",
    "    15\n",
    "    \"\"\"\n",
    "    total, k = 0, 1\n",
    "    while k <= n:\n",
    "        total, k = total + k, k + 1\n",
    "    return total\n",
    "\n",
    "def sum_cubes(n):\n",
    "    \"\"\"\n",
    "    >>> sum_cubes(5)\n",
    "    225\n",
    "    \"\"\"\n",
    "    total, k = 0, 1\n",
    "    while k <= n:\n",
    "        total, k\n",
    "        k = total + k**3, k + 1\n",
    "    return total\n",
    "\n",
    "# ------ Generalizing ------\n",
    "def identity(k):\n",
    "    return k\n",
    "def cube(k):\n",
    "    return k**3 \n",
    "def summation(n,term):\n",
    "    \"\"\"\n",
    "    >>> summation(5,identity)\n",
    "    15\n",
    "    >>> summation(5,cube)\n",
    "    225\n",
    "    \"\"\"\n",
    "    total, k = 0, 1\n",
    "    while k <= n:\n",
    "        total, k = total + term(k), k + 1\n",
    "    return total\n",
    "def sum_naturals_2(n):\n",
    "    return summation(n,identity)\n",
    "def sum_cubes_2(n):\n",
    "    return summation(n,cube)\n",
    "\n",
    "def pi_term(k):\n",
    "    return 8/mul(4*k-3,4*k-1)\n",
    "summation(10000,pi_term)"
   ]
  },
  {
   "cell_type": "markdown",
   "metadata": {},
   "source": [
    "## Functions as Return Values\n",
    "- Return a function that takes a function as an argument and returns a function.\n",
    "- Functions are first-class citizens in Python.\n",
    "- Functions can be passed as arguments to other functions, or returned from other functions."
   ]
  },
  {
   "cell_type": "code",
   "execution_count": 8,
   "metadata": {},
   "outputs": [
    {
     "name": "stdout",
     "output_type": "stream",
     "text": [
      "<function make_adder.<locals>.adder at 0x114cd2ac0> 7\n"
     ]
    }
   ],
   "source": [
    "def make_adder(n):\n",
    "    \"\"\"\n",
    "    adder returns a value, make_adder returns a function\n",
    "    >>> add_three = make_adder(3)\n",
    "    \"\"\"\n",
    "    def adder(k):\n",
    "        return k+n\n",
    "    return adder\n",
    "\n",
    "make_adder(3)(4)\n",
    "f = make_adder(3)\n",
    "f(4)\n",
    "print(f,f(4))"
   ]
  }
 ],
 "metadata": {
  "kernelspec": {
   "display_name": "deepL_Q",
   "language": "python",
   "name": "python3"
  },
  "language_info": {
   "codemirror_mode": {
    "name": "ipython",
    "version": 3
   },
   "file_extension": ".py",
   "mimetype": "text/x-python",
   "name": "python",
   "nbconvert_exporter": "python",
   "pygments_lexer": "ipython3",
   "version": "3.11.5"
  }
 },
 "nbformat": 4,
 "nbformat_minor": 2
}
