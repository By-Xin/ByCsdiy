{
 "cells": [
  {
   "cell_type": "markdown",
   "id": "d4a3fc58",
   "metadata": {},
   "source": [
    "## 语言模型"
   ]
  },
  {
   "cell_type": "markdown",
   "id": "941d5b86",
   "metadata": {},
   "source": [
    "句子分类："
   ]
  },
  {
   "cell_type": "code",
   "execution_count": null,
   "id": "192a04b6",
   "metadata": {},
   "outputs": [],
   "source": [
    "from transformers import pipeline\n",
    "pipe = pipeline(task=\"sentiment-analysis\", model=\"distilbert-base-uncased-finetuned-sst-2-english\")\n",
    "pipe"
   ]
  },
  {
   "cell_type": "code",
   "execution_count": null,
   "id": "73dcdb48",
   "metadata": {
    "scrolled": true
   },
   "outputs": [],
   "source": [
    "pipe(\"\"\"\n",
    "This one is better than the first movie, which is very rare these days. The story lines are great.\n",
    "Although there are some plots that do not make a lot sense, it doesn't affect the overall rating at all.\n",
    "It doesn't make me feel it's a 3hr movie at all. This is actually the best Si-Fi movie I have watched\n",
    "in the last 3 years (and I've watched a lot lol) and I think it's fair to say it's better than 70%\n",
    "of the Hollywood Si-Fi movies these days.\n",
    "\"\"\")"
   ]
  },
  {
   "cell_type": "code",
   "execution_count": null,
   "id": "976a63be",
   "metadata": {},
   "outputs": [],
   "source": [
    "pipe(\"\"\"\n",
    "Nice attempt at scifi but there were so many basic scientific inaccuracies eg no the space station\n",
    "will not fall back doen earth from the sky because there not enough gravitational force.\n",
    "I also don't understand why the terrorist attack requires 30min and I did not get the whole point.\n",
    "My partner fell asleep watching this. The movie has no coherent plot (i still don't know what the movie is about),\n",
    "the script is cheesy (sounds like it's written by a high school kid) and is 1hr too long\n",
    "(many unnecessarily long scenes like the moon part). It's literally worse than the first movie, which was already mediocre.\n",
    "\"\"\")"
   ]
  },
  {
   "cell_type": "markdown",
   "id": "4668317b",
   "metadata": {},
   "source": [
    "命名实体识别："
   ]
  },
  {
   "cell_type": "code",
   "execution_count": null,
   "id": "332904ef",
   "metadata": {},
   "outputs": [],
   "source": [
    "pipe = pipeline(\"ner\", model=\"dbmdz/bert-large-cased-finetuned-conll03-english\")\n",
    "pipe"
   ]
  },
  {
   "cell_type": "code",
   "execution_count": null,
   "id": "fe1f2710",
   "metadata": {
    "scrolled": true
   },
   "outputs": [],
   "source": [
    "# https://www.hp-lexicon.org/source/the-harry-potter-novels/dh/dhe/\n",
    "pipe(\"\"\"\n",
    "Harry and Ginny bring their three children to Platform Nine and Three-Quarters and the Hogwarts Express.\n",
    "They meet up with Ron and Hermione and their two children. Harry and Ginny’s second son,\n",
    "Albus Severus Potter, along with Hermione and Ron’s oldest child, Rose Weasley, and Draco Malfoy’s son\n",
    "Scorpius all are beginning their first year at Hogwarts School.\n",
    "\"\"\")"
   ]
  },
  {
   "cell_type": "markdown",
   "id": "8ac7a532",
   "metadata": {},
   "source": [
    "词语填空："
   ]
  },
  {
   "cell_type": "code",
   "execution_count": null,
   "id": "a3b5b4fb",
   "metadata": {},
   "outputs": [],
   "source": [
    "pipe = pipeline(\"fill-mask\", model=\"distilroberta-base\")"
   ]
  },
  {
   "cell_type": "code",
   "execution_count": null,
   "id": "f0d863af",
   "metadata": {},
   "outputs": [],
   "source": [
    "pipe(\"The Earth is a <mask> planet.\", top_k=5)"
   ]
  },
  {
   "cell_type": "code",
   "execution_count": null,
   "id": "143ef268-6af8-488d-a6f2-2590c9e3fb04",
   "metadata": {},
   "outputs": [],
   "source": [
    "pipe(\"You are a team star! Working with <mask> is really your cup of tea.\", top_k=5)\n",
    "# others"
   ]
  },
  {
   "cell_type": "code",
   "execution_count": null,
   "id": "65bb7786",
   "metadata": {},
   "outputs": [],
   "source": [
    "pipe(\"But Jane knew from past experience that her <mask> of ties hardly ever pleased her father.\", top_k=5)\n",
    "# choice"
   ]
  },
  {
   "cell_type": "markdown",
   "id": "6ec7aaf2",
   "metadata": {},
   "source": [
    "文本生成："
   ]
  },
  {
   "cell_type": "code",
   "execution_count": null,
   "id": "0a88d260",
   "metadata": {},
   "outputs": [],
   "source": [
    "pipe = pipeline(\"text-generation\", model=\"distilgpt2\")"
   ]
  },
  {
   "cell_type": "code",
   "execution_count": null,
   "id": "02367eaf",
   "metadata": {},
   "outputs": [],
   "source": [
    "pipe(\"The Earth is\")"
   ]
  },
  {
   "cell_type": "code",
   "execution_count": null,
   "id": "a5e3ad9f",
   "metadata": {
    "scrolled": true
   },
   "outputs": [],
   "source": [
    "pipe(\"The Moon is\")"
   ]
  }
 ],
 "metadata": {
  "kernelspec": {
   "display_name": "Python 3 (ipykernel)",
   "language": "python",
   "name": "python3"
  },
  "language_info": {
   "codemirror_mode": {
    "name": "ipython",
    "version": 3
   },
   "file_extension": ".py",
   "mimetype": "text/x-python",
   "name": "python",
   "nbconvert_exporter": "python",
   "pygments_lexer": "ipython3",
   "version": "3.10.13"
  }
 },
 "nbformat": 4,
 "nbformat_minor": 5
}
