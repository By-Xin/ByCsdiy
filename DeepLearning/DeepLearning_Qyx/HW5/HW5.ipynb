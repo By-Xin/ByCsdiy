{
 "cells": [
  {
   "cell_type": "markdown",
   "id": "5a1368f0",
   "metadata": {},
   "source": [
    "# 作业5：RNN 生成模型"
   ]
  },
  {
   "cell_type": "markdown",
   "id": "997082ed",
   "metadata": {},
   "source": [
    "## Instructions\n",
    "\n",
    "以 `data/names.txt` 中的英文名作为训练集，利用 RNN 或 LSTM 等方法对字母序列数据进行建模，然后使用拟合的模型随机生成20个名字。本次作业为开放式，不指定各类超参数（如网络结构、学习率、迭代次数等），但需提供必要的输出和诊断结果支持你的选择（如模型是否收敛、效果评价等）。\n",
    "\n",
    "提示：可以参照 `lec12-rnn-generation.zip` 中的代码，但注意英文名不需要像中文那样构建字典，因为可以直接使用26个字母作为字典。"
   ]
  },
  {
   "cell_type": "markdown",
   "metadata": {},
   "source": [
    "## 1. 处理数据"
   ]
  },
  {
   "cell_type": "code",
   "execution_count": 2,
   "metadata": {
    "ExecuteTime": {
     "end_time": "2023-12-04T11:42:04.645497700Z",
     "start_time": "2023-12-04T11:42:00.191807700Z"
    }
   },
   "outputs": [],
   "source": [
    "import time\n",
    "import numpy as np\n",
    "import pandas as pd\n",
    "import torch\n",
    "import torch.nn as nn\n",
    "import itertools\n",
    "import collections\n",
    "import matplotlib.pyplot as plt"
   ]
  },
  {
   "cell_type": "code",
   "execution_count": 3,
   "metadata": {
    "ExecuteTime": {
     "end_time": "2023-12-04T11:42:08.783637Z",
     "start_time": "2023-12-04T11:42:08.623557100Z"
    }
   },
   "outputs": [
    {
     "name": "stdout",
     "output_type": "stream",
     "text": [
      "['abbas', 'abbey', 'abbott', 'abdi', 'abel']\n"
     ]
    }
   ],
   "source": [
    "# load txt file\n",
    "\n",
    "def read_txt_file(file_path):\n",
    "    with open(file_path, 'r') as file:\n",
    "        content = file.read().split()\n",
    "        return content\n",
    "\n",
    "dat = read_txt_file('data/names.txt')\n",
    "print(dat[:5])"
   ]
  },
  {
   "cell_type": "code",
   "execution_count": 4,
   "metadata": {
    "ExecuteTime": {
     "end_time": "2023-12-04T11:42:23.907980700Z",
     "start_time": "2023-12-04T11:42:23.892846700Z"
    }
   },
   "outputs": [
    {
     "name": "stdout",
     "output_type": "stream",
     "text": [
      "['a', 'b', 'c', 'd', 'e', 'f', 'g', 'h', 'i', 'j', 'k', 'l', 'm', 'n', 'o', 'p', 'q', 'r', 's', 't', 'u', 'v', 'w', 'x', 'y', 'z', '<EOS>']\n"
     ]
    }
   ],
   "source": [
    "# construct dictionary\n",
    "charset_size = 27 # 26 letters  + 1 <EOS>\n",
    "dictionary = list('abcdefghijklmnopqrstuvwxyz') + ['<EOS>'] \n",
    "print(dictionary)"
   ]
  },
  {
   "cell_type": "code",
   "execution_count": 78,
   "metadata": {
    "ExecuteTime": {
     "end_time": "2023-12-04T11:42:26.701001Z",
     "start_time": "2023-12-04T11:42:26.639429500Z"
    }
   },
   "outputs": [
    {
     "data": {
      "text/plain": [
       "(tensor([[[0., 0., 0., 0., 0., 0., 0., 0., 0., 0., 0., 1., 0., 0., 0., 0., 0.,\n",
       "           0., 0., 0., 0., 0., 0., 0., 0., 0., 0.],\n",
       "          [0., 0., 0., 0., 0., 0., 0., 0., 0., 0., 0., 0., 0., 0., 0., 0., 0.,\n",
       "           1., 0., 0., 0., 0., 0., 0., 0., 0., 0.]],\n",
       " \n",
       "         [[0., 0., 0., 0., 1., 0., 0., 0., 0., 0., 0., 0., 0., 0., 0., 0., 0.,\n",
       "           0., 0., 0., 0., 0., 0., 0., 0., 0., 0.],\n",
       "          [1., 0., 0., 0., 0., 0., 0., 0., 0., 0., 0., 0., 0., 0., 0., 0., 0.,\n",
       "           0., 0., 0., 0., 0., 0., 0., 0., 0., 0.]],\n",
       " \n",
       "         [[0., 0., 0., 0., 0., 0., 0., 0., 0., 0., 0., 0., 0., 0., 1., 0., 0.,\n",
       "           0., 0., 0., 0., 0., 0., 0., 0., 0., 0.],\n",
       "          [0., 0., 1., 0., 0., 0., 0., 0., 0., 0., 0., 0., 0., 0., 0., 0., 0.,\n",
       "           0., 0., 0., 0., 0., 0., 0., 0., 0., 0.]],\n",
       " \n",
       "         [[0., 0., 0., 0., 0., 0., 0., 0., 0., 0., 0., 0., 0., 1., 0., 0., 0.,\n",
       "           0., 0., 0., 0., 0., 0., 0., 0., 0., 0.],\n",
       "          [0., 0., 0., 0., 0., 0., 0., 1., 0., 0., 0., 0., 0., 0., 0., 0., 0.,\n",
       "           0., 0., 0., 0., 0., 0., 0., 0., 0., 0.]],\n",
       " \n",
       "         [[0., 0., 0., 0., 0., 0., 0., 0., 0., 0., 0., 0., 0., 0., 0., 0., 0.,\n",
       "           0., 0., 0., 0., 0., 0., 0., 0., 0., 0.],\n",
       "          [0., 0., 0., 0., 1., 0., 0., 0., 0., 0., 0., 0., 0., 0., 0., 0., 0.,\n",
       "           0., 0., 0., 0., 0., 0., 0., 0., 0., 0.]],\n",
       " \n",
       "         [[0., 0., 0., 0., 0., 0., 0., 0., 0., 0., 0., 0., 0., 0., 0., 0., 0.,\n",
       "           0., 0., 0., 0., 0., 0., 0., 0., 0., 0.],\n",
       "          [0., 0., 0., 0., 0., 0., 0., 0., 0., 0., 0., 1., 0., 0., 0., 0., 0.,\n",
       "           0., 0., 0., 0., 0., 0., 0., 0., 0., 0.]]]),\n",
       " array([4, 6]),\n",
       " tensor([[ 4,  0],\n",
       "         [14,  2],\n",
       "         [13,  7],\n",
       "         [26,  4],\n",
       "         [26, 11],\n",
       "         [26, 26]]))"
      ]
     },
     "execution_count": 78,
     "metadata": {},
     "output_type": "execute_result"
    }
   ],
   "source": [
    "# names to tensor\n",
    "\n",
    "\n",
    "def char2tensor(char):\n",
    "    \"\"\"将单个字符转换为 one-hot 编码的张量\"\"\"\n",
    "    tensor = torch.zeros(1, charset_size) # 相当于一个列向量，长度为charset_size，相当于是对于每个字符对应的one-hot编码向量\n",
    "    tensor[0, char2index(char)] = 1 # 初始化全员为0，在index位置为1\n",
    "    return tensor\n",
    "\n",
    "def name2tensor(name):\n",
    "    \"\"\"将名字转换为 one-hot 编码的张量\"\"\"\n",
    "    tensor = torch.zeros(len(name), 1, charset_size) #一个tensor（其实是2d矩阵的感觉），第一个维度是名字的长度（名字中的各个字符），第二个维度是1，第三个维度是每个字符的onehot\n",
    "    for i, char in enumerate(name): #enmuerate\n",
    "        tensor[i, 0, char2index(char)] = 1\n",
    "    return tensor\n",
    "\n",
    "def char2index(char):\n",
    "    \"\"\"Transform a character to its index in the dictionary\n",
    "    Args:\n",
    "        char (str): a character\n",
    "        \n",
    "    Returns:\n",
    "       int: the index of the character in the dictionary\n",
    "        \n",
    "    \"\"\"\n",
    "    return dictionary.index(char.lower()) \n",
    "\n",
    "def names2tensor(NameList):\n",
    "    \"\"\"Transform a list of names to one-hot tensor\n",
    "    Args:\n",
    "        NameList (array): a list of names\n",
    "        \n",
    "    Returns:\n",
    "        tensor: a tensor of shape (LongestNameLength, NumberOfNames, charset_size=27), storing the one-hot representation of names\n",
    "        array: a numpy array of shape (NumberOfNames), storing each name's length\n",
    "        target: a tensor of shape (LongestNameLength, NumberOfNames), storing the index of the next letter\n",
    "        \n",
    "    \"\"\"\n",
    "    names_num = len(NameList) # number of names\n",
    "    names_lens = [len(name) for name in NameList] # a list storing each name's length\n",
    "    max_name_len = max(names_lens) # the longest name's length\n",
    "    \n",
    "    tensor = torch.zeros(max_name_len, names_num, charset_size) # (each char in a name, each name, one-hot vector)\n",
    "    target = torch.zeros(max_name_len, names_num, dtype=int) + charset_size - 1 # initialize with <EOS>\n",
    "    \n",
    "    for name_i in range(names_num): # for each name(idx) in data set\n",
    "        name = NameList[name_i] # get the name\n",
    "        for char_i in range(names_lens[name_i]): # for each char(idx) in the name\n",
    "            # set tensor\n",
    "            tensor[char_i, name_i, char2index(name[char_i])] = 1 # set the corresponding one-hot vector\n",
    "            # set target\n",
    "            if char_i < names_lens[name_i] - 1: # if not the last char (here note that python index starts from 0)\n",
    "                target[char_i, name_i] = char2index(name[char_i + 1]) # target for name_i, char_i is char_i+1\n",
    "                \n",
    "    return tensor, np.array(names_lens), target\n",
    "\n",
    "# test names2tensor\n",
    "names2tensor([\"leon\",\"rachel\"])"
   ]
  },
  {
   "cell_type": "markdown",
   "metadata": {},
   "source": [
    "## 2. 构建LSTM模型类"
   ]
  },
  {
   "cell_type": "markdown",
   "metadata": {
    "collapsed": false
   },
   "source": [
    "![](https://michael-1313341240.cos.ap-shanghai.myqcloud.com/202312042025464.png)"
   ]
  },
  {
   "cell_type": "markdown",
   "metadata": {},
   "source": [
    "Parameters Definition:\n",
    "\n",
    "- Suppose there are $h$ hidden units, batch size is $n$, number of inputs is $d$. Thus, $X_t \\in \\mathbb{R}^{n\\times h}, H_t = \\mathbb{R}^{n\\times h}.$\n",
    "- Define Gates (at time $t$):\n",
    "    - Input gate ($I_t \\in \\mathbb{R}^{n\\times h}$) : $I_t = \\text{sigmoid}(X_t W_{xi} + H_{t-1} W_{hi} + b_i)$\n",
    "    - Forget gate ($F_t \\in \\mathbb{R}^{n\\times h}$) : $F_t = \\text{sigmoid}({X_t W_{xf} + H_{t-1} W_{hf} + b_f)}$\n",
    "    - Output gate ($O_t \\in  \\mathbb{R}^{n\\times h}$) : $O_t = \\text{sigmoid}{X_t W_{xo} + H_{t-1} W_{ho} + b_o)}$\n",
    "  \n",
    "  where $W_{x,\\cdot} \\in \\mathbb{R}^{d\\times h}$, $W_{h,\\cdot} \\in \\mathbb{R}^{h\\times h}$, $b_{\\cdot} \\in \\mathbb{R}^{1\\times h}$.\n",
    "\n",
    "- Define Candidate Memory Cell $\\tilde C$:\n",
    "\n",
    "$$\n",
    "  \\tilde C_t = \\text{tanh}(X_t W_{xc} + H_{t-1} W_{hc} + b_c)\n",
    "$$"
   ]
  },
  {
   "cell_type": "markdown",
   "metadata": {
    "collapsed": false
   },
   "source": [
    "> *Reference*\n",
    ">\n",
    "> *1. Dive Into Deep Learning (https://zh.d2l.ai/chapter_recurrent-modern/lstm.html)*\n",
    ">"
   ]
  },
  {
   "cell_type": "code",
   "execution_count": 54,
   "metadata": {},
   "outputs": [],
   "source": [
    "# Build LSTM\n",
    "class LSTM(nn.Module):\n",
    "    def __init__(self, input_size, hidden_size):\n",
    "        super(LSTM,self).__init__()\n",
    "        \n",
    "        self.hidden_size = hidden_size #?\n",
    "        \n",
    "        self.X2F = nn.Linear(in_features = input_size + hidden_size,\n",
    "                            out_features = hidden_size )\n",
    "        self.X2I = nn.Linear(in_features = input_size + hidden_size,\n",
    "                            out_features = hidden_size )\n",
    "        self.X2O = nn.Linear(in_features = input_size + hidden_size,\n",
    "                            out_features = hidden_size )\n",
    "        \n",
    "        self.X2Ct = nn.Linear(in_features = input_size + hidden_size,\n",
    "                            out_features = hidden_size )\n",
    "        \n",
    "        self.O2O = nn.Linear(in_features = hidden_size,\n",
    "                            out_features = hidden_size)\n",
    "        \n",
    "        self.dropout = nn.Dropout(0.1)\n",
    "        self.logsoftmax = nn.LogSoftmax(dim=1)\n",
    "        \n",
    "    def forward(self, input, hidden, MemCell):\n",
    "        \n",
    "        input_combined = torch.cat((input,hidden),1)     #? how\n",
    "        \n",
    "        ForgetGate = torch.sigmoid(self.X2F(input_combined))   \n",
    "        InputGate = torch.sigmoid(self.X2I(input_combined))\n",
    "        OutputGate = torch.sigmoid(self.X2O(input_combined))\n",
    "        \n",
    "        CandidateMemCell = torch.tanh(self.X2Ct(input_combined))\n",
    "        \n",
    "        MemCell = ForgetGate * MemCell + InputGate * CandidateMemCell\n",
    "        \n",
    "        hidden = OutputGate * torch.tanh(MemCell)\n",
    "        # print(f\"hidden:{hidden.shape}\")\n",
    "        \n",
    "        output = self.O2O(hidden)\n",
    "        output = self.dropout(output)\n",
    "        output = self.logsoftmax(output)\n",
    "        \n",
    "        return output, hidden, MemCell\n",
    "    \n",
    "    def init_hidden(self, batch_size, device):\n",
    "        return torch.zeros((batch_size, self.hidden_size), device = device)\n",
    "\n",
    "    def init_MemCell(self, batch_size, device):\n",
    "        return torch.zeros((batch_size, self.hidden_size), device = device)\n"
   ]
  },
  {
   "cell_type": "markdown",
   "metadata": {},
   "source": [
    "*Test Demo*"
   ]
  },
  {
   "cell_type": "code",
   "execution_count": 7,
   "metadata": {},
   "outputs": [
    {
     "name": "stdout",
     "output_type": "stream",
     "text": [
      "tensor([[0., 0., 0., 0., 0., 0., 0., 0., 0., 0., 0., 1., 0., 0., 0., 0., 0., 0.,\n",
      "         0., 0., 0., 0., 0., 0., 0., 0., 0.]])\n"
     ]
    }
   ],
   "source": [
    "n_hidden = 64\n",
    "lstm = LSTM(charset_size, n_hidden)\n",
    "\n",
    "\n",
    "input = name2tensor(\"leon\")\n",
    "#print(input)\n",
    "hidden = lstm.init_hidden(batch_size=1, device='cpu')\n",
    "MemCell = lstm.init_MemCell(batch_size=1, device='cpu')\n",
    "\n",
    "print(input[0])"
   ]
  },
  {
   "cell_type": "code",
   "execution_count": 8,
   "metadata": {},
   "outputs": [
    {
     "name": "stdout",
     "output_type": "stream",
     "text": [
      "hidden:torch.Size([1, 64])\n",
      "tensor([[-4.2916, -4.3366, -4.0525, -4.1805, -4.2337, -4.2706, -4.0466, -4.1242,\n",
      "         -4.2224, -4.2804, -4.1828, -4.1893, -4.0679, -4.0881, -4.1348, -4.1828,\n",
      "         -4.0557, -4.1326, -4.2659, -4.1828, -4.0906, -4.1754, -4.1828, -4.0477,\n",
      "         -4.1245, -4.1765, -4.1828, -4.1402, -4.1005, -4.1389, -4.1056, -4.0383,\n",
      "         -4.0433, -4.1828, -4.2336, -4.2517, -4.2207, -4.2642, -4.2757, -4.1096,\n",
      "         -4.1315, -4.0161, -4.2992, -4.1532, -4.2450, -4.1176, -4.2392, -4.1018,\n",
      "         -4.0551, -4.0704, -4.1273, -4.0466, -4.1828, -4.1392, -4.1422, -4.2710,\n",
      "         -4.2520, -4.2208, -4.2135, -4.1009, -4.1939, -4.0509, -4.1422, -4.2458]],\n",
      "       grad_fn=<LogSoftmaxBackward0>)\n"
     ]
    }
   ],
   "source": [
    "output, next_hidden, next_MemCell  = lstm(input[0], hidden, MemCell)\n",
    "print(output)"
   ]
  },
  {
   "cell_type": "markdown",
   "metadata": {},
   "source": [
    "***Train LSTM***"
   ]
  },
  {
   "cell_type": "code",
   "execution_count": 66,
   "metadata": {},
   "outputs": [],
   "source": [
    "# set random seed \n",
    "np.random.seed(123)\n",
    "torch.random.manual_seed(123)\n",
    "\n",
    "# set device\n",
    "device = torch.device(\"cuda\") \n",
    "\n",
    "# set hyper-params\n",
    "train = dat\n",
    "train_size = len(train)\n",
    "n_hidden = 256\n",
    "n_epoch = 100\n",
    "batch_size = 256\n",
    "learning_rate = 0.001\n",
    "\n",
    "# create LSTM\n",
    "\n",
    "## Initialization\n",
    "lstm = LSTM(input_size = charset_size, hidden_size = n_hidden) # create lstm\n",
    "lstm = lstm.to(device=device) # set gpu/cpu\n",
    "\n",
    "## Optimization\n",
    "opt = torch.optim.Adam(lstm.parameters(), lr=learning_rate)\n",
    "\n",
    "## Loss Function\n",
    "lossfn = nn.NLLLoss(reduction='none') # ? reduction='none'\n",
    "losses = []\n",
    "\n",
    "## Training Structure\n",
    "\n",
    "train_ind = np.arange(train_size) # train_ind for mini-batch shuffle"
   ]
  },
  {
   "cell_type": "code",
   "execution_count": 67,
   "metadata": {},
   "outputs": [
    {
     "name": "stdout",
     "output_type": "stream",
     "text": [
      "epoch0/100,loss = 4.990899562835693\n",
      "epoch1/100,loss = 3.7747414112091064\n",
      "epoch2/100,loss = 3.6550323963165283\n",
      "epoch3/100,loss = 3.4169921875\n",
      "epoch4/100,loss = 3.375164031982422\n",
      "epoch5/100,loss = 3.3369686603546143\n",
      "epoch6/100,loss = 3.2019920349121094\n",
      "epoch7/100,loss = 3.2043941020965576\n",
      "epoch8/100,loss = 3.1698474884033203\n",
      "epoch9/100,loss = 3.1644561290740967\n",
      "epoch10/100,loss = 3.0841116905212402\n",
      "epoch11/100,loss = 2.98093318939209\n",
      "epoch12/100,loss = 3.0438320636749268\n",
      "epoch13/100,loss = 2.9033026695251465\n",
      "epoch14/100,loss = 2.887643814086914\n",
      "epoch15/100,loss = 2.9243290424346924\n",
      "epoch16/100,loss = 2.744793653488159\n",
      "epoch17/100,loss = 2.649574041366577\n",
      "epoch18/100,loss = 2.7562148571014404\n",
      "epoch19/100,loss = 2.709465503692627\n",
      "epoch20/100,loss = 2.6703109741210938\n",
      "epoch21/100,loss = 2.6483817100524902\n",
      "epoch22/100,loss = 2.573634147644043\n",
      "epoch23/100,loss = 2.657068967819214\n",
      "epoch24/100,loss = 2.551311731338501\n",
      "epoch25/100,loss = 2.549558162689209\n",
      "epoch26/100,loss = 2.5637245178222656\n",
      "epoch27/100,loss = 2.5997917652130127\n",
      "epoch28/100,loss = 2.541339635848999\n",
      "epoch29/100,loss = 2.4983646869659424\n",
      "epoch30/100,loss = 2.4880871772766113\n",
      "epoch31/100,loss = 2.4304800033569336\n",
      "epoch32/100,loss = 2.4637792110443115\n",
      "epoch33/100,loss = 2.428359031677246\n",
      "epoch34/100,loss = 2.4729220867156982\n",
      "epoch35/100,loss = 2.451740026473999\n",
      "epoch36/100,loss = 2.3952858448028564\n",
      "epoch37/100,loss = 2.55661940574646\n",
      "epoch38/100,loss = 2.4617745876312256\n",
      "epoch39/100,loss = 2.3573877811431885\n",
      "epoch40/100,loss = 2.4353997707366943\n",
      "epoch41/100,loss = 2.258925199508667\n",
      "epoch42/100,loss = 2.335810422897339\n",
      "epoch43/100,loss = 2.342085838317871\n",
      "epoch44/100,loss = 2.347130298614502\n",
      "epoch45/100,loss = 2.265080213546753\n",
      "epoch46/100,loss = 2.3741235733032227\n",
      "epoch47/100,loss = 2.3834896087646484\n",
      "epoch48/100,loss = 2.421921730041504\n",
      "epoch49/100,loss = 2.3160152435302734\n",
      "epoch50/100,loss = 2.226379871368408\n",
      "epoch51/100,loss = 2.3677802085876465\n",
      "epoch52/100,loss = 2.3733975887298584\n",
      "epoch53/100,loss = 2.3633430004119873\n",
      "epoch54/100,loss = 2.224231004714966\n",
      "epoch55/100,loss = 2.3445277214050293\n",
      "epoch56/100,loss = 2.192603349685669\n",
      "epoch57/100,loss = 2.303178548812866\n",
      "epoch58/100,loss = 2.36623477935791\n",
      "epoch59/100,loss = 2.2754971981048584\n",
      "epoch60/100,loss = 2.235085964202881\n",
      "epoch61/100,loss = 2.2988078594207764\n",
      "epoch62/100,loss = 2.251702308654785\n",
      "epoch63/100,loss = 2.2275753021240234\n",
      "epoch64/100,loss = 2.2289257049560547\n",
      "epoch65/100,loss = 2.2867493629455566\n",
      "epoch66/100,loss = 2.2843589782714844\n",
      "epoch67/100,loss = 2.2537293434143066\n",
      "epoch68/100,loss = 2.2871322631835938\n",
      "epoch69/100,loss = 2.2143054008483887\n",
      "epoch70/100,loss = 2.2529590129852295\n",
      "epoch71/100,loss = 2.1562490463256836\n",
      "epoch72/100,loss = 2.2224783897399902\n",
      "epoch73/100,loss = 2.2572615146636963\n",
      "epoch74/100,loss = 2.2562358379364014\n",
      "epoch75/100,loss = 2.2631046772003174\n",
      "epoch76/100,loss = 2.2509608268737793\n",
      "epoch77/100,loss = 2.2075395584106445\n",
      "epoch78/100,loss = 2.2258894443511963\n",
      "epoch79/100,loss = 2.1497015953063965\n",
      "epoch80/100,loss = 2.238865375518799\n",
      "epoch81/100,loss = 2.1256935596466064\n",
      "epoch82/100,loss = 2.2496535778045654\n",
      "epoch83/100,loss = 2.1347997188568115\n",
      "epoch84/100,loss = 2.269829511642456\n",
      "epoch85/100,loss = 2.2485997676849365\n",
      "epoch86/100,loss = 2.1167869567871094\n",
      "epoch87/100,loss = 2.202223539352417\n",
      "epoch88/100,loss = 2.2267141342163086\n",
      "epoch89/100,loss = 2.0656847953796387\n",
      "epoch90/100,loss = 2.086221694946289\n",
      "epoch91/100,loss = 2.182074785232544\n",
      "epoch92/100,loss = 2.2044148445129395\n",
      "epoch93/100,loss = 2.1371636390686035\n",
      "epoch94/100,loss = 2.205620050430298\n",
      "epoch95/100,loss = 2.2581405639648438\n",
      "epoch96/100,loss = 2.1677215099334717\n",
      "epoch97/100,loss = 2.208401679992676\n",
      "epoch98/100,loss = 2.054865598678589\n",
      "epoch99/100,loss = 2.198728084564209\n",
      "Total time: 34.12580752372742\n"
     ]
    },
    {
     "data": {
      "text/plain": [
       "[<matplotlib.lines.Line2D at 0x115274dfc50>]"
      ]
     },
     "execution_count": 67,
     "metadata": {},
     "output_type": "execute_result"
    },
    {
     "data": {
      "image/png": "[encoded data removed]",
      "text/plain": [
       "<Figure size 640x480 with 1 Axes>"
      ]
     },
     "metadata": {},
     "output_type": "display_data"
    }
   ],
   "source": [
    "\n",
    "t1 = time.time() # timing \n",
    "\n",
    "for epoch in range(n_epoch): # start training\n",
    "    np.random.shuffle(train_ind) # shuffle\n",
    "    \n",
    "    for batch_i in range(0, train_size, batch_size): # batch_i: i'th batch start index\n",
    "        \n",
    "        # create minibatch_i\n",
    "        index_list = train_ind[batch_i:(batch_i+batch_size)] # get i'th batch's index list\n",
    "        minibatch = [train[id]  for id in index_list ] # from index get i'th minibatch list\n",
    "        minibatch_size = len(minibatch) # get i'th minibatch size\n",
    "        \n",
    "        # transform input name: char -> tensor\n",
    "        input, actual_len, target = names2tensor(minibatch) # input: each name's one-hot tensor, actual_len: actual lenth of each name\n",
    "        input = input.to(device=device) # transfer input to device\n",
    "        target = target.to(device=device) # transfer input to device\n",
    "        max_name_len = input.shape[0] # by definition of names2tensor\n",
    "        \n",
    "        # initialization \n",
    "        hidden = lstm.init_hidden(minibatch_size,device=device) # initialize hidden layer\n",
    "        MemCell = lstm.init_MemCell(minibatch_size,device=device) # initialize MemCell\n",
    "        \n",
    "        # compute loss function\n",
    "        loss = 0.0 # initialize loss function\n",
    "        \n",
    "        for name_i in range(max_name_len): # put data into LSTM char by char\n",
    "            output, hidden, MemCell = lstm(input[name_i], hidden, MemCell) #input[char_i]\n",
    "            loss_i = lossfn(output,target[name_i])\n",
    "            valid = torch.tensor( (name_i < actual_len).astype(int)).to(device=device)\n",
    "            loss += loss_i * valid\n",
    "        \n",
    "        loss = torch.mean(loss / torch.tensor(actual_len).to(device=device))    \n",
    "        \n",
    "        # opt the loss fn\n",
    "        opt.zero_grad() # initialize optimizer\n",
    "        loss.backward() # backward for gradient\n",
    "        opt.step() # update params\n",
    "        \n",
    "        losses.append(loss.item()) # ?\n",
    "     \n",
    "    print(f\"epoch{epoch}/{n_epoch},loss = {loss.item()}\")\n",
    "            \n",
    "t2 = time.time()\n",
    "\n",
    "print(f\"Total time: {t2-t1}\")\n",
    "\n",
    "plt.plot(losses)\n",
    "        \n",
    "        \n",
    "        "
   ]
  },
  {
   "cell_type": "markdown",
   "metadata": {},
   "source": [
    "***TEST OUTPUT***"
   ]
  },
  {
   "cell_type": "code",
   "execution_count": 69,
   "metadata": {},
   "outputs": [
    {
     "data": {
      "text/plain": [
       "LSTM(\n",
       "  (X2F): Linear(in_features=283, out_features=256, bias=True)\n",
       "  (X2I): Linear(in_features=283, out_features=256, bias=True)\n",
       "  (X2O): Linear(in_features=283, out_features=256, bias=True)\n",
       "  (X2Ct): Linear(in_features=283, out_features=256, bias=True)\n",
       "  (O2O): Linear(in_features=256, out_features=256, bias=True)\n",
       "  (dropout): Dropout(p=0.1, inplace=False)\n",
       "  (logsoftmax): LogSoftmax(dim=1)\n",
       ")"
      ]
     },
     "execution_count": 69,
     "metadata": {},
     "output_type": "execute_result"
    }
   ],
   "source": [
    "# test output ???\n",
    "\n",
    "torch.save(lstm.state_dict(), \"name.pt\")\n",
    "lstm.load_state_dict(torch.load(\"name.pt\", map_location=device))\n",
    "lstm.eval()"
   ]
  },
  {
   "cell_type": "code",
   "execution_count": 75,
   "metadata": {},
   "outputs": [
    {
     "data": {
      "text/plain": [
       "'m'"
      ]
     },
     "execution_count": 75,
     "metadata": {},
     "output_type": "execute_result"
    }
   ],
   "source": [
    "first_char = list('abcdefghijklmnoprstuvwxyz')\n",
    "\n",
    "def gen_FirstChar():\n",
    "    \"\"\"generate first character from a~z\"\"\"\n",
    "    return np.random.choice(first_char,1)[0]\n",
    "\n",
    "def gen_Names(max_lenth = 4):\n",
    "    lstm.eval() # eval mode (because of dropout)\n",
    "    \n",
    "    first_char = gen_FirstChar() # randomly generate form 'a~z'\n",
    "    input = char2tensor(first_char).to(device=device) # get input into tensor\n",
    "    char_ind = [torch.argmax(input).item()] # the index of this character (in alphabet), we need this for char recovery\n",
    "    \n",
    "    hidden = lstm.init_hidden(batch_size=1,device=device)\n",
    "    MemCell = lstm.init_MemCell(batch_size=1,device=device)\n",
    "    \n",
    "    for chr in range(max_lenth - 1):\n",
    "        output, hidden = lstm\n"
   ]
  },
  {
   "cell_type": "markdown",
   "metadata": {},
   "source": [
    "---"
   ]
  },
  {
   "cell_type": "code",
   "execution_count": 11,
   "metadata": {},
   "outputs": [
    {
     "name": "stdout",
     "output_type": "stream",
     "text": [
      "tensor([[0., 0., 0., 0., 0., 0., 0., 0., 0., 0., 0., 1., 0., 0., 0., 0., 0., 0.,\n",
      "         0., 0., 0., 0., 0., 0., 0., 0., 0.]])\n"
     ]
    }
   ],
   "source": [
    "n_hidden = 64\n",
    "lstm = LSTM(charset_size, n_hidden)\n",
    "def name2tensor(name):\n",
    "    \"\"\"将名字转换为 one-hot 编码的张量\"\"\"\n",
    "    tensor = torch.zeros(len(name), 1, charset_size) #一个tensor（其实是2d矩阵的感觉），第一个维度是名字的长度（名字中的各个字符），第二个维度是1，第三个维度是每个字符的onehot\n",
    "    for i, char in enumerate(name): #enmuerate\n",
    "        tensor[i, 0, char2index(char)] = 1\n",
    "    return tensor\n",
    "\n",
    "input = name2tensor(\"leon\")\n",
    "#print(input)\n",
    "hidden = lstm.init_hidden(batch_size=1, device='cpu')\n",
    "MemCell = lstm.init_MemCell(batch_size=1, device='cpu')\n",
    "\n",
    "print(input[0])\n",
    "#output, next_hidden, next_MemCell  = lstm(input[0], hidden, MemCell)\n",
    "#print(output)"
   ]
  }
 ],
 "metadata": {
  "kernelspec": {
   "display_name": "Python 3 (ipykernel)",
   "language": "python",
   "name": "python3"
  },
  "language_info": {
   "codemirror_mode": {
    "name": "ipython",
    "version": 3
   },
   "file_extension": ".py",
   "mimetype": "text/x-python",
   "name": "python",
   "nbconvert_exporter": "python",
   "pygments_lexer": "ipython3",
   "version": "3.11.4"
  }
 },
 "nbformat": 4,
 "nbformat_minor": 5
}
