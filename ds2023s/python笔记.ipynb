{
 "cells": [
  {
   "attachments": {},
   "cell_type": "markdown",
   "metadata": {},
   "source": [
    "# Note for DS2023s (python)"
   ]
  },
  {
   "attachments": {},
   "cell_type": "markdown",
   "metadata": {},
   "source": [
    "## I. Numpy"
   ]
  },
  {
   "attachments": {},
   "cell_type": "markdown",
   "metadata": {},
   "source": [
    "### Lecture Notes"
   ]
  },
  {
   "attachments": {},
   "cell_type": "markdown",
   "metadata": {},
   "source": [
    "#### Creating Matrixes & Vectors\n",
    "-  Create a matrix with `np.array([])`:\n",
    "\n",
    "    - *Note that numpy automatically assume that vector goes in rows (rather than columns)*\n",
    "  \n",
    "-   Create a stepping series with `np.linspace(start= ,stop=, num= )`\n",
    "-   Reshape a matrix using `np.reshape(MATRIX_NAME,(m,n))` or `MATRIX_NAME.reshape(m,n)`\n",
    "-   Create a all-ones matrix with `np.ones(SIZE)`, all-zeros matrix with `np.zeros()`, I matrix with `np.eye(SIZE)`, diagno matrix with `np.diag()`"
   ]
  },
  {
   "cell_type": "code",
   "execution_count": 30,
   "metadata": {},
   "outputs": [
    {
     "name": "stdout",
     "output_type": "stream",
     "text": [
      "[1 2 3]\n",
      "[[1.  2.  2. ]\n",
      " [3.  5.  4.5]]\n"
     ]
    }
   ],
   "source": [
    "import numpy as np\n",
    "vec = np.array([1,2,3])\n",
    "print(vec)\n",
    "mat = np.array([[1.0, 2.0, 2.0], [3.0, 5.0, 4.5]])\n",
    "print(mat)"
   ]
  },
  {
   "attachments": {},
   "cell_type": "markdown",
   "metadata": {},
   "source": [
    "#### Matrix Indexing and Slicing\n",
    "\n",
    "- Remember that in python, the index **starts from 0**\n",
    "- Negative index means *the last i'th elem* , i.e. elem[-1] means the last elem in this array. ([0] points to the first does not contradict with [-1] represents the last, since if [-0] is the last one then it will puzzle the computer as -0 == 0!)\n",
    "- Get a section of the vector using `x[start:end]`; mathematically, you will get $[start,end)$, which means the *end'th* elem will NOT be returned\n",
    "   \n",
    "    -   *Note that even for negative indexings, $start<end$ must be held (which is also apparent mathematically); thus you cannot get a series of number reversely by slicing.*\n",
    "    -   *Also note that the Start-Included-End-Excluded law also works with negative integers*"
   ]
  },
  {
   "cell_type": "code",
   "execution_count": 31,
   "metadata": {},
   "outputs": [
    {
     "name": "stdout",
     "output_type": "stream",
     "text": [
      "[1 2 3]\n",
      "[1 2]\n"
     ]
    }
   ],
   "source": [
    "print(vec)\n",
    "print(vec[-3:-1])"
   ]
  },
  {
   "attachments": {},
   "cell_type": "markdown",
   "metadata": {},
   "source": [
    "#### Stat: Random Variables\n",
    "- Set random seed by `np.random.seed(SEED_NUM)`\n",
    "- Generate Uniform Dist. r.v.by `np.random.uniform(low= , high= ,size= )`\n",
    "- Generate Normal Dist. r.v. by `np.random.normal(loc= , scale= , size= )`"
   ]
  },
  {
   "cell_type": "code",
   "execution_count": 32,
   "metadata": {},
   "outputs": [
    {
     "name": "stdout",
     "output_type": "stream",
     "text": [
      "[[ 0.19553819  0.91263183 -1.41397622 -1.89148631 -1.8390258 ]\n",
      " [ 0.50091511  0.38039793 -0.22485646 -1.04430502  0.03158332]]\n"
     ]
    }
   ],
   "source": [
    "norm = np.random.normal(loc=0.0, scale=1.0, size=(2, 5))\n",
    "print(norm)"
   ]
  },
  {
   "attachments": {},
   "cell_type": "markdown",
   "metadata": {},
   "source": [
    "#### Stat: Some Mathematical Operations (Esp. to Matrix)\n",
    "- Adding or multiplying a sclar will be automatically applied to the whole matrix\n",
    "- There are some other handy build in math functions like `np.exp()`,`np.log()`,etc.\n",
    "- A matrix can also be summarized with `np.sum()` (which calc. the sum of all elem's) or `np.mean()`, etc.\n",
    "  - Such cal. can also be done by specifically by rows or columns by adding `np.sum(,axis=0/1)`, where `0` is for rows and `1` for columns.\n",
    "    - (It is also somehow reasonable if we think of the notation of a certain elem in a matrix (i.e. A[3][4]), we are usually talking about the one in row 3, column 4, and thus row comes first than columns, and thus 0 for rows and 1 for columns)\n",
    "    - Plus, 'by rows' or 'by cols' means the increasing index. E.g. if we cal the sum of a matrix by rows, we are adding the i'th elem in the 1'st row, the i'th elem in the 2'nd row, etc. as the i'th elem in the final result"
   ]
  },
  {
   "cell_type": "code",
   "execution_count": 33,
   "metadata": {},
   "outputs": [
    {
     "name": "stdout",
     "output_type": "stream",
     "text": [
      "e.g. mat: [[ 0.19553819  0.91263183 -1.41397622 -1.89148631 -1.8390258 ]\n",
      " [ 0.50091511  0.38039793 -0.22485646 -1.04430502  0.03158332]]\n",
      "By row: [ 0.34822665  0.64651488 -0.81941634 -1.46789566 -0.90372124]\n",
      "By col: [1.31436481 0.30247289]\n"
     ]
    }
   ],
   "source": [
    "print(\"e.g. mat:\",norm)\n",
    "print(\"By row:\",np.mean(norm, axis=0)) \n",
    "print(\"By col:\",np.var(norm, axis=1)) "
   ]
  },
  {
   "attachments": {},
   "cell_type": "markdown",
   "metadata": {},
   "source": [
    "#### Exercise 1\n",
    "(Questions will be shown directly within the code)"
   ]
  },
  {
   "cell_type": "code",
   "execution_count": 34,
   "metadata": {},
   "outputs": [
    {
     "name": "stdout",
     "output_type": "stream",
     "text": [
      "[0.57058599 0.24996439 0.00539504 0.57210281 0.35819939 0.68328277\n",
      " 0.61399464 0.173717   0.30135991 0.71586934]\n",
      "[0.74772189 4.51216221 0.5378421  0.13066326 0.41576929 0.15855154\n",
      " 0.43041951 5.06582443 1.73479467 0.30912678]\n"
     ]
    },
    {
     "data": {
      "image/png": "[encoded data removed]",
      "text/plain": [
       "<Figure size 432x288 with 1 Axes>"
      ]
     },
     "metadata": {
      "needs_background": "light"
     },
     "output_type": "display_data"
    }
   ],
   "source": [
    "import numpy as np\n",
    "import matplotlib.pyplot as plt\n",
    "# generate 10000 x~unif(0,1) and print the first 10\n",
    "x = np.random.uniform(low = 0, high = 1, size = 10000)\n",
    "print(x[:10])\n",
    "# let y = -log(x), and print the last 10 elem in y\n",
    "y = -np.log(x) # y~exp(1)\n",
    "print(y[-10:])\n",
    "# plot the histogram of y\n",
    "plt.hist(y,bins=100)\n",
    "plt.show()\n"
   ]
  },
  {
   "attachments": {},
   "cell_type": "markdown",
   "metadata": {},
   "source": [
    "#### Linear Algebra\n",
    "- Transpose by `MATRIX.transpose()`\n",
    "- Matrix Multiplication by `MATRIX_A.dot(MATRIX_B)`\n",
    "- Matrix Inversion by `np.linalg.inv(MATIX)` [NOT RECOMMEND]\n",
    "  - If the final result is to cal. $A^{-1}x$, then do not try to first cal the inverse then cal the mul. Insead, use `np.linalg.solve(A,x)` to directly get the result.\n",
    "    - Avoiding cal the inverse of a matrix will largely improve the computing efficiency.\n",
    "- Eign value and eign vector by `np.linalg.eigh(MATRIX)`"
   ]
  },
  {
   "attachments": {},
   "cell_type": "markdown",
   "metadata": {},
   "source": [
    "### Supplements"
   ]
  },
  {
   "attachments": {},
   "cell_type": "markdown",
   "metadata": {},
   "source": [
    "#### Data Science Bookcamp, Five Python Projects: Chapter3 Simulation Using Numpy\n",
    "*While installing `Matplotlib`, `NumPy` will be automatically installed as its dependent package.*"
   ]
  },
  {
   "attachments": {},
   "cell_type": "markdown",
   "metadata": {},
   "source": [
    "##### 1. Coin Tossing and Dice Rolling Simulation\n",
    "- Simulating Dice Rolling\n",
    "  - Specify random result using `np.random.seed(0)` to make it repeatable\n",
    "  - Get a random integer between $[m,n)$ using `np.random.randint(m,n)`"
   ]
  },
  {
   "cell_type": "code",
   "execution_count": 35,
   "metadata": {},
   "outputs": [
    {
     "name": "stdout",
     "output_type": "stream",
     "text": [
      "die rolling: 6\n"
     ]
    }
   ],
   "source": [
    "import numpy as np\n",
    "np.random.seed(123)\n",
    "die_roll = np.random.randint(1,7)\n",
    "print(f\"die rolling: {die_roll}\")\n",
    "assert 1 <= die_roll <=6 #`assert` will help check if the result fits the assertion"
   ]
  },
  {
   "attachments": {},
   "cell_type": "markdown",
   "metadata": {},
   "source": [
    "- Simulating tossing\n",
    "  - To change the `randint()`, we can have different simulations. \n",
    "  - Pay attention to the `print()` statement, and note how to insert an *if-else* statement within a `print`\n",
    "  - Also notice how it could be repeated for 10 times\n",
    "    - In Python, initially you might find it not that handy to use `for` statements than that of in *C++* by `for (int i=1, i<=n, i++)`, since if you simply switch this statement to python by `for i in range(10)`, it might return error by not predefining var `i`. Thus that is why have to introduce the temp var `_` serve as the `i` in *C++*. `_` will be disposed as long as the `for` statement is done. You may just remeber this statement and simply use it!"
   ]
  },
  {
   "cell_type": "code",
   "execution_count": 36,
   "metadata": {},
   "outputs": [
    {
     "name": "stdout",
     "output_type": "stream",
     "text": [
      "Coin landed on tails\n",
      "10 times result: [1, 0, 0, 0, 0, 0, 1, 1, 0, 1]\n"
     ]
    }
   ],
   "source": [
    "np.random.seed(123)\n",
    "coin = np.random.randint(0,2)\n",
    "print(f\"Coin landed on {'heads' if coin == 1 else 'tails'}\")\n",
    "coins = [np.random.randint(0,2) for _ in range (10)]\n",
    "print(f\"10 times result: {coins}\")"
   ]
  },
  {
   "attachments": {},
   "cell_type": "markdown",
   "metadata": {},
   "source": [
    "- Plot the frequency of coin simulation\n",
    "  - Although unlike *C++*, we do not have to predefine every var we use by `int x` or `float y` in python, but initiallizaiton is also required. In this section, note the use of `coin_flips=[]`, etc.\n",
    "  - To add something to the end of a list, use `LIST.append('NEW_ELEMENT')`\n",
    "  - Also notice the usage of `matplotlib.pyplot` package"
   ]
  },
  {
   "cell_type": "code",
   "execution_count": 37,
   "metadata": {},
   "outputs": [
    {
     "data": {
      "image/png": "[encoded data removed]",
      "text/plain": [
       "<Figure size 432x288 with 1 Axes>"
      ]
     },
     "metadata": {
      "needs_background": "light"
     },
     "output_type": "display_data"
    }
   ],
   "source": [
    "import matplotlib.pyplot as plt\n",
    "np.random.seed(6)\n",
    "# define a function to count num of heads and num of total trials\n",
    "def heads_freq (coin_sequence):\n",
    "    heads_num = 0\n",
    "    total_num = len(coin_sequence)\n",
    "    for coin in coin_sequence:\n",
    "        if coin == 1:\n",
    "            heads_num = heads_num + 1\n",
    "    freq = heads_num/total_num\n",
    "    return freq\n",
    "\n",
    "# simulating tossing\n",
    "coin_flips = []\n",
    "freq = []\n",
    "for _ in range (1000):\n",
    "    coin_flips.append(np.random.randint(0,2))\n",
    "    freq.append(heads_freq(coin_flips))\n",
    "\n",
    "# plotting\n",
    "plt.plot(list(range(1000)),freq)\n",
    "plt.axhline(0.5,color='k')\n",
    "plt.xlabel(\"Number of Coin Flips\")\n",
    "plt.ylabel(\"Head Frequency\")\n",
    "plt.show()\n",
    "\n"
   ]
  }
 ],
 "metadata": {
  "kernelspec": {
   "display_name": "base",
   "language": "python",
   "name": "python3"
  },
  "language_info": {
   "codemirror_mode": {
    "name": "ipython",
    "version": 3
   },
   "file_extension": ".py",
   "mimetype": "text/x-python",
   "name": "python",
   "nbconvert_exporter": "python",
   "pygments_lexer": "ipython3",
   "version": "3.9.12"
  },
  "orig_nbformat": 4,
  "vscode": {
   "interpreter": {
    "hash": "88279d2366fe020547cde40dd65aa0e3aa662a6ec1f3ca12d88834876c85e1a6"
   }
  }
 },
 "nbformat": 4,
 "nbformat_minor": 2
}
