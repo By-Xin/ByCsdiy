{
 "cells": [
  {
   "attachments": {},
   "cell_type": "markdown",
   "id": "294f54c3",
   "metadata": {},
   "source": [
    "# 分布式 Logistic 回归模型"
   ]
  },
  {
   "attachments": {},
   "cell_type": "markdown",
   "id": "d3aa8bb5",
   "metadata": {},
   "source": [
    "### Introduction to Logistics Regression\n",
    "\n",
    "(online.stat.psu.edu/stat508/lesson/9/9.1/9.1.2)\n",
    "\n",
    "- 最终的目的是知道$Y$的分布，而这里的$Y$是一个0-1变量，即服从一个Bernoulli分布\n",
    "- 因此Logit回归的本质是对$Y$的Bernoulli分布的参数的建模\n",
    "- $P(Y=1)=p$\n",
    "- 如果$Y_1,...,Y_n$是独立同分布的，则只有一个参数$p$；实际上每一个obs都有一个各自的参数\n",
    "- 这里就需要自变量$X$的帮助，也就是$Y$，或者是对应的$p$应该是依赖于观测$X_i$的\n",
    "- 为了量化这种影响关系，可以认为$p_i = x_i^T \\beta$\n",
    "- 但是这里的问题是左侧的$p_i$是0,1区间的，而右侧的为$\\R$上取值\n",
    "- 中间的桥梁即是input正负无穷区间，输出01区间 ！！分布函数！！\n",
    "- Sigmoid: $\\rho(x) = \\frac{1}{1+e^{-x}}$\n",
    "\n",
    "$$Y|x \\sim Bernoulli(\\rho(\\beta^T x))$$\n",
    "\n",
    "- 然而事实上这里的函数并不一定局限于Sigmoid！\n",
    "- $\\rho(\\beta^T x)$ 表示$Y$取1的概率\n",
    "- 这里便引出了**极大似然函数**，因其优异的估计性质，构造损失函数！【详细了解极大似然！！】\n",
    "- $P(Y_i = y) = p_i^y(1-p_i)^y,~ y = 0~ \\text{or}~ 1$\n",
    "- $l = \\sum \\log P(Y_i =y_i) = \\sum[ y_i \\log p_i + ( 1 - y_i) \\log (1 - p_i)]$, where $p_i = \\rho(x_i \\beta)$\n",
    "- 通常设定目标损失函数为$L(\\beta) = -l$，以求极小值的优化\n",
    "- logistic回归的系数估计基本只有数值解，没有解析解，故需要通过迭代优化算法进行求解"
   ]
  },
  {
   "attachments": {},
   "cell_type": "markdown",
   "id": "05525443",
   "metadata": {},
   "source": [
    "## 优化算法\n",
    "- 优化问题：$min_x f(x)$\n",
    "  - 根据不同的$f$的性质由不同的优化求解策略\n",
    "- 称为具有导数的函数为光滑函数，对于光滑函数的优化算法：\n",
    "  - 一阶算法（e.g. 梯度下降法）\n",
    "  - 二阶算法（e.g. 牛顿法）\n",
    "\n",
    "### 梯度下降法\n",
    "$$x := x - \\alpha \\frac{\\partial f}{\\partial x}|_{{x=x_{old}}}$$\n",
    "\n",
    "- 称$\\alpha$为步长/学习率"
   ]
  },
  {
   "attachments": {},
   "cell_type": "markdown",
   "id": "77ebfd40",
   "metadata": {},
   "source": [
    "### 牛顿法\n",
    "$$x := x - \\alpha (\\frac{\\partial^2 f}{\\partial x\\partial x'})^{-1}\\frac{\\partial f}{\\partial x}|_{{x=x_{old}}}$$\n",
    "- 上述求逆部分为Hessian矩阵\n",
    "- 通常可以固定$\\alpha=1$，牛顿法可以“自行调整”步长"
   ]
  },
  {
   "attachments": {},
   "cell_type": "markdown",
   "id": "53f71ca6",
   "metadata": {},
   "source": [
    "## logit 算法推导\n",
    "- 一阶导数：【试自证！】\n",
    "$$\\partial L/\\partial \\beta = X'(\\rho-y)$$ \n",
    "- 二阶导数\n",
    "  $$\\partial^2 L/\\partial \\beta\\partial \\beta' = X'WX, \\\\W=diag(\\rho_1(1-\\rho_1)\\cdots\\rho_n(1-\\rho_n))$$\n",
    "\n",
    "- Recall: `solve(A,b)`,   $A:n\\times p ,b:n\\times 1$ 时间复杂度：$O(n^3)$"
   ]
  },
  {
   "attachments": {},
   "cell_type": "markdown",
   "id": "3cd51e42",
   "metadata": {},
   "source": [
    "## 代码操作"
   ]
  },
  {
   "attachments": {},
   "cell_type": "markdown",
   "id": "dd303e5e",
   "metadata": {},
   "source": [
    "### 1. 准备工作"
   ]
  },
  {
   "attachments": {},
   "cell_type": "markdown",
   "id": "4330a894",
   "metadata": {},
   "source": [
    "配置和启动 PySpark："
   ]
  },
  {
   "cell_type": "code",
   "execution_count": 2,
   "id": "54d9bba0",
   "metadata": {},
   "outputs": [
    {
     "name": "stdout",
     "output_type": "stream",
     "text": [
      "<pyspark.sql.session.SparkSession object at 0x7f7c782a5d90>\n",
      "<SparkContext master=local[*] appName=Logistic Regression>\n"
     ]
    }
   ],
   "source": [
    "import findspark\n",
    "findspark.init(\"/Users/xinby/Library/Spark\")\n",
    "\n",
    "from pyspark.sql import SparkSession\n",
    "# 本地模式\n",
    "spark = SparkSession.builder.\\\n",
    "    master(\"local[*]\").\\\n",
    "    appName(\"Logistic Regression\").\\\n",
    "    getOrCreate()\n",
    "sc = spark.sparkContext\n",
    "sc.setLogLevel(\"ERROR\")\n",
    "print(spark)\n",
    "print(sc)"
   ]
  },
  {
   "attachments": {},
   "cell_type": "markdown",
   "id": "b67ee1cd",
   "metadata": {},
   "source": [
    "假设 $n\\gg p$，利用 Numpy 生成模拟数据，并写入文件。"
   ]
  },
  {
   "cell_type": "code",
   "execution_count": 3,
   "id": "cc36a5cc",
   "metadata": {},
   "outputs": [],
   "source": [
    "import os\n",
    "import numpy as np\n",
    "from scipy.special import expit, logit\n",
    "np.set_printoptions(linewidth=100)\n",
    "\n",
    "np.random.seed(123)\n",
    "n = 100000\n",
    "p = 100\n",
    "x = np.random.normal(size=(n, p))\n",
    "beta = np.random.normal(size=p)\n",
    "prob = expit(x.dot(beta))  # p = 1 / (1 + exp(-x * beta))\n",
    "y = np.random.binomial(1, prob, size=n)\n",
    "dat = np.hstack((y.reshape(n, 1), x))\n",
    "if not os.path.exists(\"data\"):\n",
    "    os.makedirs(\"data\", exist_ok=True)\n",
    "np.savetxt(\"data/logistic.txt\", dat, fmt=\"%f\", delimiter=\"\\t\")"
   ]
  },
  {
   "attachments": {},
   "cell_type": "markdown",
   "id": "0814eb19",
   "metadata": {},
   "source": [
    "其中 `expit()` 即 Sigmoid 函数，表达式为 $\\rho(x)=1/(1+e^{-x})$。 "
   ]
  },
  {
   "attachments": {},
   "cell_type": "markdown",
   "id": "8b44965a",
   "metadata": {},
   "source": [
    "PySpark 读取文件并进行一些简单操作："
   ]
  },
  {
   "cell_type": "code",
   "execution_count": 4,
   "id": "4dfebd79",
   "metadata": {
    "scrolled": true
   },
   "outputs": [
    {
     "name": "stderr",
     "output_type": "stream",
     "text": [
      "[Stage 0:>                                                          (0 + 3) / 3]\r"
     ]
    },
    {
     "name": "stdout",
     "output_type": "stream",
     "text": [
      "100000\n",
      "\n",
      "0.000000\t-1.085631\t0.997345\t0.282978\t-1.506295\t-0.578600\t1.651437\t-2.4...\n",
      "1.000000\t0.642055\t-1.977888\t0.712265\t2.598304\t-0.024626\t0.034142\t0.179...\n",
      "0.000000\t0.703310\t-0.598105\t2.200702\t0.688297\t-0.006307\t-0.206662\t-0.0...\n",
      "1.000000\t0.765055\t-0.828989\t-0.659151\t0.611124\t-0.144013\t1.316606\t-0.7...\n",
      "0.000000\t1.534090\t-0.529914\t-0.490972\t-1.309165\t-0.008660\t0.976813\t-1....\n"
     ]
    },
    {
     "name": "stderr",
     "output_type": "stream",
     "text": [
      "                                                                                \r"
     ]
    }
   ],
   "source": [
    "file = sc.textFile(\"data/logistic.txt\")\n",
    "\n",
    "# 打印矩阵行数\n",
    "print(file.count())\n",
    "\n",
    "# 空行\n",
    "print()\n",
    "\n",
    "# 打印前5行，并将每行字符串截尾\n",
    "text = file.map(lambda x: x[:70] + \"...\").take(5)\n",
    "print(*text, sep=\"\\n\")"
   ]
  },
  {
   "attachments": {},
   "cell_type": "markdown",
   "id": "96ca1b07",
   "metadata": {},
   "source": [
    "### 2. 牛顿法迭代"
   ]
  },
  {
   "attachments": {},
   "cell_type": "markdown",
   "id": "cc4a0ff4",
   "metadata": {},
   "source": [
    "Logistic 回归的系数估计没有显式解，但可以利用牛顿法迭代。参见 [https://online.stat.psu.edu/stat508/lesson/9/9.1/9.1.2](https://online.stat.psu.edu/stat508/lesson/9/9.1/9.1.2)。"
   ]
  },
  {
   "attachments": {},
   "cell_type": "markdown",
   "id": "5c735d6e",
   "metadata": {},
   "source": [
    "迭代公式为 $\\beta^{new}=(X'WX)^{-1}X'Wz$，其中 $z=X\\beta^{old}+W^{-1}(y-prob)$，$prob$ 是 $\\rho(X\\beta^{old})$ 组成的向量，$W$ 是以 $prob\\cdot (1-prob)$ 为对角线元素的对角矩阵。"
   ]
  },
  {
   "attachments": {},
   "cell_type": "markdown",
   "id": "9bf28dac",
   "metadata": {},
   "source": [
    "当 $n\\gg p$ 且 $p$ 不太大时，$X'WX$ 为 $p\\times p$ 矩阵，$X'Wz$ 为 $p\\times 1$ 向量，均可放入内存。因此，此时问题的核心在于计算 $X'WX$ 与 $X'Wz$。\n",
    "\n",
    "对于 $X,W,z$  进行分块，则有 $X'Wz=\\sum X_iW_iz_i$"
   ]
  },
  {
   "attachments": {},
   "cell_type": "markdown",
   "id": "414e77bd",
   "metadata": {},
   "source": [
    "首先进行分区映射："
   ]
  },
  {
   "cell_type": "code",
   "execution_count": 5,
   "id": "b3e21ee5",
   "metadata": {},
   "outputs": [
    {
     "name": "stdout",
     "output_type": "stream",
     "text": [
      "3\n"
     ]
    }
   ],
   "source": [
    "# file = file.repartition(10)\n",
    "print(file.getNumPartitions())"
   ]
  },
  {
   "cell_type": "code",
   "execution_count": 6,
   "id": "3d75ea38",
   "metadata": {},
   "outputs": [],
   "source": [
    "# str => np.array\n",
    "def str_to_vec(line):\n",
    "    # 分割字符串\n",
    "    str_vec = line.split(\"\\t\")\n",
    "    # 将每一个元素从字符串变成数值型\n",
    "    num_vec = map(lambda s: float(s), str_vec)\n",
    "    # 创建 Numpy 向量\n",
    "    return np.fromiter(num_vec, dtype=float)\n",
    "\n",
    "# Iter[str] => Iter[matrix]\n",
    "def part_to_mat(iterator):\n",
    "    # Iter[str] => Iter[np.array]\n",
    "    iter_arr = map(str_to_vec, iterator)\n",
    "\n",
    "    # Iter[np.array] => list(np.array)\n",
    "    dat = list(iter_arr)\n",
    "\n",
    "    # list(np.array) => matrix\n",
    "    if len(dat) < 1:  # Test zero iterator\n",
    "        mat = np.array([])\n",
    "    else:\n",
    "        mat = np.vstack(dat)\n",
    "\n",
    "    # matrix => Iter[matrix]\n",
    "    yield mat"
   ]
  },
  {
   "cell_type": "code",
   "execution_count": 7,
   "id": "d437358b",
   "metadata": {},
   "outputs": [
    {
     "name": "stderr",
     "output_type": "stream",
     "text": [
      "[Stage 2:>                                                          (0 + 3) / 3]\r"
     ]
    },
    {
     "name": "stdout",
     "output_type": "stream",
     "text": [
      "3\n"
     ]
    },
    {
     "name": "stderr",
     "output_type": "stream",
     "text": [
      "                                                                                \r"
     ]
    }
   ],
   "source": [
    "dat = file.mapPartitions(part_to_mat).filter(lambda x: x.shape[0] > 0)\n",
    "print(dat.count())"
   ]
  },
  {
   "cell_type": "code",
   "execution_count": 8,
   "id": "eb2cd1b8",
   "metadata": {},
   "outputs": [
    {
     "name": "stderr",
     "output_type": "stream",
     "text": [
      "                                                                                \r"
     ]
    },
    {
     "data": {
      "text/plain": [
       "array([[ 0.000000e+00, -1.085631e+00,  9.973450e-01, ..., -1.363472e+00,  3.794010e-01,\n",
       "        -3.791760e-01],\n",
       "       [ 1.000000e+00,  6.420550e-01, -1.977888e+00, ..., -1.108510e-01, -3.412620e-01,\n",
       "        -2.179460e-01],\n",
       "       [ 0.000000e+00,  7.033100e-01, -5.981050e-01, ...,  4.156950e-01,  1.605440e-01,\n",
       "         8.197610e-01],\n",
       "       ...,\n",
       "       [ 0.000000e+00,  7.020540e-01,  8.005120e-01, ...,  1.232969e+00, -1.771340e-01,\n",
       "        -5.306110e-01],\n",
       "       [ 1.000000e+00,  4.353180e-01, -1.903069e+00, ...,  3.697810e-01,  9.449400e-01,\n",
       "         1.347800e+00],\n",
       "       [ 0.000000e+00, -1.460545e+00, -2.886790e-01, ..., -1.800490e-01,  2.074455e+00,\n",
       "         1.191000e-03]])"
      ]
     },
     "execution_count": 8,
     "metadata": {},
     "output_type": "execute_result"
    }
   ],
   "source": [
    "dat.first()"
   ]
  },
  {
   "attachments": {},
   "cell_type": "markdown",
   "id": "d05681c4",
   "metadata": {},
   "source": [
    "注意此时每个分区上的数据同时包含了因变量 $y$ 和自变量 $X$。给定当前估计 $\\beta^{old}$，计算每个分区上的统计量 $X'WX$ 和 $X'Wz$："
   ]
  },
  {
   "cell_type": "code",
   "execution_count": 9,
   "id": "c5bee37a",
   "metadata": {
    "scrolled": false
   },
   "outputs": [],
   "source": [
    "def compute_stats(part_mat, beta_old):\n",
    "    # 提取 X 和 y\n",
    "    y = part_mat[:, 0]\n",
    "    x = part_mat[:, 1:]\n",
    "    # X * beta\n",
    "    xb = x.dot(beta_old)\n",
    "    # rho(X * beta)\n",
    "    prob = expit(xb)\n",
    "    # W 的对角线元素\n",
    "    w = prob * (1.0 - prob) + 1e-6 #10^-6避免后续计算分母为0\n",
    "    # X'W，数组广播操作，避免生成完整的 W\n",
    "    xtw = x.transpose() * w\n",
    "    # X'WX\n",
    "    xtwx = xtw.dot(x)\n",
    "    # X'Wz\n",
    "    z = xb + (y - prob) / w\n",
    "    xtwz = xtw.dot(z)\n",
    "    return xtwx, xtwz"
   ]
  },
  {
   "attachments": {},
   "cell_type": "markdown",
   "id": "fc090087",
   "metadata": {},
   "source": [
    "主循环："
   ]
  },
  {
   "cell_type": "code",
   "execution_count": 10,
   "id": "55a52b11",
   "metadata": {},
   "outputs": [
    {
     "name": "stderr",
     "output_type": "stream",
     "text": [
      "                                                                                \r"
     ]
    },
    {
     "name": "stdout",
     "output_type": "stream",
     "text": [
      "Iteration 0, resid = 1.5704037438983014\n"
     ]
    },
    {
     "name": "stderr",
     "output_type": "stream",
     "text": [
      "                                                                                \r"
     ]
    },
    {
     "name": "stdout",
     "output_type": "stream",
     "text": [
      "Iteration 1, resid = 1.3912432651305584\n"
     ]
    },
    {
     "name": "stderr",
     "output_type": "stream",
     "text": [
      "                                                                                \r"
     ]
    },
    {
     "name": "stdout",
     "output_type": "stream",
     "text": [
      "Iteration 2, resid = 1.7393341248434817\n"
     ]
    },
    {
     "name": "stderr",
     "output_type": "stream",
     "text": [
      "                                                                                \r"
     ]
    },
    {
     "name": "stdout",
     "output_type": "stream",
     "text": [
      "Iteration 3, resid = 2.082759636695286\n"
     ]
    },
    {
     "name": "stderr",
     "output_type": "stream",
     "text": [
      "                                                                                \r"
     ]
    },
    {
     "name": "stdout",
     "output_type": "stream",
     "text": [
      "Iteration 4, resid = 2.0636707533919343\n"
     ]
    },
    {
     "name": "stderr",
     "output_type": "stream",
     "text": [
      "                                                                                \r"
     ]
    },
    {
     "name": "stdout",
     "output_type": "stream",
     "text": [
      "Iteration 5, resid = 1.320062748258957\n"
     ]
    },
    {
     "name": "stderr",
     "output_type": "stream",
     "text": [
      "                                                                                \r"
     ]
    },
    {
     "name": "stdout",
     "output_type": "stream",
     "text": [
      "Iteration 6, resid = 0.351657288363312\n"
     ]
    },
    {
     "name": "stderr",
     "output_type": "stream",
     "text": [
      "                                                                                \r"
     ]
    },
    {
     "name": "stdout",
     "output_type": "stream",
     "text": [
      "Iteration 7, resid = 0.018832519429043803\n"
     ]
    },
    {
     "name": "stderr",
     "output_type": "stream",
     "text": [
      "                                                                                \r"
     ]
    },
    {
     "name": "stdout",
     "output_type": "stream",
     "text": [
      "Iteration 8, resid = 6.66925409159852e-05\n"
     ]
    },
    {
     "name": "stderr",
     "output_type": "stream",
     "text": [
      "[Stage 14:>                                                         (0 + 3) / 3]\r"
     ]
    },
    {
     "name": "stdout",
     "output_type": "stream",
     "text": [
      "Iteration 9, resid = 6.386267762136753e-08\n",
      "\n",
      "finished in 20.349837064743042 seconds\n"
     ]
    },
    {
     "name": "stderr",
     "output_type": "stream",
     "text": [
      "                                                                                \r"
     ]
    }
   ],
   "source": [
    "import time\n",
    "\n",
    "# 根据数据动态获取维度，不要使用之前模拟时的变量\n",
    "p = dat.first().shape[1] - 1\n",
    "# beta 初始化为 0 向量\n",
    "beta_hat = np.zeros(p)\n",
    "\n",
    "# 最大迭代次数\n",
    "maxit = 30\n",
    "# 收敛条件\n",
    "eps = 1e-6\n",
    "\n",
    "t1 = time.time()\n",
    "for i in range(maxit):\n",
    "    # 完整数据的 X'WX 和 X'Wz 是各分区的加和\n",
    "    xtwx, xtwz = dat.map(lambda part: compute_stats(part, beta_hat)).reduce(lambda x, y: (x[0] + y[0], x[1] + y[1]))\n",
    "    # 计算新 beta\n",
    "    beta_new = np.linalg.solve(xtwx, xtwz)\n",
    "    # 计算 beta 的变化\n",
    "    resid = np.linalg.norm(beta_new - beta_hat)\n",
    "    print(f\"Iteration {i}, resid = {resid}\")\n",
    "    # 如果 beta 几乎不再变化，退出循环\n",
    "    if resid < eps:\n",
    "        break\n",
    "    # 更新 beta\n",
    "    beta_hat = beta_new\n",
    "t2 = time.time()\n",
    "print(f\"\\nfinished in {t2 - t1} seconds\")"
   ]
  },
  {
   "attachments": {},
   "cell_type": "markdown",
   "id": "68d375e8",
   "metadata": {},
   "source": [
    "关闭 Spark 连接："
   ]
  },
  {
   "cell_type": "code",
   "execution_count": null,
   "id": "c6e9f36e",
   "metadata": {},
   "outputs": [],
   "source": [
    "sc.stop()"
   ]
  }
 ],
 "metadata": {
  "kernelspec": {
   "display_name": "Python 3 (ipykernel)",
   "language": "python",
   "name": "python3"
  },
  "language_info": {
   "codemirror_mode": {
    "name": "ipython",
    "version": 3
   },
   "file_extension": ".py",
   "mimetype": "text/x-python",
   "name": "python",
   "nbconvert_exporter": "python",
   "pygments_lexer": "ipython3",
   "version": "3.9.12"
  }
 },
 "nbformat": 4,
 "nbformat_minor": 5
}
