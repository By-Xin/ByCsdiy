{
 "cells": [
  {
   "cell_type": "code",
   "execution_count": 2,
   "metadata": {},
   "outputs": [
    {
     "name": "stderr",
     "output_type": "stream",
     "text": [
      "No model was supplied, defaulted to distilbert-base-uncased-finetuned-sst-2-english and revision af0f99b (https://huggingface.co/distilbert-base-uncased-finetuned-sst-2-english).\n",
      "Using a pipeline without specifying a model name and revision in production is not recommended.\n"
     ]
    },
    {
     "data": {
      "text/plain": [
       "[{'label': 'POSITIVE', 'score': 0.9995185136795044}]"
      ]
     },
     "execution_count": 2,
     "metadata": {},
     "output_type": "execute_result"
    }
   ],
   "source": [
    "from transformers import pipeline\n",
    "pipe = pipeline(task='text-classification')\n"
   ]
  },
  {
   "cell_type": "code",
   "execution_count": 9,
   "metadata": {},
   "outputs": [
    {
     "data": {
      "text/plain": [
       "[{'label': 'NEGATIVE', 'score': 0.7984556555747986}]"
      ]
     },
     "execution_count": 9,
     "metadata": {},
     "output_type": "execute_result"
    }
   ],
   "source": [
    "pipe(\"请大家自行就坐\")"
   ]
  },
  {
   "cell_type": "code",
   "execution_count": 10,
   "metadata": {},
   "outputs": [
    {
     "name": "stderr",
     "output_type": "stream",
     "text": [
      "Downloading (…)lve/main/config.json: 100%|██████████| 519/519 [00:00<00:00, 1.20MB/s]\n",
      "Downloading pytorch_model.bin: 100%|██████████| 418M/418M [01:06<00:00, 6.32MB/s] \n",
      "Downloading (…)solve/main/vocab.txt: 100%|██████████| 93.5k/93.5k [00:00<00:00, 2.67MB/s]\n"
     ]
    }
   ],
   "source": [
    "fill_masker = pipeline(task = 'fill-mask', \n",
    "                       model = \"ethanyt/guwenbert-base\")"
   ]
  },
  {
   "cell_type": "code",
   "execution_count": 16,
   "metadata": {},
   "outputs": [
    {
     "name": "stdout",
     "output_type": "stream",
     "text": [
      "[{'score': 0.10076066106557846, 'token': 154, 'token_str': '气', 'sequence': '天 青 色 等 烟 气 ， 而 我 在 等 你'}, {'score': 0.09367398917675018, 'token': 50, 'token_str': '云', 'sequence': '天 青 色 等 烟 云 ， 而 我 在 等 你'}, {'score': 0.06979327648878098, 'token': 2018, 'token_str': '雾', 'sequence': '天 青 色 等 烟 雾 ， 而 我 在 等 你'}, {'score': 0.05328447371721268, 'token': 266, 'token_str': '色', 'sequence': '天 青 色 等 烟 色 ， 而 我 在 等 你'}, {'score': 0.04078081622719765, 'token': 214, 'token_str': '起', 'sequence': '天 青 色 等 烟 起 ， 而 我 在 等 你'}]\n"
     ]
    }
   ],
   "source": [
    "o = fill_masker(\"天青色等烟[MASK]，而我在等你\")\n",
    "print(o)"
   ]
  },
  {
   "cell_type": "code",
   "execution_count": 3,
   "metadata": {},
   "outputs": [
    {
     "name": "stderr",
     "output_type": "stream",
     "text": [
      "\n",
      "\u001b[A"
     ]
    }
   ],
   "source": [
    "import torch \n",
    "from diffusers import StableDiffusionPipeline\n"
   ]
  },
  {
   "cell_type": "code",
   "execution_count": 4,
   "metadata": {},
   "outputs": [
    {
     "name": "stderr",
     "output_type": "stream",
     "text": [
      "\n",
      "\u001b[A\n",
      "\n",
      "Downloading pytorch_model.bin: 100%|██████████| 1.22G/1.22G [03:00<00:00, 6.72MB/s]\n",
      "Downloading (…)on_pytorch_model.bin: 100%|██████████| 335M/335M [00:49<00:00, 6.78MB/s] \n"
     ]
    }
   ],
   "source": [
    "pipe = StableDiffusionPipeline.from_pretrained(\n",
    "    \"runwayml/stable-diffusion-v1-5\",\n",
    "    torch_dtype = torch.float32\n",
    ")"
   ]
  }
 ],
 "metadata": {
  "kernelspec": {
   "display_name": "transformer_mac",
   "language": "python",
   "name": "python3"
  },
  "language_info": {
   "codemirror_mode": {
    "name": "ipython",
    "version": 3
   },
   "file_extension": ".py",
   "mimetype": "text/x-python",
   "name": "python",
   "nbconvert_exporter": "python",
   "pygments_lexer": "ipython3",
   "version": "3.10.12"
  },
  "orig_nbformat": 4
 },
 "nbformat": 4,
 "nbformat_minor": 2
}
