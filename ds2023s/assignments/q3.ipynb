{
 "cells": [
  {
   "cell_type": "code",
   "execution_count": 1,
   "metadata": {},
   "outputs": [],
   "source": [
    "import numpy as np\n",
    "from scipy.special import expit\n",
    "\n",
    "np.random.seed(123)\n",
    "n = 100000\n",
    "p = 100\n",
    "x = np.random.normal(size=(n, p))\n",
    "beta = np.random.normal(size=p)\n",
    "prob = expit(-0.5 + x.dot(beta))  # p = 1 / (1 + exp(-x * beta))\n",
    "y = np.random.binomial(1, prob, size=n)\n",
    "one = np.ones(n).reshape(n,1)\n",
    "dat = np.hstack((y.reshape(n, 1),one, x))\n",
    "np.savetxt(\"logistic_data.txt\", dat, fmt=\"%.8f\", delimiter=\"\\t\")"
   ]
  },
  {
   "cell_type": "code",
   "execution_count": 2,
   "metadata": {},
   "outputs": [
    {
     "name": "stdout",
     "output_type": "stream",
     "text": [
      "23/05/03 19:03:44 WARN Utils: Your hostname, XinBys-MacBook-Air.local resolves to a loopback address: 127.0.0.1; using 10.65.116.79 instead (on interface en0)\n",
      "23/05/03 19:03:44 WARN Utils: Set SPARK_LOCAL_IP if you need to bind to another address\n"
     ]
    },
    {
     "name": "stderr",
     "output_type": "stream",
     "text": [
      "Setting default log level to \"WARN\".\n",
      "To adjust logging level use sc.setLogLevel(newLevel). For SparkR, use setLogLevel(newLevel).\n"
     ]
    },
    {
     "name": "stdout",
     "output_type": "stream",
     "text": [
      "23/05/03 19:03:44 WARN NativeCodeLoader: Unable to load native-hadoop library for your platform... using builtin-java classes where applicable\n",
      "<pyspark.sql.session.SparkSession object at 0x7fc681fcd1c0>\n",
      "<SparkContext master=local[4] appName=PySpark RDD>\n"
     ]
    }
   ],
   "source": [
    "import findspark\n",
    "findspark.init(\"/Users/xinby/Library/Spark\")\n",
    "from pyspark.sql import SparkSession\n",
    "# 本地模式\n",
    "spark = SparkSession.builder.\\\n",
    "    master(\"local[4]\").\\\n",
    "    appName(\"PySpark RDD\").\\\n",
    "    getOrCreate()\n",
    "sc = spark.sparkContext\n",
    "sc.setLogLevel(\"ERROR\")\n",
    "print(spark)\n",
    "print(sc)"
   ]
  },
  {
   "cell_type": "code",
   "execution_count": 3,
   "metadata": {},
   "outputs": [
    {
     "name": "stderr",
     "output_type": "stream",
     "text": [
      "                                                                                \r"
     ]
    },
    {
     "data": {
      "text/plain": [
       "4"
      ]
     },
     "execution_count": 3,
     "metadata": {},
     "output_type": "execute_result"
    }
   ],
   "source": [
    "# load softplus\n",
    "test = False\n",
    "def softplus(x):\n",
    "    # 此处插入代码\n",
    "    if (test): \n",
    "        print(f\"call func: softplus\")\n",
    "\n",
    "    ans = np.where(x>=0,np.log(1+np.exp(-x))+x,np.log(1+np.exp(x)))\n",
    "    \n",
    "    if (test): \n",
    "        print(f\"return.shape:{ans.shape}\")\n",
    "        print(f\"end func: softplus \\n\")\n",
    "        \n",
    "    return ans\n",
    "\n",
    "# load data to rdd\n",
    "def string_to_vector(line):\n",
    "    vector = line.split(\"\\t\")\n",
    "    return np.array(vector, dtype=float)\n",
    "\n",
    "def partition_to_matrix (iterator):\n",
    "    iterator_vec = map(string_to_vector, iterator)\n",
    "    data = list(iterator_vec)\n",
    "    if len(data) < 1:\n",
    "        matrix = np.array([])\n",
    "    else:\n",
    "        matrix = np.vstack(data)\n",
    "    yield matrix\n",
    "\n",
    "file = sc.textFile(\"logistic_data.txt\")\n",
    "\n",
    "data_partition = file.mapPartitions(partition_to_matrix)\n",
    "data_partition_nonempty = data_partition.filter(lambda x: x.shape[0] > 0)\n",
    "data_partition_nonempty.cache()\n",
    "data_partition_nonempty.count()\n"
   ]
  },
  {
   "cell_type": "code",
   "execution_count": 15,
   "metadata": {},
   "outputs": [],
   "source": [
    "def compute_stats(part_mat, beta_old):\n",
    "    # 提取 X 和 y\n",
    "    y = part_mat[:, 0]\n",
    "    x = part_mat[:,1:]\n",
    "\n",
    "    # X * beta\n",
    "    xb = x.dot(beta_old)\n",
    "\n",
    "    # rho(X * beta)\n",
    "    prob = expit(xb)\n",
    "\n",
    "    # W 的对角线元素\n",
    "    w = prob * (1.0 - prob) + 1e-6\n",
    "\n",
    "    # X'W，数组广播操作，避免生成完整的 W\n",
    "    xtw = x.transpose() * w\n",
    "\n",
    "    # X'WX\n",
    "    xtwx = xtw.dot(x)\n",
    "\n",
    "    # X'Wz\n",
    "    z = xb + (y - prob) / w\n",
    "\n",
    "    xtwz = xtw.dot(z)\n",
    "\n",
    "    # 目标函数：sum(y * log(prob) + (1 - y) * log(1 - prob))\n",
    "    objfn = -np.sum(y * np.log(prob + 1e-8) + (1.0 - y) * np.log(1.0 - prob + 1e-8))\n",
    "    return xtwx, xtwz, objfn"
   ]
  },
  {
   "cell_type": "code",
   "execution_count": 16,
   "metadata": {},
   "outputs": [
    {
     "name": "stdout",
     "output_type": "stream",
     "text": [
      "Iteration 0, objfn = 69314.71605599453, resid = 1.569852188525537\n",
      "Iteration 5, objfn = 12424.603668247559, resid = 1.3106763115298585\n",
      "Iteration 9, objfn = 12248.19519231431, resid = 6.056474674176223e-08\n"
     ]
    }
   ],
   "source": [
    "\n",
    "\n",
    "# iter computation\n",
    "\n",
    "p = data_partition_nonempty.first().shape[1]-1 #subtract y\n",
    "beta_hat = np.zeros(p)#initialization\n",
    "object_values = [] #init\n",
    "\n",
    "MaxIteration = 100 #iter settings\n",
    "epsilon = 1e-6 #iter settings\n",
    "\n",
    "for i in range(MaxIteration):\n",
    "    if (test):\n",
    "        print(f\"start iter:{i}\")\n",
    "    # 完整数据的 X'WX 和 X'Wz 是各分区的加和\n",
    "    xtwx, xtwz, objfn = data_partition_nonempty.\\\n",
    "        map(lambda part: compute_stats(part, beta_hat)).\\\n",
    "        reduce(lambda x, y: (x[0] + y[0], x[1] + y[1], x[2] + y[2]))\n",
    "    # 计算新 beta\n",
    "    beta_new = np.linalg.solve(xtwx, xtwz)\n",
    "    if (test):\n",
    "        print(f\"bn{beta_new.shape}\")\n",
    "    # 计算 beta 的变化\n",
    "    resid = np.linalg.norm(beta_new - beta_hat)\n",
    "    if (np.mod(i,5)==0 or i==MaxIteration-1):\n",
    "        print(f\"Iteration {i}, objfn = {objfn}, resid = {resid}\")\n",
    "    object_values.append(objfn)\n",
    "    # 如果 beta 几乎不再变化，退出循环\n",
    "    if resid < epsilon:\n",
    "        print(f\"Iteration {i}, objfn = {objfn}, resid = {resid}\")\n",
    "        break\n",
    "    # 更新 beta\n",
    "    beta_hat = beta_new\n"
   ]
  },
  {
   "cell_type": "code",
   "execution_count": 18,
   "metadata": {},
   "outputs": [
    {
     "name": "stdout",
     "output_type": "stream",
     "text": [
      "[-0.52097596 -0.59176196 -1.10420803  1.1546564   0.67280846  0.63931464\n",
      " -1.68220071  0.86041452 -0.69834251  1.22446393 -0.21062583 -0.60143279\n",
      "  0.44213217  1.57506739  0.93504494  0.34283382 -0.63115954 -0.16737269\n",
      "  1.03564847  0.9885046  -0.21736314  0.26608044 -1.9546613   0.93399147\n",
      " -0.44097986 -1.32382408 -1.06955406 -0.93365571 -0.47879284 -0.40975603\n",
      "  0.13045673  0.72407648  0.43211279  0.78064486  0.12355277 -0.20116152\n",
      "  1.34425232 -0.8467126  -1.57109621 -0.02174217  0.04202859  0.01757209\n",
      " -0.33735364 -1.74371023 -1.32742343 -1.60007017 -1.28377679  0.93921256\n",
      "  0.93254572 -0.84857908 -1.08700601 -0.65543369 -1.52634259 -1.46037052\n",
      " -1.41541159  0.06736292 -2.06484347  0.25380448 -1.44377969 -0.45925857\n",
      " -1.12439824  1.24274755  0.72115264  0.46168381 -0.20588244  1.19789065\n",
      " -0.17370143  0.42621562  0.49622293 -0.29831759 -0.93076696 -2.52159476\n",
      "  1.21260763 -0.40380623  0.41771335  0.75208194  1.5969521  -0.36537673\n",
      "  0.40531527 -1.43161884 -0.46412512 -0.29281007 -1.65346949  1.14670833\n",
      "  0.43075961  0.22169932 -0.58293427  1.16006918 -2.22283069 -0.48986113\n",
      " -1.09011805  1.60996124 -1.30410678 -0.04627443  2.22581121  1.44926055\n",
      "  0.53314052 -0.7187001   0.47181894  2.1395752   1.64523326]\n",
      "[3.06776910e-01 9.99986899e-01 5.95343851e-06 ... 1.00000000e+00\n",
      " 6.61631915e-01 9.99954945e-01]\n"
     ]
    }
   ],
   "source": [
    "x = dat[:,1:]\n",
    "print(beta_hat)\n",
    "xbetahat = x.dot(beta_hat)\n",
    "probhat = expit(xbetahat)\n",
    "print(probhat)"
   ]
  }
 ],
 "metadata": {
  "kernelspec": {
   "display_name": "base",
   "language": "python",
   "name": "python3"
  },
  "language_info": {
   "codemirror_mode": {
    "name": "ipython",
    "version": 3
   },
   "file_extension": ".py",
   "mimetype": "text/x-python",
   "name": "python",
   "nbconvert_exporter": "python",
   "pygments_lexer": "ipython3",
   "version": "3.9.12"
  },
  "orig_nbformat": 4
 },
 "nbformat": 4,
 "nbformat_minor": 2
}
