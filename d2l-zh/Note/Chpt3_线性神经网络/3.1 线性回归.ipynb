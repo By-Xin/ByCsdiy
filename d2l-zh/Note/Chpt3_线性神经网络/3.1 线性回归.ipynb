{
 "cells": [
  {
   "cell_type": "markdown",
   "metadata": {},
   "source": [
    "# 1. 线性模型基本理论"
   ]
  },
  {
   "cell_type": "markdown",
   "metadata": {},
   "source": [
    "假设 $\\bold X\\in\\mathbb{R}^{n\\times d}$,$\\bold y\\in\\mathbb{R}^{n}$，则整理后的模型为：\n",
    "$$ \\bold {\\hat y} = \\bold X\\bold{w}+b$$"
   ]
  },
  {
   "cell_type": "markdown",
   "metadata": {},
   "source": []
  },
  {
   "cell_type": "markdown",
   "metadata": {},
   "source": []
  }
 ],
 "metadata": {
  "language_info": {
   "name": "python"
  },
  "orig_nbformat": 4
 },
 "nbformat": 4,
 "nbformat_minor": 2
}
