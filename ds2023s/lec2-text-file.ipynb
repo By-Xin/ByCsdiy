{
 "cells": [
  {
   "cell_type": "markdown",
   "id": "4c34a516",
   "metadata": {},
   "source": [
    "配置和启动 PySpark："
   ]
  },
  {
   "cell_type": "code",
   "execution_count": null,
   "id": "dce079f4",
   "metadata": {},
   "outputs": [],
   "source": [
    "import findspark\n",
    "findspark.init()\n",
    "\n",
    "from pyspark.sql import SparkSession\n",
    "# 本地模式\n",
    "spark = SparkSession.builder.master(\"local[*]\").appName(\"Reading Text\").getOrCreate()\n",
    "sc = spark.sparkContext\n",
    "# sc.setLogLevel(\"ERROR\")\n",
    "print(spark)\n",
    "print(sc)"
   ]
  },
  {
   "cell_type": "markdown",
   "id": "6ad94d0c",
   "metadata": {},
   "source": [
    "查看环境变量："
   ]
  },
  {
   "cell_type": "code",
   "execution_count": null,
   "id": "f05973e9",
   "metadata": {},
   "outputs": [],
   "source": [
    "import os\n",
    "\n",
    "print(os.getenv(\"HADOOP_HOME\"))\n",
    "print(os.getenv(\"SPARK_HOME\"))\n",
    "\n",
    "!pyspark --version"
   ]
  },
  {
   "cell_type": "markdown",
   "id": "f546b69b",
   "metadata": {},
   "source": [
    "利用 PySpark 读取文本文件。注意此时只是创建了一个对文件的描述，文件内容并没有加载到内存中。"
   ]
  },
  {
   "cell_type": "code",
   "execution_count": null,
   "id": "f3267826",
   "metadata": {},
   "outputs": [],
   "source": [
    "file = sc.textFile(\"data/UNv1.0.en-zh.zh\")"
   ]
  },
  {
   "cell_type": "markdown",
   "id": "d0138bf0",
   "metadata": {},
   "source": [
    "查看文件的行数："
   ]
  },
  {
   "cell_type": "code",
   "execution_count": null,
   "id": "300572d6",
   "metadata": {},
   "outputs": [],
   "source": [
    "print(file.count())"
   ]
  },
  {
   "cell_type": "markdown",
   "id": "60989a51",
   "metadata": {},
   "source": [
    "查看前5行："
   ]
  },
  {
   "cell_type": "code",
   "execution_count": null,
   "id": "fc141ce2",
   "metadata": {
    "scrolled": true
   },
   "outputs": [],
   "source": [
    "text1 = file.take(5)\n",
    "print(*enumerate(text1), sep=\"\\n\")"
   ]
  },
  {
   "cell_type": "markdown",
   "id": "a5b96235",
   "metadata": {},
   "source": [
    "查看随机抽取的10行（可能会比较慢！访问 http://localhost:4040 查看进度）："
   ]
  },
  {
   "cell_type": "code",
   "execution_count": null,
   "id": "4bc4f968",
   "metadata": {},
   "outputs": [],
   "source": [
    "text2 = file.takeSample(withReplacement=False, num=10, seed=123)\n",
    "print(*enumerate(text2), sep=\"\\n\")"
   ]
  },
  {
   "cell_type": "markdown",
   "id": "5e40965f",
   "metadata": {},
   "source": [
    "利用 Filter 操作筛选符合条件的行："
   ]
  },
  {
   "cell_type": "code",
   "execution_count": null,
   "id": "993272a0",
   "metadata": {},
   "outputs": [],
   "source": [
    "# 所有包含“乌克兰”的行\n",
    "ukraine = file.filter(lambda x: x.__contains__(\"乌克兰\"))"
   ]
  },
  {
   "cell_type": "markdown",
   "id": "9d683323",
   "metadata": {},
   "source": [
    "注意，运行上述语句并不会直接进行计算，而只是把要进行的操作保存了下来。只有当真正需要获取结果时计算才会发生，比如下面获取前5行的操作："
   ]
  },
  {
   "cell_type": "code",
   "execution_count": null,
   "id": "417be1ed",
   "metadata": {},
   "outputs": [],
   "source": [
    "text3 = ukraine.take(5)\n",
    "print(*enumerate(text3), sep=\"\\n\")"
   ]
  },
  {
   "cell_type": "markdown",
   "id": "d20359c4",
   "metadata": {},
   "source": [
    "Filter 操作的参数是一个函数，该函数输入一个字符串，输出 `True` 或 `False` 的取值。上面该函数通过 lambda 表达式实现，也可以使用定义好的函数："
   ]
  },
  {
   "cell_type": "code",
   "execution_count": null,
   "id": "9adc1475",
   "metadata": {},
   "outputs": [],
   "source": [
    "def my_filter(x):\n",
    "    return x.__contains__(\"乌克兰\") and x.__contains__(\"俄罗斯\")\n",
    "\n",
    "ukraine2 = file.filter(my_filter)\n",
    "text4 = ukraine2.take(5)\n",
    "print(*enumerate(text4), sep=\"\\n\")"
   ]
  },
  {
   "cell_type": "markdown",
   "id": "a9c172fc",
   "metadata": {},
   "source": [
    "Map 操作可以对数据的每一行进行变换，例如将字符串分割成若干字串的列表："
   ]
  },
  {
   "cell_type": "code",
   "execution_count": null,
   "id": "b725d6c0",
   "metadata": {},
   "outputs": [],
   "source": [
    "split = file.map(lambda x: x.split(\"，\"))\n",
    "text5 = split.take(5)\n",
    "print(*enumerate(text5), sep=\"\\n\")"
   ]
  },
  {
   "cell_type": "markdown",
   "id": "0afb7064",
   "metadata": {},
   "source": [
    "Flat map 可以把上述列表展开："
   ]
  },
  {
   "cell_type": "code",
   "execution_count": null,
   "id": "1d5f286d",
   "metadata": {},
   "outputs": [],
   "source": [
    "split2 = file.flatMap(lambda x: x.split(\"，\"))\n",
    "text6 = split2.take(10)\n",
    "print(*enumerate(text6), sep=\"\\n\")"
   ]
  },
  {
   "cell_type": "markdown",
   "id": "3794bc52",
   "metadata": {},
   "source": [
    "关闭 Spark："
   ]
  },
  {
   "cell_type": "code",
   "execution_count": null,
   "id": "11dddac6",
   "metadata": {},
   "outputs": [],
   "source": [
    "sc.stop()"
   ]
  }
 ],
 "metadata": {
  "kernelspec": {
   "display_name": "Python 3 (ipykernel)",
   "language": "python",
   "name": "python3"
  },
  "language_info": {
   "codemirror_mode": {
    "name": "ipython",
    "version": 3
   },
   "file_extension": ".py",
   "mimetype": "text/x-python",
   "name": "python",
   "nbconvert_exporter": "python",
   "pygments_lexer": "ipython3",
   "version": "3.10.9"
  }
 },
 "nbformat": 4,
 "nbformat_minor": 5
}
