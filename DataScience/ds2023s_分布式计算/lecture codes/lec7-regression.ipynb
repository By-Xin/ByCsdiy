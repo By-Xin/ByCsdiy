{
 "cells": [
  {
   "attachments": {},
   "cell_type": "markdown",
   "id": "294f54c3",
   "metadata": {},
   "source": [
    "# 分布式回归模型"
   ]
  },
  {
   "attachments": {},
   "cell_type": "markdown",
   "id": "dd303e5e",
   "metadata": {},
   "source": [
    "### 1. 准备工作"
   ]
  },
  {
   "attachments": {},
   "cell_type": "markdown",
   "id": "4330a894",
   "metadata": {},
   "source": [
    "配置和启动 PySpark："
   ]
  },
  {
   "cell_type": "code",
   "execution_count": 3,
   "id": "54d9bba0",
   "metadata": {},
   "outputs": [
    {
     "name": "stdout",
     "output_type": "stream",
     "text": [
      "<pyspark.sql.session.SparkSession object at 0x7f9098958e20>\n",
      "<SparkContext master=local[*] appName=PySpark RDD>\n"
     ]
    }
   ],
   "source": [
    "import findspark\n",
    "findspark.init(\"/Users/xinby/Library/Spark\")\n",
    "\n",
    "from pyspark.sql import SparkSession\n",
    "# 本地模式\n",
    "spark = SparkSession.builder.\\\n",
    "    master(\"local[*]\").\\\n",
    "    appName(\"PySpark RDD\").\\\n",
    "    getOrCreate()\n",
    "sc = spark.sparkContext\n",
    "sc.setLogLevel(\"ERROR\")\n",
    "print(spark)\n",
    "print(sc)"
   ]
  },
  {
   "attachments": {},
   "cell_type": "markdown",
   "id": "b67ee1cd",
   "metadata": {},
   "source": [
    "利用 Numpy 生成模拟数据，并写入文件。首先生成 $n\\gg p$ 的数据："
   ]
  },
  {
   "cell_type": "code",
   "execution_count": 11,
   "id": "cc36a5cc",
   "metadata": {},
   "outputs": [],
   "source": [
    "import os\n",
    "import numpy as np\n",
    "from scipy.special import expit, logit\n",
    "np.set_printoptions(linewidth=100)\n",
    "\n",
    "np.random.seed(123)\n",
    "n = 100000\n",
    "p = 100\n",
    "x1 = np.random.normal(size=(n, p))\n",
    "beta1 = np.random.normal(size=p)\n",
    "y1 = x1.dot(beta1) + np.random.normal(scale=0.1, size=n)\n",
    "dat = np.hstack((y1.reshape(n, 1), x1))\n",
    "np.savetxt(\"data/reg_tall.txt\", dat, fmt=\"%f\", delimiter=\"\\t\")"
   ]
  },
  {
   "attachments": {},
   "cell_type": "markdown",
   "id": "bf186f2e",
   "metadata": {},
   "source": [
    "以及 $n<p$ 的数据："
   ]
  },
  {
   "cell_type": "code",
   "execution_count": 15,
   "id": "c1961580",
   "metadata": {},
   "outputs": [],
   "source": [
    "n = 500\n",
    "p = 5000\n",
    "x2 = np.random.normal(size=(n, p))\n",
    "beta2 = np.random.normal(size=p)\n",
    "beta2[10:] = 0.0\n",
    "y2 = x2.dot(beta2) + np.random.normal(scale=0.1, size=n)\n",
    "dat = np.hstack((y2.reshape(n, 1), x2))\n",
    "if not os.path.exists(\"dat\"):\n",
    "    os.makedirs(\"dat\", exist_ok=True)\n",
    "np.savetxt(\"dat/reg_wide.txt\", dat, fmt=\"%f\", delimiter=\"\\t\")"
   ]
  },
  {
   "attachments": {},
   "cell_type": "markdown",
   "id": "8b44965a",
   "metadata": {},
   "source": [
    "PySpark 读取文件并进行一些简单操作："
   ]
  },
  {
   "cell_type": "code",
   "execution_count": 16,
   "id": "4dfebd79",
   "metadata": {
    "scrolled": true
   },
   "outputs": [
    {
     "name": "stderr",
     "output_type": "stream",
     "text": [
      "                                                                                \r"
     ]
    },
    {
     "name": "stdout",
     "output_type": "stream",
     "text": [
      "100000\n",
      "\n",
      "-0.492572\t-1.085631\t0.997345\t0.282978\t-1.506295\t-0.578600\t1.651437\t-2....\n",
      "11.643889\t0.642055\t-1.977888\t0.712265\t2.598304\t-0.024626\t0.034142\t0.17...\n",
      "-11.441109\t0.703310\t-0.598105\t2.200702\t0.688297\t-0.006307\t-0.206662\t-0...\n",
      "0.618083\t0.765055\t-0.828989\t-0.659151\t0.611124\t-0.144013\t1.316606\t-0.7...\n",
      "-8.438569\t1.534090\t-0.529914\t-0.490972\t-1.309165\t-0.008660\t0.976813\t-1...\n"
     ]
    }
   ],
   "source": [
    "file1 = sc.textFile(\"data/reg_tall.txt\")\n",
    "\n",
    "# 打印矩阵行数\n",
    "print(file1.count())\n",
    "\n",
    "# 空行\n",
    "print()\n",
    "\n",
    "# 打印前5行，并将每行字符串截尾\n",
    "text = file1.map(lambda x: x[:70] + \"...\").take(5)\n",
    "print(*text, sep=\"\\n\")"
   ]
  },
  {
   "cell_type": "code",
   "execution_count": 19,
   "id": "25c8a5f9",
   "metadata": {
    "scrolled": true
   },
   "outputs": [
    {
     "name": "stdout",
     "output_type": "stream",
     "text": [
      "500\n",
      "\n",
      "-5.682478\t-0.942972\t1.101249\t0.462247\t1.822374\t1.970292\t0.360064\t1.532...\n",
      "-2.807761\t0.078059\t0.428170\t2.697175\t0.283865\t-0.731593\t-0.401084\t-0.8...\n",
      "4.174590\t0.357621\t-0.013570\t-2.141000\t-1.364680\t-2.109942\t0.467017\t0.6...\n",
      "-1.325983\t-3.099652\t1.617915\t-0.085332\t-0.024646\t0.780907\t-0.597756\t0....\n",
      "-2.205896\t-1.147221\t0.303183\t1.318105\t0.848772\t-1.042922\t0.058829\t0.07...\n"
     ]
    }
   ],
   "source": [
    "file2 = sc.textFile(\"dat/reg_wide.txt\")\n",
    "\n",
    "# 打印矩阵行数\n",
    "print(file2.count())\n",
    "\n",
    "# 空行\n",
    "print()\n",
    "\n",
    "# 打印前5行，并将每行字符串截尾\n",
    "text = file2.map(lambda x: x[:70] + \"...\").take(5)\n",
    "print(*text, sep=\"\\n\")"
   ]
  },
  {
   "attachments": {},
   "cell_type": "markdown",
   "id": "96ca1b07",
   "metadata": {},
   "source": [
    "### 2. $n\\gg p$"
   ]
  },
  {
   "attachments": {},
   "cell_type": "markdown",
   "id": "cc4a0ff4",
   "metadata": {},
   "source": [
    "回归系数估计值的显式解为 $\\hat{\\beta}=(X'X)^{-1}X'y$。当 $n\\gg p$ 且 $p$ 不太大时，$X'X$ 为 $p\\times p$ 矩阵，$X'y$ 为 $p\\times 1$ 向量，均可放入内存。因此，此时问题的核心在于计算 $X'X$ 与 $X'y$。\n",
    "\n",
    "- 要始终保证$X,y$在同一个RDD中\n",
    "- 将$X,y$作为一个整体进行RDD partition"
   ]
  },
  {
   "attachments": {},
   "cell_type": "markdown",
   "id": "414e77bd",
   "metadata": {},
   "source": [
    "首先进行分区映射："
   ]
  },
  {
   "cell_type": "code",
   "execution_count": 7,
   "id": "b3e21ee5",
   "metadata": {},
   "outputs": [
    {
     "name": "stdout",
     "output_type": "stream",
     "text": [
      "10\n"
     ]
    }
   ],
   "source": [
    "file_p10 = file1.repartition(10)\n",
    "print(file_p10.getNumPartitions())"
   ]
  },
  {
   "cell_type": "code",
   "execution_count": 8,
   "id": "3d75ea38",
   "metadata": {},
   "outputs": [],
   "source": [
    "# str => np.array\n",
    "def str_to_vec(line):\n",
    "    # 分割字符串\n",
    "    str_vec = line.split(\"\\t\")\n",
    "    # 将每一个元素从字符串变成数值型\n",
    "    num_vec = map(lambda s: float(s), str_vec)\n",
    "    # 创建 Numpy 向量\n",
    "    return np.fromiter(num_vec, dtype=float)\n",
    "\n",
    "# Iter[str] => Iter[matrix]\n",
    "def part_to_mat(iterator):\n",
    "    # Iter[str] => Iter[np.array]\n",
    "    iter_arr = map(str_to_vec, iterator)\n",
    "\n",
    "    # Iter[np.array] => list(np.array)\n",
    "    dat = list(iter_arr)\n",
    "\n",
    "    # list(np.array) => matrix\n",
    "    if len(dat) < 1:  # Test zero iterator\n",
    "        mat = np.array([])\n",
    "    else:\n",
    "        mat = np.vstack(dat)\n",
    "\n",
    "    # matrix => Iter[matrix]\n",
    "    yield mat"
   ]
  },
  {
   "cell_type": "code",
   "execution_count": 9,
   "id": "d437358b",
   "metadata": {},
   "outputs": [
    {
     "name": "stderr",
     "output_type": "stream",
     "text": [
      "[Stage 5:==============================================>           (8 + 2) / 10]\r"
     ]
    },
    {
     "name": "stdout",
     "output_type": "stream",
     "text": [
      "10\n"
     ]
    },
    {
     "name": "stderr",
     "output_type": "stream",
     "text": [
      "                                                                                \r"
     ]
    }
   ],
   "source": [
    "dat = file_p10.mapPartitions(part_to_mat).filter(lambda x: x.shape[0] > 0)\n",
    "print(dat.count())"
   ]
  },
  {
   "cell_type": "code",
   "execution_count": 10,
   "id": "eb2cd1b8",
   "metadata": {},
   "outputs": [
    {
     "data": {
      "text/plain": [
       "array([[13.881828,  1.131538, -0.32151 , ...,  1.456532,  1.046854, -0.409166],\n",
       "       [12.336276,  1.966215,  0.938504, ..., -0.456539, -0.139554, -0.692508],\n",
       "       [-1.703982, -0.501628,  0.047969, ..., -0.496291, -0.645332, -1.267813],\n",
       "       ...,\n",
       "       [23.281892,  0.14101 ,  0.80979 , ...,  0.987011,  2.248003, -0.740502],\n",
       "       [ 0.931458,  0.837843, -0.610115, ...,  0.087622, -0.270009, -1.254825],\n",
       "       [10.651135,  0.346765, -0.522064, ..., -0.528144,  0.084826,  0.922815]])"
      ]
     },
     "execution_count": 10,
     "metadata": {},
     "output_type": "execute_result"
    }
   ],
   "source": [
    "dat.first()"
   ]
  },
  {
   "attachments": {},
   "cell_type": "markdown",
   "id": "d05681c4",
   "metadata": {},
   "source": [
    "注意此时每个分区上的数据同时包含了因变量(y在第一列)和自变量，在使用自变量时，要将第一列排除。计算 $X'X$："
   ]
  },
  {
   "cell_type": "code",
   "execution_count": 11,
   "id": "c5bee37a",
   "metadata": {
    "scrolled": false
   },
   "outputs": [
    {
     "name": "stderr",
     "output_type": "stream",
     "text": [
      "                                                                                \r"
     ]
    },
    {
     "data": {
      "text/plain": [
       "array([[ 9.92814274e+04,  5.64799792e+02,  4.68363424e+01, ...,  1.31821863e+02, -1.81293885e+01,\n",
       "         2.77125486e+02],\n",
       "       [ 5.64799792e+02,  1.00090223e+05,  4.34513678e+02, ...,  3.22355415e+02,  1.98867239e+02,\n",
       "         9.69607877e+01],\n",
       "       [ 4.68363424e+01,  4.34513678e+02,  9.92600734e+04, ..., -2.01876920e+02, -6.97509673e+02,\n",
       "         2.97558656e+02],\n",
       "       ...,\n",
       "       [ 1.31821863e+02,  3.22355415e+02, -2.01876920e+02, ...,  9.98741108e+04,  6.09301190e+01,\n",
       "         1.44257513e+02],\n",
       "       [-1.81293885e+01,  1.98867239e+02, -6.97509673e+02, ...,  6.09301190e+01,  9.99329830e+04,\n",
       "        -2.53690380e+02],\n",
       "       [ 2.77125486e+02,  9.69607877e+01,  2.97558656e+02, ...,  1.44257513e+02, -2.53690380e+02,\n",
       "         9.95605285e+04]])"
      ]
     },
     "execution_count": 11,
     "metadata": {},
     "output_type": "execute_result"
    }
   ],
   "source": [
    "xtx = dat.map(lambda part: part[:, 1:].T.dot(part[:, 1:])).reduce(lambda x, y: x + y)\n",
    "xtx"
   ]
  },
  {
   "attachments": {},
   "cell_type": "markdown",
   "id": "fc090087",
   "metadata": {},
   "source": [
    "计算 $X'y$："
   ]
  },
  {
   "cell_type": "code",
   "execution_count": 12,
   "id": "55a52b11",
   "metadata": {},
   "outputs": [
    {
     "name": "stderr",
     "output_type": "stream",
     "text": [
      "                                                                                \r"
     ]
    },
    {
     "data": {
      "text/plain": [
       "array([-5.72523147e+04, -1.13445442e+05,  1.14296626e+05,  6.70903227e+04,  6.40148536e+04,\n",
       "       -1.73288654e+05,  9.65899313e+04, -7.04664986e+04,  1.17713274e+05, -1.24568031e+04,\n",
       "       -5.50355360e+04,  4.50494339e+04,  1.53412736e+05,  9.03011121e+04,  3.68938036e+04,\n",
       "       -6.74204369e+04, -1.38999203e+04,  1.03492109e+05,  1.00816430e+05, -2.49288673e+04,\n",
       "        2.76828665e+04, -1.96876397e+05,  9.23669947e+04, -4.36091041e+04, -1.29989914e+05,\n",
       "       -1.15080876e+05, -9.68461454e+04, -4.38833665e+04, -3.92874942e+04,  7.50460497e+03,\n",
       "        6.75428356e+04,  4.49467215e+04,  7.90760279e+04,  1.28488448e+04, -1.64995344e+04,\n",
       "        1.29426796e+05, -8.84459583e+04, -1.54233257e+05,  1.23672995e+03,  5.52665865e+03,\n",
       "        1.74929996e+02, -3.51956381e+04, -1.75937385e+05, -1.33574238e+05, -1.57921700e+05,\n",
       "       -1.29883192e+05,  9.35018217e+04,  8.71584103e+04, -9.00909788e+04, -1.11506523e+05,\n",
       "       -6.16019121e+04, -1.57272495e+05, -1.46453819e+05, -1.40527176e+05,  3.13423142e+03,\n",
       "       -2.07800766e+05,  2.40037936e+04, -1.48363420e+05, -5.08521863e+04, -1.10487813e+05,\n",
       "        1.22702672e+05,  7.44173493e+04,  4.46138502e+04, -2.19904994e+04,  1.15480726e+05,\n",
       "       -2.01607743e+04,  4.16933522e+04,  4.46330339e+04, -2.74800656e+04, -9.79389613e+04,\n",
       "       -2.56165130e+05,  1.21395300e+05, -3.64900799e+04,  3.66243597e+04,  7.79829668e+04,\n",
       "        1.61882828e+05, -3.76537010e+04,  4.32999240e+04, -1.41029327e+05, -5.01770196e+04,\n",
       "       -2.66142200e+04, -1.66461170e+05,  1.08742185e+05,  4.59950832e+04,  2.59650598e+04,\n",
       "       -6.16208528e+04,  1.23485967e+05, -2.24770490e+05, -5.02194921e+04, -1.13329872e+05,\n",
       "        1.64669710e+05, -1.33654314e+05, -6.66513826e+03,  2.19806224e+05,  1.43449021e+05,\n",
       "        5.11936828e+04, -7.39006443e+04,  4.10914977e+04,  2.12544303e+05,  1.74770852e+05])"
      ]
     },
     "execution_count": 12,
     "metadata": {},
     "output_type": "execute_result"
    }
   ],
   "source": [
    "xty = dat.map(lambda part: part[:, 1:].transpose().dot(part[:, 0])).reduce(lambda x, y: x + y)\n",
    "xty"
   ]
  },
  {
   "attachments": {},
   "cell_type": "markdown",
   "id": "859102a7",
   "metadata": {},
   "source": [
    "**Note: 这两步的操作xtx,xty导致数据读取了两遍，造成了大量的通信成本，因此两步操作可以合并，就是直接以这个matrix进行操作**\n",
    "\n",
    "**请实现！！！！！！！**"
   ]
  },
  {
   "attachments": {},
   "cell_type": "markdown",
   "id": "ba3b5c59",
   "metadata": {},
   "source": [
    "此时剩下的操作即为求解线性方程组。由于 $p$ 较小，故可以在内存中完成："
   ]
  },
  {
   "cell_type": "code",
   "execution_count": 13,
   "id": "d79fb3d7",
   "metadata": {},
   "outputs": [
    {
     "data": {
      "text/plain": [
       "array([-0.58422145, -1.11605591,  1.1559347 ,  0.68617539,  0.64534766, -1.70930592,  0.87296172,\n",
       "       -0.69022365,  1.21031103, -0.18000063, -0.59629703,  0.45240243,  1.55780574,  0.93400416,\n",
       "        0.33550102, -0.62756266, -0.16682495,  1.03999291,  0.99266921, -0.2220117 ,  0.26884866,\n",
       "       -1.9555697 ,  0.93141768, -0.46989397, -1.3011378 , -1.08472   , -0.92674644, -0.46976713,\n",
       "       -0.41262747,  0.09672668,  0.73804542,  0.43592289,  0.78154368,  0.09788819, -0.20673303,\n",
       "        1.35677125, -0.84339913, -1.57384018, -0.02816233,  0.04550477, -0.00426462, -0.32000893,\n",
       "       -1.73697639, -1.35751444, -1.61142709, -1.29011551,  0.92229365,  0.92287512, -0.87182444,\n",
       "       -1.11120148, -0.64178182, -1.54097709, -1.47574519, -1.40014092,  0.05651123, -2.06681374,\n",
       "        0.2406474 , -1.45930317, -0.4989418 , -1.08579381,  1.22881498,  0.71939479,  0.4744752 ,\n",
       "       -0.21579098,  1.19156816, -0.18989885,  0.42140091,  0.48960889, -0.28646643, -0.92767184,\n",
       "       -2.54505269,  1.21356683, -0.40318342,  0.40934314,  0.74640857,  1.5946434 , -0.36000768,\n",
       "        0.41415481, -1.43610921, -0.47440119, -0.27697483, -1.66229639,  1.15769734,  0.4276756 ,\n",
       "        0.22067074, -0.59538449,  1.16621113, -2.23499308, -0.4978505 , -1.1065741 ,  1.6025852 ,\n",
       "       -1.32116701, -0.05669346,  2.21519396,  1.46738066,  0.54739973, -0.73702624,  0.44785602,\n",
       "        2.14201589,  1.67501715])"
      ]
     },
     "execution_count": 13,
     "metadata": {},
     "output_type": "execute_result"
    }
   ],
   "source": [
    "bhat = np.linalg.solve(xtx, xty)\n",
    "bhat"
   ]
  },
  {
   "attachments": {},
   "cell_type": "markdown",
   "id": "5f1a932a",
   "metadata": {},
   "source": [
    "与真值进行对比："
   ]
  },
  {
   "cell_type": "code",
   "execution_count": 20,
   "id": "7ddd4a9a",
   "metadata": {
    "scrolled": true
   },
   "outputs": [
    {
     "data": {
      "text/plain": [
       "array([-0.58441387, -1.11534971,  1.15570434,  0.68635474,  0.64559564, -1.70989894,  0.87296263,\n",
       "       -0.69061605,  1.21015702, -0.17972039, -0.59593691,  0.45252029,  1.55835773,  0.93393225,\n",
       "        0.33544231, -0.62751865, -0.16601382,  1.03999001,  0.99253053, -0.22189606,  0.26883567,\n",
       "       -1.95555529,  0.93138627, -0.47006585, -1.30103516, -1.0852571 , -0.92710125, -0.46948194,\n",
       "       -0.41250335,  0.09711287,  0.73781056,  0.43563306,  0.78146188,  0.09794209, -0.20673932,\n",
       "        1.3563857 , -0.84334031, -1.57440936, -0.02785942,  0.04491426, -0.00378645, -0.32005209,\n",
       "       -1.73699327, -1.35755085, -1.61153494, -1.29018054,  0.92198227,  0.92329806, -0.87182087,\n",
       "       -1.11109253, -0.64117813, -1.54063266, -1.47551246, -1.40012474,  0.05626203, -2.06673395,\n",
       "        0.24069911, -1.45962908, -0.49910593, -1.08548   ,  1.22895895,  0.71943325,  0.47494861,\n",
       "       -0.21579343,  1.19116701, -0.19017216,  0.4216233 ,  0.48972018, -0.2864368 , -0.92757763,\n",
       "       -2.54487881,  1.2137159 , -0.40262445,  0.40946857,  0.74671794,  1.59476786, -0.36007466,\n",
       "        0.41427829, -1.43588821, -0.47424149, -0.27699872, -1.66246218,  1.15732258,  0.42792354,\n",
       "        0.22067973, -0.59542409,  1.16612341, -2.23575698, -0.49771051, -1.10650178,  1.60199211,\n",
       "       -1.32128632, -0.05640532,  2.21514038,  1.46662192,  0.54730866, -0.7372505 ,  0.44819396,\n",
       "        2.14210279,  1.67452645])"
      ]
     },
     "execution_count": 20,
     "metadata": {},
     "output_type": "execute_result"
    }
   ],
   "source": [
    "beta1"
   ]
  },
  {
   "attachments": {},
   "cell_type": "markdown",
   "id": "b6425f18",
   "metadata": {},
   "source": [
    "**思考题**：实际计算回归时，我们一般会加入截距项。此时应该如何修改程序，使其可以输出包含截距项的回归系数？\n",
    "\n",
    "$$X^* = [1,X]$$\n"
   ]
  },
  {
   "attachments": {},
   "cell_type": "markdown",
   "id": "6ec97846",
   "metadata": {},
   "source": [
    "### 3. $n<p$ 岭回归\n",
    "\n",
    "- 当 $n<p$ 时，$X'X$ 不可逆，此时最小二乘**没有唯一解** （事实上是有无数组解使得$\\min S_c=0$，即可以完美拟合）【并不是说不存在解！！】\n",
    "- 此时的OLS并不影响预测性，但是并不影响解释性"
   ]
  },
  {
   "attachments": {},
   "cell_type": "markdown",
   "id": "baebff38",
   "metadata": {},
   "source": [
    "首先获取维度信息："
   ]
  },
  {
   "cell_type": "code",
   "execution_count": null,
   "id": "e15ce494",
   "metadata": {},
   "outputs": [],
   "source": [
    "n = file2.count()\n",
    "n"
   ]
  },
  {
   "cell_type": "code",
   "execution_count": null,
   "id": "6935bf9a",
   "metadata": {},
   "outputs": [],
   "source": [
    "p = str_to_vec(file2.first()).shape[0] - 1\n",
    "p"
   ]
  },
  {
   "attachments": {},
   "cell_type": "markdown",
   "id": "7bb5581d",
   "metadata": {},
   "source": [
    "然后创建分区 RDD："
   ]
  },
  {
   "cell_type": "code",
   "execution_count": null,
   "id": "174c3ce5",
   "metadata": {},
   "outputs": [],
   "source": [
    "dat = file2.repartition(10).mapPartitions(part_to_mat).filter(lambda x: x.shape[0] > 0)\n",
    "print(dat.count())"
   ]
  },
  {
   "attachments": {},
   "cell_type": "markdown",
   "id": "a51b05d0",
   "metadata": {},
   "source": [
    "当 $n<p$ 时，$X'X$ 不再可逆，因此最小二乘估计没有唯一解。此时我们可以采用岭回归的方法，其在最小二乘损失函数的基础上加入一个惩罚项 $\\lambda \\Vert\\beta\\Vert^2$。岭回归估计的显式解为 $\\hat{\\beta}_\\lambda=(X'X+\\lambda I)^{-1}X'y$，其中 $\\lambda>0$ 是一个给定的正数。(需要调参进行选取)\n",
    "\n",
    "$$Loss = ||Y-X\\beta||_2+\\lambda ||\\beta||^2$$\n",
    "\n",
    "此时的显式解为：\n",
    "\n",
    "$$\\hat\\beta_\\lambda = (X^TX+\\lambda I)^{-1}X^TY$$\n",
    "\n",
    "一定存在解（试证）\n"
   ]
  },
  {
   "attachments": {},
   "cell_type": "markdown",
   "id": "06d1bdad",
   "metadata": {},
   "source": [
    "但注意到 $X'X+\\lambda I$ 是一个高维的矩阵($p\\times p$)，难以直接进行求解。因此我们采用共轭梯度法（参见 [lec7-cg.ipynb](lec7-cg.ipynb)）："
   ]
  },
  {
   "cell_type": "code",
   "execution_count": null,
   "id": "04e24729",
   "metadata": {},
   "outputs": [],
   "source": [
    "def cg(Afn, b, x0, eps=1e-3, print_progress=False, **Afn_args):\n",
    "    m = b.shape[0]\n",
    "    # 初始解（注意此处应该复制x0，否则程序退出时会修改x0）\n",
    "    x = np.copy(x0)\n",
    "    # 初始残差向量\n",
    "    r = b - Afn(x, **Afn_args)\n",
    "    # 初始共轭梯度\n",
    "    p = r\n",
    "\n",
    "    for k in range(m):\n",
    "        # 矩阵乘法\n",
    "        Ap = Afn(p, **Afn_args)\n",
    "        rr = r.dot(r)\n",
    "        alpha = rr / p.dot(Ap)\n",
    "        # 更新解\n",
    "        x += alpha * p\n",
    "        # 计算新残差向量\n",
    "        rnew = r - alpha * Ap\n",
    "        # 测试是否收敛\n",
    "        norm = np.linalg.norm(rnew)\n",
    "        if print_progress:\n",
    "            print(f\"Iter {k}, residual norm = {norm}\")\n",
    "        if norm < eps:\n",
    "            break\n",
    "        beta = rnew.dot(rnew) / rr\n",
    "        # 更新共轭梯度\n",
    "        p = rnew + beta * p\n",
    "        # 更新残差向量\n",
    "        r = rnew\n",
    "\n",
    "    return x"
   ]
  },
  {
   "attachments": {},
   "cell_type": "markdown",
   "id": "c07d2863",
   "metadata": {},
   "source": [
    "先计算 $b=X'y$："
   ]
  },
  {
   "cell_type": "code",
   "execution_count": null,
   "id": "7d10a93a",
   "metadata": {},
   "outputs": [],
   "source": [
    "b = dat.map(lambda part: part[:, 1:].transpose().dot(part[:, 0])).reduce(lambda x, y: x + y)\n",
    "b"
   ]
  },
  {
   "attachments": {},
   "cell_type": "markdown",
   "id": "41ca2fb1",
   "metadata": {},
   "source": [
    "我们需要定义一个函数计算 $(X'X+\\lambda I)v=X'Xv+\\lambda v$，其中第一项可以分布式进行（参见笔记）。"
   ]
  },
  {
   "cell_type": "code",
   "execution_count": null,
   "id": "4cb8ea06",
   "metadata": {},
   "outputs": [],
   "source": [
    "def xtxv(part, v):\n",
    "    '''该函数是非分布式,其含义只是单纯输入一个X,v,输出X.TX.v\n",
    "    part: 从第二列开始是X的数据(第一列为y)\n",
    "    '''\n",
    "    x = part[:, 1:]\n",
    "    return x.transpose().dot(x.dot(v))\n",
    "\n",
    "def ridge_prod(v, lam, rdd):\n",
    "    '''计算X'Xv+lam*v,其中X'Xv是分布式计算的\n",
    "    v,lam: ridge回归的参数\n",
    "    rdd: 每个rdd为数据的一个分块,形式上相当于一个分块矩阵,对于每个分块矩阵计算一个矩阵乘法,\n",
    "         最终再用reduce加总起来\n",
    "    ridge_prod: 返回X'Xv+lam*v\n",
    "    '''\n",
    "    first_term = rdd.map(lambda part: xtxv(part, v)).reduce(lambda x, y: x + y)\n",
    "    second_term = lam * v\n",
    "    return first_term + second_term"
   ]
  },
  {
   "attachments": {},
   "cell_type": "markdown",
   "id": "40c2c147",
   "metadata": {},
   "source": [
    "接下来调用 CG 函数，取 $\\lambda=0.01 n$："
   ]
  },
  {
   "cell_type": "code",
   "execution_count": null,
   "id": "53e63e15",
   "metadata": {},
   "outputs": [],
   "source": [
    "lam = 0.01 * n\n",
    "sol = cg(ridge_prod, b, x0=np.zeros(shape=p), eps=1e-3, print_progress=True, lam=lam, rdd=dat)"
   ]
  },
  {
   "cell_type": "code",
   "execution_count": null,
   "id": "6a731231",
   "metadata": {},
   "outputs": [],
   "source": [
    "sol[:30]"
   ]
  },
  {
   "attachments": {},
   "cell_type": "markdown",
   "id": "68d375e8",
   "metadata": {},
   "source": [
    "关闭 Spark 连接："
   ]
  },
  {
   "cell_type": "code",
   "execution_count": null,
   "id": "c6e9f36e",
   "metadata": {},
   "outputs": [],
   "source": [
    "sc.stop()"
   ]
  }
 ],
 "metadata": {
  "kernelspec": {
   "display_name": "Python 3 (ipykernel)",
   "language": "python",
   "name": "python3"
  },
  "language_info": {
   "codemirror_mode": {
    "name": "ipython",
    "version": 3
   },
   "file_extension": ".py",
   "mimetype": "text/x-python",
   "name": "python",
   "nbconvert_exporter": "python",
   "pygments_lexer": "ipython3",
   "version": "3.9.12"
  }
 },
 "nbformat": 4,
 "nbformat_minor": 5
}
