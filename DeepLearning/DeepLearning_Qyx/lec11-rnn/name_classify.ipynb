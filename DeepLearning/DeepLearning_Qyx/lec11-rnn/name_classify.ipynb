{
 "cells": [
  {
   "cell_type": "code",
   "execution_count": null,
   "id": "dae1d967",
   "metadata": {},
   "outputs": [],
   "source": [
    "import time\n",
    "import numpy as np\n",
    "import pandas as pd\n",
    "import torch\n",
    "import torch.nn as nn\n",
    "import itertools\n",
    "import collections\n",
    "import matplotlib.pyplot as plt\n",
    "\n",
    "# 读取数据\n",
    "df = pd.read_csv(\"Chinese_Names_Corpus_Gender（120W）.txt\", header=2)\n",
    "df"
   ]
  },
  {
   "cell_type": "code",
   "execution_count": null,
   "id": "0b5ecce1",
   "metadata": {},
   "outputs": [],
   "source": [
    "df = df[df.sex != \"未知\"]\n",
    "names = df[\"dict\"].values\n",
    "\n",
    "# 计算单字频率\n",
    "chars = [list(name) for name in names]\n",
    "chars_flatten = list(itertools.chain(*chars))\n",
    "freq = collections.Counter(chars_flatten)\n",
    "freq = pd.DataFrame(freq.items(), columns=[\"char\", \"freq\"])\n",
    "freq = freq.sort_values(by=\"freq\", ascending=False)\n",
    "freq"
   ]
  },
  {
   "cell_type": "code",
   "execution_count": null,
   "id": "a4742b11",
   "metadata": {},
   "outputs": [],
   "source": [
    "# 频率分布\n",
    "char_rank = np.arange(freq.shape[0])\n",
    "char_freq = freq[\"freq\"].values\n",
    "plt.plot(char_rank, char_freq)"
   ]
  },
  {
   "cell_type": "code",
   "execution_count": null,
   "id": "50f528d7",
   "metadata": {},
   "outputs": [],
   "source": [
    "# 由常见字组成的名字数据\n",
    "dict_size = 500\n",
    "dict = list(freq[\"char\"].values[:dict_size])\n",
    "dict_set = set(dict)\n",
    "filtered = list(filter(lambda item: set(item[1]).issubset(dict_set), enumerate(names)))\n",
    "ind = [idx for idx, name in filtered]\n",
    "dat = df.iloc[ind]\n",
    "dat[\"y\"] = np.where(dat[\"sex\"] == \"男\", 0, 1)\n",
    "dat"
   ]
  },
  {
   "cell_type": "code",
   "execution_count": null,
   "id": "bf76a740",
   "metadata": {},
   "outputs": [],
   "source": [
    "# 划分训练集和测试集\n",
    "train = dat.sample(n=10000, random_state=123)\n",
    "test = dat.sample(n=1000, random_state=321)\n",
    "\n",
    "# One-hot 编码\n",
    "def char2index(char):\n",
    "    return dict.index(char)\n",
    "\n",
    "def name2index(name):\n",
    "    return [char2index(char) for char in name]\n",
    "\n",
    "def name2tensor(name):\n",
    "    tensor = torch.zeros(len(name), 1, dict_size)\n",
    "    for i, char in enumerate(name):\n",
    "        tensor[i, 0, char2index(char)] = 1\n",
    "    return tensor\n",
    "\n",
    "char2index(\"李\")"
   ]
  },
  {
   "cell_type": "code",
   "execution_count": null,
   "id": "ff098dfa",
   "metadata": {},
   "outputs": [],
   "source": [
    "name2index(\"李兴\")"
   ]
  },
  {
   "cell_type": "code",
   "execution_count": null,
   "id": "ce8564cd",
   "metadata": {
    "scrolled": true
   },
   "outputs": [],
   "source": [
    "name2tensor(\"李兴\")"
   ]
  },
  {
   "cell_type": "code",
   "execution_count": null,
   "id": "b0ae2ac4",
   "metadata": {},
   "outputs": [],
   "source": [
    "# 建立模型\n",
    "class RNN(nn.Module):\n",
    "    def __init__(self, input_size, hidden_size):\n",
    "        super(RNN, self).__init__()\n",
    "        self.hidden_size = hidden_size\n",
    "        self.i2h = nn.Linear(input_size + hidden_size, hidden_size)\n",
    "        self.h2o = nn.Linear(hidden_size, 1)\n",
    "\n",
    "    def forward(self, input, hidden):\n",
    "        combined = torch.cat((input, hidden), dim=1)\n",
    "        hidden = torch.tanh(self.i2h(combined))\n",
    "        output = torch.sigmoid(self.h2o(hidden))\n",
    "        return output, hidden\n",
    "\n",
    "    def init_hidden(self):\n",
    "        return torch.zeros(1, self.hidden_size)"
   ]
  },
  {
   "cell_type": "code",
   "execution_count": null,
   "id": "3580e2e3",
   "metadata": {},
   "outputs": [],
   "source": [
    "# 测试模型输入输出\n",
    "n_hidden = 128\n",
    "rnn = RNN(dict_size, n_hidden)\n",
    "input = name2tensor(\"李兴\")\n",
    "hidden = rnn.init_hidden()\n",
    "output, next_hidden = rnn(input[0], hidden)\n",
    "print(output)\n",
    "print(next_hidden)"
   ]
  },
  {
   "cell_type": "code",
   "execution_count": null,
   "id": "46a68e42",
   "metadata": {},
   "outputs": [],
   "source": [
    "hidden = next_hidden\n",
    "output, next_hidden = rnn(input[1], hidden)\n",
    "print(output)\n",
    "print(next_hidden)"
   ]
  },
  {
   "cell_type": "code",
   "execution_count": null,
   "id": "f01ea801",
   "metadata": {},
   "outputs": [],
   "source": [
    "# 正式模型训练\n",
    "np.random.seed(123)\n",
    "torch.random.manual_seed(123)\n",
    "\n",
    "n = train.shape[0]\n",
    "n_hidden = 64\n",
    "nepoch = 5\n",
    "bs = 100\n",
    "\n",
    "rnn = RNN(dict_size, n_hidden)\n",
    "opt = torch.optim.Adam(rnn.parameters(), lr=0.001)\n",
    "train_ind = np.arange(n)\n",
    "losses = []\n",
    "\n",
    "t1 = time.time()\n",
    "for k in range(nepoch):\n",
    "    np.random.shuffle(train_ind)\n",
    "    # Mini-batch 循环\n",
    "    for j in range(0, n, bs):\n",
    "        # 建立 mini-batch\n",
    "        mb = train.iloc[train_ind[j:(j + bs)]]\n",
    "        mb_size = mb.shape[0]\n",
    "        loss = 0.0\n",
    "        # 对 Mini-batch 中的每个名字进行循环\n",
    "        for i in range(mb_size):\n",
    "            name = mb[\"dict\"].values[i]\n",
    "            input = name2tensor(name)\n",
    "            hidden = rnn.init_hidden()\n",
    "            y = mb[\"y\"].values[i]\n",
    "            # 对名字中的每个字进行循环\n",
    "            for s in range(input.shape[0]):\n",
    "                output, hidden = rnn(input[s], hidden)\n",
    "            loss = loss - y * torch.log(output) - (1.0 - y) * torch.log(1.0 - output)\n",
    "\n",
    "        loss = loss / mb_size\n",
    "        opt.zero_grad()\n",
    "        loss.backward()\n",
    "        opt.step()\n",
    "\n",
    "        losses.append(loss.item())\n",
    "        if j // bs % 10 == 0:\n",
    "            print(f\"epoch {k}, batch {j // bs}, loss = {loss.item()}\")\n",
    "t2 = time.time()\n",
    "print(t2 - t1)"
   ]
  },
  {
   "cell_type": "code",
   "execution_count": null,
   "id": "4503160f",
   "metadata": {},
   "outputs": [],
   "source": [
    "plt.plot(losses)"
   ]
  },
  {
   "cell_type": "code",
   "execution_count": null,
   "id": "abf2ef01",
   "metadata": {},
   "outputs": [],
   "source": [
    "# 对测试集预测\n",
    "ntest = test.shape[0]\n",
    "true_label = test[\"y\"].values\n",
    "pred = np.zeros(ntest)\n",
    "rnn.eval()\n",
    "for i in range(ntest):\n",
    "    input = name2tensor(test[\"dict\"].values[i])\n",
    "    hidden = rnn.init_hidden()\n",
    "    with torch.no_grad():\n",
    "        for s in range(input.shape[0]):\n",
    "            output, hidden = rnn(input[s], hidden)\n",
    "    pred[i] = output.item()\n",
    "    if i % 100 == 0:\n",
    "        print(f\"processed {i}\")\n",
    "loss = -np.mean(true_label * np.log(pred) + (1.0 - true_label) * np.log(1.0 - pred))\n",
    "print(loss)\n",
    "pred_label = (pred > 0.5).astype(int)\n",
    "print(np.mean(pred_label == true_label))"
   ]
  },
  {
   "cell_type": "code",
   "execution_count": null,
   "id": "284cf5c4",
   "metadata": {},
   "outputs": [],
   "source": [
    "# 随机取样\n",
    "np.random.seed(123)\n",
    "torch.random.manual_seed(123)\n",
    "ind = np.random.choice(ntest, 10)\n",
    "ypred = 1 * (pred[ind] > 0.5)\n",
    "test.iloc[ind]"
   ]
  },
  {
   "cell_type": "code",
   "execution_count": null,
   "id": "eb106569",
   "metadata": {},
   "outputs": [],
   "source": [
    "# 真实标签\n",
    "print(test[\"y\"].values[ind])\n",
    "\n",
    "# 预测标签\n",
    "print(ypred)"
   ]
  },
  {
   "cell_type": "code",
   "execution_count": null,
   "id": "143d2eeb",
   "metadata": {},
   "outputs": [],
   "source": [
    "names = [\"李\", \"李雪\", \"李雪峰\"]\n",
    "for name in names:\n",
    "    input = name2tensor(name)\n",
    "    hidden = rnn.init_hidden()\n",
    "    with torch.no_grad():\n",
    "        for s in range(input.shape[0]):\n",
    "            output, hidden = rnn(input[s], hidden)\n",
    "    pred = output.item()\n",
    "    print(f\"namae: {name}, P(female) = {pred}\")"
   ]
  }
 ],
 "metadata": {
  "kernelspec": {
   "display_name": "Python 3 (ipykernel)",
   "language": "python",
   "name": "python3"
  },
  "language_info": {
   "codemirror_mode": {
    "name": "ipython",
    "version": 3
   },
   "file_extension": ".py",
   "mimetype": "text/x-python",
   "name": "python",
   "nbconvert_exporter": "python",
   "pygments_lexer": "ipython3",
   "version": "3.10.6"
  }
 },
 "nbformat": 4,
 "nbformat_minor": 5
}
